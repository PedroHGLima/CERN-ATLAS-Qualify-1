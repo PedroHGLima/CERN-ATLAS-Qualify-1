{
 "cells": [
  {
   "cell_type": "code",
   "execution_count": 1,
   "metadata": {},
   "outputs": [],
   "source": [
    "import os\n",
    "import numpy as np\n",
    "import pandas as pd\n",
    "import joblib\n",
    "import json\n",
    "import tensorflow as tf\n",
    "import gc\n",
    "import matplotlib.pyplot as plt\n",
    "import sys\n",
    "from tqdm.notebook import tqdm"
   ]
  },
  {
   "cell_type": "code",
   "execution_count": 2,
   "metadata": {},
   "outputs": [],
   "source": [
    "# Ringer V8\n",
    "tuning_path = '/home/pedro.lima/workspace/CERN-ATLAS-Qualify-1/analysis/tunings/TrigL2_20180125_v8'\n",
    "# Ringer V8.1/2\n",
    "#tuning_path = '/home/pedro.lima/workspace/CERN-ATLAS-Qualify-1/analysis/tunings/TrigL2_20210907_v8-1'\n",
    "tuning_file = \"ElectronRingerMediumTriggerConfig.json\"\n",
    "with open(os.path.join(tuning_path,tuning_file)) as f:\n",
    "    conf = json.load(f)"
   ]
  },
  {
   "cell_type": "code",
   "execution_count": 3,
   "metadata": {},
   "outputs": [],
   "source": [
    "#conf"
   ]
  },
  {
   "cell_type": "code",
   "execution_count": 4,
   "metadata": {},
   "outputs": [],
   "source": [
    "def open_boosted(path= \"\"):\n",
    "    '''\n",
    "    This function will get a .npz file and transform into a pandas DataFrame. \n",
    "    The .npz has three types of data: float, int and bool this function will concatenate these features and reorder them.\n",
    "\n",
    "    Arguments:\n",
    "    path (str) - the full path to .npz file\n",
    "    '''\n",
    "    # open the file\n",
    "    d = dict(np.load(path, allow_pickle=True))   \n",
    "    #print(d.keys()) \n",
    "    # create a list of temporary dataframes that should be concateneted into a final one\n",
    "    df_list = []\n",
    "    for itype in ['float', 'int', 'bool', 'object']:\n",
    "        df_list.append(pd.DataFrame(data=d['data_%s' %itype], columns=d['features_%s' %itype]))\n",
    "    # concat the list\n",
    "    df = pd.concat(df_list, axis=1)\n",
    "    # return the DataFrame with ordered features.\n",
    "    df = df[d['ordered_features']]\n",
    "    # add the target information\n",
    "    df['target'] = d['target']\n",
    "    df['et_bin'] = d['etBinIdx']\n",
    "    df['eta_bin'] = d['etaBinIdx']\n",
    "    # remove the list of DataFrame and collect into garbage collector\n",
    "    del df_list, d\n",
    "    gc.collect()\n",
    "    return df"
   ]
  },
  {
   "cell_type": "code",
   "execution_count": 5,
   "metadata": {},
   "outputs": [],
   "source": [
    "# my pc path\n",
    "#data_path = '/home/pedro/Desktop/IC/data/mc16_13TeV.302236_309995_341330.sgn.boosted_probes.WZ_llqq_plus_radion_ZZ_llqq_plus_ggH3000.merge.25bins/mc16_13TeV.302236_309995_341330.sgn.boosted_probes.WZ_llqq_plus_radion_ZZ_llqq_plus_ggH3000.merge.25bins_et4_eta0.npz'\n",
    "# LPS path\n",
    "data_path = '/home/pedro.lima/data/mc16_13TeV.302236_309995_341330.sgn.boosted_probes.WZ_llqq_plus_radion_ZZ_llqq_plus_ggH3000.merge.25bins.v2/mc16_13TeV.302236_309995_341330.sgn.boosted_probes.WZ_llqq_plus_radion_ZZ_llqq_plus_ggH3000.merge.25bins.v2_et4_eta0.npz'\n",
    "df = open_boosted(data_path)"
   ]
  },
  {
   "cell_type": "code",
   "execution_count": 6,
   "metadata": {},
   "outputs": [
    {
     "data": {
      "text/plain": [
       "array(['RunNumber', 'avgmu', 'trig_L2_cl_et', 'trig_L2_cl_eta',\n",
       "       'trig_L2_cl_phi', 'trig_L2_cl_reta', 'trig_L2_cl_ehad1',\n",
       "       'trig_L2_cl_eratio', 'trig_L2_cl_f1', 'trig_L2_cl_f3',\n",
       "       'trig_L2_cl_weta2', 'trig_L2_cl_wstot', 'trig_L2_cl_e2tsts1',\n",
       "       'trig_L2_cl_ring_0', 'trig_L2_cl_ring_1', 'trig_L2_cl_ring_2',\n",
       "       'trig_L2_cl_ring_3', 'trig_L2_cl_ring_4', 'trig_L2_cl_ring_5',\n",
       "       'trig_L2_cl_ring_6', 'trig_L2_cl_ring_7', 'trig_L2_cl_ring_8',\n",
       "       'trig_L2_cl_ring_9', 'trig_L2_cl_ring_10', 'trig_L2_cl_ring_11',\n",
       "       'trig_L2_cl_ring_12', 'trig_L2_cl_ring_13', 'trig_L2_cl_ring_14',\n",
       "       'trig_L2_cl_ring_15', 'trig_L2_cl_ring_16', 'trig_L2_cl_ring_17',\n",
       "       'trig_L2_cl_ring_18', 'trig_L2_cl_ring_19', 'trig_L2_cl_ring_20',\n",
       "       'trig_L2_cl_ring_21', 'trig_L2_cl_ring_22', 'trig_L2_cl_ring_23',\n",
       "       'trig_L2_cl_ring_24', 'trig_L2_cl_ring_25', 'trig_L2_cl_ring_26',\n",
       "       'trig_L2_cl_ring_27', 'trig_L2_cl_ring_28', 'trig_L2_cl_ring_29',\n",
       "       'trig_L2_cl_ring_30', 'trig_L2_cl_ring_31', 'trig_L2_cl_ring_32',\n",
       "       'trig_L2_cl_ring_33', 'trig_L2_cl_ring_34', 'trig_L2_cl_ring_35',\n",
       "       'trig_L2_cl_ring_36', 'trig_L2_cl_ring_37', 'trig_L2_cl_ring_38',\n",
       "       'trig_L2_cl_ring_39', 'trig_L2_cl_ring_40', 'trig_L2_cl_ring_41',\n",
       "       'trig_L2_cl_ring_42', 'trig_L2_cl_ring_43', 'trig_L2_cl_ring_44',\n",
       "       'trig_L2_cl_ring_45', 'trig_L2_cl_ring_46', 'trig_L2_cl_ring_47',\n",
       "       'trig_L2_cl_ring_48', 'trig_L2_cl_ring_49', 'trig_L2_cl_ring_50',\n",
       "       'trig_L2_cl_ring_51', 'trig_L2_cl_ring_52', 'trig_L2_cl_ring_53',\n",
       "       'trig_L2_cl_ring_54', 'trig_L2_cl_ring_55', 'trig_L2_cl_ring_56',\n",
       "       'trig_L2_cl_ring_57', 'trig_L2_cl_ring_58', 'trig_L2_cl_ring_59',\n",
       "       'trig_L2_cl_ring_60', 'trig_L2_cl_ring_61', 'trig_L2_cl_ring_62',\n",
       "       'trig_L2_cl_ring_63', 'trig_L2_cl_ring_64', 'trig_L2_cl_ring_65',\n",
       "       'trig_L2_cl_ring_66', 'trig_L2_cl_ring_67', 'trig_L2_cl_ring_68',\n",
       "       'trig_L2_cl_ring_69', 'trig_L2_cl_ring_70', 'trig_L2_cl_ring_71',\n",
       "       'trig_L2_cl_ring_72', 'trig_L2_cl_ring_73', 'trig_L2_cl_ring_74',\n",
       "       'trig_L2_cl_ring_75', 'trig_L2_cl_ring_76', 'trig_L2_cl_ring_77',\n",
       "       'trig_L2_cl_ring_78', 'trig_L2_cl_ring_79', 'trig_L2_cl_ring_80',\n",
       "       'trig_L2_cl_ring_81', 'trig_L2_cl_ring_82', 'trig_L2_cl_ring_83',\n",
       "       'trig_L2_cl_ring_84', 'trig_L2_cl_ring_85', 'trig_L2_cl_ring_86',\n",
       "       'trig_L2_cl_ring_87', 'trig_L2_cl_ring_88', 'trig_L2_cl_ring_89',\n",
       "       'trig_L2_cl_ring_90', 'trig_L2_cl_ring_91', 'trig_L2_cl_ring_92',\n",
       "       'trig_L2_cl_ring_93', 'trig_L2_cl_ring_94', 'trig_L2_cl_ring_95',\n",
       "       'trig_L2_cl_ring_96', 'trig_L2_cl_ring_97', 'trig_L2_cl_ring_98',\n",
       "       'trig_L2_cl_ring_99', 'trig_L2_el_hastrack', 'trig_L2_el_pt',\n",
       "       'trig_L2_el_eta', 'trig_L2_el_phi', 'trig_L2_el_caloEta',\n",
       "       'trig_L2_el_trkClusDeta', 'trig_L2_el_trkClusDphi',\n",
       "       'trig_L2_el_etOverPt', 'trig_EF_cl_hascluster', 'trig_EF_cl_et',\n",
       "       'trig_EF_cl_eta', 'trig_EF_cl_etaBE2', 'trig_EF_cl_phi',\n",
       "       'trig_EF_el_hascand', 'trig_EF_el_et', 'trig_EF_el_eta',\n",
       "       'trig_EF_el_etaBE2', 'trig_EF_el_phi', 'trig_EF_el_rhad1',\n",
       "       'trig_EF_el_rhad', 'trig_EF_el_f3', 'trig_EF_el_weta2',\n",
       "       'trig_EF_el_rphi', 'trig_EF_el_reta', 'trig_EF_el_wtots1',\n",
       "       'trig_EF_el_eratio', 'trig_EF_el_f1', 'trig_EF_el_hastrack',\n",
       "       'trig_EF_el_deltaEta1', 'trig_EF_el_deltaPhi2',\n",
       "       'trig_EF_el_deltaPhi2Rescaled', 'trig_EF_el_lhtight',\n",
       "       'trig_EF_el_lhmedium', 'trig_EF_el_lhloose', 'trig_EF_el_lhvloose',\n",
       "       'el_et', 'el_eta', 'el_etaBE2', 'el_phi', 'el_rhad1', 'el_rhad',\n",
       "       'el_f3', 'el_weta2', 'el_rphi', 'el_reta', 'el_wtots1',\n",
       "       'el_eratio', 'el_f1', 'el_hastrack', 'el_numberOfBLayerHits',\n",
       "       'el_numberOfPixelHits', 'el_numberOfTRTHits', 'el_d0',\n",
       "       'el_d0significance', 'el_eProbabilityHT', 'el_trans_TRT_PID',\n",
       "       'el_deltaEta1', 'el_deltaPhi2', 'el_deltaPhi2Rescaled',\n",
       "       'el_deltaPOverP', 'el_lhtight', 'el_lhmedium', 'el_lhloose',\n",
       "       'el_lhvloose', 'trig_EF_el_lhtight_ivarloose', 'el_TaP_Mass',\n",
       "       'el_TaP_deltaR', 'L1_EM3', 'L1_EM7', 'L1_EM15VH', 'L1_EM15VHI',\n",
       "       'L1_EM20VH', 'L1_EM20VHI', 'L1_EM22VH', 'L1_EM22VHI', 'L1_EM24VHI',\n",
       "       'trig_L2_cl_lhvloose_et0to12', 'trig_L2_cl_lhvloose_et12to20',\n",
       "       'trig_L2_cl_lhvloose_et22toInf', 'trig_L2_cl_lhloose_et0to12',\n",
       "       'trig_L2_cl_lhloose_et12to20', 'trig_L2_cl_lhloose_et22toInf',\n",
       "       'trig_L2_cl_lhmedium_et0to12', 'trig_L2_cl_lhmedium_et12to20',\n",
       "       'trig_L2_cl_lhmedium_et22toInf', 'trig_L2_cl_lhtight_et0to12',\n",
       "       'trig_L2_cl_lhtight_et12to20', 'trig_L2_cl_lhtight_et22toInf',\n",
       "       'trig_L2_el_cut_pt0to15', 'trig_L2_el_cut_pt15to20',\n",
       "       'trig_L2_el_cut_pt20to50', 'trig_L2_el_cut_pt50toInf', 'target',\n",
       "       'et_bin', 'eta_bin'], dtype=object)"
      ]
     },
     "execution_count": 6,
     "metadata": {},
     "output_type": "execute_result"
    }
   ],
   "source": [
    "df.head()\n",
    "df.columns.values"
   ]
  },
  {
   "cell_type": "code",
   "execution_count": 7,
   "metadata": {},
   "outputs": [],
   "source": [
    "def add_tuning_decision(df, tuning_path, config_dict):\n",
    "        #find et and eta bin\n",
    "        idx = (df['et_bin']+df['eta_bin']).unique()[0]\n",
    "        #print(idx)\n",
    "\n",
    "        m_path = tuning_path\n",
    "        m_model_path = os.path.join(m_path,config_dict[\"Model__path\"][idx].replace('.onnx',''))\n",
    "        with open(m_model_path + '.json', 'r') as f:\n",
    "                sequential = json.load(f) \n",
    "        model = tf.keras.models.model_from_json(json.dumps(sequential, separators=(',', ':')))\n",
    "        model.load_weights(m_model_path + '.h5')\n",
    "        slope, offset = config_dict[\"Threshold__slope\"][idx],config_dict[\"Threshold__offset\"][idx]\n",
    "\n",
    "        # ring list\n",
    "        rings = ['trig_L2_cl_ring_%i' %(iring) for iring in range(100)]\n",
    "        #                                                          |\n",
    "        #                                                   alterado no v8.1/2\n",
    "\n",
    "        def norm1( data ): \n",
    "                norms = np.abs( data.sum(axis=1) )\n",
    "                norms[norms==0] = 1\n",
    "                return data/norms[:,None] \n",
    "        df['nn_output_%s_%s'%(config_dict['__operation__'].lower(),config_dict['__version__'])] = model.predict(norm1(df[rings].values)) \n",
    "        df['thr_%s_%s' %(config_dict['__operation__'].lower(),config_dict['__version__'])] = df['avgmu']*slope + offset\n",
    "        df['nn_decision_%s_%s' %(config_dict['__operation__'].lower(),config_dict['__version__'])] = 0\n",
    "        df.loc[df['nn_output_%s_%s' %(config_dict['__operation__'].lower(),config_dict['__version__'])] > df['thr_%s_%s' %(config_dict['__operation__'].lower(),config_dict['__version__'])],'nn_decision_%s_%s' %(config_dict['__operation__'].lower(),config_dict['__version__'])] = 1 \n",
    "\n",
    "def add_tuning_decision_removing_a_ring(df, tuning_path, config_dict, ring_id=None):\n",
    "        \n",
    "        if ring_id<0 or ring_id>99:\n",
    "                return -1\n",
    "\n",
    "        #find et and eta bin\n",
    "        idx = (df['et_bin']+df['eta_bin']).unique()[0]\n",
    "        #print(idx)\n",
    "\n",
    "        m_path = tuning_path\n",
    "        m_model_path = os.path.join(m_path,config_dict[\"Model__path\"][idx].replace('.onnx',''))\n",
    "        with open(m_model_path + '.json', 'r') as f:\n",
    "                sequential = json.load(f) \n",
    "        model = tf.keras.models.model_from_json(json.dumps(sequential, separators=(',', ':')))\n",
    "        model.load_weights(m_model_path + '.h5')\n",
    "        slope, offset = config_dict[\"Threshold__slope\"][idx],config_dict[\"Threshold__offset\"][idx]\n",
    "\n",
    "        # ring list\n",
    "        rings = ['trig_L2_cl_ring_%i' %(iring) for iring in range(100)]\n",
    "        #                                                          |\n",
    "        #                                                alterado no v8.1/2\n",
    "\n",
    "        # replace a ring value by its mean\n",
    "        df['trig_L2_cl_ring_%i' %(ring_id)] = df['trig_L2_cl_ring_%i' %(ring_id)].mean()\n",
    "\n",
    "        def norm1( data ): \n",
    "                norms = np.abs( data.sum(axis=1) )\n",
    "                norms[norms==0] = 1\n",
    "                return data/norms[:,None] \n",
    "        df['nn_output_%s_%s_removing_%i'%(config_dict['__operation__'].lower(),config_dict['__version__'], ring_id)] = model.predict(norm1(df[rings].values)) \n",
    "        df['thr_%s_%s' %(config_dict['__operation__'].lower(),config_dict['__version__'])] = df['avgmu']*slope + offset\n",
    "        df['nn_decision_%s_%s_removing_%i' %(config_dict['__operation__'].lower(),config_dict['__version__'], ring_id)] = 0\n",
    "        df.loc[df['nn_output_%s_%s_removing_%i' %(config_dict['__operation__'].lower(),config_dict['__version__'], ring_id)] > df['thr_%s_%s' %(config_dict['__operation__'].lower(),config_dict['__version__'])],'nn_decision_%s_%s_removing_%i' %(config_dict['__operation__'].lower(),config_dict['__version__'], ring_id)] = 1 \n"
   ]
  },
  {
   "cell_type": "code",
   "execution_count": 8,
   "metadata": {},
   "outputs": [],
   "source": [
    "add_tuning_decision(df=df, tuning_path=tuning_path, config_dict=conf)"
   ]
  },
  {
   "cell_type": "code",
   "execution_count": 9,
   "metadata": {},
   "outputs": [
    {
     "data": {
      "text/html": [
       "<div>\n",
       "<style scoped>\n",
       "    .dataframe tbody tr th:only-of-type {\n",
       "        vertical-align: middle;\n",
       "    }\n",
       "\n",
       "    .dataframe tbody tr th {\n",
       "        vertical-align: top;\n",
       "    }\n",
       "\n",
       "    .dataframe thead th {\n",
       "        text-align: right;\n",
       "    }\n",
       "</style>\n",
       "<table border=\"1\" class=\"dataframe\">\n",
       "  <thead>\n",
       "    <tr style=\"text-align: right;\">\n",
       "      <th></th>\n",
       "      <th>RunNumber</th>\n",
       "      <th>avgmu</th>\n",
       "      <th>trig_L2_cl_et</th>\n",
       "      <th>trig_L2_cl_eta</th>\n",
       "      <th>trig_L2_cl_phi</th>\n",
       "      <th>trig_L2_cl_reta</th>\n",
       "      <th>trig_L2_cl_ehad1</th>\n",
       "      <th>trig_L2_cl_eratio</th>\n",
       "      <th>trig_L2_cl_f1</th>\n",
       "      <th>trig_L2_cl_f3</th>\n",
       "      <th>...</th>\n",
       "      <th>trig_L2_el_cut_pt0to15</th>\n",
       "      <th>trig_L2_el_cut_pt15to20</th>\n",
       "      <th>trig_L2_el_cut_pt20to50</th>\n",
       "      <th>trig_L2_el_cut_pt50toInf</th>\n",
       "      <th>target</th>\n",
       "      <th>et_bin</th>\n",
       "      <th>eta_bin</th>\n",
       "      <th>nn_output_medium_v8</th>\n",
       "      <th>thr_medium_v8</th>\n",
       "      <th>nn_decision_medium_v8</th>\n",
       "    </tr>\n",
       "  </thead>\n",
       "  <tbody>\n",
       "    <tr>\n",
       "      <th>0</th>\n",
       "      <td>310000</td>\n",
       "      <td>28.49</td>\n",
       "      <td>2.384941e+05</td>\n",
       "      <td>-0.607868</td>\n",
       "      <td>-2.707992</td>\n",
       "      <td>0.972986</td>\n",
       "      <td>144.720963</td>\n",
       "      <td>0.979702</td>\n",
       "      <td>0.108998</td>\n",
       "      <td>0.009339</td>\n",
       "      <td>...</td>\n",
       "      <td>True</td>\n",
       "      <td>True</td>\n",
       "      <td>True</td>\n",
       "      <td>True</td>\n",
       "      <td>1.0</td>\n",
       "      <td>4</td>\n",
       "      <td>0</td>\n",
       "      <td>-4.603082</td>\n",
       "      <td>-0.088699</td>\n",
       "      <td>0</td>\n",
       "    </tr>\n",
       "    <tr>\n",
       "      <th>1</th>\n",
       "      <td>310000</td>\n",
       "      <td>46.50</td>\n",
       "      <td>9.523698e+05</td>\n",
       "      <td>-0.316026</td>\n",
       "      <td>1.304594</td>\n",
       "      <td>0.973886</td>\n",
       "      <td>4731.140625</td>\n",
       "      <td>0.993113</td>\n",
       "      <td>0.101171</td>\n",
       "      <td>0.013992</td>\n",
       "      <td>...</td>\n",
       "      <td>True</td>\n",
       "      <td>True</td>\n",
       "      <td>True</td>\n",
       "      <td>True</td>\n",
       "      <td>1.0</td>\n",
       "      <td>4</td>\n",
       "      <td>0</td>\n",
       "      <td>0.464552</td>\n",
       "      <td>-0.337748</td>\n",
       "      <td>1</td>\n",
       "    </tr>\n",
       "    <tr>\n",
       "      <th>2</th>\n",
       "      <td>310000</td>\n",
       "      <td>60.50</td>\n",
       "      <td>1.361326e+06</td>\n",
       "      <td>0.747472</td>\n",
       "      <td>-0.162229</td>\n",
       "      <td>0.965323</td>\n",
       "      <td>3911.929199</td>\n",
       "      <td>1.011388</td>\n",
       "      <td>0.238911</td>\n",
       "      <td>0.004983</td>\n",
       "      <td>...</td>\n",
       "      <td>True</td>\n",
       "      <td>True</td>\n",
       "      <td>True</td>\n",
       "      <td>True</td>\n",
       "      <td>1.0</td>\n",
       "      <td>4</td>\n",
       "      <td>0</td>\n",
       "      <td>-0.536153</td>\n",
       "      <td>-0.531344</td>\n",
       "      <td>0</td>\n",
       "    </tr>\n",
       "    <tr>\n",
       "      <th>3</th>\n",
       "      <td>310000</td>\n",
       "      <td>43.50</td>\n",
       "      <td>6.687857e+05</td>\n",
       "      <td>0.108909</td>\n",
       "      <td>-2.976708</td>\n",
       "      <td>0.970706</td>\n",
       "      <td>2144.790527</td>\n",
       "      <td>0.995141</td>\n",
       "      <td>0.166586</td>\n",
       "      <td>0.010647</td>\n",
       "      <td>...</td>\n",
       "      <td>True</td>\n",
       "      <td>True</td>\n",
       "      <td>True</td>\n",
       "      <td>True</td>\n",
       "      <td>1.0</td>\n",
       "      <td>4</td>\n",
       "      <td>0</td>\n",
       "      <td>-0.595760</td>\n",
       "      <td>-0.296262</td>\n",
       "      <td>0</td>\n",
       "    </tr>\n",
       "    <tr>\n",
       "      <th>4</th>\n",
       "      <td>310000</td>\n",
       "      <td>38.50</td>\n",
       "      <td>1.286490e+06</td>\n",
       "      <td>-0.224995</td>\n",
       "      <td>-2.689110</td>\n",
       "      <td>0.970724</td>\n",
       "      <td>7945.402344</td>\n",
       "      <td>0.994471</td>\n",
       "      <td>0.064834</td>\n",
       "      <td>0.018838</td>\n",
       "      <td>...</td>\n",
       "      <td>True</td>\n",
       "      <td>True</td>\n",
       "      <td>True</td>\n",
       "      <td>True</td>\n",
       "      <td>1.0</td>\n",
       "      <td>4</td>\n",
       "      <td>0</td>\n",
       "      <td>1.692493</td>\n",
       "      <td>-0.227121</td>\n",
       "      <td>1</td>\n",
       "    </tr>\n",
       "  </tbody>\n",
       "</table>\n",
       "<p>5 rows × 211 columns</p>\n",
       "</div>"
      ],
      "text/plain": [
       "   RunNumber  avgmu  trig_L2_cl_et  trig_L2_cl_eta  trig_L2_cl_phi  \\\n",
       "0     310000  28.49   2.384941e+05       -0.607868       -2.707992   \n",
       "1     310000  46.50   9.523698e+05       -0.316026        1.304594   \n",
       "2     310000  60.50   1.361326e+06        0.747472       -0.162229   \n",
       "3     310000  43.50   6.687857e+05        0.108909       -2.976708   \n",
       "4     310000  38.50   1.286490e+06       -0.224995       -2.689110   \n",
       "\n",
       "   trig_L2_cl_reta  trig_L2_cl_ehad1  trig_L2_cl_eratio  trig_L2_cl_f1  \\\n",
       "0         0.972986        144.720963           0.979702       0.108998   \n",
       "1         0.973886       4731.140625           0.993113       0.101171   \n",
       "2         0.965323       3911.929199           1.011388       0.238911   \n",
       "3         0.970706       2144.790527           0.995141       0.166586   \n",
       "4         0.970724       7945.402344           0.994471       0.064834   \n",
       "\n",
       "   trig_L2_cl_f3  ...  trig_L2_el_cut_pt0to15  trig_L2_el_cut_pt15to20  \\\n",
       "0       0.009339  ...                    True                     True   \n",
       "1       0.013992  ...                    True                     True   \n",
       "2       0.004983  ...                    True                     True   \n",
       "3       0.010647  ...                    True                     True   \n",
       "4       0.018838  ...                    True                     True   \n",
       "\n",
       "   trig_L2_el_cut_pt20to50  trig_L2_el_cut_pt50toInf  target  et_bin  eta_bin  \\\n",
       "0                     True                      True     1.0       4        0   \n",
       "1                     True                      True     1.0       4        0   \n",
       "2                     True                      True     1.0       4        0   \n",
       "3                     True                      True     1.0       4        0   \n",
       "4                     True                      True     1.0       4        0   \n",
       "\n",
       "   nn_output_medium_v8  thr_medium_v8  nn_decision_medium_v8  \n",
       "0            -4.603082      -0.088699                      0  \n",
       "1             0.464552      -0.337748                      1  \n",
       "2            -0.536153      -0.531344                      0  \n",
       "3            -0.595760      -0.296262                      0  \n",
       "4             1.692493      -0.227121                      1  \n",
       "\n",
       "[5 rows x 211 columns]"
      ]
     },
     "execution_count": 9,
     "metadata": {},
     "output_type": "execute_result"
    }
   ],
   "source": [
    "df.head()"
   ]
  },
  {
   "cell_type": "code",
   "execution_count": 10,
   "metadata": {},
   "outputs": [
    {
     "data": {
      "text/plain": [
       "array(['RunNumber', 'avgmu', 'trig_L2_cl_et', 'trig_L2_cl_eta',\n",
       "       'trig_L2_cl_phi', 'trig_L2_cl_reta', 'trig_L2_cl_ehad1',\n",
       "       'trig_L2_cl_eratio', 'trig_L2_cl_f1', 'trig_L2_cl_f3',\n",
       "       'trig_L2_cl_weta2', 'trig_L2_cl_wstot', 'trig_L2_cl_e2tsts1',\n",
       "       'trig_L2_cl_ring_0', 'trig_L2_cl_ring_1', 'trig_L2_cl_ring_2',\n",
       "       'trig_L2_cl_ring_3', 'trig_L2_cl_ring_4', 'trig_L2_cl_ring_5',\n",
       "       'trig_L2_cl_ring_6', 'trig_L2_cl_ring_7', 'trig_L2_cl_ring_8',\n",
       "       'trig_L2_cl_ring_9', 'trig_L2_cl_ring_10', 'trig_L2_cl_ring_11',\n",
       "       'trig_L2_cl_ring_12', 'trig_L2_cl_ring_13', 'trig_L2_cl_ring_14',\n",
       "       'trig_L2_cl_ring_15', 'trig_L2_cl_ring_16', 'trig_L2_cl_ring_17',\n",
       "       'trig_L2_cl_ring_18', 'trig_L2_cl_ring_19', 'trig_L2_cl_ring_20',\n",
       "       'trig_L2_cl_ring_21', 'trig_L2_cl_ring_22', 'trig_L2_cl_ring_23',\n",
       "       'trig_L2_cl_ring_24', 'trig_L2_cl_ring_25', 'trig_L2_cl_ring_26',\n",
       "       'trig_L2_cl_ring_27', 'trig_L2_cl_ring_28', 'trig_L2_cl_ring_29',\n",
       "       'trig_L2_cl_ring_30', 'trig_L2_cl_ring_31', 'trig_L2_cl_ring_32',\n",
       "       'trig_L2_cl_ring_33', 'trig_L2_cl_ring_34', 'trig_L2_cl_ring_35',\n",
       "       'trig_L2_cl_ring_36', 'trig_L2_cl_ring_37', 'trig_L2_cl_ring_38',\n",
       "       'trig_L2_cl_ring_39', 'trig_L2_cl_ring_40', 'trig_L2_cl_ring_41',\n",
       "       'trig_L2_cl_ring_42', 'trig_L2_cl_ring_43', 'trig_L2_cl_ring_44',\n",
       "       'trig_L2_cl_ring_45', 'trig_L2_cl_ring_46', 'trig_L2_cl_ring_47',\n",
       "       'trig_L2_cl_ring_48', 'trig_L2_cl_ring_49', 'trig_L2_cl_ring_50',\n",
       "       'trig_L2_cl_ring_51', 'trig_L2_cl_ring_52', 'trig_L2_cl_ring_53',\n",
       "       'trig_L2_cl_ring_54', 'trig_L2_cl_ring_55', 'trig_L2_cl_ring_56',\n",
       "       'trig_L2_cl_ring_57', 'trig_L2_cl_ring_58', 'trig_L2_cl_ring_59',\n",
       "       'trig_L2_cl_ring_60', 'trig_L2_cl_ring_61', 'trig_L2_cl_ring_62',\n",
       "       'trig_L2_cl_ring_63', 'trig_L2_cl_ring_64', 'trig_L2_cl_ring_65',\n",
       "       'trig_L2_cl_ring_66', 'trig_L2_cl_ring_67', 'trig_L2_cl_ring_68',\n",
       "       'trig_L2_cl_ring_69', 'trig_L2_cl_ring_70', 'trig_L2_cl_ring_71',\n",
       "       'trig_L2_cl_ring_72', 'trig_L2_cl_ring_73', 'trig_L2_cl_ring_74',\n",
       "       'trig_L2_cl_ring_75', 'trig_L2_cl_ring_76', 'trig_L2_cl_ring_77',\n",
       "       'trig_L2_cl_ring_78', 'trig_L2_cl_ring_79', 'trig_L2_cl_ring_80',\n",
       "       'trig_L2_cl_ring_81', 'trig_L2_cl_ring_82', 'trig_L2_cl_ring_83',\n",
       "       'trig_L2_cl_ring_84', 'trig_L2_cl_ring_85', 'trig_L2_cl_ring_86',\n",
       "       'trig_L2_cl_ring_87', 'trig_L2_cl_ring_88', 'trig_L2_cl_ring_89',\n",
       "       'trig_L2_cl_ring_90', 'trig_L2_cl_ring_91', 'trig_L2_cl_ring_92',\n",
       "       'trig_L2_cl_ring_93', 'trig_L2_cl_ring_94', 'trig_L2_cl_ring_95',\n",
       "       'trig_L2_cl_ring_96', 'trig_L2_cl_ring_97', 'trig_L2_cl_ring_98',\n",
       "       'trig_L2_cl_ring_99', 'trig_L2_el_hastrack', 'trig_L2_el_pt',\n",
       "       'trig_L2_el_eta', 'trig_L2_el_phi', 'trig_L2_el_caloEta',\n",
       "       'trig_L2_el_trkClusDeta', 'trig_L2_el_trkClusDphi',\n",
       "       'trig_L2_el_etOverPt', 'trig_EF_cl_hascluster', 'trig_EF_cl_et',\n",
       "       'trig_EF_cl_eta', 'trig_EF_cl_etaBE2', 'trig_EF_cl_phi',\n",
       "       'trig_EF_el_hascand', 'trig_EF_el_et', 'trig_EF_el_eta',\n",
       "       'trig_EF_el_etaBE2', 'trig_EF_el_phi', 'trig_EF_el_rhad1',\n",
       "       'trig_EF_el_rhad', 'trig_EF_el_f3', 'trig_EF_el_weta2',\n",
       "       'trig_EF_el_rphi', 'trig_EF_el_reta', 'trig_EF_el_wtots1',\n",
       "       'trig_EF_el_eratio', 'trig_EF_el_f1', 'trig_EF_el_hastrack',\n",
       "       'trig_EF_el_deltaEta1', 'trig_EF_el_deltaPhi2',\n",
       "       'trig_EF_el_deltaPhi2Rescaled', 'trig_EF_el_lhtight',\n",
       "       'trig_EF_el_lhmedium', 'trig_EF_el_lhloose', 'trig_EF_el_lhvloose',\n",
       "       'el_et', 'el_eta', 'el_etaBE2', 'el_phi', 'el_rhad1', 'el_rhad',\n",
       "       'el_f3', 'el_weta2', 'el_rphi', 'el_reta', 'el_wtots1',\n",
       "       'el_eratio', 'el_f1', 'el_hastrack', 'el_numberOfBLayerHits',\n",
       "       'el_numberOfPixelHits', 'el_numberOfTRTHits', 'el_d0',\n",
       "       'el_d0significance', 'el_eProbabilityHT', 'el_trans_TRT_PID',\n",
       "       'el_deltaEta1', 'el_deltaPhi2', 'el_deltaPhi2Rescaled',\n",
       "       'el_deltaPOverP', 'el_lhtight', 'el_lhmedium', 'el_lhloose',\n",
       "       'el_lhvloose', 'trig_EF_el_lhtight_ivarloose', 'el_TaP_Mass',\n",
       "       'el_TaP_deltaR', 'L1_EM3', 'L1_EM7', 'L1_EM15VH', 'L1_EM15VHI',\n",
       "       'L1_EM20VH', 'L1_EM20VHI', 'L1_EM22VH', 'L1_EM22VHI', 'L1_EM24VHI',\n",
       "       'trig_L2_cl_lhvloose_et0to12', 'trig_L2_cl_lhvloose_et12to20',\n",
       "       'trig_L2_cl_lhvloose_et22toInf', 'trig_L2_cl_lhloose_et0to12',\n",
       "       'trig_L2_cl_lhloose_et12to20', 'trig_L2_cl_lhloose_et22toInf',\n",
       "       'trig_L2_cl_lhmedium_et0to12', 'trig_L2_cl_lhmedium_et12to20',\n",
       "       'trig_L2_cl_lhmedium_et22toInf', 'trig_L2_cl_lhtight_et0to12',\n",
       "       'trig_L2_cl_lhtight_et12to20', 'trig_L2_cl_lhtight_et22toInf',\n",
       "       'trig_L2_el_cut_pt0to15', 'trig_L2_el_cut_pt15to20',\n",
       "       'trig_L2_el_cut_pt20to50', 'trig_L2_el_cut_pt50toInf', 'target',\n",
       "       'et_bin', 'eta_bin', 'nn_output_medium_v8', 'thr_medium_v8',\n",
       "       'nn_decision_medium_v8'], dtype=object)"
      ]
     },
     "execution_count": 10,
     "metadata": {},
     "output_type": "execute_result"
    }
   ],
   "source": [
    "df.columns.values"
   ]
  },
  {
   "cell_type": "code",
   "execution_count": 11,
   "metadata": {},
   "outputs": [
    {
     "data": {
      "application/vnd.jupyter.widget-view+json": {
       "model_id": "021ee83e46194ec78da5d95b5aa42522",
       "version_major": 2,
       "version_minor": 0
      },
      "text/plain": [
       "  0%|          | 0/100 [00:00<?, ?it/s]"
      ]
     },
     "metadata": {},
     "output_type": "display_data"
    },
    {
     "data": {
      "text/plain": [
       "0.9533150268971269"
      ]
     },
     "execution_count": 11,
     "metadata": {},
     "output_type": "execute_result"
    }
   ],
   "source": [
    "#def replace_column(df, column):\n",
    "#    '''Replaces a column (in this case a ring) with its average value'''\n",
    "#    df[column] = np.mean(df[column])\n",
    "#    return df\n",
    "\n",
    "# target_col = df['target']\n",
    "#el_lh_col = df.loc[:,'el_lh%s'%(conf['__operation__'].lower())]\n",
    "\n",
    "#total_ee = total_jets = 0\n",
    "#for row in range(len(df.index)):\n",
    "#    if el_lh_col[row]==1:\n",
    "#        total_ee += 1\n",
    "#    else:\n",
    "#        total_jets += 1\n",
    "\n",
    "#def eff (df, decisions, total, threshold=None):\n",
    "#    passed_ee = passed_jets = 0\n",
    "#    nn_decision_col = df.loc[:,'nn_decision_%s_v8'%(conf['__operation__'].lower())]\n",
    "#    nn_output_col = df.loc[:,'nn_output_%s_v8'%(conf['__operation__'].lower())]\n",
    "#    decision_jet = []\n",
    "#    decision_ee = []\n",
    "#\n",
    "#    for irow in range(len(nn_output_col)):\n",
    "#        if nn_decision_col[irow] == 1:\n",
    "#            decision_ee += [nn_output_col[irow]]\n",
    "#        else:\n",
    "#            decision_jet += [nn_output_col[irow]]\n",
    "#    \n",
    "#    plt.hist(decision_jet, bins=100, color='red', alpha=0.5, label='Jets')\n",
    "#    plt.hist(decision_ee, bins=100, color='blue', alpha=0.5, label='Electrons')\n",
    "#    plt.legend()\n",
    "#    plt.show()\n",
    "\n",
    "nn_decision_col = df.loc[:,'nn_decision_%s_%s' %(conf['__operation__'].lower(),conf['__version__'])]\n",
    "nn_output_col = df.loc[:,'nn_output_%s_%s' %(conf['__operation__'].lower(),conf['__version__'])]\n",
    "#el_lh_col = df.loc[:,'el_lh%s'%(conf['__operation__'].lower())]\n",
    "decision_jet = []\n",
    "decision_ee = []\n",
    "\n",
    "for irow in range(len(nn_output_col)):\n",
    "    if nn_decision_col[irow] == 1:\n",
    "        decision_ee += [nn_output_col[irow]]\n",
    "    else:\n",
    "        decision_jet += [nn_output_col[irow]]\n",
    "\n",
    "def calculate_eff(values, threshold, first):\n",
    "    passed=0\n",
    "    total = len(values)\n",
    "    if first:\n",
    "        for value in values:\n",
    "            if value<threshold:\n",
    "                passed+=1\n",
    "    else:\n",
    "        for value in values:\n",
    "            if value>threshold:\n",
    "                passed+=1\n",
    "    return passed/total\n",
    "\n",
    "def geo_mean(iterable):\n",
    "    a = np.array(iterable)\n",
    "    return a.prod()**(1.0/len(a))\n",
    "\n",
    "def calculate_sp(decision_jet, decision_ee, threshold):\n",
    "    eff_jet = calculate_eff(decision_jet, threshold, True)\n",
    "    eff_ee = calculate_eff(decision_ee, threshold, False)\n",
    "    effs = [eff_jet, eff_ee]\n",
    "    arit_mean = np.mean(effs)\n",
    "    geom_mean = geo_mean(effs)\n",
    "    return np.sqrt(arit_mean*geom_mean)\n",
    "\n",
    "def update_progress(progress):\n",
    "    barLength = 100 # Modify this to change the length of the progress bar\n",
    "    status = \"\"\n",
    "    if isinstance(progress, int):\n",
    "        progress = float(progress)\n",
    "    if not isinstance(progress, float):\n",
    "        progress = 0\n",
    "        status = \"error: progress var must be float\\r\\n\"\n",
    "    if progress < 0:\n",
    "        progress = 0\n",
    "        status = \"Halt...\\r\\n\"\n",
    "    if progress >= 1:\n",
    "        progress = 1\n",
    "        status = \"Done...\\r\\n\"\n",
    "    block = int(round(barLength*progress))\n",
    "    #text = \"\\rPercent: [{0}] {1}% {2}\".format( \"#\"*block + \"-\"*(barLength-block), progress*100, status)\n",
    "    text = \"\\rPercent: [%s] %.2f%% %s\"%( \"#\"*block + \"-\"*(barLength-block), progress*100, status)\n",
    "    sys.stdout.write(text)\n",
    "    sys.stdout.flush()\n",
    "\n",
    "sp_vector = []\n",
    "possible_thresholds = np.linspace(-1,1,100)\n",
    "progresso=0\n",
    "\n",
    "for est_threshold in tqdm(list(possible_thresholds)):\n",
    "    sp_vector += [calculate_sp(decision_jet, decision_ee, est_threshold)]\n",
    "    #progresso += 0.01\n",
    "    #update_progress(progresso)\n",
    "\n",
    "    \n",
    "#parameter = eff(df, total_ee)\n",
    "#print (total_ee, total_jets)\n",
    "threshold = possible_thresholds[np.argmax(sp_vector)]\n",
    "parameter = sp_vector[np.argmax(sp_vector)]\n",
    "parameter"
   ]
  },
  {
   "cell_type": "code",
   "execution_count": 12,
   "metadata": {},
   "outputs": [
    {
     "data": {
      "image/png": "[encoded data removed]",
      "text/plain": [
       "<Figure size 1332x756 with 1 Axes>"
      ]
     },
     "metadata": {
      "needs_background": "light"
     },
     "output_type": "display_data"
    }
   ],
   "source": [
    "fig, ax = plt.subplots()\n",
    "fig.set_size_inches(18.5, 10.5)\n",
    "plt.hist(decision_jet, bins=100, color='red', alpha=0.5, label='Jets')\n",
    "plt.hist(decision_ee, bins=100, color='blue', alpha=0.5, label='Electrons')\n",
    "plt.axvline(x=possible_thresholds[np.argmax(sp_vector)], color='black', ls='--', lw=2, label='Threshold')\n",
    "plt.xlabel('Neural Network output', color='white', size=18)\n",
    "plt.ylabel('Number of events', color='white', size=18)\n",
    "plt.legend(prop={'size': 17})\n",
    "plt.text(-6, 600, 'et=4\\neta=0\\n\\n%s'%(conf['__operation__']), size=18)\n",
    "\n",
    "plt.show()"
   ]
  },
  {
   "cell_type": "code",
   "execution_count": 13,
   "metadata": {},
   "outputs": [
    {
     "data": {
      "application/vnd.jupyter.widget-view+json": {
       "model_id": "07d810dc948245b7b94f1ac6a70266cf",
       "version_major": 2,
       "version_minor": 0
      },
      "text/plain": [
       "  0%|          | 0/100 [00:00<?, ?it/s]"
      ]
     },
     "metadata": {},
     "output_type": "display_data"
    },
    {
     "data": {
      "application/vnd.jupyter.widget-view+json": {
       "model_id": "",
       "version_major": 2,
       "version_minor": 0
      },
      "text/plain": [
       "  0%|          | 0/39199 [00:00<?, ?it/s]"
      ]
     },
     "metadata": {},
     "output_type": "display_data"
    },
    {
     "data": {
      "application/vnd.jupyter.widget-view+json": {
       "model_id": "",
       "version_major": 2,
       "version_minor": 0
      },
      "text/plain": [
       "  0%|          | 0/39199 [00:00<?, ?it/s]"
      ]
     },
     "metadata": {},
     "output_type": "display_data"
    },
    {
     "data": {
      "application/vnd.jupyter.widget-view+json": {
       "model_id": "",
       "version_major": 2,
       "version_minor": 0
      },
      "text/plain": [
       "  0%|          | 0/39199 [00:00<?, ?it/s]"
      ]
     },
     "metadata": {},
     "output_type": "display_data"
    },
    {
     "data": {
      "application/vnd.jupyter.widget-view+json": {
       "model_id": "",
       "version_major": 2,
       "version_minor": 0
      },
      "text/plain": [
       "  0%|          | 0/39199 [00:00<?, ?it/s]"
      ]
     },
     "metadata": {},
     "output_type": "display_data"
    },
    {
     "data": {
      "application/vnd.jupyter.widget-view+json": {
       "model_id": "",
       "version_major": 2,
       "version_minor": 0
      },
      "text/plain": [
       "  0%|          | 0/39199 [00:00<?, ?it/s]"
      ]
     },
     "metadata": {},
     "output_type": "display_data"
    },
    {
     "data": {
      "application/vnd.jupyter.widget-view+json": {
       "model_id": "",
       "version_major": 2,
       "version_minor": 0
      },
      "text/plain": [
       "  0%|          | 0/39199 [00:00<?, ?it/s]"
      ]
     },
     "metadata": {},
     "output_type": "display_data"
    },
    {
     "data": {
      "application/vnd.jupyter.widget-view+json": {
       "model_id": "",
       "version_major": 2,
       "version_minor": 0
      },
      "text/plain": [
       "  0%|          | 0/39199 [00:00<?, ?it/s]"
      ]
     },
     "metadata": {},
     "output_type": "display_data"
    },
    {
     "data": {
      "application/vnd.jupyter.widget-view+json": {
       "model_id": "",
       "version_major": 2,
       "version_minor": 0
      },
      "text/plain": [
       "  0%|          | 0/39199 [00:00<?, ?it/s]"
      ]
     },
     "metadata": {},
     "output_type": "display_data"
    },
    {
     "data": {
      "application/vnd.jupyter.widget-view+json": {
       "model_id": "",
       "version_major": 2,
       "version_minor": 0
      },
      "text/plain": [
       "  0%|          | 0/39199 [00:00<?, ?it/s]"
      ]
     },
     "metadata": {},
     "output_type": "display_data"
    },
    {
     "data": {
      "application/vnd.jupyter.widget-view+json": {
       "model_id": "",
       "version_major": 2,
       "version_minor": 0
      },
      "text/plain": [
       "  0%|          | 0/39199 [00:00<?, ?it/s]"
      ]
     },
     "metadata": {},
     "output_type": "display_data"
    },
    {
     "data": {
      "application/vnd.jupyter.widget-view+json": {
       "model_id": "",
       "version_major": 2,
       "version_minor": 0
      },
      "text/plain": [
       "  0%|          | 0/39199 [00:00<?, ?it/s]"
      ]
     },
     "metadata": {},
     "output_type": "display_data"
    },
    {
     "data": {
      "application/vnd.jupyter.widget-view+json": {
       "model_id": "",
       "version_major": 2,
       "version_minor": 0
      },
      "text/plain": [
       "  0%|          | 0/39199 [00:00<?, ?it/s]"
      ]
     },
     "metadata": {},
     "output_type": "display_data"
    },
    {
     "data": {
      "application/vnd.jupyter.widget-view+json": {
       "model_id": "",
       "version_major": 2,
       "version_minor": 0
      },
      "text/plain": [
       "  0%|          | 0/39199 [00:00<?, ?it/s]"
      ]
     },
     "metadata": {},
     "output_type": "display_data"
    },
    {
     "data": {
      "application/vnd.jupyter.widget-view+json": {
       "model_id": "",
       "version_major": 2,
       "version_minor": 0
      },
      "text/plain": [
       "  0%|          | 0/39199 [00:00<?, ?it/s]"
      ]
     },
     "metadata": {},
     "output_type": "display_data"
    },
    {
     "data": {
      "application/vnd.jupyter.widget-view+json": {
       "model_id": "",
       "version_major": 2,
       "version_minor": 0
      },
      "text/plain": [
       "  0%|          | 0/39199 [00:00<?, ?it/s]"
      ]
     },
     "metadata": {},
     "output_type": "display_data"
    },
    {
     "data": {
      "application/vnd.jupyter.widget-view+json": {
       "model_id": "",
       "version_major": 2,
       "version_minor": 0
      },
      "text/plain": [
       "  0%|          | 0/39199 [00:00<?, ?it/s]"
      ]
     },
     "metadata": {},
     "output_type": "display_data"
    },
    {
     "data": {
      "application/vnd.jupyter.widget-view+json": {
       "model_id": "",
       "version_major": 2,
       "version_minor": 0
      },
      "text/plain": [
       "  0%|          | 0/39199 [00:00<?, ?it/s]"
      ]
     },
     "metadata": {},
     "output_type": "display_data"
    },
    {
     "data": {
      "application/vnd.jupyter.widget-view+json": {
       "model_id": "",
       "version_major": 2,
       "version_minor": 0
      },
      "text/plain": [
       "  0%|          | 0/39199 [00:00<?, ?it/s]"
      ]
     },
     "metadata": {},
     "output_type": "display_data"
    },
    {
     "data": {
      "application/vnd.jupyter.widget-view+json": {
       "model_id": "",
       "version_major": 2,
       "version_minor": 0
      },
      "text/plain": [
       "  0%|          | 0/39199 [00:00<?, ?it/s]"
      ]
     },
     "metadata": {},
     "output_type": "display_data"
    },
    {
     "data": {
      "application/vnd.jupyter.widget-view+json": {
       "model_id": "",
       "version_major": 2,
       "version_minor": 0
      },
      "text/plain": [
       "  0%|          | 0/39199 [00:00<?, ?it/s]"
      ]
     },
     "metadata": {},
     "output_type": "display_data"
    },
    {
     "data": {
      "application/vnd.jupyter.widget-view+json": {
       "model_id": "",
       "version_major": 2,
       "version_minor": 0
      },
      "text/plain": [
       "  0%|          | 0/39199 [00:00<?, ?it/s]"
      ]
     },
     "metadata": {},
     "output_type": "display_data"
    },
    {
     "data": {
      "application/vnd.jupyter.widget-view+json": {
       "model_id": "",
       "version_major": 2,
       "version_minor": 0
      },
      "text/plain": [
       "  0%|          | 0/39199 [00:00<?, ?it/s]"
      ]
     },
     "metadata": {},
     "output_type": "display_data"
    },
    {
     "data": {
      "application/vnd.jupyter.widget-view+json": {
       "model_id": "",
       "version_major": 2,
       "version_minor": 0
      },
      "text/plain": [
       "  0%|          | 0/39199 [00:00<?, ?it/s]"
      ]
     },
     "metadata": {},
     "output_type": "display_data"
    },
    {
     "data": {
      "application/vnd.jupyter.widget-view+json": {
       "model_id": "",
       "version_major": 2,
       "version_minor": 0
      },
      "text/plain": [
       "  0%|          | 0/39199 [00:00<?, ?it/s]"
      ]
     },
     "metadata": {},
     "output_type": "display_data"
    },
    {
     "data": {
      "application/vnd.jupyter.widget-view+json": {
       "model_id": "",
       "version_major": 2,
       "version_minor": 0
      },
      "text/plain": [
       "  0%|          | 0/39199 [00:00<?, ?it/s]"
      ]
     },
     "metadata": {},
     "output_type": "display_data"
    },
    {
     "data": {
      "application/vnd.jupyter.widget-view+json": {
       "model_id": "",
       "version_major": 2,
       "version_minor": 0
      },
      "text/plain": [
       "  0%|          | 0/39199 [00:00<?, ?it/s]"
      ]
     },
     "metadata": {},
     "output_type": "display_data"
    },
    {
     "data": {
      "application/vnd.jupyter.widget-view+json": {
       "model_id": "",
       "version_major": 2,
       "version_minor": 0
      },
      "text/plain": [
       "  0%|          | 0/39199 [00:00<?, ?it/s]"
      ]
     },
     "metadata": {},
     "output_type": "display_data"
    },
    {
     "data": {
      "application/vnd.jupyter.widget-view+json": {
       "model_id": "",
       "version_major": 2,
       "version_minor": 0
      },
      "text/plain": [
       "  0%|          | 0/39199 [00:00<?, ?it/s]"
      ]
     },
     "metadata": {},
     "output_type": "display_data"
    },
    {
     "data": {
      "application/vnd.jupyter.widget-view+json": {
       "model_id": "",
       "version_major": 2,
       "version_minor": 0
      },
      "text/plain": [
       "  0%|          | 0/39199 [00:00<?, ?it/s]"
      ]
     },
     "metadata": {},
     "output_type": "display_data"
    },
    {
     "data": {
      "application/vnd.jupyter.widget-view+json": {
       "model_id": "",
       "version_major": 2,
       "version_minor": 0
      },
      "text/plain": [
       "  0%|          | 0/39199 [00:00<?, ?it/s]"
      ]
     },
     "metadata": {},
     "output_type": "display_data"
    },
    {
     "data": {
      "application/vnd.jupyter.widget-view+json": {
       "model_id": "",
       "version_major": 2,
       "version_minor": 0
      },
      "text/plain": [
       "  0%|          | 0/39199 [00:00<?, ?it/s]"
      ]
     },
     "metadata": {},
     "output_type": "display_data"
    },
    {
     "data": {
      "application/vnd.jupyter.widget-view+json": {
       "model_id": "",
       "version_major": 2,
       "version_minor": 0
      },
      "text/plain": [
       "  0%|          | 0/39199 [00:00<?, ?it/s]"
      ]
     },
     "metadata": {},
     "output_type": "display_data"
    },
    {
     "data": {
      "application/vnd.jupyter.widget-view+json": {
       "model_id": "",
       "version_major": 2,
       "version_minor": 0
      },
      "text/plain": [
       "  0%|          | 0/39199 [00:00<?, ?it/s]"
      ]
     },
     "metadata": {},
     "output_type": "display_data"
    },
    {
     "data": {
      "application/vnd.jupyter.widget-view+json": {
       "model_id": "",
       "version_major": 2,
       "version_minor": 0
      },
      "text/plain": [
       "  0%|          | 0/39199 [00:00<?, ?it/s]"
      ]
     },
     "metadata": {},
     "output_type": "display_data"
    },
    {
     "data": {
      "application/vnd.jupyter.widget-view+json": {
       "model_id": "",
       "version_major": 2,
       "version_minor": 0
      },
      "text/plain": [
       "  0%|          | 0/39199 [00:00<?, ?it/s]"
      ]
     },
     "metadata": {},
     "output_type": "display_data"
    },
    {
     "data": {
      "application/vnd.jupyter.widget-view+json": {
       "model_id": "",
       "version_major": 2,
       "version_minor": 0
      },
      "text/plain": [
       "  0%|          | 0/39199 [00:00<?, ?it/s]"
      ]
     },
     "metadata": {},
     "output_type": "display_data"
    },
    {
     "data": {
      "application/vnd.jupyter.widget-view+json": {
       "model_id": "",
       "version_major": 2,
       "version_minor": 0
      },
      "text/plain": [
       "  0%|          | 0/39199 [00:00<?, ?it/s]"
      ]
     },
     "metadata": {},
     "output_type": "display_data"
    },
    {
     "data": {
      "application/vnd.jupyter.widget-view+json": {
       "model_id": "",
       "version_major": 2,
       "version_minor": 0
      },
      "text/plain": [
       "  0%|          | 0/39199 [00:00<?, ?it/s]"
      ]
     },
     "metadata": {},
     "output_type": "display_data"
    },
    {
     "data": {
      "application/vnd.jupyter.widget-view+json": {
       "model_id": "",
       "version_major": 2,
       "version_minor": 0
      },
      "text/plain": [
       "  0%|          | 0/39199 [00:00<?, ?it/s]"
      ]
     },
     "metadata": {},
     "output_type": "display_data"
    },
    {
     "data": {
      "application/vnd.jupyter.widget-view+json": {
       "model_id": "",
       "version_major": 2,
       "version_minor": 0
      },
      "text/plain": [
       "  0%|          | 0/39199 [00:00<?, ?it/s]"
      ]
     },
     "metadata": {},
     "output_type": "display_data"
    },
    {
     "data": {
      "application/vnd.jupyter.widget-view+json": {
       "model_id": "",
       "version_major": 2,
       "version_minor": 0
      },
      "text/plain": [
       "  0%|          | 0/39199 [00:00<?, ?it/s]"
      ]
     },
     "metadata": {},
     "output_type": "display_data"
    },
    {
     "data": {
      "application/vnd.jupyter.widget-view+json": {
       "model_id": "",
       "version_major": 2,
       "version_minor": 0
      },
      "text/plain": [
       "  0%|          | 0/39199 [00:00<?, ?it/s]"
      ]
     },
     "metadata": {},
     "output_type": "display_data"
    },
    {
     "data": {
      "application/vnd.jupyter.widget-view+json": {
       "model_id": "",
       "version_major": 2,
       "version_minor": 0
      },
      "text/plain": [
       "  0%|          | 0/39199 [00:00<?, ?it/s]"
      ]
     },
     "metadata": {},
     "output_type": "display_data"
    },
    {
     "data": {
      "application/vnd.jupyter.widget-view+json": {
       "model_id": "",
       "version_major": 2,
       "version_minor": 0
      },
      "text/plain": [
       "  0%|          | 0/39199 [00:00<?, ?it/s]"
      ]
     },
     "metadata": {},
     "output_type": "display_data"
    },
    {
     "data": {
      "application/vnd.jupyter.widget-view+json": {
       "model_id": "",
       "version_major": 2,
       "version_minor": 0
      },
      "text/plain": [
       "  0%|          | 0/39199 [00:00<?, ?it/s]"
      ]
     },
     "metadata": {},
     "output_type": "display_data"
    },
    {
     "data": {
      "application/vnd.jupyter.widget-view+json": {
       "model_id": "",
       "version_major": 2,
       "version_minor": 0
      },
      "text/plain": [
       "  0%|          | 0/39199 [00:00<?, ?it/s]"
      ]
     },
     "metadata": {},
     "output_type": "display_data"
    },
    {
     "data": {
      "application/vnd.jupyter.widget-view+json": {
       "model_id": "",
       "version_major": 2,
       "version_minor": 0
      },
      "text/plain": [
       "  0%|          | 0/39199 [00:00<?, ?it/s]"
      ]
     },
     "metadata": {},
     "output_type": "display_data"
    },
    {
     "data": {
      "application/vnd.jupyter.widget-view+json": {
       "model_id": "",
       "version_major": 2,
       "version_minor": 0
      },
      "text/plain": [
       "  0%|          | 0/39199 [00:00<?, ?it/s]"
      ]
     },
     "metadata": {},
     "output_type": "display_data"
    },
    {
     "data": {
      "application/vnd.jupyter.widget-view+json": {
       "model_id": "",
       "version_major": 2,
       "version_minor": 0
      },
      "text/plain": [
       "  0%|          | 0/39199 [00:00<?, ?it/s]"
      ]
     },
     "metadata": {},
     "output_type": "display_data"
    },
    {
     "data": {
      "application/vnd.jupyter.widget-view+json": {
       "model_id": "",
       "version_major": 2,
       "version_minor": 0
      },
      "text/plain": [
       "  0%|          | 0/39199 [00:00<?, ?it/s]"
      ]
     },
     "metadata": {},
     "output_type": "display_data"
    },
    {
     "data": {
      "application/vnd.jupyter.widget-view+json": {
       "model_id": "",
       "version_major": 2,
       "version_minor": 0
      },
      "text/plain": [
       "  0%|          | 0/39199 [00:00<?, ?it/s]"
      ]
     },
     "metadata": {},
     "output_type": "display_data"
    },
    {
     "data": {
      "application/vnd.jupyter.widget-view+json": {
       "model_id": "",
       "version_major": 2,
       "version_minor": 0
      },
      "text/plain": [
       "  0%|          | 0/39199 [00:00<?, ?it/s]"
      ]
     },
     "metadata": {},
     "output_type": "display_data"
    },
    {
     "data": {
      "application/vnd.jupyter.widget-view+json": {
       "model_id": "",
       "version_major": 2,
       "version_minor": 0
      },
      "text/plain": [
       "  0%|          | 0/39199 [00:00<?, ?it/s]"
      ]
     },
     "metadata": {},
     "output_type": "display_data"
    },
    {
     "data": {
      "application/vnd.jupyter.widget-view+json": {
       "model_id": "",
       "version_major": 2,
       "version_minor": 0
      },
      "text/plain": [
       "  0%|          | 0/39199 [00:00<?, ?it/s]"
      ]
     },
     "metadata": {},
     "output_type": "display_data"
    },
    {
     "data": {
      "application/vnd.jupyter.widget-view+json": {
       "model_id": "",
       "version_major": 2,
       "version_minor": 0
      },
      "text/plain": [
       "  0%|          | 0/39199 [00:00<?, ?it/s]"
      ]
     },
     "metadata": {},
     "output_type": "display_data"
    },
    {
     "data": {
      "application/vnd.jupyter.widget-view+json": {
       "model_id": "",
       "version_major": 2,
       "version_minor": 0
      },
      "text/plain": [
       "  0%|          | 0/39199 [00:00<?, ?it/s]"
      ]
     },
     "metadata": {},
     "output_type": "display_data"
    },
    {
     "data": {
      "application/vnd.jupyter.widget-view+json": {
       "model_id": "",
       "version_major": 2,
       "version_minor": 0
      },
      "text/plain": [
       "  0%|          | 0/39199 [00:00<?, ?it/s]"
      ]
     },
     "metadata": {},
     "output_type": "display_data"
    },
    {
     "data": {
      "application/vnd.jupyter.widget-view+json": {
       "model_id": "",
       "version_major": 2,
       "version_minor": 0
      },
      "text/plain": [
       "  0%|          | 0/39199 [00:00<?, ?it/s]"
      ]
     },
     "metadata": {},
     "output_type": "display_data"
    },
    {
     "data": {
      "application/vnd.jupyter.widget-view+json": {
       "model_id": "",
       "version_major": 2,
       "version_minor": 0
      },
      "text/plain": [
       "  0%|          | 0/39199 [00:00<?, ?it/s]"
      ]
     },
     "metadata": {},
     "output_type": "display_data"
    },
    {
     "data": {
      "application/vnd.jupyter.widget-view+json": {
       "model_id": "",
       "version_major": 2,
       "version_minor": 0
      },
      "text/plain": [
       "  0%|          | 0/39199 [00:00<?, ?it/s]"
      ]
     },
     "metadata": {},
     "output_type": "display_data"
    },
    {
     "data": {
      "application/vnd.jupyter.widget-view+json": {
       "model_id": "",
       "version_major": 2,
       "version_minor": 0
      },
      "text/plain": [
       "  0%|          | 0/39199 [00:00<?, ?it/s]"
      ]
     },
     "metadata": {},
     "output_type": "display_data"
    },
    {
     "data": {
      "application/vnd.jupyter.widget-view+json": {
       "model_id": "",
       "version_major": 2,
       "version_minor": 0
      },
      "text/plain": [
       "  0%|          | 0/39199 [00:00<?, ?it/s]"
      ]
     },
     "metadata": {},
     "output_type": "display_data"
    },
    {
     "data": {
      "application/vnd.jupyter.widget-view+json": {
       "model_id": "",
       "version_major": 2,
       "version_minor": 0
      },
      "text/plain": [
       "  0%|          | 0/39199 [00:00<?, ?it/s]"
      ]
     },
     "metadata": {},
     "output_type": "display_data"
    },
    {
     "data": {
      "application/vnd.jupyter.widget-view+json": {
       "model_id": "",
       "version_major": 2,
       "version_minor": 0
      },
      "text/plain": [
       "  0%|          | 0/39199 [00:00<?, ?it/s]"
      ]
     },
     "metadata": {},
     "output_type": "display_data"
    },
    {
     "data": {
      "application/vnd.jupyter.widget-view+json": {
       "model_id": "",
       "version_major": 2,
       "version_minor": 0
      },
      "text/plain": [
       "  0%|          | 0/39199 [00:00<?, ?it/s]"
      ]
     },
     "metadata": {},
     "output_type": "display_data"
    },
    {
     "data": {
      "application/vnd.jupyter.widget-view+json": {
       "model_id": "",
       "version_major": 2,
       "version_minor": 0
      },
      "text/plain": [
       "  0%|          | 0/39199 [00:00<?, ?it/s]"
      ]
     },
     "metadata": {},
     "output_type": "display_data"
    },
    {
     "data": {
      "application/vnd.jupyter.widget-view+json": {
       "model_id": "",
       "version_major": 2,
       "version_minor": 0
      },
      "text/plain": [
       "  0%|          | 0/39199 [00:00<?, ?it/s]"
      ]
     },
     "metadata": {},
     "output_type": "display_data"
    },
    {
     "data": {
      "application/vnd.jupyter.widget-view+json": {
       "model_id": "",
       "version_major": 2,
       "version_minor": 0
      },
      "text/plain": [
       "  0%|          | 0/39199 [00:00<?, ?it/s]"
      ]
     },
     "metadata": {},
     "output_type": "display_data"
    },
    {
     "data": {
      "application/vnd.jupyter.widget-view+json": {
       "model_id": "",
       "version_major": 2,
       "version_minor": 0
      },
      "text/plain": [
       "  0%|          | 0/39199 [00:00<?, ?it/s]"
      ]
     },
     "metadata": {},
     "output_type": "display_data"
    },
    {
     "data": {
      "application/vnd.jupyter.widget-view+json": {
       "model_id": "",
       "version_major": 2,
       "version_minor": 0
      },
      "text/plain": [
       "  0%|          | 0/39199 [00:00<?, ?it/s]"
      ]
     },
     "metadata": {},
     "output_type": "display_data"
    },
    {
     "data": {
      "application/vnd.jupyter.widget-view+json": {
       "model_id": "",
       "version_major": 2,
       "version_minor": 0
      },
      "text/plain": [
       "  0%|          | 0/39199 [00:00<?, ?it/s]"
      ]
     },
     "metadata": {},
     "output_type": "display_data"
    },
    {
     "data": {
      "application/vnd.jupyter.widget-view+json": {
       "model_id": "",
       "version_major": 2,
       "version_minor": 0
      },
      "text/plain": [
       "  0%|          | 0/39199 [00:00<?, ?it/s]"
      ]
     },
     "metadata": {},
     "output_type": "display_data"
    },
    {
     "data": {
      "application/vnd.jupyter.widget-view+json": {
       "model_id": "",
       "version_major": 2,
       "version_minor": 0
      },
      "text/plain": [
       "  0%|          | 0/39199 [00:00<?, ?it/s]"
      ]
     },
     "metadata": {},
     "output_type": "display_data"
    },
    {
     "data": {
      "application/vnd.jupyter.widget-view+json": {
       "model_id": "",
       "version_major": 2,
       "version_minor": 0
      },
      "text/plain": [
       "  0%|          | 0/39199 [00:00<?, ?it/s]"
      ]
     },
     "metadata": {},
     "output_type": "display_data"
    },
    {
     "data": {
      "application/vnd.jupyter.widget-view+json": {
       "model_id": "",
       "version_major": 2,
       "version_minor": 0
      },
      "text/plain": [
       "  0%|          | 0/39199 [00:00<?, ?it/s]"
      ]
     },
     "metadata": {},
     "output_type": "display_data"
    },
    {
     "data": {
      "application/vnd.jupyter.widget-view+json": {
       "model_id": "",
       "version_major": 2,
       "version_minor": 0
      },
      "text/plain": [
       "  0%|          | 0/39199 [00:00<?, ?it/s]"
      ]
     },
     "metadata": {},
     "output_type": "display_data"
    },
    {
     "data": {
      "application/vnd.jupyter.widget-view+json": {
       "model_id": "",
       "version_major": 2,
       "version_minor": 0
      },
      "text/plain": [
       "  0%|          | 0/39199 [00:00<?, ?it/s]"
      ]
     },
     "metadata": {},
     "output_type": "display_data"
    },
    {
     "data": {
      "application/vnd.jupyter.widget-view+json": {
       "model_id": "",
       "version_major": 2,
       "version_minor": 0
      },
      "text/plain": [
       "  0%|          | 0/39199 [00:00<?, ?it/s]"
      ]
     },
     "metadata": {},
     "output_type": "display_data"
    },
    {
     "data": {
      "application/vnd.jupyter.widget-view+json": {
       "model_id": "",
       "version_major": 2,
       "version_minor": 0
      },
      "text/plain": [
       "  0%|          | 0/39199 [00:00<?, ?it/s]"
      ]
     },
     "metadata": {},
     "output_type": "display_data"
    },
    {
     "data": {
      "application/vnd.jupyter.widget-view+json": {
       "model_id": "",
       "version_major": 2,
       "version_minor": 0
      },
      "text/plain": [
       "  0%|          | 0/39199 [00:00<?, ?it/s]"
      ]
     },
     "metadata": {},
     "output_type": "display_data"
    },
    {
     "data": {
      "application/vnd.jupyter.widget-view+json": {
       "model_id": "",
       "version_major": 2,
       "version_minor": 0
      },
      "text/plain": [
       "  0%|          | 0/39199 [00:00<?, ?it/s]"
      ]
     },
     "metadata": {},
     "output_type": "display_data"
    },
    {
     "data": {
      "application/vnd.jupyter.widget-view+json": {
       "model_id": "",
       "version_major": 2,
       "version_minor": 0
      },
      "text/plain": [
       "  0%|          | 0/39199 [00:00<?, ?it/s]"
      ]
     },
     "metadata": {},
     "output_type": "display_data"
    },
    {
     "data": {
      "application/vnd.jupyter.widget-view+json": {
       "model_id": "",
       "version_major": 2,
       "version_minor": 0
      },
      "text/plain": [
       "  0%|          | 0/39199 [00:00<?, ?it/s]"
      ]
     },
     "metadata": {},
     "output_type": "display_data"
    },
    {
     "data": {
      "application/vnd.jupyter.widget-view+json": {
       "model_id": "",
       "version_major": 2,
       "version_minor": 0
      },
      "text/plain": [
       "  0%|          | 0/39199 [00:00<?, ?it/s]"
      ]
     },
     "metadata": {},
     "output_type": "display_data"
    },
    {
     "data": {
      "application/vnd.jupyter.widget-view+json": {
       "model_id": "",
       "version_major": 2,
       "version_minor": 0
      },
      "text/plain": [
       "  0%|          | 0/39199 [00:00<?, ?it/s]"
      ]
     },
     "metadata": {},
     "output_type": "display_data"
    },
    {
     "data": {
      "application/vnd.jupyter.widget-view+json": {
       "model_id": "",
       "version_major": 2,
       "version_minor": 0
      },
      "text/plain": [
       "  0%|          | 0/39199 [00:00<?, ?it/s]"
      ]
     },
     "metadata": {},
     "output_type": "display_data"
    },
    {
     "data": {
      "application/vnd.jupyter.widget-view+json": {
       "model_id": "",
       "version_major": 2,
       "version_minor": 0
      },
      "text/plain": [
       "  0%|          | 0/39199 [00:00<?, ?it/s]"
      ]
     },
     "metadata": {},
     "output_type": "display_data"
    },
    {
     "data": {
      "application/vnd.jupyter.widget-view+json": {
       "model_id": "",
       "version_major": 2,
       "version_minor": 0
      },
      "text/plain": [
       "  0%|          | 0/39199 [00:00<?, ?it/s]"
      ]
     },
     "metadata": {},
     "output_type": "display_data"
    },
    {
     "data": {
      "application/vnd.jupyter.widget-view+json": {
       "model_id": "",
       "version_major": 2,
       "version_minor": 0
      },
      "text/plain": [
       "  0%|          | 0/39199 [00:00<?, ?it/s]"
      ]
     },
     "metadata": {},
     "output_type": "display_data"
    },
    {
     "data": {
      "application/vnd.jupyter.widget-view+json": {
       "model_id": "",
       "version_major": 2,
       "version_minor": 0
      },
      "text/plain": [
       "  0%|          | 0/39199 [00:00<?, ?it/s]"
      ]
     },
     "metadata": {},
     "output_type": "display_data"
    },
    {
     "data": {
      "application/vnd.jupyter.widget-view+json": {
       "model_id": "",
       "version_major": 2,
       "version_minor": 0
      },
      "text/plain": [
       "  0%|          | 0/39199 [00:00<?, ?it/s]"
      ]
     },
     "metadata": {},
     "output_type": "display_data"
    },
    {
     "data": {
      "application/vnd.jupyter.widget-view+json": {
       "model_id": "",
       "version_major": 2,
       "version_minor": 0
      },
      "text/plain": [
       "  0%|          | 0/39199 [00:00<?, ?it/s]"
      ]
     },
     "metadata": {},
     "output_type": "display_data"
    },
    {
     "data": {
      "application/vnd.jupyter.widget-view+json": {
       "model_id": "",
       "version_major": 2,
       "version_minor": 0
      },
      "text/plain": [
       "  0%|          | 0/39199 [00:00<?, ?it/s]"
      ]
     },
     "metadata": {},
     "output_type": "display_data"
    },
    {
     "data": {
      "application/vnd.jupyter.widget-view+json": {
       "model_id": "",
       "version_major": 2,
       "version_minor": 0
      },
      "text/plain": [
       "  0%|          | 0/39199 [00:00<?, ?it/s]"
      ]
     },
     "metadata": {},
     "output_type": "display_data"
    },
    {
     "data": {
      "application/vnd.jupyter.widget-view+json": {
       "model_id": "",
       "version_major": 2,
       "version_minor": 0
      },
      "text/plain": [
       "  0%|          | 0/39199 [00:00<?, ?it/s]"
      ]
     },
     "metadata": {},
     "output_type": "display_data"
    },
    {
     "data": {
      "application/vnd.jupyter.widget-view+json": {
       "model_id": "",
       "version_major": 2,
       "version_minor": 0
      },
      "text/plain": [
       "  0%|          | 0/39199 [00:00<?, ?it/s]"
      ]
     },
     "metadata": {},
     "output_type": "display_data"
    },
    {
     "data": {
      "application/vnd.jupyter.widget-view+json": {
       "model_id": "",
       "version_major": 2,
       "version_minor": 0
      },
      "text/plain": [
       "  0%|          | 0/39199 [00:00<?, ?it/s]"
      ]
     },
     "metadata": {},
     "output_type": "display_data"
    },
    {
     "data": {
      "application/vnd.jupyter.widget-view+json": {
       "model_id": "",
       "version_major": 2,
       "version_minor": 0
      },
      "text/plain": [
       "  0%|          | 0/39199 [00:00<?, ?it/s]"
      ]
     },
     "metadata": {},
     "output_type": "display_data"
    },
    {
     "data": {
      "application/vnd.jupyter.widget-view+json": {
       "model_id": "",
       "version_major": 2,
       "version_minor": 0
      },
      "text/plain": [
       "  0%|          | 0/39199 [00:00<?, ?it/s]"
      ]
     },
     "metadata": {},
     "output_type": "display_data"
    },
    {
     "data": {
      "application/vnd.jupyter.widget-view+json": {
       "model_id": "",
       "version_major": 2,
       "version_minor": 0
      },
      "text/plain": [
       "  0%|          | 0/39199 [00:00<?, ?it/s]"
      ]
     },
     "metadata": {},
     "output_type": "display_data"
    }
   ],
   "source": [
    "data = df.copy(deep=True)\n",
    "progresso = 0\n",
    "best_sps=[]\n",
    "delta_sps = []\n",
    "\n",
    "for iring in tqdm(range(100)):\n",
    "    #               |\n",
    "    # alterado no v8.1/2\n",
    "    #sp_vector = []\n",
    "    add_tuning_decision_removing_a_ring(df=data, tuning_path=tuning_path, config_dict=conf, ring_id=iring)\n",
    "    data['trig_L2_cl_ring_%i' %(iring)]=df['trig_L2_cl_ring_%i' %(iring)]\n",
    "\n",
    "    nn_decision_col = data.loc[:,'nn_decision_%s_%s_removing_%i'%(conf['__operation__'].lower(),conf['__version__'], iring)]\n",
    "    nn_output_col = data.loc[:,'nn_output_%s_%s_removing_%i'%(conf['__operation__'].lower(),conf['__version__'], iring)]\n",
    "    #el_lh_col = df.loc[:,'el_lh%s'%(conf['__operation__'].lower())]\n",
    "    decision_jet = []\n",
    "    decision_ee = []\n",
    "\n",
    "    for irow in tqdm(range(len(nn_output_col)), leave=False):\n",
    "        if nn_decision_col[irow] == 1:\n",
    "            decision_ee += [nn_output_col[irow]]\n",
    "        else:\n",
    "            decision_jet += [nn_output_col[irow]]\n",
    "\n",
    "    #possible_thresholds = np.linspace(-1,1,100)\n",
    "    #for est_threshold in list(possible_thresholds):\n",
    "    #    sp_local = calculate_sp(decision_jet, decision_ee, est_threshold)\n",
    "    #    sp_vector += [sp_local]\n",
    "    #    progresso += 1/100/100\n",
    "    #    update_progress(progresso)\n",
    "    #best_sps += [sp_vector[np.argmax(sp_vector)]]\n",
    "    #delta_sps+=[parameter-sp_vector[np.argmax(sp_vector)]]\n",
    "\n",
    "    sp_local = calculate_sp(decision_jet, decision_ee, threshold)\n",
    "    best_sps += [sp_local]\n",
    "    delta_sps += [parameter-sp_local]\n",
    "    #progresso += 1/100\n",
    "    #update_progress(progresso)\n"
   ]
  },
  {
   "cell_type": "code",
   "execution_count": 14,
   "metadata": {},
   "outputs": [
    {
     "data": {
      "text/plain": [
       "[-0.540504158569604,\n",
       " 0.8255632231660737,\n",
       " 0.2934325830896235,\n",
       " 0.8255632231660737,\n",
       " -0.5396487645199858,\n",
       " 0.8179530254069444,\n",
       " 1.6692645162865043,\n",
       " 0.5558798668839688,\n",
       " -30.33920924517864,\n",
       " -27.27741134244631,\n",
       " 11.680096792883244,\n",
       " -100.0,\n",
       " 0.0157397338590409,\n",
       " 8.58268289053079,\n",
       " -8.13246070644486,\n",
       " 3.1184612461988825,\n",
       " 1.3466013588116932,\n",
       " 2.208485742133394,\n",
       " 4.913610963350521,\n",
       " -1.1360972702255618,\n",
       " 3.824783094320598,\n",
       " 4.295098281520745,\n",
       " 5.500555592755166,\n",
       " 2.982081494092832,\n",
       " -2.6162118815454485,\n",
       " -0.41250384821107744,\n",
       " -0.31440443606330976,\n",
       " -0.35000759645116747,\n",
       " -0.16868431433844103,\n",
       " 0.17922527039924116,\n",
       " 2.1711151275121408,\n",
       " -0.26763175932430167,\n",
       " -2.706775417151518,\n",
       " 3.993156925585016,\n",
       " 0.6870503068530092,\n",
       " 0.7904464468846893,\n",
       " 1.5705879606792479,\n",
       " 4.054418902488768,\n",
       " -1.3686966360597033,\n",
       " 1.102026511942145,\n",
       " -0.25022340890533096,\n",
       " 0.9068979682325534,\n",
       " -1.4119777878939497,\n",
       " 11.952697064016895,\n",
       " 2.7296816579548544,\n",
       " 0.9712577868887016,\n",
       " 4.701207090010495,\n",
       " 1.7362022336703051,\n",
       " 2.9382434763332506,\n",
       " 9.892662345290141,\n",
       " 3.348182700417348,\n",
       " -1.908686271206763,\n",
       " 1.5074091301516086,\n",
       " 4.14677710702693,\n",
       " -0.3058522444252594,\n",
       " -0.5081895500452834,\n",
       " 0.7674337624630748,\n",
       " 5.624771915689002,\n",
       " 20.65565874878405,\n",
       " -0.3472105713807679,\n",
       " -0.5958569446604358,\n",
       " -0.14283361140321396,\n",
       " -0.8028845900650616,\n",
       " -4.788573701765593,\n",
       " -1.6492033487394457,\n",
       " -0.003102099831888229,\n",
       " 5.486060108044668,\n",
       " -1.0901440472162878,\n",
       " -4.369121326963841,\n",
       " -0.9782281237295246,\n",
       " -6.982280167719902,\n",
       " -1.3281652126160328,\n",
       " 35.548449029483045,\n",
       " -19.527963809094306,\n",
       " -62.45650876349951,\n",
       " -32.479685069404226,\n",
       " -0.8838715916738371,\n",
       " 25.129348108124,\n",
       " -47.782643744240126,\n",
       " -53.76179884449569,\n",
       " -21.45736119479568,\n",
       " -23.75264918033476,\n",
       " -3.2513924777374656,\n",
       " 5.942862455229613,\n",
       " -2.996317967753428,\n",
       " 1.100723071405771,\n",
       " -1.6143218985536878,\n",
       " -0.5459868415376293,\n",
       " -4.154480962006946,\n",
       " 1.8932600415149257,\n",
       " 1.6500621962288586,\n",
       " 0.9814927224851502,\n",
       " 1.087689209036289,\n",
       " 1.087689209036289,\n",
       " 0.5428559673666484,\n",
       " 5.556597282395741,\n",
       " 0.0,\n",
       " -0.2729952565319524,\n",
       " -0.5459868415376293,\n",
       " 1.904634786413516]"
      ]
     },
     "execution_count": 14,
     "metadata": {},
     "output_type": "execute_result"
    }
   ],
   "source": [
    "norm_sps = []\n",
    "abs_delta_sps=[]\n",
    "for iring in range(len(delta_sps)):\n",
    "    abs_delta_sps += [np.abs(delta_sps[iring])]\n",
    "\n",
    "max_abs_sp = abs_delta_sps[np.argmax(abs_delta_sps)]\n",
    "max_sp = delta_sps[np.argmax(abs_delta_sps)]\n",
    "\n",
    "for iring in range(len(delta_sps)):\n",
    "    norm_sps += [delta_sps[iring]/max_abs_sp*100]\n",
    "\n",
    "norm_sps\n"
   ]
  },
  {
   "cell_type": "code",
   "execution_count": 26,
   "metadata": {},
   "outputs": [],
   "source": [
    "sps = {'best':best_sps, 'delta':delta_sps, 'norm':norm_sps}\n",
    "\n",
    "with open(\"sp_lists_boosted.json\", \"w\") as fp:\n",
    "    json.dump(sps,fp)\n",
    "    \n",
    "with open(\"sp_lists_boosted.json\", \"r\") as fp:\n",
    "    sps = json.load(fp)"
   ]
  },
  {
   "cell_type": "code",
   "execution_count": 15,
   "metadata": {},
   "outputs": [
    {
     "data": {
      "text/plain": [
       "[-5.101630424486636e-05,\n",
       " 7.792203611878268e-05,\n",
       " 2.7696079108574523e-05,\n",
       " 7.792203611878268e-05,\n",
       " -5.093556658097853e-05,\n",
       " 7.720373606856512e-05,\n",
       " 0.00015755606146194978,\n",
       " 5.246756377896844e-05,\n",
       " -0.0028636122495279137,\n",
       " -0.002574619813733414,\n",
       " 0.0011024436392351733,\n",
       " -0.009438651569282364,\n",
       " 1.4856186368872315e-06,\n",
       " 0.0008100895333336133,\n",
       " -0.0007675946300901293,\n",
       " 0.0002943406913518132,\n",
       " 0.0001271010102854575,\n",
       " 0.00020845127415725084,\n",
       " 0.0004637786183007142,\n",
       " -0.0001072322628247191,\n",
       " 0.0003610079495537377,\n",
       " 0.00040539936135097765,\n",
       " 0.0005191782767748343,\n",
       " 0.000281468281739472,\n",
       " -0.0002469351238132411,\n",
       " -3.8934800942524994e-05,\n",
       " -2.9675539238382953e-05,\n",
       " -3.30359974950456e-05,\n",
       " -1.592152468243846e-05,\n",
       " 1.6916448797088535e-05,\n",
       " 0.00020492399205385148,\n",
       " -2.5260829251361194e-05,\n",
       " -0.000255483100387921,\n",
       " 0.0003769001688206375,\n",
       " 6.484828456954084e-05,\n",
       " 7.460748596321842e-05,\n",
       " 0.0001482423251976117,\n",
       " 0.0003826824733650369,\n",
       " -0.0001291865065181641,\n",
       " 0.00010401644266333498,\n",
       " -2.3617715711354847e-05,\n",
       " 8.559893931037177e-05,\n",
       " -0.00013327166363497067,\n",
       " 0.0011281734290043977,\n",
       " 0.0002576451406449687,\n",
       " 9.16736383439476e-05,\n",
       " 0.0004437305567764893,\n",
       " 0.0001638740793742377,\n",
       " 0.00027733056398826506,\n",
       " 0.0009337339296975333,\n",
       " 0.0003160232989953826,\n",
       " -0.00018015424668993418,\n",
       " 0.00014227909551856044,\n",
       " 0.0003913998424870391,\n",
       " -2.8868327668130078e-05,\n",
       " -4.7966240940278126e-05,\n",
       " 7.24353988639237e-05,\n",
       " 0.0005309026226887337,\n",
       " 0.0019496156586377156,\n",
       " -3.277199604434511e-05,\n",
       " -5.624086085787017e-05,\n",
       " -1.3481566904172126e-05,\n",
       " -7.578147895970222e-05,\n",
       " -0.00045197678684794074,\n",
       " -0.000155662557756453,\n",
       " -2.927963944632239e-07,\n",
       " 0.0005178100984797318,\n",
       " -0.0001028948982200184,\n",
       " -0.000412386138691323,\n",
       " -9.23315441515582e-05,\n",
       " -0.0006590330966221858,\n",
       " -0.00012536088668324563,\n",
       " 0.003355294242176843,\n",
       " -0.001843176462515972,\n",
       " -0.005895052244525023,\n",
       " -0.0030656443045012916,\n",
       " -8.342555985796363e-05,\n",
       " 0.002371871609557874,\n",
       " -0.004510037253610322,\n",
       " -0.00507438887031042,\n",
       " -0.002025285559139167,\n",
       " -0.0022419297946058014,\n",
       " -0.00030688760712349605,\n",
       " 0.0005609260803908223,\n",
       " -0.00028281201288404834,\n",
       " 0.00010389341545269382,\n",
       " -0.0001523702192111065,\n",
       " -5.153379558686666e-05,\n",
       " -0.00039212698251600564,\n",
       " 0.00017869821861904445,\n",
       " 0.00015574362137849018,\n",
       " 9.263967825323682e-05,\n",
       " 0.00010266319459761863,\n",
       " 0.00010266319459761863,\n",
       " 5.1238283282795116e-05,\n",
       " 0.0005244678565935468,\n",
       " 0.0,\n",
       " -2.5767071064719538e-05,\n",
       " -5.153379558686666e-05,\n",
       " 0.00017977184115691713]"
      ]
     },
     "execution_count": 15,
     "metadata": {},
     "output_type": "execute_result"
    }
   ],
   "source": [
    "delta_sps"
   ]
  },
  {
   "cell_type": "code",
   "execution_count": 23,
   "metadata": {},
   "outputs": [
    {
     "data": {
      "image/png": "[encoded data removed]",
      "text/plain": [
       "<Figure size 1332x756 with 1 Axes>"
      ]
     },
     "metadata": {
      "needs_background": "light"
     },
     "output_type": "display_data"
    }
   ],
   "source": [
    "fig, ax = plt.subplots()\n",
    "fig.set_size_inches(18.5, 10.5)\n",
    "plt.rc('font', size=8)\n",
    "plt.rc('xtick', labelsize=25, color='black')\n",
    "plt.rc('ytick', labelsize=25, color='black')\n",
    "ax.bar(0, parameter, color='red', label='Parameter')\n",
    "ax.bar(range(1,101), best_sps, label='Ring\\'s replacement SP')\n",
    "#               |\n",
    "#        alterado no v8.1/2\n",
    "#               |\n",
    "ax.bar(range(1,101), delta_sps, label='Relevance')\n",
    "ax.xaxis.set_major_locator(plt.MultipleLocator(8))\n",
    "ax.legend(loc=1, prop={'size': 17})\n",
    "\n",
    "plt.savefig('Relevance_full_boosted_data17_lhmedium_et4_eta0.png')\n",
    "plt.savefig('Relevance_full_boosted_data17_lhmedium_et4_eta0.pdf')\n",
    "\n",
    "plt.show()"
   ]
  },
  {
   "cell_type": "code",
   "execution_count": 24,
   "metadata": {},
   "outputs": [
    {
     "data": {
      "image/png": "[encoded data removed]",
      "text/plain": [
       "<Figure size 1332x756 with 1 Axes>"
      ]
     },
     "metadata": {},
     "output_type": "display_data"
    }
   ],
   "source": [
    "fig, ax = plt.subplots()\n",
    "fig.set_size_inches(18.5, 10.5)\n",
    "bars = plt.bar(range(1,101), norm_sps, label='Contributing rings')\n",
    "#                       |\n",
    "#               alterado no v8.1/2\n",
    "plt.bar(1,0, label='Confusing rings', color='red')\n",
    "plt.legend(prop={'size': 17})\n",
    "ax.xaxis.set_major_locator(plt.MultipleLocator(8))\n",
    "for bar in range(100):\n",
    "#                 |\n",
    "#        alterado no v8.1/2\n",
    "    if delta_sps[bar]<0:\n",
    "        bars[bar].set_fc('red')\n",
    "\n",
    "xcoords = [8+.5,8+64+.5, 8+64+8+.5, 8+64+8+8+.5, 8+64+8+8+4+.5, 8+64+8+8+4+4+.5, 100+.5]\n",
    "colors = ['black' for i in range(len(xcoords))]\n",
    "\n",
    "for xc,c in zip(xcoords, colors):\n",
    "    plt.axvline(x=xc, c=c, ls='--')\n",
    "\n",
    "if max_sp > 0:\n",
    "    where = 100\n",
    "else:\n",
    "    where = -100\n",
    "\n",
    "fig.patch.set_facecolor('white')\n",
    "plt.text(1,  where, 'presample', size=12)\n",
    "plt.text(69, where, 'EM1', size=12)\n",
    "plt.text(77, where, 'EM2', size=12)\n",
    "plt.text(85, where, 'EM3', size=12)\n",
    "plt.text(89, where, 'Had1', size=12)\n",
    "plt.text(93, where, 'Had2', size=12)\n",
    "plt.text(97, where, 'Had3', size=12)\n",
    "plt.xlabel('Rings', color='black', size=18)\n",
    "plt.ylabel('Relevance (%)', color='black', size=18)\n",
    "\n",
    "plt.text(20,-60, 'Relevance for el_lh %s' %(conf['__operation__'].lower()), size = 18)\n",
    "\n",
    "plt.xlim(left=0, right=100)\n",
    "\n",
    "plt.savefig('Relevance_boosted_data17_lhmedium_et4_eta0.png')\n",
    "plt.savefig('Relevance_boosted_data17_lhmedium_et4_eta0.pdf')\n",
    "\n",
    "plt.show()"
   ]
  },
  {
   "cell_type": "code",
   "execution_count": 18,
   "metadata": {},
   "outputs": [
    {
     "data": {
      "text/plain": [
       "-0.009438651569282364"
      ]
     },
     "execution_count": 18,
     "metadata": {},
     "output_type": "execute_result"
    }
   ],
   "source": [
    "max_sp"
   ]
  },
  {
   "cell_type": "code",
   "execution_count": 19,
   "metadata": {},
   "outputs": [
    {
     "ename": "NameError",
     "evalue": "name 'delta_effs' is not defined",
     "output_type": "error",
     "traceback": [
      "\u001b[0;31m---------------------------------------------------------------------------\u001b[0m",
      "\u001b[0;31mNameError\u001b[0m                                 Traceback (most recent call last)",
      "\u001b[0;32m<ipython-input-19-cecd8c50f151>\u001b[0m in \u001b[0;36m<module>\u001b[0;34m\u001b[0m\n\u001b[1;32m      1\u001b[0m \u001b[0mordered_ring\u001b[0m \u001b[0;34m=\u001b[0m \u001b[0;34m{\u001b[0m\u001b[0;34m}\u001b[0m\u001b[0;34m\u001b[0m\u001b[0;34m\u001b[0m\u001b[0m\n\u001b[0;32m----> 2\u001b[0;31m \u001b[0mdelta_eff\u001b[0m \u001b[0;34m=\u001b[0m \u001b[0mdelta_effs\u001b[0m\u001b[0;34m.\u001b[0m\u001b[0mcopy\u001b[0m\u001b[0;34m(\u001b[0m\u001b[0;34m)\u001b[0m\u001b[0;34m\u001b[0m\u001b[0;34m\u001b[0m\u001b[0m\n\u001b[0m\u001b[1;32m      3\u001b[0m \u001b[0;32mfor\u001b[0m \u001b[0mring\u001b[0m \u001b[0;32min\u001b[0m \u001b[0mdf\u001b[0m\u001b[0;34m.\u001b[0m\u001b[0mcolumns\u001b[0m\u001b[0;34m[\u001b[0m\u001b[0;36m13\u001b[0m\u001b[0;34m:\u001b[0m\u001b[0;36m113\u001b[0m\u001b[0;34m]\u001b[0m\u001b[0;34m:\u001b[0m\u001b[0;34m\u001b[0m\u001b[0;34m\u001b[0m\u001b[0m\n\u001b[1;32m      4\u001b[0m     \u001b[0;32mfor\u001b[0m \u001b[0mvalue\u001b[0m \u001b[0;32min\u001b[0m \u001b[0mdelta_eff\u001b[0m\u001b[0;34m:\u001b[0m\u001b[0;34m\u001b[0m\u001b[0;34m\u001b[0m\u001b[0m\n\u001b[1;32m      5\u001b[0m         \u001b[0mordered_ring\u001b[0m\u001b[0;34m[\u001b[0m\u001b[0mring\u001b[0m\u001b[0;34m]\u001b[0m \u001b[0;34m=\u001b[0m \u001b[0mvalue\u001b[0m\u001b[0;34m\u001b[0m\u001b[0;34m\u001b[0m\u001b[0m\n",
      "\u001b[0;31mNameError\u001b[0m: name 'delta_effs' is not defined"
     ]
    }
   ],
   "source": [
    "ordered_ring = {}\n",
    "delta_eff = delta_effs.copy()\n",
    "for ring in df.columns[13:113]:\n",
    "    for value in delta_eff:\n",
    "        ordered_ring[ring] = value\n",
    "        delta_eff.remove(value)\n",
    "        break  \n",
    "        \n",
    "ordered_ring"
   ]
  },
  {
   "cell_type": "code",
   "execution_count": null,
   "metadata": {},
   "outputs": [],
   "source": [
    "dict(sorted(ordered_ring.items(), key=lambda item: item[1], reverse=True)).keys()"
   ]
  },
  {
   "cell_type": "code",
   "execution_count": null,
   "metadata": {},
   "outputs": [],
   "source": [
    "conf['__operation__'].lower()"
   ]
  },
  {
   "cell_type": "code",
   "execution_count": null,
   "metadata": {},
   "outputs": [],
   "source": [
    "#def calculate_sp(effs, total, df):\n",
    "#    prod_effs = 1\n",
    "#    for iring in effs:\n",
    "#        prod_effs *= iring\n",
    "#\n",
    "#    return np.sqrt((eff(df, total)) * np.power(prod_effs, 1/len(effs)))\n",
    "\n",
    "def geo_mean(iterable):\n",
    "    a = np.array(iterable)\n",
    "    return a.prod()**(1.0/len(a))\n",
    "\n",
    "def calculate_sp(effs):\n",
    "    arit_mean = np.mean(effs)\n",
    "    geom_mean = geo_mean(effs)\n",
    "    return np.sqrt(arit_mean*geom_mean)"
   ]
  },
  {
   "cell_type": "code",
   "execution_count": null,
   "metadata": {},
   "outputs": [],
   "source": [
    "data = df.copy()\n",
    "effs = []\n",
    "delta_effs = []\n",
    "progresso = 0\n",
    "vector_sp = []\n",
    "delta_sp = []\n",
    "\n",
    "for ring in df.columns[13:113]:\n",
    "    replace_column (data, ring)\n",
    "    add_tuning_decision(df=data, tuning_path=tuning_path, config_dict=conf)\n",
    "    effs += [eff(data,total)]\n",
    "    data[ring]=df[ring]\n",
    "    progresso += 0.01\n",
    "    update_progress(progresso)\n",
    "    sp_local = calculate_sp(effs, total, data)\n",
    "    vector_sp += [sp_local]\n",
    "    delta_sp += [np.abs(parameter - sp_local)]"
   ]
  },
  {
   "cell_type": "code",
   "execution_count": null,
   "metadata": {},
   "outputs": [],
   "source": [
    "fig, ax = plt.subplots()\n",
    "fig.set_size_inches(18.5, 10.5)\n",
    "plt.rc('font', size=8)\n",
    "plt.rc('xtick', labelsize=25, color='white')\n",
    "plt.rc('ytick', labelsize=25, color='white')\n",
    "ax.bar(0, parameter, color='red', label='Parameter')\n",
    "ax.bar(range(1,101), vector_sp, label='Ring SP')\n",
    "ax.bar(range(1,101), delta_sp, label='SP Relevance')\n",
    "ax.xaxis.set_major_locator(plt.MultipleLocator(8))\n",
    "ax.legend(loc=1, prop={'size': 17})\n",
    "\n",
    "plt.savefig('relevance_by_sp_lh%s'%(conf['__operation__'].lower()), dpi=100)\n",
    "\n",
    "plt.show()"
   ]
  }
 ],
 "metadata": {
  "interpreter": {
   "hash": "4668b2b94aebe22ab6a379c52b27e87f14fb5565ac42686a2db709d03229b54e"
  },
  "kernelspec": {
   "display_name": "Python 3 (ipykernel)",
   "language": "python",
   "name": "python3"
  },
  "language_info": {
   "codemirror_mode": {
    "name": "ipython",
    "version": 3
   },
   "file_extension": ".py",
   "mimetype": "text/x-python",
   "name": "python",
   "nbconvert_exporter": "python",
   "pygments_lexer": "ipython3",
   "version": "3.6.9"
  }
 },
 "nbformat": 4,
 "nbformat_minor": 4
}
