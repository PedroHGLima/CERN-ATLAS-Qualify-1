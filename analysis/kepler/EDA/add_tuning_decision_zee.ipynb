{
 "cells": [
  {
   "cell_type": "code",
   "execution_count": 1,
   "metadata": {},
   "outputs": [],
   "source": [
    "import os\n",
    "import numpy as np\n",
    "import pandas as pd\n",
    "import joblib\n",
    "import json\n",
    "import tensorflow as tf\n",
    "import gc\n",
    "import matplotlib.pyplot as plt\n",
    "import sys\n",
    "from tqdm.notebook import tqdm"
   ]
  },
  {
   "cell_type": "code",
   "execution_count": 2,
   "metadata": {},
   "outputs": [],
   "source": [
    "tuning_path = '/home/pedro.lima/workspace/CERN-ATLAS-Qualify-1/analysis/tunings/TrigL2_20180125_v8'\n",
    "tuning_file = \"ElectronRingerMediumTriggerConfig.json\"\n",
    "with open(os.path.join(tuning_path,tuning_file)) as f:\n",
    "    conf = json.load(f)"
   ]
  },
  {
   "cell_type": "code",
   "execution_count": 3,
   "metadata": {},
   "outputs": [],
   "source": [
    "#conf"
   ]
  },
  {
   "cell_type": "code",
   "execution_count": 4,
   "metadata": {},
   "outputs": [],
   "source": [
    "def open_zee(path= \"\"):\n",
    "    '''\n",
    "    This function will get a .npz file and transform into a pandas DataFrame. \n",
    "    The .npz has three types of data: float, int and bool this function will concatenate these features and reorder them.\n",
    "\n",
    "    Arguments:\n",
    "    path (str) - the full path to .npz file\n",
    "    '''\n",
    "    # open the file\n",
    "    d = dict(np.load(path, allow_pickle=True))\n",
    "    print(d.keys())\n",
    "    df = pd.DataFrame(d['data'],columns=d[\"features\"])\n",
    "    \n",
    "    df['target'] = d['target']\n",
    "    df['et_bin'] = d['etBinIdx']\n",
    "    df['eta_bin'] = d['etaBinIdx']\n",
    "    return df"
   ]
  },
  {
   "cell_type": "code",
   "execution_count": 5,
   "metadata": {},
   "outputs": [
    {
     "name": "stdout",
     "output_type": "stream",
     "text": [
      "dict_keys(['features', 'etBins', 'etaBins', 'etBinIdx', 'etaBinIdx', 'data', 'target'])\n"
     ]
    }
   ],
   "source": [
    "et = 4\n",
    "eta = 0\n",
    "# my pc path\n",
    "#data_path = '/media/natmourajr/Backup/Work/CERN/Qualify/cern_data/Zee_boosted/mc16_13TeV.302236_309995_341330.sgn.boosted_probes.WZ_llqq_plus_radion_ZZ_llqq_plus_ggH3000.merge.25bins/mc16_13TeV.302236_309995_341330.sgn.boosted_probes.WZ_llqq_plus_radion_ZZ_llqq_plus_ggH3000.merge.25bins_et0_eta0.npz'\n",
    "# LPS path\n",
    "data_path = '/home/pedro.lima/data/data17_13TeV.AllPeriods.sgn.probes_lhmedium_EGAM1.bkg.VProbes_EGAM7.GRL_v97/data17_13TeV.AllPeriods.sgn.probes_lhmedium_EGAM1.bkg.VProbes_EGAM7.GRL_v97_et%i_eta%i.npz' %(et, eta)\n",
    "df = open_zee(data_path)"
   ]
  },
  {
   "cell_type": "code",
   "execution_count": 6,
   "metadata": {},
   "outputs": [
    {
     "data": {
      "text/html": [
       "<div>\n",
       "<style scoped>\n",
       "    .dataframe tbody tr th:only-of-type {\n",
       "        vertical-align: middle;\n",
       "    }\n",
       "\n",
       "    .dataframe tbody tr th {\n",
       "        vertical-align: top;\n",
       "    }\n",
       "\n",
       "    .dataframe thead th {\n",
       "        text-align: right;\n",
       "    }\n",
       "</style>\n",
       "<table border=\"1\" class=\"dataframe\">\n",
       "  <thead>\n",
       "    <tr style=\"text-align: right;\">\n",
       "      <th></th>\n",
       "      <th>avgmu</th>\n",
       "      <th>L2Calo_ring_0</th>\n",
       "      <th>L2Calo_ring_1</th>\n",
       "      <th>L2Calo_ring_2</th>\n",
       "      <th>L2Calo_ring_3</th>\n",
       "      <th>L2Calo_ring_4</th>\n",
       "      <th>L2Calo_ring_5</th>\n",
       "      <th>L2Calo_ring_6</th>\n",
       "      <th>L2Calo_ring_7</th>\n",
       "      <th>L2Calo_ring_8</th>\n",
       "      <th>...</th>\n",
       "      <th>el_lhmedium</th>\n",
       "      <th>el_lhloose</th>\n",
       "      <th>el_lhvloose</th>\n",
       "      <th>T0HLTElectronT2CaloTight</th>\n",
       "      <th>T0HLTElectronT2CaloMedium</th>\n",
       "      <th>T0HLTElectronT2CaloLoose</th>\n",
       "      <th>T0HLTElectronT2CaloVLoose</th>\n",
       "      <th>target</th>\n",
       "      <th>et_bin</th>\n",
       "      <th>eta_bin</th>\n",
       "    </tr>\n",
       "  </thead>\n",
       "  <tbody>\n",
       "    <tr>\n",
       "      <th>0</th>\n",
       "      <td>31.459999</td>\n",
       "      <td>946.455200</td>\n",
       "      <td>297.285675</td>\n",
       "      <td>-162.731384</td>\n",
       "      <td>238.094727</td>\n",
       "      <td>-204.648712</td>\n",
       "      <td>112.230659</td>\n",
       "      <td>29.744968</td>\n",
       "      <td>43.871647</td>\n",
       "      <td>4150.571289</td>\n",
       "      <td>...</td>\n",
       "      <td>1.0</td>\n",
       "      <td>0.0</td>\n",
       "      <td>0.0</td>\n",
       "      <td>1.0</td>\n",
       "      <td>1.0</td>\n",
       "      <td>1.0</td>\n",
       "      <td>1.0</td>\n",
       "      <td>1</td>\n",
       "      <td>4</td>\n",
       "      <td>0</td>\n",
       "    </tr>\n",
       "    <tr>\n",
       "      <th>1</th>\n",
       "      <td>31.420000</td>\n",
       "      <td>1155.483643</td>\n",
       "      <td>231.537582</td>\n",
       "      <td>841.838196</td>\n",
       "      <td>-32.028019</td>\n",
       "      <td>317.318054</td>\n",
       "      <td>412.808563</td>\n",
       "      <td>19.779219</td>\n",
       "      <td>-101.355553</td>\n",
       "      <td>12582.793945</td>\n",
       "      <td>...</td>\n",
       "      <td>1.0</td>\n",
       "      <td>0.0</td>\n",
       "      <td>0.0</td>\n",
       "      <td>1.0</td>\n",
       "      <td>1.0</td>\n",
       "      <td>1.0</td>\n",
       "      <td>1.0</td>\n",
       "      <td>1</td>\n",
       "      <td>4</td>\n",
       "      <td>0</td>\n",
       "    </tr>\n",
       "    <tr>\n",
       "      <th>2</th>\n",
       "      <td>31.459999</td>\n",
       "      <td>2306.196045</td>\n",
       "      <td>123.935341</td>\n",
       "      <td>-92.987045</td>\n",
       "      <td>-264.076416</td>\n",
       "      <td>172.244553</td>\n",
       "      <td>-83.377022</td>\n",
       "      <td>109.801102</td>\n",
       "      <td>-15.553493</td>\n",
       "      <td>8039.985840</td>\n",
       "      <td>...</td>\n",
       "      <td>1.0</td>\n",
       "      <td>0.0</td>\n",
       "      <td>0.0</td>\n",
       "      <td>1.0</td>\n",
       "      <td>1.0</td>\n",
       "      <td>1.0</td>\n",
       "      <td>1.0</td>\n",
       "      <td>1</td>\n",
       "      <td>4</td>\n",
       "      <td>0</td>\n",
       "    </tr>\n",
       "    <tr>\n",
       "      <th>3</th>\n",
       "      <td>31.459999</td>\n",
       "      <td>1661.695190</td>\n",
       "      <td>311.053619</td>\n",
       "      <td>-193.597885</td>\n",
       "      <td>-127.421242</td>\n",
       "      <td>386.362854</td>\n",
       "      <td>156.423721</td>\n",
       "      <td>182.063248</td>\n",
       "      <td>-88.269615</td>\n",
       "      <td>6214.927246</td>\n",
       "      <td>...</td>\n",
       "      <td>1.0</td>\n",
       "      <td>0.0</td>\n",
       "      <td>0.0</td>\n",
       "      <td>1.0</td>\n",
       "      <td>1.0</td>\n",
       "      <td>1.0</td>\n",
       "      <td>1.0</td>\n",
       "      <td>1</td>\n",
       "      <td>4</td>\n",
       "      <td>0</td>\n",
       "    </tr>\n",
       "    <tr>\n",
       "      <th>4</th>\n",
       "      <td>31.459999</td>\n",
       "      <td>716.282349</td>\n",
       "      <td>572.603027</td>\n",
       "      <td>24.837866</td>\n",
       "      <td>-122.357193</td>\n",
       "      <td>-38.153748</td>\n",
       "      <td>-149.753250</td>\n",
       "      <td>205.552399</td>\n",
       "      <td>-74.376228</td>\n",
       "      <td>4822.833984</td>\n",
       "      <td>...</td>\n",
       "      <td>1.0</td>\n",
       "      <td>0.0</td>\n",
       "      <td>0.0</td>\n",
       "      <td>1.0</td>\n",
       "      <td>1.0</td>\n",
       "      <td>1.0</td>\n",
       "      <td>1.0</td>\n",
       "      <td>1</td>\n",
       "      <td>4</td>\n",
       "      <td>0</td>\n",
       "    </tr>\n",
       "  </tbody>\n",
       "</table>\n",
       "<p>5 rows × 157 columns</p>\n",
       "</div>"
      ],
      "text/plain": [
       "       avgmu  L2Calo_ring_0  L2Calo_ring_1  L2Calo_ring_2  L2Calo_ring_3  \\\n",
       "0  31.459999     946.455200     297.285675    -162.731384     238.094727   \n",
       "1  31.420000    1155.483643     231.537582     841.838196     -32.028019   \n",
       "2  31.459999    2306.196045     123.935341     -92.987045    -264.076416   \n",
       "3  31.459999    1661.695190     311.053619    -193.597885    -127.421242   \n",
       "4  31.459999     716.282349     572.603027      24.837866    -122.357193   \n",
       "\n",
       "   L2Calo_ring_4  L2Calo_ring_5  L2Calo_ring_6  L2Calo_ring_7  L2Calo_ring_8  \\\n",
       "0    -204.648712     112.230659      29.744968      43.871647    4150.571289   \n",
       "1     317.318054     412.808563      19.779219    -101.355553   12582.793945   \n",
       "2     172.244553     -83.377022     109.801102     -15.553493    8039.985840   \n",
       "3     386.362854     156.423721     182.063248     -88.269615    6214.927246   \n",
       "4     -38.153748    -149.753250     205.552399     -74.376228    4822.833984   \n",
       "\n",
       "   ...  el_lhmedium  el_lhloose  el_lhvloose  T0HLTElectronT2CaloTight  \\\n",
       "0  ...          1.0         0.0          0.0                       1.0   \n",
       "1  ...          1.0         0.0          0.0                       1.0   \n",
       "2  ...          1.0         0.0          0.0                       1.0   \n",
       "3  ...          1.0         0.0          0.0                       1.0   \n",
       "4  ...          1.0         0.0          0.0                       1.0   \n",
       "\n",
       "   T0HLTElectronT2CaloMedium  T0HLTElectronT2CaloLoose  \\\n",
       "0                        1.0                       1.0   \n",
       "1                        1.0                       1.0   \n",
       "2                        1.0                       1.0   \n",
       "3                        1.0                       1.0   \n",
       "4                        1.0                       1.0   \n",
       "\n",
       "   T0HLTElectronT2CaloVLoose  target  et_bin  eta_bin  \n",
       "0                        1.0       1       4        0  \n",
       "1                        1.0       1       4        0  \n",
       "2                        1.0       1       4        0  \n",
       "3                        1.0       1       4        0  \n",
       "4                        1.0       1       4        0  \n",
       "\n",
       "[5 rows x 157 columns]"
      ]
     },
     "execution_count": 6,
     "metadata": {},
     "output_type": "execute_result"
    }
   ],
   "source": [
    "df.head()"
   ]
  },
  {
   "cell_type": "code",
   "execution_count": 20,
   "metadata": {},
   "outputs": [],
   "source": [
    "def add_tuning_decision_zee(df, tuning_path, config_dict):\n",
    "        #find et and eta bin\n",
    "        idx = (df['et_bin']+df['eta_bin']).unique()[0]\n",
    "        #print(idx)\n",
    "\n",
    "        m_path = tuning_path\n",
    "        m_model_path = os.path.join(m_path,config_dict[\"Model__path\"][idx].replace('.onnx',''))\n",
    "        with open(m_model_path + '.json', 'r') as f:\n",
    "                sequential = json.load(f) \n",
    "        model = tf.keras.models.model_from_json(json.dumps(sequential, separators=(',', ':')))\n",
    "        model.load_weights(m_model_path + '.h5')\n",
    "        slope, offset = config_dict[\"Threshold__slope\"][idx],config_dict[\"Threshold__offset\"][idx]\n",
    "\n",
    "        # ring list\n",
    "        rings = ['L2Calo_ring_%i' %(iring) for iring in range(100)] \n",
    "\n",
    "        def norm1( data ): \n",
    "                norms = np.abs( data.sum(axis=1) )\n",
    "                norms[norms==0] = 1\n",
    "                return data/norms[:,None] \n",
    "        df['nn_output_%s_%s'%(config_dict['__operation__'].lower(),config_dict['__version__'])] = model.predict(norm1(df[rings].values)) \n",
    "        df['thr_%s_%s' %(config_dict['__operation__'].lower(),config_dict['__version__'])] = df['avgmu']*slope + offset\n",
    "        df['nn_decision_%s_%s' %(config_dict['__operation__'].lower(),config_dict['__version__'])] = 0\n",
    "        df.loc[df['nn_output_%s_%s' %(config_dict['__operation__'].lower(),config_dict['__version__'])] > df['thr_%s_%s' %(config_dict['__operation__'].lower(),config_dict['__version__'])],'nn_decision_%s_%s' %(config_dict['__operation__'].lower(),config_dict['__version__'])] = 1 \n",
    "\n",
    "def add_tuning_decision_removing_a_ring(df, tuning_path, config_dict, ring_id=None):\n",
    "        \n",
    "        if ring_id<0 or ring_id>99:\n",
    "                return -1\n",
    "            \n",
    "        #find et and eta bin\n",
    "        idx = (df['et_bin']+df['eta_bin']).unique()[0]\n",
    "        #print(idx)\n",
    "\n",
    "        m_path = tuning_path\n",
    "        m_model_path = os.path.join(m_path,config_dict[\"Model__path\"][idx].replace('.onnx',''))\n",
    "        with open(m_model_path + '.json', 'r') as f:\n",
    "                sequential = json.load(f) \n",
    "        model = tf.keras.models.model_from_json(json.dumps(sequential, separators=(',', ':')))\n",
    "        model.load_weights(m_model_path + '.h5')\n",
    "        slope, offset = config_dict[\"Threshold__slope\"][idx],config_dict[\"Threshold__offset\"][idx]\n",
    "\n",
    "        # ring list\n",
    "        rings = ['L2Calo_ring_%i' %(iring) for iring in range(100)]\n",
    "        #                                                          |\n",
    "        #                                                alterado no v8.1/2\n",
    "\n",
    "        # replace a ring value by its mean\n",
    "        df['L2Calo_ring_%i' %(ring_id)] = df['L2Calo_ring_%i' %(ring_id)].mean()\n",
    "\n",
    "        def norm1( data ): \n",
    "                norms = np.abs( data.sum(axis=1) )\n",
    "                norms[norms==0] = 1\n",
    "                return data/norms[:,None] \n",
    "        df['nn_output_%s_%s_removing_%i'%(config_dict['__operation__'].lower(),config_dict['__version__'], ring_id)] = model.predict(norm1(df[rings].values)) \n",
    "        df['thr_%s_%s' %(config_dict['__operation__'].lower(),config_dict['__version__'])] = df['avgmu']*slope + offset\n",
    "        df['nn_decision_%s_%s_removing_%i' %(config_dict['__operation__'].lower(),config_dict['__version__'], ring_id)] = 0\n",
    "        df.loc[df['nn_output_%s_%s_removing_%i' %(config_dict['__operation__'].lower(),config_dict['__version__'], ring_id)] > df['thr_%s_%s' %(config_dict['__operation__'].lower(),config_dict['__version__'])],'nn_decision_%s_%s_removing_%i' %(config_dict['__operation__'].lower(),config_dict['__version__'], ring_id)] = 1 \n"
   ]
  },
  {
   "cell_type": "code",
   "execution_count": 8,
   "metadata": {},
   "outputs": [
    {
     "name": "stderr",
     "output_type": "stream",
     "text": [
      "/usr/local/lib/python3.6/dist-packages/ipykernel_launcher.py:7: FutureWarning: Support for multi-dimensional indexing (e.g. `obj[:, None]`) is deprecated and will be removed in a future version.  Convert to a numpy array before indexing instead.\n",
      "  import sys\n"
     ]
    },
    {
     "data": {
      "text/plain": [
       "array([[ 1.9066030e-02,  5.9887227e-03, -3.2781705e-03, ...,\n",
       "         9.5888981e-06,  9.3012309e-04, -1.2849123e-03],\n",
       "       [ 9.5097004e-03,  1.9055683e-03,  6.9283792e-03, ...,\n",
       "         5.7096506e-05,  1.5111542e-03,  2.3599887e-04],\n",
       "       [ 4.3169573e-02,  2.3199397e-03, -1.7406201e-03, ...,\n",
       "         7.7918265e-04,  7.6186750e-04,  6.2334619e-04],\n",
       "       ...,\n",
       "       [ 1.3338522e-02,  9.1572236e-03,  4.3471903e-03, ...,\n",
       "         9.3081193e-03, -7.7347824e-05,  3.9268893e-05],\n",
       "       [ 4.3570022e-03,  1.0661377e-02,  6.5613580e-03, ...,\n",
       "         3.5762454e-03,  4.0346073e-04,  2.1633768e-04],\n",
       "       [ 2.7849372e-02,  4.1435979e-02,  7.9749068e-03, ...,\n",
       "         2.6624401e-03,  1.1911067e-03,  2.4349712e-05]], dtype=float32)"
      ]
     },
     "execution_count": 8,
     "metadata": {},
     "output_type": "execute_result"
    }
   ],
   "source": [
    "# ring list\n",
    "rings = ['L2Calo_ring_%i' %(iring) for iring in range(100)] \n",
    "\n",
    "def norm1( data ): \n",
    "                norms = np.abs( data.sum(axis=1) )\n",
    "                norms[norms==0] = 1\n",
    "                return data/norms[:,None] \n",
    "norm1(df[rings]).values"
   ]
  },
  {
   "cell_type": "code",
   "execution_count": 9,
   "metadata": {},
   "outputs": [],
   "source": [
    "#tuning_path = '../tunings/TrigL2_20180125_v8'\n",
    "add_tuning_decision_zee(df=df, tuning_path=tuning_path, config_dict=conf)"
   ]
  },
  {
   "cell_type": "code",
   "execution_count": 10,
   "metadata": {},
   "outputs": [
    {
     "data": {
      "text/plain": [
       "Index(['L2Calo_ring_0', 'L2Calo_ring_1', 'L2Calo_ring_2', 'L2Calo_ring_3',\n",
       "       'L2Calo_ring_4', 'L2Calo_ring_5', 'L2Calo_ring_6', 'L2Calo_ring_7',\n",
       "       'L2Calo_ring_8', 'L2Calo_ring_9', 'L2Calo_ring_10', 'L2Calo_ring_11',\n",
       "       'L2Calo_ring_12', 'L2Calo_ring_13', 'L2Calo_ring_14', 'L2Calo_ring_15',\n",
       "       'L2Calo_ring_16', 'L2Calo_ring_17', 'L2Calo_ring_18', 'L2Calo_ring_19',\n",
       "       'L2Calo_ring_20', 'L2Calo_ring_21', 'L2Calo_ring_22', 'L2Calo_ring_23',\n",
       "       'L2Calo_ring_24', 'L2Calo_ring_25', 'L2Calo_ring_26', 'L2Calo_ring_27',\n",
       "       'L2Calo_ring_28', 'L2Calo_ring_29', 'L2Calo_ring_30', 'L2Calo_ring_31',\n",
       "       'L2Calo_ring_32', 'L2Calo_ring_33', 'L2Calo_ring_34', 'L2Calo_ring_35',\n",
       "       'L2Calo_ring_36', 'L2Calo_ring_37', 'L2Calo_ring_38', 'L2Calo_ring_39',\n",
       "       'L2Calo_ring_40', 'L2Calo_ring_41', 'L2Calo_ring_42', 'L2Calo_ring_43',\n",
       "       'L2Calo_ring_44', 'L2Calo_ring_45', 'L2Calo_ring_46', 'L2Calo_ring_47',\n",
       "       'L2Calo_ring_48', 'L2Calo_ring_49', 'L2Calo_ring_50', 'L2Calo_ring_51',\n",
       "       'L2Calo_ring_52', 'L2Calo_ring_53', 'L2Calo_ring_54', 'L2Calo_ring_55',\n",
       "       'L2Calo_ring_56', 'L2Calo_ring_57', 'L2Calo_ring_58', 'L2Calo_ring_59',\n",
       "       'L2Calo_ring_60', 'L2Calo_ring_61', 'L2Calo_ring_62', 'L2Calo_ring_63',\n",
       "       'L2Calo_ring_64', 'L2Calo_ring_65', 'L2Calo_ring_66', 'L2Calo_ring_67',\n",
       "       'L2Calo_ring_68', 'L2Calo_ring_69', 'L2Calo_ring_70', 'L2Calo_ring_71',\n",
       "       'L2Calo_ring_72', 'L2Calo_ring_73', 'L2Calo_ring_74', 'L2Calo_ring_75',\n",
       "       'L2Calo_ring_76', 'L2Calo_ring_77', 'L2Calo_ring_78', 'L2Calo_ring_79',\n",
       "       'L2Calo_ring_80', 'L2Calo_ring_81', 'L2Calo_ring_82', 'L2Calo_ring_83',\n",
       "       'L2Calo_ring_84', 'L2Calo_ring_85', 'L2Calo_ring_86', 'L2Calo_ring_87',\n",
       "       'L2Calo_ring_88', 'L2Calo_ring_89', 'L2Calo_ring_90', 'L2Calo_ring_91',\n",
       "       'L2Calo_ring_92', 'L2Calo_ring_93', 'L2Calo_ring_94', 'L2Calo_ring_95',\n",
       "       'L2Calo_ring_96', 'L2Calo_ring_97', 'L2Calo_ring_98', 'L2Calo_ring_99'],\n",
       "      dtype='object')"
      ]
     },
     "execution_count": 10,
     "metadata": {},
     "output_type": "execute_result"
    }
   ],
   "source": [
    "df.columns[1:101]"
   ]
  },
  {
   "cell_type": "code",
   "execution_count": 11,
   "metadata": {},
   "outputs": [
    {
     "data": {
      "application/vnd.jupyter.widget-view+json": {
       "model_id": "d0b7d0541597475ab11e202ea50a00eb",
       "version_major": 2,
       "version_minor": 0
      },
      "text/plain": [
       "  0%|          | 0/100 [00:00<?, ?it/s]"
      ]
     },
     "metadata": {},
     "output_type": "display_data"
    },
    {
     "name": "stdout",
     "output_type": "stream",
     "text": [
      "Percent: [####################################################################################################] 100.00% Done...\n"
     ]
    },
    {
     "data": {
      "text/plain": [
       "0.9833303970864706"
      ]
     },
     "execution_count": 11,
     "metadata": {},
     "output_type": "execute_result"
    }
   ],
   "source": [
    "nn_decision_col = df.loc[:,'nn_decision_%s_%s' %(conf['__operation__'].lower(),conf['__version__'])]\n",
    "nn_output_col = df.loc[:,'nn_output_%s_%s' %(conf['__operation__'].lower(),conf['__version__'])]\n",
    "#el_lh_col = df.loc[:,'el_lh%s'%(conf['__operation__'].lower())]\n",
    "decision_jet = []\n",
    "decision_ee = []\n",
    "\n",
    "for irow in range(len(nn_output_col)):\n",
    "    if nn_decision_col[irow] == 1:\n",
    "        decision_ee += [nn_output_col[irow]]\n",
    "    else:\n",
    "        decision_jet += [nn_output_col[irow]]\n",
    "\n",
    "def calculate_eff(values, threshold, first):\n",
    "    passed=0\n",
    "    total = len(values)\n",
    "    if first:\n",
    "        for value in values:\n",
    "            if value<threshold:\n",
    "                passed+=1\n",
    "    else:\n",
    "        for value in values:\n",
    "            if value>threshold:\n",
    "                passed+=1\n",
    "    return passed/total\n",
    "\n",
    "def geo_mean(iterable):\n",
    "    a = np.array(iterable)\n",
    "    return a.prod()**(1.0/len(a))\n",
    "\n",
    "def calculate_sp(decision_jet, decision_ee, threshold):\n",
    "    eff_jet = calculate_eff(decision_jet, threshold, True)\n",
    "    eff_ee = calculate_eff(decision_ee, threshold, False)\n",
    "    effs = [eff_jet, eff_ee]\n",
    "    arit_mean = np.mean(effs)\n",
    "    geom_mean = geo_mean(effs)\n",
    "    return np.sqrt(arit_mean*geom_mean)\n",
    "\n",
    "sp_vector = []\n",
    "possible_thresholds = np.linspace(-1,1,100)\n",
    "progresso=0\n",
    "\n",
    "for est_threshold in tqdm(list(possible_thresholds)):\n",
    "    sp_vector += [calculate_sp(decision_jet, decision_ee, est_threshold)]\n",
    "\n",
    "    \n",
    "#parameter = eff(df, total_ee)\n",
    "#print (total_ee, total_jets)\n",
    "threshold = possible_thresholds[np.argmax(sp_vector)]\n",
    "parameter = sp_vector[np.argmax(sp_vector)]\n",
    "parameter"
   ]
  },
  {
   "cell_type": "code",
   "execution_count": 12,
   "metadata": {},
   "outputs": [
    {
     "data": {
      "image/png": "[encoded data removed]",
      "text/plain": [
       "<Figure size 1332x756 with 1 Axes>"
      ]
     },
     "metadata": {
      "needs_background": "light"
     },
     "output_type": "display_data"
    }
   ],
   "source": [
    "fig, ax = plt.subplots()\n",
    "fig.set_size_inches(18.5, 10.5)\n",
    "plt.hist(decision_jet, bins=100, color='red', alpha=0.5, label='Jets')\n",
    "plt.hist(decision_ee, bins=100, color='blue', alpha=0.5, label='Electrons')\n",
    "plt.axvline(x=possible_thresholds[np.argmax(sp_vector)], color='black', ls='--', lw=2, label='Threshold')\n",
    "plt.xlabel('Neural Network output', color='white', size=18)\n",
    "plt.ylabel('Number of events', color='white', size=18)\n",
    "plt.legend(prop={'size': 17})\n",
    "plt.text(-6, 600, 'et=4\\neta=0\\n\\n%s'%(conf['__operation__']), size=18)\n",
    "\n",
    "plt.show()"
   ]
  },
  {
   "cell_type": "code",
   "execution_count": null,
   "metadata": {},
   "outputs": [
    {
     "data": {
      "application/vnd.jupyter.widget-view+json": {
       "model_id": "d04f456fe3d84a779592431284773edf",
       "version_major": 2,
       "version_minor": 0
      },
      "text/plain": [
       "  0%|          | 0/100 [00:00<?, ?it/s]"
      ]
     },
     "metadata": {},
     "output_type": "display_data"
    },
    {
     "data": {
      "application/vnd.jupyter.widget-view+json": {
       "model_id": "7b33f9eb180e4d7783f34b94415223f8",
       "version_major": 2,
       "version_minor": 0
      },
      "text/plain": [
       "  0%|          | 0/5469197 [00:00<?, ?it/s]"
      ]
     },
     "metadata": {},
     "output_type": "display_data"
    },
    {
     "data": {
      "application/vnd.jupyter.widget-view+json": {
       "model_id": "852366c377754552a14d5760e4276be1",
       "version_major": 2,
       "version_minor": 0
      },
      "text/plain": [
       "  0%|          | 0/5469197 [00:00<?, ?it/s]"
      ]
     },
     "metadata": {},
     "output_type": "display_data"
    },
    {
     "data": {
      "application/vnd.jupyter.widget-view+json": {
       "model_id": "cb2a3aa21ee8414eb8aa9aa97509d88a",
       "version_major": 2,
       "version_minor": 0
      },
      "text/plain": [
       "  0%|          | 0/5469197 [00:00<?, ?it/s]"
      ]
     },
     "metadata": {},
     "output_type": "display_data"
    },
    {
     "data": {
      "application/vnd.jupyter.widget-view+json": {
       "model_id": "668e98b9dcbf46b0b43589e1777d2d89",
       "version_major": 2,
       "version_minor": 0
      },
      "text/plain": [
       "  0%|          | 0/5469197 [00:00<?, ?it/s]"
      ]
     },
     "metadata": {},
     "output_type": "display_data"
    },
    {
     "data": {
      "application/vnd.jupyter.widget-view+json": {
       "model_id": "1016f82c5fab46f4a5301766048ebd59",
       "version_major": 2,
       "version_minor": 0
      },
      "text/plain": [
       "  0%|          | 0/5469197 [00:00<?, ?it/s]"
      ]
     },
     "metadata": {},
     "output_type": "display_data"
    },
    {
     "data": {
      "application/vnd.jupyter.widget-view+json": {
       "model_id": "0f7bef1af4e5491ab014acf2d2696729",
       "version_major": 2,
       "version_minor": 0
      },
      "text/plain": [
       "  0%|          | 0/5469197 [00:00<?, ?it/s]"
      ]
     },
     "metadata": {},
     "output_type": "display_data"
    },
    {
     "data": {
      "application/vnd.jupyter.widget-view+json": {
       "model_id": "9fae1edeec4746c989539330c00bb51c",
       "version_major": 2,
       "version_minor": 0
      },
      "text/plain": [
       "  0%|          | 0/5469197 [00:00<?, ?it/s]"
      ]
     },
     "metadata": {},
     "output_type": "display_data"
    },
    {
     "data": {
      "application/vnd.jupyter.widget-view+json": {
       "model_id": "5ecabb89baef48a28953c872ea7d2cb3",
       "version_major": 2,
       "version_minor": 0
      },
      "text/plain": [
       "  0%|          | 0/5469197 [00:00<?, ?it/s]"
      ]
     },
     "metadata": {},
     "output_type": "display_data"
    },
    {
     "data": {
      "application/vnd.jupyter.widget-view+json": {
       "model_id": "3c0c0e8c83d34ac9936ee5bb663f2c60",
       "version_major": 2,
       "version_minor": 0
      },
      "text/plain": [
       "  0%|          | 0/5469197 [00:00<?, ?it/s]"
      ]
     },
     "metadata": {},
     "output_type": "display_data"
    },
    {
     "data": {
      "application/vnd.jupyter.widget-view+json": {
       "model_id": "5e06c734b135482d9f3cd60b1a7513e7",
       "version_major": 2,
       "version_minor": 0
      },
      "text/plain": [
       "  0%|          | 0/5469197 [00:00<?, ?it/s]"
      ]
     },
     "metadata": {},
     "output_type": "display_data"
    },
    {
     "data": {
      "application/vnd.jupyter.widget-view+json": {
       "model_id": "99129afafbc84506bc136d64bb0a2b38",
       "version_major": 2,
       "version_minor": 0
      },
      "text/plain": [
       "  0%|          | 0/5469197 [00:00<?, ?it/s]"
      ]
     },
     "metadata": {},
     "output_type": "display_data"
    },
    {
     "data": {
      "application/vnd.jupyter.widget-view+json": {
       "model_id": "2f85e7b9f6d044c799e3721657ad5ef3",
       "version_major": 2,
       "version_minor": 0
      },
      "text/plain": [
       "  0%|          | 0/5469197 [00:00<?, ?it/s]"
      ]
     },
     "metadata": {},
     "output_type": "display_data"
    },
    {
     "data": {
      "application/vnd.jupyter.widget-view+json": {
       "model_id": "9a4af089c5184323915df41aab840a37",
       "version_major": 2,
       "version_minor": 0
      },
      "text/plain": [
       "  0%|          | 0/5469197 [00:00<?, ?it/s]"
      ]
     },
     "metadata": {},
     "output_type": "display_data"
    },
    {
     "data": {
      "application/vnd.jupyter.widget-view+json": {
       "model_id": "92204b79dfbe4db68426776283b7e9f5",
       "version_major": 2,
       "version_minor": 0
      },
      "text/plain": [
       "  0%|          | 0/5469197 [00:00<?, ?it/s]"
      ]
     },
     "metadata": {},
     "output_type": "display_data"
    },
    {
     "data": {
      "application/vnd.jupyter.widget-view+json": {
       "model_id": "98a55a8069534bdc9864f184d05d3c9a",
       "version_major": 2,
       "version_minor": 0
      },
      "text/plain": [
       "  0%|          | 0/5469197 [00:00<?, ?it/s]"
      ]
     },
     "metadata": {},
     "output_type": "display_data"
    },
    {
     "data": {
      "application/vnd.jupyter.widget-view+json": {
       "model_id": "7a5c655fa07045ceb64a4044fe157611",
       "version_major": 2,
       "version_minor": 0
      },
      "text/plain": [
       "  0%|          | 0/5469197 [00:00<?, ?it/s]"
      ]
     },
     "metadata": {},
     "output_type": "display_data"
    },
    {
     "data": {
      "application/vnd.jupyter.widget-view+json": {
       "model_id": "12673844c0f7417d861b01dc562d6452",
       "version_major": 2,
       "version_minor": 0
      },
      "text/plain": [
       "  0%|          | 0/5469197 [00:00<?, ?it/s]"
      ]
     },
     "metadata": {},
     "output_type": "display_data"
    },
    {
     "data": {
      "application/vnd.jupyter.widget-view+json": {
       "model_id": "f5d2dc70247c414abba38409a7f1429a",
       "version_major": 2,
       "version_minor": 0
      },
      "text/plain": [
       "  0%|          | 0/5469197 [00:00<?, ?it/s]"
      ]
     },
     "metadata": {},
     "output_type": "display_data"
    },
    {
     "data": {
      "application/vnd.jupyter.widget-view+json": {
       "model_id": "ec7b1c76ff53412d9e692896863902a2",
       "version_major": 2,
       "version_minor": 0
      },
      "text/plain": [
       "  0%|          | 0/5469197 [00:00<?, ?it/s]"
      ]
     },
     "metadata": {},
     "output_type": "display_data"
    },
    {
     "data": {
      "application/vnd.jupyter.widget-view+json": {
       "model_id": "6d8029f1cd9549b79518cf67d1f98eff",
       "version_major": 2,
       "version_minor": 0
      },
      "text/plain": [
       "  0%|          | 0/5469197 [00:00<?, ?it/s]"
      ]
     },
     "metadata": {},
     "output_type": "display_data"
    },
    {
     "data": {
      "application/vnd.jupyter.widget-view+json": {
       "model_id": "89a07f48b0b542988b78b457327ee440",
       "version_major": 2,
       "version_minor": 0
      },
      "text/plain": [
       "  0%|          | 0/5469197 [00:00<?, ?it/s]"
      ]
     },
     "metadata": {},
     "output_type": "display_data"
    },
    {
     "data": {
      "application/vnd.jupyter.widget-view+json": {
       "model_id": "f49045b43d824b8795e51dcbdd3d666c",
       "version_major": 2,
       "version_minor": 0
      },
      "text/plain": [
       "  0%|          | 0/5469197 [00:00<?, ?it/s]"
      ]
     },
     "metadata": {},
     "output_type": "display_data"
    },
    {
     "data": {
      "application/vnd.jupyter.widget-view+json": {
       "model_id": "63a95817a3d346e8946d91d6779070d5",
       "version_major": 2,
       "version_minor": 0
      },
      "text/plain": [
       "  0%|          | 0/5469197 [00:00<?, ?it/s]"
      ]
     },
     "metadata": {},
     "output_type": "display_data"
    },
    {
     "data": {
      "application/vnd.jupyter.widget-view+json": {
       "model_id": "dd123f47a4074dfdb3c298a83282d25e",
       "version_major": 2,
       "version_minor": 0
      },
      "text/plain": [
       "  0%|          | 0/5469197 [00:00<?, ?it/s]"
      ]
     },
     "metadata": {},
     "output_type": "display_data"
    },
    {
     "data": {
      "application/vnd.jupyter.widget-view+json": {
       "model_id": "c47c67c5e94142bd96ed6211185abd6b",
       "version_major": 2,
       "version_minor": 0
      },
      "text/plain": [
       "  0%|          | 0/5469197 [00:00<?, ?it/s]"
      ]
     },
     "metadata": {},
     "output_type": "display_data"
    },
    {
     "data": {
      "application/vnd.jupyter.widget-view+json": {
       "model_id": "f0eee8fe286f45d9b774681e67672e64",
       "version_major": 2,
       "version_minor": 0
      },
      "text/plain": [
       "  0%|          | 0/5469197 [00:00<?, ?it/s]"
      ]
     },
     "metadata": {},
     "output_type": "display_data"
    },
    {
     "data": {
      "application/vnd.jupyter.widget-view+json": {
       "model_id": "57a0814927ea4e3d8ac0cab54f67f3e2",
       "version_major": 2,
       "version_minor": 0
      },
      "text/plain": [
       "  0%|          | 0/5469197 [00:00<?, ?it/s]"
      ]
     },
     "metadata": {},
     "output_type": "display_data"
    },
    {
     "data": {
      "application/vnd.jupyter.widget-view+json": {
       "model_id": "0195e0fbda2d4f1f84f52e278615aa54",
       "version_major": 2,
       "version_minor": 0
      },
      "text/plain": [
       "  0%|          | 0/5469197 [00:00<?, ?it/s]"
      ]
     },
     "metadata": {},
     "output_type": "display_data"
    },
    {
     "data": {
      "application/vnd.jupyter.widget-view+json": {
       "model_id": "627ef416025848c089ef6a1bd4232dc7",
       "version_major": 2,
       "version_minor": 0
      },
      "text/plain": [
       "  0%|          | 0/5469197 [00:00<?, ?it/s]"
      ]
     },
     "metadata": {},
     "output_type": "display_data"
    },
    {
     "data": {
      "application/vnd.jupyter.widget-view+json": {
       "model_id": "ab8e513984eb463b98d701b21f66a0e3",
       "version_major": 2,
       "version_minor": 0
      },
      "text/plain": [
       "  0%|          | 0/5469197 [00:00<?, ?it/s]"
      ]
     },
     "metadata": {},
     "output_type": "display_data"
    },
    {
     "data": {
      "application/vnd.jupyter.widget-view+json": {
       "model_id": "6d6283c826cb41fa8bbd9620ee1fcaa1",
       "version_major": 2,
       "version_minor": 0
      },
      "text/plain": [
       "  0%|          | 0/5469197 [00:00<?, ?it/s]"
      ]
     },
     "metadata": {},
     "output_type": "display_data"
    },
    {
     "data": {
      "application/vnd.jupyter.widget-view+json": {
       "model_id": "8e12c1da9bfd4383b03f4659413cd07f",
       "version_major": 2,
       "version_minor": 0
      },
      "text/plain": [
       "  0%|          | 0/5469197 [00:00<?, ?it/s]"
      ]
     },
     "metadata": {},
     "output_type": "display_data"
    },
    {
     "data": {
      "application/vnd.jupyter.widget-view+json": {
       "model_id": "88d4a2685c684c06a4ae013cc7081028",
       "version_major": 2,
       "version_minor": 0
      },
      "text/plain": [
       "  0%|          | 0/5469197 [00:00<?, ?it/s]"
      ]
     },
     "metadata": {},
     "output_type": "display_data"
    },
    {
     "data": {
      "application/vnd.jupyter.widget-view+json": {
       "model_id": "3c2fdd3e4c074d6c97da46b66f454fa8",
       "version_major": 2,
       "version_minor": 0
      },
      "text/plain": [
       "  0%|          | 0/5469197 [00:00<?, ?it/s]"
      ]
     },
     "metadata": {},
     "output_type": "display_data"
    },
    {
     "data": {
      "application/vnd.jupyter.widget-view+json": {
       "model_id": "4844f7f0fc8c49849d0eac281f6f3c6f",
       "version_major": 2,
       "version_minor": 0
      },
      "text/plain": [
       "  0%|          | 0/5469197 [00:00<?, ?it/s]"
      ]
     },
     "metadata": {},
     "output_type": "display_data"
    },
    {
     "data": {
      "application/vnd.jupyter.widget-view+json": {
       "model_id": "fcbbb3015082496abcb474b014668181",
       "version_major": 2,
       "version_minor": 0
      },
      "text/plain": [
       "  0%|          | 0/5469197 [00:00<?, ?it/s]"
      ]
     },
     "metadata": {},
     "output_type": "display_data"
    },
    {
     "data": {
      "application/vnd.jupyter.widget-view+json": {
       "model_id": "86f6aa318c1a434893f084c04fc8cc02",
       "version_major": 2,
       "version_minor": 0
      },
      "text/plain": [
       "  0%|          | 0/5469197 [00:00<?, ?it/s]"
      ]
     },
     "metadata": {},
     "output_type": "display_data"
    },
    {
     "data": {
      "application/vnd.jupyter.widget-view+json": {
       "model_id": "a03dac6e97144d3bac97411fd3cc58e7",
       "version_major": 2,
       "version_minor": 0
      },
      "text/plain": [
       "  0%|          | 0/5469197 [00:00<?, ?it/s]"
      ]
     },
     "metadata": {},
     "output_type": "display_data"
    },
    {
     "data": {
      "application/vnd.jupyter.widget-view+json": {
       "model_id": "d1de2075133643c080e392eb7adbea17",
       "version_major": 2,
       "version_minor": 0
      },
      "text/plain": [
       "  0%|          | 0/5469197 [00:00<?, ?it/s]"
      ]
     },
     "metadata": {},
     "output_type": "display_data"
    },
    {
     "data": {
      "application/vnd.jupyter.widget-view+json": {
       "model_id": "f394f1f82e8b4bad81c10864f7833017",
       "version_major": 2,
       "version_minor": 0
      },
      "text/plain": [
       "  0%|          | 0/5469197 [00:00<?, ?it/s]"
      ]
     },
     "metadata": {},
     "output_type": "display_data"
    },
    {
     "data": {
      "application/vnd.jupyter.widget-view+json": {
       "model_id": "e96415780c5545b68ade5a59075b656c",
       "version_major": 2,
       "version_minor": 0
      },
      "text/plain": [
       "  0%|          | 0/5469197 [00:00<?, ?it/s]"
      ]
     },
     "metadata": {},
     "output_type": "display_data"
    },
    {
     "data": {
      "application/vnd.jupyter.widget-view+json": {
       "model_id": "75e4b308767448ed86a6aa9ef211ca4f",
       "version_major": 2,
       "version_minor": 0
      },
      "text/plain": [
       "  0%|          | 0/5469197 [00:00<?, ?it/s]"
      ]
     },
     "metadata": {},
     "output_type": "display_data"
    },
    {
     "data": {
      "application/vnd.jupyter.widget-view+json": {
       "model_id": "945db5b9ff67491ab1a0982d5baec9d6",
       "version_major": 2,
       "version_minor": 0
      },
      "text/plain": [
       "  0%|          | 0/5469197 [00:00<?, ?it/s]"
      ]
     },
     "metadata": {},
     "output_type": "display_data"
    },
    {
     "data": {
      "application/vnd.jupyter.widget-view+json": {
       "model_id": "936900c9747d4ef4800264c91cea5404",
       "version_major": 2,
       "version_minor": 0
      },
      "text/plain": [
       "  0%|          | 0/5469197 [00:00<?, ?it/s]"
      ]
     },
     "metadata": {},
     "output_type": "display_data"
    },
    {
     "data": {
      "application/vnd.jupyter.widget-view+json": {
       "model_id": "521233fdea704623a3318164bafcf29b",
       "version_major": 2,
       "version_minor": 0
      },
      "text/plain": [
       "  0%|          | 0/5469197 [00:00<?, ?it/s]"
      ]
     },
     "metadata": {},
     "output_type": "display_data"
    },
    {
     "data": {
      "application/vnd.jupyter.widget-view+json": {
       "model_id": "f3ba54d1cf334264b11b8e0ea0a806ec",
       "version_major": 2,
       "version_minor": 0
      },
      "text/plain": [
       "  0%|          | 0/5469197 [00:00<?, ?it/s]"
      ]
     },
     "metadata": {},
     "output_type": "display_data"
    },
    {
     "data": {
      "application/vnd.jupyter.widget-view+json": {
       "model_id": "9efb038c7dbe48f59dd597be934e661c",
       "version_major": 2,
       "version_minor": 0
      },
      "text/plain": [
       "  0%|          | 0/5469197 [00:00<?, ?it/s]"
      ]
     },
     "metadata": {},
     "output_type": "display_data"
    },
    {
     "data": {
      "application/vnd.jupyter.widget-view+json": {
       "model_id": "1998bd3eccd64b338da934f08d6e66da",
       "version_major": 2,
       "version_minor": 0
      },
      "text/plain": [
       "  0%|          | 0/5469197 [00:00<?, ?it/s]"
      ]
     },
     "metadata": {},
     "output_type": "display_data"
    },
    {
     "data": {
      "application/vnd.jupyter.widget-view+json": {
       "model_id": "ee1bc576e57c4d40b0fccd65cd248a7c",
       "version_major": 2,
       "version_minor": 0
      },
      "text/plain": [
       "  0%|          | 0/5469197 [00:00<?, ?it/s]"
      ]
     },
     "metadata": {},
     "output_type": "display_data"
    },
    {
     "data": {
      "application/vnd.jupyter.widget-view+json": {
       "model_id": "c6f6c04122de4d3ea1af3c48bf128712",
       "version_major": 2,
       "version_minor": 0
      },
      "text/plain": [
       "  0%|          | 0/5469197 [00:00<?, ?it/s]"
      ]
     },
     "metadata": {},
     "output_type": "display_data"
    },
    {
     "data": {
      "application/vnd.jupyter.widget-view+json": {
       "model_id": "8b4257721cfd45d7a40e9240609c5d13",
       "version_major": 2,
       "version_minor": 0
      },
      "text/plain": [
       "  0%|          | 0/5469197 [00:00<?, ?it/s]"
      ]
     },
     "metadata": {},
     "output_type": "display_data"
    },
    {
     "data": {
      "application/vnd.jupyter.widget-view+json": {
       "model_id": "566a97aadb6b425bbf8673904f3d6282",
       "version_major": 2,
       "version_minor": 0
      },
      "text/plain": [
       "  0%|          | 0/5469197 [00:00<?, ?it/s]"
      ]
     },
     "metadata": {},
     "output_type": "display_data"
    },
    {
     "data": {
      "application/vnd.jupyter.widget-view+json": {
       "model_id": "d7270e491abf4a17aaaeb1c79d90aaa2",
       "version_major": 2,
       "version_minor": 0
      },
      "text/plain": [
       "  0%|          | 0/5469197 [00:00<?, ?it/s]"
      ]
     },
     "metadata": {},
     "output_type": "display_data"
    },
    {
     "data": {
      "application/vnd.jupyter.widget-view+json": {
       "model_id": "2c0a6c2b3d834b468ab85d1cff1931c2",
       "version_major": 2,
       "version_minor": 0
      },
      "text/plain": [
       "  0%|          | 0/5469197 [00:00<?, ?it/s]"
      ]
     },
     "metadata": {},
     "output_type": "display_data"
    },
    {
     "data": {
      "application/vnd.jupyter.widget-view+json": {
       "model_id": "562aa5cf0bbb4b1bba990fa969c49e47",
       "version_major": 2,
       "version_minor": 0
      },
      "text/plain": [
       "  0%|          | 0/5469197 [00:00<?, ?it/s]"
      ]
     },
     "metadata": {},
     "output_type": "display_data"
    },
    {
     "data": {
      "application/vnd.jupyter.widget-view+json": {
       "model_id": "bb33a11433e84e218d90f59f99a5a10e",
       "version_major": 2,
       "version_minor": 0
      },
      "text/plain": [
       "  0%|          | 0/5469197 [00:00<?, ?it/s]"
      ]
     },
     "metadata": {},
     "output_type": "display_data"
    },
    {
     "data": {
      "application/vnd.jupyter.widget-view+json": {
       "model_id": "b2eeb9c07663441e834feac8052caf8e",
       "version_major": 2,
       "version_minor": 0
      },
      "text/plain": [
       "  0%|          | 0/5469197 [00:00<?, ?it/s]"
      ]
     },
     "metadata": {},
     "output_type": "display_data"
    },
    {
     "data": {
      "application/vnd.jupyter.widget-view+json": {
       "model_id": "bc25cead66164e05885de052b5f0c096",
       "version_major": 2,
       "version_minor": 0
      },
      "text/plain": [
       "  0%|          | 0/5469197 [00:00<?, ?it/s]"
      ]
     },
     "metadata": {},
     "output_type": "display_data"
    },
    {
     "data": {
      "application/vnd.jupyter.widget-view+json": {
       "model_id": "d114bdab4deb4b8981c8d56cae9e398d",
       "version_major": 2,
       "version_minor": 0
      },
      "text/plain": [
       "  0%|          | 0/5469197 [00:00<?, ?it/s]"
      ]
     },
     "metadata": {},
     "output_type": "display_data"
    },
    {
     "data": {
      "application/vnd.jupyter.widget-view+json": {
       "model_id": "a48537f173c54b7b92673d5adda534d4",
       "version_major": 2,
       "version_minor": 0
      },
      "text/plain": [
       "  0%|          | 0/5469197 [00:00<?, ?it/s]"
      ]
     },
     "metadata": {},
     "output_type": "display_data"
    },
    {
     "data": {
      "application/vnd.jupyter.widget-view+json": {
       "model_id": "ca92fd1a869b4a76bd4b9bc5238a947c",
       "version_major": 2,
       "version_minor": 0
      },
      "text/plain": [
       "  0%|          | 0/5469197 [00:00<?, ?it/s]"
      ]
     },
     "metadata": {},
     "output_type": "display_data"
    },
    {
     "data": {
      "application/vnd.jupyter.widget-view+json": {
       "model_id": "39738146f7c24bf9bcfd865af221dd55",
       "version_major": 2,
       "version_minor": 0
      },
      "text/plain": [
       "  0%|          | 0/5469197 [00:00<?, ?it/s]"
      ]
     },
     "metadata": {},
     "output_type": "display_data"
    },
    {
     "data": {
      "application/vnd.jupyter.widget-view+json": {
       "model_id": "657ad412ea2f4026b4ddfc53fac364c6",
       "version_major": 2,
       "version_minor": 0
      },
      "text/plain": [
       "  0%|          | 0/5469197 [00:00<?, ?it/s]"
      ]
     },
     "metadata": {},
     "output_type": "display_data"
    },
    {
     "data": {
      "application/vnd.jupyter.widget-view+json": {
       "model_id": "80e4c58d3add44fa84f38ba02b1e43ec",
       "version_major": 2,
       "version_minor": 0
      },
      "text/plain": [
       "  0%|          | 0/5469197 [00:00<?, ?it/s]"
      ]
     },
     "metadata": {},
     "output_type": "display_data"
    },
    {
     "data": {
      "application/vnd.jupyter.widget-view+json": {
       "model_id": "2659769385604e1192e272594216e382",
       "version_major": 2,
       "version_minor": 0
      },
      "text/plain": [
       "  0%|          | 0/5469197 [00:00<?, ?it/s]"
      ]
     },
     "metadata": {},
     "output_type": "display_data"
    },
    {
     "data": {
      "application/vnd.jupyter.widget-view+json": {
       "model_id": "da687415c0084823a3c20b9723e85090",
       "version_major": 2,
       "version_minor": 0
      },
      "text/plain": [
       "  0%|          | 0/5469197 [00:00<?, ?it/s]"
      ]
     },
     "metadata": {},
     "output_type": "display_data"
    },
    {
     "data": {
      "application/vnd.jupyter.widget-view+json": {
       "model_id": "effb666eb9db4c0fae37e9291aa9fdaf",
       "version_major": 2,
       "version_minor": 0
      },
      "text/plain": [
       "  0%|          | 0/5469197 [00:00<?, ?it/s]"
      ]
     },
     "metadata": {},
     "output_type": "display_data"
    },
    {
     "data": {
      "application/vnd.jupyter.widget-view+json": {
       "model_id": "a7d6ca6efeb34d719f37426f04b1a2e2",
       "version_major": 2,
       "version_minor": 0
      },
      "text/plain": [
       "  0%|          | 0/5469197 [00:00<?, ?it/s]"
      ]
     },
     "metadata": {},
     "output_type": "display_data"
    },
    {
     "data": {
      "application/vnd.jupyter.widget-view+json": {
       "model_id": "02c665230cb54150bc4d70c4c14ee238",
       "version_major": 2,
       "version_minor": 0
      },
      "text/plain": [
       "  0%|          | 0/5469197 [00:00<?, ?it/s]"
      ]
     },
     "metadata": {},
     "output_type": "display_data"
    },
    {
     "data": {
      "application/vnd.jupyter.widget-view+json": {
       "model_id": "89d997a7876e42a7a9f1f8e4fadd7dbc",
       "version_major": 2,
       "version_minor": 0
      },
      "text/plain": [
       "  0%|          | 0/5469197 [00:00<?, ?it/s]"
      ]
     },
     "metadata": {},
     "output_type": "display_data"
    },
    {
     "data": {
      "application/vnd.jupyter.widget-view+json": {
       "model_id": "a69240eed29247e4b26f6a7c8eccaa73",
       "version_major": 2,
       "version_minor": 0
      },
      "text/plain": [
       "  0%|          | 0/5469197 [00:00<?, ?it/s]"
      ]
     },
     "metadata": {},
     "output_type": "display_data"
    },
    {
     "data": {
      "application/vnd.jupyter.widget-view+json": {
       "model_id": "4c8cee089e26477b821e41606a228225",
       "version_major": 2,
       "version_minor": 0
      },
      "text/plain": [
       "  0%|          | 0/5469197 [00:00<?, ?it/s]"
      ]
     },
     "metadata": {},
     "output_type": "display_data"
    },
    {
     "data": {
      "application/vnd.jupyter.widget-view+json": {
       "model_id": "19594f732bf843a5a8eece761866dd7a",
       "version_major": 2,
       "version_minor": 0
      },
      "text/plain": [
       "  0%|          | 0/5469197 [00:00<?, ?it/s]"
      ]
     },
     "metadata": {},
     "output_type": "display_data"
    },
    {
     "data": {
      "application/vnd.jupyter.widget-view+json": {
       "model_id": "68c737363e2a448b9aefdd7b5044d282",
       "version_major": 2,
       "version_minor": 0
      },
      "text/plain": [
       "  0%|          | 0/5469197 [00:00<?, ?it/s]"
      ]
     },
     "metadata": {},
     "output_type": "display_data"
    },
    {
     "data": {
      "application/vnd.jupyter.widget-view+json": {
       "model_id": "b177258d8a72427dbcfe40b87a554667",
       "version_major": 2,
       "version_minor": 0
      },
      "text/plain": [
       "  0%|          | 0/5469197 [00:00<?, ?it/s]"
      ]
     },
     "metadata": {},
     "output_type": "display_data"
    },
    {
     "data": {
      "application/vnd.jupyter.widget-view+json": {
       "model_id": "47822b46622442ffa0b0e28afa784a4c",
       "version_major": 2,
       "version_minor": 0
      },
      "text/plain": [
       "  0%|          | 0/5469197 [00:00<?, ?it/s]"
      ]
     },
     "metadata": {},
     "output_type": "display_data"
    },
    {
     "data": {
      "application/vnd.jupyter.widget-view+json": {
       "model_id": "a1718294239d4b9eb8b1d49675557621",
       "version_major": 2,
       "version_minor": 0
      },
      "text/plain": [
       "  0%|          | 0/5469197 [00:00<?, ?it/s]"
      ]
     },
     "metadata": {},
     "output_type": "display_data"
    },
    {
     "data": {
      "application/vnd.jupyter.widget-view+json": {
       "model_id": "d285af81d52f4e37a15196363b0565b3",
       "version_major": 2,
       "version_minor": 0
      },
      "text/plain": [
       "  0%|          | 0/5469197 [00:00<?, ?it/s]"
      ]
     },
     "metadata": {},
     "output_type": "display_data"
    },
    {
     "data": {
      "application/vnd.jupyter.widget-view+json": {
       "model_id": "50349096bb6f41b593758ef6a49dec95",
       "version_major": 2,
       "version_minor": 0
      },
      "text/plain": [
       "  0%|          | 0/5469197 [00:00<?, ?it/s]"
      ]
     },
     "metadata": {},
     "output_type": "display_data"
    }
   ],
   "source": [
    "data = df.copy(deep=True)\n",
    "progresso = 0\n",
    "best_sps=[]\n",
    "delta_sps = []\n",
    "\n",
    "for iring in tqdm(range(100)):\n",
    "    #               |\n",
    "    # alterado no v8.1/2\n",
    "    #sp_vector = []\n",
    "    add_tuning_decision_removing_a_ring(df=data, tuning_path=tuning_path, config_dict=conf, ring_id=iring)\n",
    "    data['L2Calo_ring_%i' %(iring)]=df['L2Calo_ring_%i' %(iring)]\n",
    "\n",
    "    nn_decision_col = data.loc[:,'nn_decision_%s_%s_removing_%i'%(conf['__operation__'].lower(),conf['__version__'], iring)]\n",
    "    nn_output_col = data.loc[:,'nn_output_%s_%s_removing_%i'%(conf['__operation__'].lower(),conf['__version__'], iring)]\n",
    "    #el_lh_col = df.loc[:,'el_lh%s'%(conf['__operation__'].lower())]\n",
    "    decision_jet = []\n",
    "    decision_ee = []\n",
    "\n",
    "    for irow in tqdm(range(len(nn_output_col)), leave=False):\n",
    "        if nn_decision_col[irow] == 1:\n",
    "            decision_ee += [nn_output_col[irow]]\n",
    "        else:\n",
    "            decision_jet += [nn_output_col[irow]]\n",
    "\n",
    "    #possible_thresholds = np.linspace(-1,1,100)\n",
    "    #for est_threshold in list(possible_thresholds):\n",
    "    #    sp_local = calculate_sp(decision_jet, decision_ee, est_threshold)\n",
    "    #    sp_vector += [sp_local]\n",
    "    #    progresso += 1/100/100\n",
    "    #    update_progress(progresso)\n",
    "    #best_sps += [sp_vector[np.argmax(sp_vector)]]\n",
    "    #delta_sps+=[parameter-sp_vector[np.argmax(sp_vector)]]\n",
    "\n",
    "    sp_local = calculate_sp(decision_jet, decision_ee, threshold)\n",
    "    best_sps += [sp_local]\n",
    "    delta_sps += [parameter-sp_local]\n",
    "    #progresso += 1/100\n",
    "    #update_progress(progresso)\n"
   ]
  },
  {
   "cell_type": "code",
   "execution_count": 23,
   "metadata": {},
   "outputs": [
    {
     "data": {
      "text/plain": [
       "[-0.09844539298425993,\n",
       " -0.27282360692789603,\n",
       " -0.08963537482584537,\n",
       " -0.08888505883685507,\n",
       " -0.05345901611154822,\n",
       " -0.023865068160477045,\n",
       " -0.042927314420536954,\n",
       " -0.0035339650413423744,\n",
       " -0.3852245828170167,\n",
       " 1.3965354077935892,\n",
       " 2.588764662837051,\n",
       " 100.0,\n",
       " -0.3282363686845906,\n",
       " 0.8672396445694792,\n",
       " -1.5722086805914703,\n",
       " -1.228133167741029,\n",
       " -0.20914680251715756,\n",
       " -2.7669022528822165,\n",
       " -2.1034731463448835,\n",
       " -0.8040597163476902,\n",
       " -1.7292146704397289,\n",
       " -1.664769173210716,\n",
       " -1.1193012806415206,\n",
       " -1.3725721901119072,\n",
       " -0.9384955021308594,\n",
       " -0.7926478896013993,\n",
       " -0.2761774048213682,\n",
       " -0.4085581069013172,\n",
       " -0.6234807614206962,\n",
       " -0.26631054816230193,\n",
       " -0.06433940412428832,\n",
       " -0.07373605553985577,\n",
       " -0.23018227419416665,\n",
       " -0.17931390833210292,\n",
       " 0.24980322895170243,\n",
       " -0.03555389029319178,\n",
       " -0.06488005287662953,\n",
       " 0.34286723236809974,\n",
       " -0.0756551186269652,\n",
       " -0.029422647832618408,\n",
       " -0.06455962830681307,\n",
       " -0.12146263494506451,\n",
       " -0.09846430050092399,\n",
       " 0.17843916262390044,\n",
       " -0.15829100223951076,\n",
       " -0.05592598422810803,\n",
       " -0.0692379572311031,\n",
       " -0.05352940276342342,\n",
       " 0.23017863239791983,\n",
       " -0.10941396994278585,\n",
       " 0.05315186804313168,\n",
       " -0.019403249649188065,\n",
       " 0.07052399717268634,\n",
       " -0.09723484684444633,\n",
       " -0.04378956204306759,\n",
       " -0.011850991454283947,\n",
       " 0.14314991395915408,\n",
       " -0.03883311341829554,\n",
       " -0.11036244042358233,\n",
       " 0.010768211616170567,\n",
       " -0.039658574317411426,\n",
       " -0.07683351576306567,\n",
       " 0.008492464676639791,\n",
       " -0.10422749477397193,\n",
       " -0.0453365473214975,\n",
       " 0.005891932432736629,\n",
       " 0.07578851848486096,\n",
       " 0.0048625233209103145,\n",
       " -0.03715811075145367,\n",
       " 0.07382931549943653,\n",
       " -0.00354343406772379,\n",
       " -0.024403392534254182,\n",
       " 10.64763736636986,\n",
       " 1.4434211567263207,\n",
       " 18.520681531378226,\n",
       " 5.436969612711389,\n",
       " -2.831149803799737,\n",
       " -2.15765105863861,\n",
       " -1.3216141175357945,\n",
       " -0.9425747790802513,\n",
       " -2.03878646061168,\n",
       " -2.533969849165908,\n",
       " -1.3164314598298497,\n",
       " -0.7617018037870846,\n",
       " -0.34577635473925067,\n",
       " -0.11880754631908635,\n",
       " -0.09238681679764682,\n",
       " 0.040487739720022,\n",
       " 47.72717831155499,\n",
       " 28.978115770153153,\n",
       " -0.7661672157671656,\n",
       " 1.5902958275169465,\n",
       " 6.676794232038412,\n",
       " -0.8389102325256165,\n",
       " -0.9457896718765747,\n",
       " 2.3890593427677245,\n",
       " -0.07664914341503089,\n",
       " -0.4364818288647125,\n",
       " 0.0012173302316980943,\n",
       " -0.07844881004463956]"
      ]
     },
     "execution_count": 23,
     "metadata": {},
     "output_type": "execute_result"
    }
   ],
   "source": [
    "norm_sps = []\n",
    "abs_delta_sps=[]\n",
    "for iring in range(len(delta_sps)):\n",
    "    abs_delta_sps += [np.abs(delta_sps[iring])]\n",
    "\n",
    "max_abs_sp = abs_delta_sps[np.argmax(abs_delta_sps)]\n",
    "max_sp = delta_sps[np.argmax(abs_delta_sps)]\n",
    "\n",
    "for iring in range(len(delta_sps)):\n",
    "    norm_sps += [delta_sps[iring]/max_abs_sp*100]\n",
    "\n",
    "norm_sps"
   ]
  },
  {
   "cell_type": "code",
   "execution_count": 54,
   "metadata": {},
   "outputs": [],
   "source": [
    "sps = {'best':best_sps, 'delta':delta_sps, 'norm':norm_sps}\n",
    "\n",
    "with open(\"sp_lists_zee.json\", \"w\") as fp:\n",
    "    json.dump(sps,fp)"
   ]
  },
  {
   "cell_type": "code",
   "execution_count": null,
   "metadata": {},
   "outputs": [],
   "source": [
    "with open(\"sp_lists_zee.json\", \"r\") as fp:\n",
    "    sps = json.load(fp)\n",
    "    \n",
    "best_sps=sps['best']\n",
    "delta_sps=sps['delta']\n",
    "norm_sps=sps['norm']"
   ]
  },
  {
   "cell_type": "code",
   "execution_count": 50,
   "metadata": {},
   "outputs": [
    {
     "data": {
      "image/png": "[encoded data removed]",
      "text/plain": [
       "<Figure size 1332x756 with 1 Axes>"
      ]
     },
     "metadata": {},
     "output_type": "display_data"
    }
   ],
   "source": [
    "fig, ax = plt.subplots()\n",
    "fig.set_size_inches(18.5, 10.5)\n",
    "fig.patch.set_facecolor('white')\n",
    "plt.rc('font', size=8)\n",
    "plt.rc('xtick', labelsize=25, color='black')\n",
    "plt.rc('ytick', labelsize=25, color='black')\n",
    "ax.bar(0, parameter, color='red', label='Parameter')\n",
    "ax.bar(range(1,101), best_sps, label='Ring\\'s replacement SP')\n",
    "#               |\n",
    "#        alterado no v8.1/2\n",
    "#               |\n",
    "ax.bar(range(1,101), delta_sps, label='Relevance')\n",
    "ax.xaxis.set_major_locator(plt.MultipleLocator(8))\n",
    "ax.legend(loc='center right', prop={'size': 17})\n",
    "\n",
    "plt.savefig('Relevance_full_data17_lhmedium_et4_eta0.png')\n",
    "plt.savefig('Relevance_full_data17_lhmedium_et4_eta0.pdf')\n",
    "\n",
    "plt.show()"
   ]
  },
  {
   "cell_type": "code",
   "execution_count": 48,
   "metadata": {},
   "outputs": [
    {
     "data": {
      "image/png": "[encoded data removed]",
      "text/plain": [
       "<Figure size 1332x756 with 1 Axes>"
      ]
     },
     "metadata": {},
     "output_type": "display_data"
    }
   ],
   "source": [
    "fig, ax = plt.subplots()\n",
    "fig.set_size_inches(18.5, 10.5)\n",
    "bars = plt.bar(range(1,101), norm_sps, label='Contributing rings')\n",
    "#                       |\n",
    "#               alterado no v8.1/2\n",
    "plt.bar(1,0, label='Confusing rings', color='red')\n",
    "plt.legend(prop={'size': 17})\n",
    "ax.xaxis.set_major_locator(plt.MultipleLocator(8))\n",
    "for bar in range(100):\n",
    "#                 |\n",
    "#        alterado no v8.1/2\n",
    "    if delta_sps[bar]<0:\n",
    "        bars[bar].set_fc('red')\n",
    "\n",
    "xcoords = [8+.5,8+64+.5, 8+64+8+.5, 8+64+8+8+.5, 8+64+8+8+4+.5, 8+64+8+8+4+4+.5, 100+.5]\n",
    "colors = ['black' for i in range(len(xcoords))]\n",
    "\n",
    "for xc,c in zip(xcoords, colors):\n",
    "    plt.axvline(x=xc, c=c, ls='--')\n",
    "\n",
    "if max_sp > 0:\n",
    "    where = 100\n",
    "else:\n",
    "    where = -100\n",
    "\n",
    "fig.patch.set_facecolor('white')\n",
    "plt.text(69, where, 'EM1', size=12)\n",
    "plt.text(77, where, 'EM2', size=12)\n",
    "plt.text(85, where, 'EM3', size=12)\n",
    "plt.text(89, where, 'Had1', size=12)\n",
    "plt.text(93, where, 'Had2', size=12)\n",
    "plt.text(97, where, 'Had3', size=12)\n",
    "plt.xlabel('Rings', color='black', size=18)\n",
    "plt.ylabel('Relevance (%)', color='black', size=18)\n",
    "\n",
    "plt.text(20, 80, 'Relevance for el_lh %s' %(conf['__operation__'].lower()), size = 18)\n",
    "\n",
    "plt.xlim(left=0, right=100)\n",
    "\n",
    "plt.savefig('Relevance_data17_lhmedium_et4_eta0.png')\n",
    "plt.savefig('Relevance_data17_lhmedium_et4_eta0.pdf')\n",
    "\n",
    "plt.show()"
   ]
  },
  {
   "cell_type": "code",
   "execution_count": 49,
   "metadata": {},
   "outputs": [
    {
     "name": "stdout",
     "output_type": "stream",
     "text": [
      "End of script\n"
     ]
    }
   ],
   "source": [
    "print('End of script')"
   ]
  },
  {
   "cell_type": "code",
   "execution_count": null,
   "metadata": {},
   "outputs": [],
   "source": []
  }
 ],
 "metadata": {
  "interpreter": {
   "hash": "6f5959028f415ff70a4208433b2cf5d6f203649b0b7d0120e584c6c6b4b068e3"
  },
  "kernelspec": {
   "display_name": "Python 3 (ipykernel)",
   "language": "python",
   "name": "python3"
  },
  "language_info": {
   "codemirror_mode": {
    "name": "ipython",
    "version": 3
   },
   "file_extension": ".py",
   "mimetype": "text/x-python",
   "name": "python",
   "nbconvert_exporter": "python",
   "pygments_lexer": "ipython3",
   "version": "3.6.9"
  }
 },
 "nbformat": 4,
 "nbformat_minor": 4
}
