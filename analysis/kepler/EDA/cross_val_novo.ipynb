{
 "cells": [
  {
   "cell_type": "code",
   "execution_count": 1,
   "id": "attached-compensation",
   "metadata": {},
   "outputs": [
    {
     "name": "stdout",
     "output_type": "stream",
     "text": [
      "Welcome to JupyROOT 6.16/00\n",
      "Using all sub packages with ROOT dependence\n"
     ]
    }
   ],
   "source": [
    "import os\n",
    "import collections\n",
    "\n",
    "import itertools\n",
    "import numpy as np\n",
    "import pandas as pd \n",
    "import seaborn as sns\n",
    "import matplotlib.pyplot as plt\n",
    "\n",
    "from kolmov import crossval_table, get_color_fader"
   ]
  },
  {
   "cell_type": "markdown",
   "id": "handmade-causing",
   "metadata": {},
   "source": [
    "## Create a dictionary\n",
    "\n",
    "Since the output of saphyra is like a dictionary we need to navigate on and get all information.\n",
    "\n",
    "kolmov has a class called crossval_table which allow us to get this information and tranform into a pandas Dataframe.\n",
    "\n",
    "The first thing to do is define a OrderedDict to access all information inside of saphyra tuned file."
   ]
  },
  {
   "cell_type": "code",
   "execution_count": 2,
   "id": "peaceful-government",
   "metadata": {},
   "outputs": [],
   "source": [
    "def create_op_dict(op):\n",
    "    d = {\n",
    "              op+'_pd_ref'    : \"reference/\"+op+\"_cutbased/pd_ref#0\",\n",
    "              op+'_fa_ref'    : \"reference/\"+op+\"_cutbased/fa_ref#0\",\n",
    "              op+'_sp_ref'    : \"reference/\"+op+\"_cutbased/sp_ref\",\n",
    "              op+'_pd_val'    : \"reference/\"+op+\"_cutbased/pd_val#0\",\n",
    "              op+'_fa_val'    : \"reference/\"+op+\"_cutbased/fa_val#0\",\n",
    "              op+'_sp_val'    : \"reference/\"+op+\"_cutbased/sp_val\",\n",
    "              op+'_pd_op'     : \"reference/\"+op+\"_cutbased/pd_op#0\",\n",
    "              op+'_fa_op'     : \"reference/\"+op+\"_cutbased/fa_op#0\",\n",
    "              op+'_sp_op'     : \"reference/\"+op+\"_cutbased/sp_op\",\n",
    "\n",
    "              # Counts\n",
    "              op+'_pd_ref_passed'    : \"reference/\"+op+\"_cutbased/pd_ref#1\",\n",
    "              op+'_fa_ref_passed'    : \"reference/\"+op+\"_cutbased/fa_ref#1\",\n",
    "              op+'_pd_ref_total'     : \"reference/\"+op+\"_cutbased/pd_ref#2\",\n",
    "              op+'_fa_ref_total'     : \"reference/\"+op+\"_cutbased/fa_ref#2\",\n",
    "              op+'_pd_val_passed'    : \"reference/\"+op+\"_cutbased/pd_val#1\",\n",
    "              op+'_fa_val_passed'    : \"reference/\"+op+\"_cutbased/fa_val#1\",\n",
    "              op+'_pd_val_total'     : \"reference/\"+op+\"_cutbased/pd_val#2\",\n",
    "              op+'_fa_val_total'     : \"reference/\"+op+\"_cutbased/fa_val#2\",\n",
    "              op+'_pd_op_passed'     : \"reference/\"+op+\"_cutbased/pd_op#1\",\n",
    "              op+'_fa_op_passed'     : \"reference/\"+op+\"_cutbased/fa_op#1\",\n",
    "              op+'_pd_op_total'      : \"reference/\"+op+\"_cutbased/pd_op#2\",\n",
    "              op+'_fa_op_total'      : \"reference/\"+op+\"_cutbased/fa_op#2\",\n",
    "    }\n",
    "    return d\n",
    "\n",
    "tuned_info = collections.OrderedDict( {\n",
    "              # validation\n",
    "              \"max_sp_val\"      : 'summary/max_sp_val',\n",
    "              \"max_sp_pd_val\"   : 'summary/max_sp_pd_val#0',\n",
    "              \"max_sp_fa_val\"   : 'summary/max_sp_fa_val#0',\n",
    "              # Operation\n",
    "              \"max_sp_op\"       : 'summary/max_sp_op',\n",
    "              \"max_sp_pd_op\"    : 'summary/max_sp_pd_op#0',\n",
    "              \"max_sp_fa_op\"    : 'summary/max_sp_fa_op#0',\n",
    "              } )\n",
    "\n",
    "tuned_info.update(create_op_dict('tight'))\n",
    "tuned_info.update(create_op_dict('medium'))\n",
    "tuned_info.update(create_op_dict('loose'))\n",
    "tuned_info.update(create_op_dict('vloose'))"
   ]
  },
  {
   "cell_type": "code",
   "execution_count": 6,
   "id": "special-mentor",
   "metadata": {},
   "outputs": [],
   "source": [
    "etbins  = [4, 7, 10, 15]\n",
    "etabins = [0.0, 0.8, 1.37, 1.54, 2.37, 2.47]\n",
    "\n",
    "tunes_path    = \"/home/natmourajr/Workspace/CERN/CERN-ATLAS-Qualify/tunings\"\n",
    "analysis_path = \"/home/natmourajr/Workspace/CERN/CERN-ATLAS-Qualify/tunings\""
   ]
  },
  {
   "cell_type": "markdown",
   "id": "liable-bouquet",
   "metadata": {},
   "source": [
    "## Initialize the crossval_table object\n",
    "\n",
    "In this step we initialiaze the crossval_table object and fill with data from our training."
   ]
  },
  {
   "cell_type": "code",
   "execution_count": 7,
   "id": "tough-toyota",
   "metadata": {},
   "outputs": [
    {
     "name": "stdout",
     "output_type": "stream",
     "text": [
      "2021-09-26 23:38:57,332 | Py.crossval_table                       INFO Reading file for v1.r1 tag from /home/natmourajr/Workspace/CERN/CERN-ATLAS-Qualify/tunings/v1/r1/*/*/*.pic.gz\n",
      "2021-09-26 23:38:57,332 | Py.crossval_table                       INFO There are 0 files for this task...\n",
      "2021-09-26 23:38:57,332 | Py.crossval_table                       INFO Filling the table... \n",
      "2021-09-26 23:38:57,345 | Py.crossval_table                       INFO End of fill step, a pandas DataFrame was created...\n"
     ]
    }
   ],
   "source": [
    "m_cv = crossval_table( tuned_info, etbins = etbins , etabins = etabins )\n",
    "#m_cv.fill( os.path.join(tunes_path, 'v1/r0/*/*/*pic.gz'), 'v1.r0')\n",
    "m_cv.fill( os.path.join(tunes_path, 'v1/r1/*/*/*.pic.gz'), 'v1.r1')"
   ]
  },
  {
   "cell_type": "code",
   "execution_count": 8,
   "id": "quantitative-helicopter",
   "metadata": {},
   "outputs": [
    {
     "name": "stdout",
     "output_type": "stream",
     "text": [
      "0\n"
     ]
    },
    {
     "data": {
      "text/html": [
       "<div>\n",
       "<style scoped>\n",
       "    .dataframe tbody tr th:only-of-type {\n",
       "        vertical-align: middle;\n",
       "    }\n",
       "\n",
       "    .dataframe tbody tr th {\n",
       "        vertical-align: top;\n",
       "    }\n",
       "\n",
       "    .dataframe thead th {\n",
       "        text-align: right;\n",
       "    }\n",
       "</style>\n",
       "<table border=\"1\" class=\"dataframe\">\n",
       "  <thead>\n",
       "    <tr style=\"text-align: right;\">\n",
       "      <th></th>\n",
       "      <th>train_tag</th>\n",
       "      <th>et_bin</th>\n",
       "      <th>eta_bin</th>\n",
       "      <th>model_idx</th>\n",
       "      <th>sort</th>\n",
       "      <th>init</th>\n",
       "      <th>file_name</th>\n",
       "      <th>tuned_idx</th>\n",
       "      <th>max_sp_val</th>\n",
       "      <th>max_sp_pd_val</th>\n",
       "      <th>...</th>\n",
       "      <th>vloose_pd_ref_total</th>\n",
       "      <th>vloose_fa_ref_total</th>\n",
       "      <th>vloose_pd_val_passed</th>\n",
       "      <th>vloose_fa_val_passed</th>\n",
       "      <th>vloose_pd_val_total</th>\n",
       "      <th>vloose_fa_val_total</th>\n",
       "      <th>vloose_pd_op_passed</th>\n",
       "      <th>vloose_fa_op_passed</th>\n",
       "      <th>vloose_pd_op_total</th>\n",
       "      <th>vloose_fa_op_total</th>\n",
       "    </tr>\n",
       "  </thead>\n",
       "  <tbody>\n",
       "  </tbody>\n",
       "</table>\n",
       "<p>0 rows × 98 columns</p>\n",
       "</div>"
      ],
      "text/plain": [
       "Empty DataFrame\n",
       "Columns: [train_tag, et_bin, eta_bin, model_idx, sort, init, file_name, tuned_idx, max_sp_val, max_sp_pd_val, max_sp_fa_val, max_sp_op, max_sp_pd_op, max_sp_fa_op, tight_pd_ref, tight_fa_ref, tight_sp_ref, tight_pd_val, tight_fa_val, tight_sp_val, tight_pd_op, tight_fa_op, tight_sp_op, tight_pd_ref_passed, tight_fa_ref_passed, tight_pd_ref_total, tight_fa_ref_total, tight_pd_val_passed, tight_fa_val_passed, tight_pd_val_total, tight_fa_val_total, tight_pd_op_passed, tight_fa_op_passed, tight_pd_op_total, tight_fa_op_total, medium_pd_ref, medium_fa_ref, medium_sp_ref, medium_pd_val, medium_fa_val, medium_sp_val, medium_pd_op, medium_fa_op, medium_sp_op, medium_pd_ref_passed, medium_fa_ref_passed, medium_pd_ref_total, medium_fa_ref_total, medium_pd_val_passed, medium_fa_val_passed, medium_pd_val_total, medium_fa_val_total, medium_pd_op_passed, medium_fa_op_passed, medium_pd_op_total, medium_fa_op_total, loose_pd_ref, loose_fa_ref, loose_sp_ref, loose_pd_val, loose_fa_val, loose_sp_val, loose_pd_op, loose_fa_op, loose_sp_op, loose_pd_ref_passed, loose_fa_ref_passed, loose_pd_ref_total, loose_fa_ref_total, loose_pd_val_passed, loose_fa_val_passed, loose_pd_val_total, loose_fa_val_total, loose_pd_op_passed, loose_fa_op_passed, loose_pd_op_total, loose_fa_op_total, vloose_pd_ref, vloose_fa_ref, vloose_sp_ref, vloose_pd_val, vloose_fa_val, vloose_sp_val, vloose_pd_op, vloose_fa_op, vloose_sp_op, vloose_pd_ref_passed, vloose_fa_ref_passed, vloose_pd_ref_total, vloose_fa_ref_total, vloose_pd_val_passed, vloose_fa_val_passed, vloose_pd_val_total, vloose_fa_val_total, vloose_pd_op_passed, vloose_fa_op_passed, vloose_pd_op_total, vloose_fa_op_total]\n",
       "Index: []\n",
       "\n",
       "[0 rows x 98 columns]"
      ]
     },
     "execution_count": 8,
     "metadata": {},
     "output_type": "execute_result"
    }
   ],
   "source": [
    "best_inits = m_cv.filter_inits(\"max_sp_val\")\n",
    "print(len(best_inits))\n",
    "best_inits.head()"
   ]
  },
  {
   "cell_type": "code",
   "execution_count": 6,
   "id": "tamil-walter",
   "metadata": {},
   "outputs": [],
   "source": [
    "n_min, n_max = 2, 20\n",
    "model_add_tag = { idx : '.mlp%i' %(neuron) for idx, neuron in enumerate(range(n_min, n_max +1))}\n",
    "# add a sufix in train_tag\n",
    "best_inits.train_tag = best_inits.train_tag + best_inits.model_idx.replace(model_add_tag)"
   ]
  },
  {
   "cell_type": "code",
   "execution_count": 7,
   "id": "experienced-blanket",
   "metadata": {},
   "outputs": [
    {
     "data": {
      "text/plain": [
       "array([ 0,  1,  2,  3,  4,  5,  6,  7,  8,  9, 10, 11, 12, 13, 14, 15, 16,\n",
       "       17, 18])"
      ]
     },
     "execution_count": 7,
     "metadata": {},
     "output_type": "execute_result"
    }
   ],
   "source": [
    "best_inits.model_idx.unique()"
   ]
  },
  {
   "cell_type": "code",
   "execution_count": 8,
   "id": "protecting-marathon",
   "metadata": {},
   "outputs": [
    {
     "data": {
      "text/plain": [
       "2850"
      ]
     },
     "execution_count": 8,
     "metadata": {},
     "output_type": "execute_result"
    }
   ],
   "source": [
    "10*len(best_inits.model_idx.unique())*15"
   ]
  },
  {
   "cell_type": "code",
   "execution_count": 9,
   "id": "western-marking",
   "metadata": {},
   "outputs": [
    {
     "data": {
      "text/html": [
       "<div>\n",
       "<style scoped>\n",
       "    .dataframe tbody tr th:only-of-type {\n",
       "        vertical-align: middle;\n",
       "    }\n",
       "\n",
       "    .dataframe tbody tr th {\n",
       "        vertical-align: top;\n",
       "    }\n",
       "\n",
       "    .dataframe thead th {\n",
       "        text-align: right;\n",
       "    }\n",
       "</style>\n",
       "<table border=\"1\" class=\"dataframe\">\n",
       "  <thead>\n",
       "    <tr style=\"text-align: right;\">\n",
       "      <th></th>\n",
       "      <th>train_tag</th>\n",
       "      <th>et_bin</th>\n",
       "      <th>eta_bin</th>\n",
       "      <th>model_idx</th>\n",
       "      <th>sort</th>\n",
       "      <th>init</th>\n",
       "      <th>file_name</th>\n",
       "      <th>tuned_idx</th>\n",
       "      <th>max_sp_val</th>\n",
       "      <th>max_sp_pd_val</th>\n",
       "      <th>...</th>\n",
       "      <th>vloose_pd_ref_total</th>\n",
       "      <th>vloose_fa_ref_total</th>\n",
       "      <th>vloose_pd_val_passed</th>\n",
       "      <th>vloose_fa_val_passed</th>\n",
       "      <th>vloose_pd_val_total</th>\n",
       "      <th>vloose_fa_val_total</th>\n",
       "      <th>vloose_pd_op_passed</th>\n",
       "      <th>vloose_fa_op_passed</th>\n",
       "      <th>vloose_pd_op_total</th>\n",
       "      <th>vloose_fa_op_total</th>\n",
       "    </tr>\n",
       "  </thead>\n",
       "  <tbody>\n",
       "    <tr>\n",
       "      <th>1901</th>\n",
       "      <td>v1.r1.mlp2</td>\n",
       "      <td>0</td>\n",
       "      <td>0</td>\n",
       "      <td>0</td>\n",
       "      <td>0</td>\n",
       "      <td>1</td>\n",
       "      <td>/home/micael/Documents/NeuralRinger/cern_data/...</td>\n",
       "      <td>0</td>\n",
       "      <td>0.942942</td>\n",
       "      <td>0.961311</td>\n",
       "      <td>...</td>\n",
       "      <td>59183</td>\n",
       "      <td>375287</td>\n",
       "      <td>5854</td>\n",
       "      <td>6011</td>\n",
       "      <td>5919</td>\n",
       "      <td>37528</td>\n",
       "      <td>58529</td>\n",
       "      <td>57603</td>\n",
       "      <td>59183</td>\n",
       "      <td>375287</td>\n",
       "    </tr>\n",
       "    <tr>\n",
       "      <th>3583</th>\n",
       "      <td>v1.r1.mlp2</td>\n",
       "      <td>0</td>\n",
       "      <td>0</td>\n",
       "      <td>0</td>\n",
       "      <td>1</td>\n",
       "      <td>7</td>\n",
       "      <td>/home/micael/Documents/NeuralRinger/cern_data/...</td>\n",
       "      <td>0</td>\n",
       "      <td>0.944827</td>\n",
       "      <td>0.965366</td>\n",
       "      <td>...</td>\n",
       "      <td>59183</td>\n",
       "      <td>375287</td>\n",
       "      <td>5854</td>\n",
       "      <td>5508</td>\n",
       "      <td>5919</td>\n",
       "      <td>37528</td>\n",
       "      <td>58529</td>\n",
       "      <td>57946</td>\n",
       "      <td>59183</td>\n",
       "      <td>375287</td>\n",
       "    </tr>\n",
       "    <tr>\n",
       "      <th>2162</th>\n",
       "      <td>v1.r1.mlp2</td>\n",
       "      <td>0</td>\n",
       "      <td>0</td>\n",
       "      <td>0</td>\n",
       "      <td>2</td>\n",
       "      <td>9</td>\n",
       "      <td>/home/micael/Documents/NeuralRinger/cern_data/...</td>\n",
       "      <td>0</td>\n",
       "      <td>0.942368</td>\n",
       "      <td>0.959284</td>\n",
       "      <td>...</td>\n",
       "      <td>59183</td>\n",
       "      <td>375287</td>\n",
       "      <td>5854</td>\n",
       "      <td>5887</td>\n",
       "      <td>5919</td>\n",
       "      <td>37528</td>\n",
       "      <td>58529</td>\n",
       "      <td>57267</td>\n",
       "      <td>59183</td>\n",
       "      <td>375287</td>\n",
       "    </tr>\n",
       "    <tr>\n",
       "      <th>2195</th>\n",
       "      <td>v1.r1.mlp2</td>\n",
       "      <td>0</td>\n",
       "      <td>0</td>\n",
       "      <td>0</td>\n",
       "      <td>3</td>\n",
       "      <td>2</td>\n",
       "      <td>/home/micael/Documents/NeuralRinger/cern_data/...</td>\n",
       "      <td>0</td>\n",
       "      <td>0.943174</td>\n",
       "      <td>0.961642</td>\n",
       "      <td>...</td>\n",
       "      <td>59183</td>\n",
       "      <td>375287</td>\n",
       "      <td>5853</td>\n",
       "      <td>6490</td>\n",
       "      <td>5918</td>\n",
       "      <td>37529</td>\n",
       "      <td>58529</td>\n",
       "      <td>56767</td>\n",
       "      <td>59183</td>\n",
       "      <td>375287</td>\n",
       "    </tr>\n",
       "    <tr>\n",
       "      <th>2492</th>\n",
       "      <td>v1.r1.mlp2</td>\n",
       "      <td>0</td>\n",
       "      <td>0</td>\n",
       "      <td>0</td>\n",
       "      <td>4</td>\n",
       "      <td>0</td>\n",
       "      <td>/home/micael/Documents/NeuralRinger/cern_data/...</td>\n",
       "      <td>0</td>\n",
       "      <td>0.942811</td>\n",
       "      <td>0.957249</td>\n",
       "      <td>...</td>\n",
       "      <td>59183</td>\n",
       "      <td>375287</td>\n",
       "      <td>5853</td>\n",
       "      <td>6094</td>\n",
       "      <td>5918</td>\n",
       "      <td>37529</td>\n",
       "      <td>58529</td>\n",
       "      <td>57267</td>\n",
       "      <td>59183</td>\n",
       "      <td>375287</td>\n",
       "    </tr>\n",
       "  </tbody>\n",
       "</table>\n",
       "<p>5 rows × 98 columns</p>\n",
       "</div>"
      ],
      "text/plain": [
       "       train_tag  et_bin  eta_bin  model_idx  sort  init  \\\n",
       "1901  v1.r1.mlp2       0        0          0     0     1   \n",
       "3583  v1.r1.mlp2       0        0          0     1     7   \n",
       "2162  v1.r1.mlp2       0        0          0     2     9   \n",
       "2195  v1.r1.mlp2       0        0          0     3     2   \n",
       "2492  v1.r1.mlp2       0        0          0     4     0   \n",
       "\n",
       "                                              file_name  tuned_idx  \\\n",
       "1901  /home/micael/Documents/NeuralRinger/cern_data/...          0   \n",
       "3583  /home/micael/Documents/NeuralRinger/cern_data/...          0   \n",
       "2162  /home/micael/Documents/NeuralRinger/cern_data/...          0   \n",
       "2195  /home/micael/Documents/NeuralRinger/cern_data/...          0   \n",
       "2492  /home/micael/Documents/NeuralRinger/cern_data/...          0   \n",
       "\n",
       "      max_sp_val  max_sp_pd_val  ...  vloose_pd_ref_total  \\\n",
       "1901    0.942942       0.961311  ...                59183   \n",
       "3583    0.944827       0.965366  ...                59183   \n",
       "2162    0.942368       0.959284  ...                59183   \n",
       "2195    0.943174       0.961642  ...                59183   \n",
       "2492    0.942811       0.957249  ...                59183   \n",
       "\n",
       "      vloose_fa_ref_total  vloose_pd_val_passed  vloose_fa_val_passed  \\\n",
       "1901               375287                  5854                  6011   \n",
       "3583               375287                  5854                  5508   \n",
       "2162               375287                  5854                  5887   \n",
       "2195               375287                  5853                  6490   \n",
       "2492               375287                  5853                  6094   \n",
       "\n",
       "      vloose_pd_val_total  vloose_fa_val_total  vloose_pd_op_passed  \\\n",
       "1901                 5919                37528                58529   \n",
       "3583                 5919                37528                58529   \n",
       "2162                 5919                37528                58529   \n",
       "2195                 5918                37529                58529   \n",
       "2492                 5918                37529                58529   \n",
       "\n",
       "      vloose_fa_op_passed  vloose_pd_op_total  vloose_fa_op_total  \n",
       "1901                57603               59183              375287  \n",
       "3583                57946               59183              375287  \n",
       "2162                57267               59183              375287  \n",
       "2195                56767               59183              375287  \n",
       "2492                57267               59183              375287  \n",
       "\n",
       "[5 rows x 98 columns]"
      ]
     },
     "execution_count": 9,
     "metadata": {},
     "output_type": "execute_result"
    }
   ],
   "source": [
    "best_inits.head()"
   ]
  },
  {
   "cell_type": "code",
   "execution_count": 10,
   "id": "individual-appeal",
   "metadata": {},
   "outputs": [
    {
     "name": "stdout",
     "output_type": "stream",
     "text": [
      "/home/micael/Documents/NeuralRinger/cern_data/jpsiee_analysis\n"
     ]
    }
   ],
   "source": [
    "# since take a long time to open those files let's save into a .csv\n",
    "print(analysis_path)\n",
    "best_inits.to_csv(os.path.join(analysis_path, 'v1/r1/best_inits.csv'))"
   ]
  },
  {
   "cell_type": "code",
   "execution_count": 11,
   "id": "australian-niger",
   "metadata": {},
   "outputs": [
    {
     "name": "stdout",
     "output_type": "stream",
     "text": [
      "/home/micael/Documents/NeuralRinger/cern_data/jpsiee_analysis\n"
     ]
    }
   ],
   "source": [
    "print(analysis_path)\n",
    "r1_path = 'v1/r1'"
   ]
  },
  {
   "cell_type": "code",
   "execution_count": 12,
   "id": "diverse-mounting",
   "metadata": {},
   "outputs": [],
   "source": [
    "map_key_dict ={\n",
    "   'max_sp_val'    : (r'$SP_{max}$ (Test)', 'sp'),\n",
    "   'max_sp_pd_val' : (r'$P_D$ (Test)', 'pd'),\n",
    "   'max_sp_fa_val' : (r'$F_A$ (Test)', 'fa'),\n",
    "   'auc_val'       : (r'AUC (Test)', 'auc'),\n",
    "}\n",
    "\n",
    "from kolmov.utils.constants import str_etbins_jpsiee, str_etabins\n",
    "# using as simple function in order to make easier plot all need measures\n",
    "def create_cool_catplot(df, key, kind, mapped_key, output_name, tuning_flag, tuning_folder, list_of_neuros=None):\n",
    "    # create the box plot. \n",
    "    # rename the columns names.\n",
    "    # map the model idx into real # neurons.\n",
    "    \n",
    "    if list_of_neuros is None:\n",
    "        list_of_neuros = range(2, 20+1)\n",
    "    sns.catplot(data=(df\n",
    "                        .replace({'model_idx' : {i :  n for i, n in zip(range(0,df.model_idx.max()+1),\n",
    "                        range(2,20+1))},\n",
    "                                'et_bin'    : {i : str_etbins_jpsiee[i] for i in range(3)},\n",
    "                                'eta_bin'   : {i : str_etabins[i] for i in range(5)}})\n",
    "                        .rename({'model_idx'  : '# Neurons',\n",
    "                                'et_bin'     : r'$E_T$',\n",
    "                                'eta_bin'    : r'$\\eta$',\n",
    "                                key : mapped_key},\n",
    "                        axis=1)), x='# Neurons',\n",
    "                        y=mapped_key, col=r'$\\eta$', \n",
    "                        row=r'$E_T$', kind=kind, sharey=False,\n",
    "                        )\n",
    "\n",
    "    plt.tight_layout()\n",
    "    plt.savefig(os.path.join(analysis_path, '%s/plots/%s_plot_%s_%s.png' %(tuning_folder, kind, output_name, tuning_flag)), dpi=150, facecolor='white')\n",
    "    plt.close()\n",
    "    \n",
    "\n",
    "def create_cool_scatterplot(df, key1, key2, mapped_key1, mapped_key2, output_name, tuning_flag, tuning_folder):\n",
    "    \n",
    "    sns.relplot(data=(best_inits.replace({'model_idx' : {i :  n for i, n in zip(best_inits.model_idx.unique(), [2, 5, 10, 15, 20])},\n",
    "                                          'et_bin'    : {i : str_etbins_jpsiee[i] for i in range(3)},\n",
    "                                          'eta_bin'   : {i : str_etabins[i] for i in range(5)}})\n",
    "                      .rename({'model_idx'  : '# Neurons',\n",
    "                               'et_bin'     : r'$E_T$',\n",
    "                               'eta_bin'    : r'$\\eta$',\n",
    "                               key1         : mapped_key1,\n",
    "                               key2         : mapped_key2}, axis=1)),\n",
    "                x=mapped_key1, y=mapped_key2, \n",
    "                palette=['red', 'orange', 'green'], style='# Neurons',\n",
    "                hue='# Neurons', row=r'$E_T$', col=r'$\\eta$', facet_kws=dict(sharex=False, sharey=False))\n",
    "    \n",
    "    plt.tight_layout()\n",
    "    plt.savefig(os.path.join(analysis_path, '%s/plots/scatter_plot_%s_%s.png' %(tuning_folder, output_name, tuning_flag)), dpi=150, facecolor='white')\n",
    "    plt.close()"
   ]
  },
  {
   "cell_type": "code",
   "execution_count": null,
   "id": "happy-scottish",
   "metadata": {},
   "outputs": [],
   "source": [
    "best_inits.head()"
   ]
  },
  {
   "cell_type": "code",
   "execution_count": null,
   "id": "interstate-motivation",
   "metadata": {},
   "outputs": [],
   "source": [
    "best_inits[best_inits.train_tag.str.contains('v1.r1')].head()"
   ]
  },
  {
   "cell_type": "code",
   "execution_count": null,
   "id": "considerable-preparation",
   "metadata": {},
   "outputs": [],
   "source": [
    "best_inits[best_inits.train_tag.str.contains('v1.r1')].shape"
   ]
  },
  {
   "cell_type": "code",
   "execution_count": null,
   "id": "productive-senegal",
   "metadata": {},
   "outputs": [],
   "source": [
    "15*10*best_inits.model_idx.nunique()"
   ]
  },
  {
   "cell_type": "code",
   "execution_count": null,
   "id": "ideal-grounds",
   "metadata": {},
   "outputs": [],
   "source": [
    "ikey         = 'max_sp_val'\n",
    "map_k, o_name = map_key_dict[ikey]\n",
    "\n",
    "for ikind in ['box', 'violin', 'boxen']:\n",
    "    create_cool_catplot(df=best_inits[best_inits.train_tag.str.contains('v1.r1')], key=ikey, mapped_key=map_k, \n",
    "                        kind=ikind, output_name=o_name, tuning_flag='v1.r1.all_neurons', tuning_folder=r1_path)"
   ]
  },
  {
   "cell_type": "code",
   "execution_count": null,
   "id": "serial-framing",
   "metadata": {},
   "outputs": [],
   "source": [
    "# select some models to filter\n",
    "selected_models = ['v1.r1.mlp%i' %(ineuron) for ineuron in [2, 5, 10, 15, 20]]\n",
    "print(selected_models)"
   ]
  },
  {
   "cell_type": "code",
   "execution_count": null,
   "id": "competitive-cancellation",
   "metadata": {},
   "outputs": [],
   "source": [
    "best_inits[best_inits.train_tag.isin(selected_models)].train_tag.unique()"
   ]
  },
  {
   "cell_type": "code",
   "execution_count": null,
   "id": "olympic-prince",
   "metadata": {},
   "outputs": [],
   "source": [
    "for ikey in map_key_dict.keys():\n",
    "    map_k, o_name = map_key_dict[ikey]\n",
    "    for ikind in ['box', 'violin', 'boxen']:\n",
    "        create_cool_catplot(df=best_inits[best_inits.train_tag.isin(selected_models)], key=ikey, mapped_key=map_k,\n",
    "                            kind=ikind, output_name=o_name, tuning_flag='v1.r1.selected_neurons', tuning_folder=r1_path)"
   ]
  },
  {
   "cell_type": "markdown",
   "id": "great-furniture",
   "metadata": {},
   "source": [
    "## Filter the initializations and get the best sort\n",
    "\n",
    "To get the best initialization in each sort and the best sort for each model configuration is easy since we are using pandas.\n"
   ]
  },
  {
   "cell_type": "code",
   "execution_count": null,
   "id": "careful-domestic",
   "metadata": {},
   "outputs": [],
   "source": [
    "for iet in best_inits['et_bin'].unique():\n",
    "    iet_mask = best_inits['et_bin'] == iet\n",
    "    for ieta in best_inits['eta_bin'].unique():\n",
    "        ieta_mask   = best_inits['eta_bin'] == ieta\n",
    "        for tag, midx in zip(best_inits['train_tag'].unique(), best_inits['model_idx'].unique()):\n",
    "            model_mask = best_inits['model_idx'] == midx\n",
    "            tag_mask   = best_inits['train_tag'] == tag\n",
    "\n",
    "            full_mask = iet_mask & ieta_mask & model_mask & tag_mask\n",
    "            print(iet, ieta, tag, midx, best_inits.loc[full_mask].shape)"
   ]
  },
  {
   "cell_type": "code",
   "execution_count": null,
   "id": "studied-contact",
   "metadata": {},
   "outputs": [],
   "source": [
    "best_inits[(best_inits.train_tag == 'v1.r0.mlp2') & (best_inits.et_bin == 2.) & (best_inits.eta_bin == 0.)]"
   ]
  },
  {
   "cell_type": "markdown",
   "id": "scheduled-symbol",
   "metadata": {},
   "source": [
    "When we filter sorts we must to have only one entry since."
   ]
  },
  {
   "cell_type": "code",
   "execution_count": null,
   "id": "solid-example",
   "metadata": {},
   "outputs": [],
   "source": [
    "best_sorts = m_cv.filter_sorts( best_inits , 'max_sp_op')\n",
    "print(len(best_sorts))"
   ]
  },
  {
   "cell_type": "code",
   "execution_count": null,
   "id": "characteristic-hurricane",
   "metadata": {},
   "outputs": [],
   "source": [
    "best_sorts"
   ]
  },
  {
   "cell_type": "markdown",
   "id": "alleged-lebanon",
   "metadata": {},
   "source": [
    "## Get the cross-validation table"
   ]
  },
  {
   "cell_type": "code",
   "execution_count": null,
   "id": "transparent-cassette",
   "metadata": {
    "tags": [
     "outputPrepend"
    ]
   },
   "outputs": [],
   "source": [
    "for op in ['tight','medium','loose','vloose']:\n",
    "    m_cv.dump_beamer_table( best_inits ,  [op], 'v1_r1_'+op, \n",
    "                             title = op+' Tunings (v1-r1)', \n",
    "                             tags = ['v1.r1.mlp2', 'v1.r1.mlp5', 'v1.r1.mlp10', 'v1.r1.mlp15', 'v1.r1.mlp20']\n",
    "                           )"
   ]
  },
  {
   "cell_type": "code",
   "execution_count": null,
   "id": "greek-letters",
   "metadata": {},
   "outputs": [],
   "source": [
    "m_cv.integrate(best_inits, 'v1.r1.mlp2')"
   ]
  },
  {
   "cell_type": "markdown",
   "id": "heavy-compiler",
   "metadata": {},
   "source": [
    "## Plot monitoring training curves"
   ]
  },
  {
   "cell_type": "code",
   "execution_count": null,
   "id": "final-fisher",
   "metadata": {},
   "outputs": [],
   "source": [
    "m_cv.plot_training_curves( best_inits, best_sorts , 'monitoring_curves' )"
   ]
  },
  {
   "cell_type": "markdown",
   "id": "printable-workstation",
   "metadata": {},
   "source": [
    "## Plot ROC Curves"
   ]
  },
  {
   "cell_type": "code",
   "execution_count": null,
   "id": "handed-croatia",
   "metadata": {},
   "outputs": [],
   "source": [
    "m_cv.plot_roc_curves( best_sorts, ['v1.r1.mlp2', 'v1.r1.mlp5', 'v1.r1.mlp10', 'v1.r1.mlp15', 'v1.r1.mlp20'], \n",
    "                      ['v1.r1.mlp2', 'v1.r1.mlp5', 'v1.r1.mlp10', 'v1.r1.mlp15', 'v1.r1.mlp20'], \n",
    "                      'roc_curve.png', display=True, \n",
    "                      colors=get_color_fader('blue','red',5),\n",
    "                      et_bin=2, eta_bin=0, xmin=-0.005, xmax=.25, ymin=0.9, ymax=1.005,\n",
    "                      fontsize=20,\n",
    "                      figsize=(7,7))"
   ]
  },
  {
   "cell_type": "code",
   "execution_count": null,
   "id": "ceramic-sessions",
   "metadata": {},
   "outputs": [],
   "source": []
  }
 ],
 "metadata": {
  "interpreter": {
   "hash": "c4d6ff7eb2a7ad031a9ae60045c3e0b3df823cb84b2b61a1e234726d4859dd0e"
  },
  "kernelspec": {
   "display_name": "Python 3 (ipykernel)",
   "language": "python",
   "name": "python3"
  },
  "language_info": {
   "codemirror_mode": {
    "name": "ipython",
    "version": 3
   },
   "file_extension": ".py",
   "mimetype": "text/x-python",
   "name": "python",
   "nbconvert_exporter": "python",
   "pygments_lexer": "ipython3",
   "version": "3.6.9"
  },
  "metadata": {
   "interpreter": {
    "hash": "c4d6ff7eb2a7ad031a9ae60045c3e0b3df823cb84b2b61a1e234726d4859dd0e"
   }
  }
 },
 "nbformat": 4,
 "nbformat_minor": 5
}
