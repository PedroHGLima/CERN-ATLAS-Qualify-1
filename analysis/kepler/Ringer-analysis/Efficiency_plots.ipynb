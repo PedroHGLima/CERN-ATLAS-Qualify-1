{
 "cells": [
  {
   "cell_type": "markdown",
   "metadata": {},
   "source": [
    "# Kepler Framework Examples"
   ]
  },
  {
   "cell_type": "code",
   "execution_count": 1,
   "metadata": {},
   "outputs": [
    {
     "name": "stdout",
     "output_type": "stream",
     "text": [
      "Welcome to JupyROOT 6.16/00\n",
      "Using all sub packages with ROOT dependence\n"
     ]
    }
   ],
   "source": [
    "from kepler.pandas.menu       import ElectronSequence as Chain\n",
    "from kepler.pandas.readers    import load, load_in_loop\n",
    "from kepler.pandas.decorators import create_ringer_v8_decorators, create_ringer_v9_decorators, RingerDecorator\n",
    "from kepler.pandas.decorators import create_ringer_v8_new_decorators, create_ringer_v8_half_fast_decorators, create_ringer_v8_34_decorators, create_ringer_v8_half_decorators, create_ringer_v8_14_decorators, create_ringer_v12_decorators\n",
    "\n",
    "import kepler\n",
    "import tqdm\n",
    "import rootplotlib as rpl\n",
    "import mplhep as hep\n",
    "import root_numpy\n",
    "import ROOT\n",
    "ROOT.gStyle.SetOptStat(0);\n",
    "import array\n",
    "\n",
    "import numpy as np\n",
    "import pandas as pd\n",
    "import collections\n",
    "import os\n",
    "from pprint import pprint\n",
    "from copy import deepcopy\n",
    "import gc\n",
    "\n",
    "\n",
    "import matplotlib.pyplot as plt\n",
    "from matplotlib import gridspec\n",
    "%matplotlib inline\n",
    "\n",
    "import mplhep as hep\n",
    "\n",
    "import warnings\n",
    "warnings.filterwarnings('ignore')\n",
    "plt.style.use(hep.style.ROOT)\n",
    "%config InlineBackend.figure_format = 'retina'\n",
    "%load_ext autoreload\n",
    "%autoreload 2"
   ]
  },
  {
   "cell_type": "markdown",
   "metadata": {
    "tags": []
   },
   "source": [
    "##### kWhite  = 0,   kBlack  = 1,   kGray    = 920,  kRed    = 632,  kGreen  = 416,\n",
    "##### kBlue   = 600, kYellow = 400, kMagenta = 616,  kCyan   = 432,  kOrange = 800,\n",
    "##### kSpring = 820, kTeal   = 840, kAzure   =  860, kViolet = 880,  kPink   = 900"
   ]
  },
  {
   "cell_type": "markdown",
   "metadata": {},
   "source": [
    "https://root.cern.ch/doc/master/classTColor.html"
   ]
  },
  {
   "cell_type": "code",
   "execution_count": 2,
   "metadata": {},
   "outputs": [],
   "source": [
    "def hist1d( name, values, bins, density=False ):\n",
    "    counts, dummy = np.histogram(values, bins=bins, density=density )\n",
    "    hist = ROOT.TH1F( name, '', len(bins)-1, array.array('d',bins))\n",
    "    root_numpy.array2hist(counts, hist)\n",
    "    return hist\n",
    "\n",
    "colors  = [ROOT.kBlack, ROOT.kBlue+1, ROOT.kGreen+1, ROOT.kRed+1] # Primarias\n",
    "#colors  = [ROOT.kBlue-4, ROOT.kBlack, ROOT.kGreen-4, ROOT.kGray] # cores do Mica\n",
    "#markers = [22, 26, 23, 32]\n",
    "markers = [33, 22, 23, 30]\n",
    "\n",
    "def add_legend(x, y, legends):\n",
    "    rpl.add_legend( legends, x, y, x+0.98, y+0.20, textsize=12, option='p' )"
   ]
  },
  {
   "cell_type": "code",
   "execution_count": 3,
   "metadata": {},
   "outputs": [
    {
     "name": "stdout",
     "output_type": "stream",
     "text": [
      "['noringer', 'ringer_v8_new', 'ringer_v8_half', 'ringer_v8_14']\n",
      "['NoRinger', 'Ringer V8', 'Ringer V8.1/2', 'Ringer V8.1/4']\n"
     ]
    }
   ],
   "source": [
    "chain_list = {\n",
    "    'e24_lhtight_nod0_{RINGER}_ivarloose':'L1_EM22VHI',\n",
    "    'e26_lhtight_nod0_{RINGER}_ivarloose':'L1_EM22VHI',\n",
    "    'e60_lhmedium_nod0_{RINGER}_L1EM24VHI':'L1_EM24VHI',\n",
    "    'e140_lhloose_nod0_{RINGER}':'L1_EM24VHI',\n",
    "}\n",
    "\n",
    "steps = [\n",
    "    'L2Calo',\n",
    "    'L2',\n",
    "    'EFCalo',\n",
    "    'HLT',\n",
    "]\n",
    "\n",
    "\n",
    "default_algorithms = {#column_name:label\n",
    "                      'noringer':'NoRinger',\n",
    "                      'ringer_v8_new':'Ringer V8',\n",
    "                      'ringer_v8_half':'Ringer V8.1/2',\n",
    "                      }\n",
    "selected_ringer = {\n",
    "                    #'ringer_v8_34':'Ringer V8.3/4',\n",
    "                    'ringer_v8_14':'Ringer V8.1/4',\n",
    "                    #'ringer_v12':'Ringer V12(lor)',\n",
    "                  }\n",
    "\n",
    "\n",
    "ringer_list = list(default_algorithms.keys()) + list(selected_ringer.keys())\n",
    "\n",
    "if len(ringer_list) != 4:\n",
    "    raise ValueError\n",
    "print(ringer_list)\n",
    "\n",
    "label_list = list(default_algorithms.values()) + list(selected_ringer.values())\n",
    "print(label_list)"
   ]
  },
  {
   "cell_type": "markdown",
   "metadata": {
    "tags": []
   },
   "source": [
    "# Running for Zee samples"
   ]
  },
  {
   "cell_type": "code",
   "execution_count": 4,
   "metadata": {},
   "outputs": [],
   "source": [
    "## codigo original\n",
    "# dpath = '/home/jodafons/public/cern_data/new_files/data17_13TeV.AllPeriods.sgn.probes_lhvloose_EGAM1.bkg.vprobes_vlhvloose_EGAM7.GRL_v97.25bins'\n",
    "# dpath+= '/data17_13TeV.AllPeriods.sgn.probes_lhvloose_EGAM1.bkg.vprobes_vlhvloose_EGAM7.GRL_v97.25bins_et{ET}_eta{ETA}.npz'\n",
    "# paths = []\n",
    "# for et in range(5):\n",
    "#     for eta in range(5):\n",
    "#         paths.append( dpath.format(ET=et,ETA=eta) )\n",
    "\n",
    "real_run = False"
   ]
  },
  {
   "cell_type": "markdown",
   "metadata": {},
   "source": [
    "## Load Data"
   ]
  },
  {
   "cell_type": "code",
   "execution_count": 5,
   "metadata": {},
   "outputs": [],
   "source": [
    "# codigo modificado\n",
    "dpath = '/home/pedro.lima/data/data17_13TeV.AllPeriods.sgn.probes_lhvloose_EGAM1.bkg.vprobes_vlhvloose_EGAM7.GRL_v97.25bins'\n",
    "dpath+= '/data17_13TeV.AllPeriods.sgn.probes_lhvloose_EGAM1.bkg.vprobes_vlhvloose_EGAM7.GRL_v97.25bins_et{ET}_eta{ETA}.npz'\n",
    "#                                               \\\n",
    "#                                           very loose\n",
    "paths = []\n",
    "\n",
    "dev = True\n",
    "#    False carrega todas as regioes\n",
    "\n",
    "if dev:\n",
    "    range_et = [1]   #leblon = 4\n",
    "    range_eta = [0]  #leblon = 0\n",
    "else:\n",
    "    range_et = range(5)\n",
    "    range_eta = range(5)\n",
    "\n",
    "for et in range_et:\n",
    "    for eta in range_eta:\n",
    "        paths.append( dpath.format(ET=et,ETA=eta) )\n",
    "# look here: https://github.com/ringer-softwares/kolmov/blob/master/kolmov/utils/constants.py"
   ]
  },
  {
   "cell_type": "code",
   "execution_count": 6,
   "metadata": {},
   "outputs": [],
   "source": [
    "drop_columns = [\n",
    "                    'RunNumber', \n",
    "                    #'avgmu',\n",
    "                    #'trig_L2_cl_et',\n",
    "                    #'trig_L2_cl_eta',\n",
    "                    #'trig_L2_cl_phi',\n",
    "                    #'trig_L2_cl_reta',\n",
    "                    #'trig_L2_cl_ehad1', \n",
    "                    #'trig_L2_cl_eratio',\n",
    "                    #'trig_L2_cl_f1', \n",
    "                    #'trig_L2_cl_f3', \n",
    "                    #'trig_L2_cl_weta2', \n",
    "                    #'trig_L2_cl_wstot', \n",
    "                    'trig_L2_cl_e2tsts1',\n",
    "                    'trig_L2_el_hastrack',\n",
    "                    #'trig_L2_el_pt',\n",
    "                    'trig_L2_el_eta',\n",
    "                    'trig_L2_el_phi',\n",
    "                    'trig_L2_el_caloEta',\n",
    "                    'trig_L2_el_trkClusDeta',\n",
    "                    'trig_L2_el_trkClusDphi',\n",
    "                    'trig_L2_el_etOverPt',\n",
    "                    'trig_EF_cl_hascluster',\n",
    "                    #'trig_EF_cl_et',\n",
    "                    'trig_EF_cl_eta',\n",
    "                    'trig_EF_cl_etaBE2',\n",
    "                    'trig_EF_cl_phi',     \n",
    "                    'trig_EF_el_hascand',\n",
    "                    #'trig_EF_el_et',\n",
    "                    'trig_EF_el_eta',\n",
    "                    'trig_EF_el_etaBE2',\n",
    "                    'trig_EF_el_phi',\n",
    "                    'trig_EF_el_rhad1',\n",
    "                    'trig_EF_el_rhad',\n",
    "                    'trig_EF_el_f3',\n",
    "                    'trig_EF_el_weta2',\n",
    "                    'trig_EF_el_rphi',\n",
    "                    'trig_EF_el_reta',\n",
    "                    'trig_EF_el_wtots1',\n",
    "                    'trig_EF_el_eratio',\n",
    "                    'trig_EF_el_f1',\n",
    "                    'trig_EF_el_hastrack',\n",
    "                    'trig_EF_el_deltaEta1',\n",
    "                    'trig_EF_el_deltaPhi2',\n",
    "                    'trig_EF_el_deltaPhi2Rescaled',\n",
    "                    #'trig_EF_el_lhtight',\n",
    "                    #'trig_EF_el_lhmedium',\n",
    "                    #'trig_EF_el_lhloose',\n",
    "                    #'trig_EF_el_lhvloose', \n",
    "                    # Offline variables\n",
    "                    #'el_et',\n",
    "                    #'el_eta',\n",
    "                    'el_etaBE2',\n",
    "                    #'el_phi',\n",
    "                    # offline shower shapers\n",
    "                    #'el_rhad1',\n",
    "                    #'el_rhad',\n",
    "                    #'el_f3',\n",
    "                    #'el_weta2',\n",
    "                    #'el_rphi',\n",
    "                    #'el_reta',\n",
    "                    #'el_wtots1',\n",
    "                    #'el_eratio',\n",
    "                    #'el_f1',\n",
    "                    # offline track\n",
    "                    #'el_hastrack',\n",
    "                    'el_numberOfBLayerHits',\n",
    "                    'el_numberOfPixelHits',\n",
    "                    'el_numberOfTRTHits',\n",
    "                    #'el_d0',\n",
    "                    #'el_d0significance',\n",
    "                    #'el_eProbabilityHT',\n",
    "                    'el_trans_TRT_PID',\n",
    "                    #'el_deltaEta1',\n",
    "                    'el_deltaPhi2',\n",
    "                    #'el_deltaPhi2Rescaled',\n",
    "                    #'el_deltaPOverP',\n",
    "                    #'el_lhtight',\n",
    "                    #'el_lhmedium',\n",
    "                    #'el_lhloose',\n",
    "                    #'el_lhvloose',\n",
    "                    'el_TaP_Mass',\n",
    "                    #'el_TaP_deltaR',\n",
    "                ] \n",
    "\n",
    "# variaveis dos aneis...para plotar o perfil médio, preciso deixar\n",
    "#drop_columns.extend( ['trig_L2_cl_ring_%d'%i for i in range(100)] )"
   ]
  },
  {
   "cell_type": "code",
   "execution_count": 7,
   "metadata": {},
   "outputs": [
    {
     "name": "stdout",
     "output_type": "stream",
     "text": [
      "2022-12-07 12:24:14,674 | Py.RingerDecorator                      INFO Reading... /home/pedro.lima/workspace/CERN-ATLAS-Qualify-1/analysis/tunings/TrigL2_20180125_v8/ElectronRingerTightTriggerConfig.conf\n",
      "2022-12-07 12:24:20,692 | Py.RingerDecorator                      INFO Reading... /home/pedro.lima/workspace/CERN-ATLAS-Qualify-1/analysis/tunings/TrigL2_20180125_v8/ElectronRingerMediumTriggerConfig.conf\n",
      "2022-12-07 12:24:21,297 | Py.RingerDecorator                      INFO Reading... /home/pedro.lima/workspace/CERN-ATLAS-Qualify-1/analysis/tunings/TrigL2_20180125_v8/ElectronRingerLooseTriggerConfig.conf\n",
      "2022-12-07 12:24:21,915 | Py.RingerDecorator                      INFO Reading... /home/pedro.lima/workspace/CERN-ATLAS-Qualify-1/analysis/tunings/TrigL2_20180125_v8/ElectronRingerVeryLooseTriggerConfig.conf\n",
      "2022-12-07 12:24:22,326 | Py.RingerDecorator                      INFO Reading... /home/pedro.lima/workspace/CERN-ATLAS-Qualify-1/analysis/tunings/TrigL2_20210907_v8-1/ElectronRingerTightTriggerConfig.conf\n",
      "2022-12-07 12:24:22,790 | Py.RingerDecorator                      INFO Reading... /home/pedro.lima/workspace/CERN-ATLAS-Qualify-1/analysis/tunings/TrigL2_20210907_v8-1/ElectronRingerMediumTriggerConfig.conf\n",
      "2022-12-07 12:24:23,188 | Py.RingerDecorator                      INFO Reading... /home/pedro.lima/workspace/CERN-ATLAS-Qualify-1/analysis/tunings/TrigL2_20210907_v8-1/ElectronRingerLooseTriggerConfig.conf\n",
      "2022-12-07 12:24:23,733 | Py.RingerDecorator                      INFO Reading... /home/pedro.lima/workspace/CERN-ATLAS-Qualify-1/analysis/tunings/TrigL2_20210907_v8-1/ElectronRingerVeryLooseTriggerConfig.conf\n",
      "2022-12-07 12:24:24,198 | Py.RingerDecorator                      INFO Reading... /home/pedro.lima/workspace/CERN-ATLAS-Qualify-1/analysis/tunings/TrigL2_20220829_v8-14/ElectronRingerTightTriggerConfig.conf\n",
      "2022-12-07 12:24:24,753 | Py.RingerDecorator                      INFO Reading... /home/pedro.lima/workspace/CERN-ATLAS-Qualify-1/analysis/tunings/TrigL2_20220829_v8-14/ElectronRingerMediumTriggerConfig.conf\n",
      "2022-12-07 12:24:25,477 | Py.RingerDecorator                      INFO Reading... /home/pedro.lima/workspace/CERN-ATLAS-Qualify-1/analysis/tunings/TrigL2_20220829_v8-14/ElectronRingerLooseTriggerConfig.conf\n",
      "2022-12-07 12:24:26,014 | Py.RingerDecorator                      INFO Reading... /home/pedro.lima/workspace/CERN-ATLAS-Qualify-1/analysis/tunings/TrigL2_20220829_v8-14/ElectronRingerVeryLooseTriggerConfig.conf\n"
     ]
    },
    {
     "name": "stderr",
     "output_type": "stream",
     "text": [
      "2022-12-07 12:24:14.847797: I tensorflow/stream_executor/platform/default/dso_loader.cc:48] Successfully opened dynamic library libcuda.so.1\n",
      "2022-12-07 12:24:15.419274: I tensorflow/stream_executor/cuda/cuda_gpu_executor.cc:982] successful NUMA node read from SysFS had negative value (-1), but there must be at least one NUMA node, so returning NUMA node zero\n",
      "2022-12-07 12:24:15.419473: I tensorflow/core/common_runtime/gpu/gpu_device.cc:1716] Found device 0 with properties: \n",
      "pciBusID: 0000:01:00.0 name: NVIDIA GeForce RTX 2080 Ti computeCapability: 7.5\n",
      "coreClock: 1.575GHz coreCount: 68 deviceMemorySize: 10.76GiB deviceMemoryBandwidth: 573.69GiB/s\n",
      "2022-12-07 12:24:15.419494: I tensorflow/stream_executor/platform/default/dso_loader.cc:48] Successfully opened dynamic library libcudart.so.10.1\n",
      "2022-12-07 12:24:15.660212: I tensorflow/stream_executor/platform/default/dso_loader.cc:48] Successfully opened dynamic library libcublas.so.10\n",
      "2022-12-07 12:24:15.753653: I tensorflow/stream_executor/platform/default/dso_loader.cc:48] Successfully opened dynamic library libcufft.so.10\n",
      "2022-12-07 12:24:15.855628: I tensorflow/stream_executor/platform/default/dso_loader.cc:48] Successfully opened dynamic library libcurand.so.10\n",
      "2022-12-07 12:24:16.041612: I tensorflow/stream_executor/platform/default/dso_loader.cc:48] Successfully opened dynamic library libcusolver.so.10\n",
      "2022-12-07 12:24:16.094207: I tensorflow/stream_executor/platform/default/dso_loader.cc:48] Successfully opened dynamic library libcusparse.so.10\n",
      "2022-12-07 12:24:16.610422: I tensorflow/stream_executor/platform/default/dso_loader.cc:48] Successfully opened dynamic library libcudnn.so.7\n",
      "2022-12-07 12:24:16.610588: I tensorflow/stream_executor/cuda/cuda_gpu_executor.cc:982] successful NUMA node read from SysFS had negative value (-1), but there must be at least one NUMA node, so returning NUMA node zero\n",
      "2022-12-07 12:24:16.610859: I tensorflow/stream_executor/cuda/cuda_gpu_executor.cc:982] successful NUMA node read from SysFS had negative value (-1), but there must be at least one NUMA node, so returning NUMA node zero\n",
      "2022-12-07 12:24:16.610941: I tensorflow/core/common_runtime/gpu/gpu_device.cc:1858] Adding visible gpu devices: 0\n",
      "2022-12-07 12:24:16.612810: I tensorflow/core/platform/cpu_feature_guard.cc:142] This TensorFlow binary is optimized with oneAPI Deep Neural Network Library (oneDNN)to use the following CPU instructions in performance-critical operations:  AVX2 FMA\n",
      "To enable them in other operations, rebuild TensorFlow with the appropriate compiler flags.\n",
      "2022-12-07 12:24:16.636275: I tensorflow/core/platform/profile_utils/cpu_utils.cc:104] CPU Frequency: 3599990000 Hz\n",
      "2022-12-07 12:24:16.636761: I tensorflow/compiler/xla/service/service.cc:168] XLA service 0x82287f0 initialized for platform Host (this does not guarantee that XLA will be used). Devices:\n",
      "2022-12-07 12:24:16.636779: I tensorflow/compiler/xla/service/service.cc:176]   StreamExecutor device (0): Host, Default Version\n",
      "2022-12-07 12:24:16.728779: I tensorflow/stream_executor/cuda/cuda_gpu_executor.cc:982] successful NUMA node read from SysFS had negative value (-1), but there must be at least one NUMA node, so returning NUMA node zero\n",
      "2022-12-07 12:24:16.728993: I tensorflow/compiler/xla/service/service.cc:168] XLA service 0x9bc0e30 initialized for platform CUDA (this does not guarantee that XLA will be used). Devices:\n",
      "2022-12-07 12:24:16.729011: I tensorflow/compiler/xla/service/service.cc:176]   StreamExecutor device (0): NVIDIA GeForce RTX 2080 Ti, Compute Capability 7.5\n",
      "2022-12-07 12:24:16.742045: I tensorflow/stream_executor/cuda/cuda_gpu_executor.cc:982] successful NUMA node read from SysFS had negative value (-1), but there must be at least one NUMA node, so returning NUMA node zero\n",
      "2022-12-07 12:24:16.742144: I tensorflow/core/common_runtime/gpu/gpu_device.cc:1716] Found device 0 with properties: \n",
      "pciBusID: 0000:01:00.0 name: NVIDIA GeForce RTX 2080 Ti computeCapability: 7.5\n",
      "coreClock: 1.575GHz coreCount: 68 deviceMemorySize: 10.76GiB deviceMemoryBandwidth: 573.69GiB/s\n",
      "2022-12-07 12:24:16.742177: I tensorflow/stream_executor/platform/default/dso_loader.cc:48] Successfully opened dynamic library libcudart.so.10.1\n",
      "2022-12-07 12:24:16.742202: I tensorflow/stream_executor/platform/default/dso_loader.cc:48] Successfully opened dynamic library libcublas.so.10\n",
      "2022-12-07 12:24:16.742218: I tensorflow/stream_executor/platform/default/dso_loader.cc:48] Successfully opened dynamic library libcufft.so.10\n",
      "2022-12-07 12:24:16.742232: I tensorflow/stream_executor/platform/default/dso_loader.cc:48] Successfully opened dynamic library libcurand.so.10\n",
      "2022-12-07 12:24:16.742247: I tensorflow/stream_executor/platform/default/dso_loader.cc:48] Successfully opened dynamic library libcusolver.so.10\n",
      "2022-12-07 12:24:16.742261: I tensorflow/stream_executor/platform/default/dso_loader.cc:48] Successfully opened dynamic library libcusparse.so.10\n",
      "2022-12-07 12:24:16.742276: I tensorflow/stream_executor/platform/default/dso_loader.cc:48] Successfully opened dynamic library libcudnn.so.7\n",
      "2022-12-07 12:24:16.742319: I tensorflow/stream_executor/cuda/cuda_gpu_executor.cc:982] successful NUMA node read from SysFS had negative value (-1), but there must be at least one NUMA node, so returning NUMA node zero\n",
      "2022-12-07 12:24:16.742434: I tensorflow/stream_executor/cuda/cuda_gpu_executor.cc:982] successful NUMA node read from SysFS had negative value (-1), but there must be at least one NUMA node, so returning NUMA node zero\n",
      "2022-12-07 12:24:16.742515: I tensorflow/core/common_runtime/gpu/gpu_device.cc:1858] Adding visible gpu devices: 0\n",
      "2022-12-07 12:24:16.748469: I tensorflow/stream_executor/platform/default/dso_loader.cc:48] Successfully opened dynamic library libcudart.so.10.1\n",
      "2022-12-07 12:24:19.635930: I tensorflow/core/common_runtime/gpu/gpu_device.cc:1257] Device interconnect StreamExecutor with strength 1 edge matrix:\n",
      "2022-12-07 12:24:19.635959: I tensorflow/core/common_runtime/gpu/gpu_device.cc:1263]      0 \n",
      "2022-12-07 12:24:19.635965: I tensorflow/core/common_runtime/gpu/gpu_device.cc:1276] 0:   N \n",
      "2022-12-07 12:24:19.637206: I tensorflow/stream_executor/cuda/cuda_gpu_executor.cc:982] successful NUMA node read from SysFS had negative value (-1), but there must be at least one NUMA node, so returning NUMA node zero\n",
      "2022-12-07 12:24:19.637411: I tensorflow/stream_executor/cuda/cuda_gpu_executor.cc:982] successful NUMA node read from SysFS had negative value (-1), but there must be at least one NUMA node, so returning NUMA node zero\n",
      "2022-12-07 12:24:19.637500: W tensorflow/core/common_runtime/gpu/gpu_bfc_allocator.cc:39] Overriding allow_growth setting because the TF_FORCE_GPU_ALLOW_GROWTH environment variable is set. Original config value was 0.\n",
      "2022-12-07 12:24:19.637520: I tensorflow/core/common_runtime/gpu/gpu_device.cc:1402] Created TensorFlow device (/job:localhost/replica:0/task:0/device:GPU:0 with 10076 MB memory) -> physical GPU (device: 0, name: NVIDIA GeForce RTX 2080 Ti, pci bus id: 0000:01:00.0, compute capability: 7.5)\n"
     ]
    }
   ],
   "source": [
    "os.environ['RINGER_TUNING_PATH']='/home/pedro.lima/workspace/CERN-ATLAS-Qualify-1/analysis/tunings'\n",
    "\n",
    "decorators = create_ringer_v8_new_decorators()\n",
    "decorators += create_ringer_v8_half_fast_decorators()\n",
    "#decorators += create_ringer_v8_34_decorators()\n",
    "decorators += create_ringer_v8_14_decorators()\n",
    "#decorators += create_ringer_v12_decorators()"
   ]
  },
  {
   "cell_type": "markdown",
   "metadata": {},
   "source": [
    "## Setup Chains"
   ]
  },
  {
   "cell_type": "markdown",
   "metadata": {},
   "source": [
    "ivarloose - é o isolamento loose. Olhar https://twiki.cern.ch/twiki/bin/view/Atlas/TriggerNamingRun2    https://twiki.cern.ch/twiki/bin/view/Atlas/TriggerMenuConvention\n",
    "\n",
    "ivarloose (Run2 que deve ser mantido para o Run3)- HLT isolation: ptvarcone20/ET<0.1\n",
    "\n",
    "O pid_name da cadeia está marcado no `lh*` , onde * é o pid_name (ponto de operação da cadeia)"
   ]
  },
  {
   "cell_type": "code",
   "execution_count": 10,
   "metadata": {},
   "outputs": [
    {
     "name": "stdout",
     "output_type": "stream",
     "text": [
      "OrderedDict([('L1Seed', 'L1_EM22VHI'),\n",
      "             ('L2Calo', (21000.0, 'trig_L2_cl_lhtight_et22toInf')),\n",
      "             ('L2', 'trig_L2_el_cut_pt20to50'),\n",
      "             ('EFCalo', 24000.0),\n",
      "             ('HLT', (24000.0, 'trig_EF_el_lhtight_ivarloose'))])\n",
      "OrderedDict([('L1Seed', 'L1_EM22VHI'),\n",
      "             ('L2Calo', (21000.0, 'ringer_v8_new_tight')),\n",
      "             ('L2', 'trig_L2_el_cut_pt20to50'),\n",
      "             ('EFCalo', 24000.0),\n",
      "             ('HLT', (24000.0, 'trig_EF_el_lhtight_ivarloose'))])\n",
      "OrderedDict([('L1Seed', 'L1_EM22VHI'),\n",
      "             ('L2Calo', (21000.0, 'ringer_v8_half_tight')),\n",
      "             ('L2', 'trig_L2_el_cut_pt20to50'),\n",
      "             ('EFCalo', 24000.0),\n",
      "             ('HLT', (24000.0, 'trig_EF_el_lhtight_ivarloose'))])\n",
      "OrderedDict([('L1Seed', 'L1_EM22VHI'),\n",
      "             ('L2Calo', (21000.0, 'ringer_v8_14_tight')),\n",
      "             ('L2', 'trig_L2_el_cut_pt20to50'),\n",
      "             ('EFCalo', 24000.0),\n",
      "             ('HLT', (24000.0, 'trig_EF_el_lhtight_ivarloose'))])\n",
      "OrderedDict([('L1Seed', 'L1_EM22VHI'),\n",
      "             ('L2Calo', (23000.0, 'trig_L2_cl_lhtight_et22toInf')),\n",
      "             ('L2', 'trig_L2_el_cut_pt20to50'),\n",
      "             ('EFCalo', 26000.0),\n",
      "             ('HLT', (26000.0, 'trig_EF_el_lhtight_ivarloose'))])\n",
      "OrderedDict([('L1Seed', 'L1_EM22VHI'),\n",
      "             ('L2Calo', (23000.0, 'ringer_v8_new_tight')),\n",
      "             ('L2', 'trig_L2_el_cut_pt20to50'),\n",
      "             ('EFCalo', 26000.0),\n",
      "             ('HLT', (26000.0, 'trig_EF_el_lhtight_ivarloose'))])\n",
      "OrderedDict([('L1Seed', 'L1_EM22VHI'),\n",
      "             ('L2Calo', (23000.0, 'ringer_v8_half_tight')),\n",
      "             ('L2', 'trig_L2_el_cut_pt20to50'),\n",
      "             ('EFCalo', 26000.0),\n",
      "             ('HLT', (26000.0, 'trig_EF_el_lhtight_ivarloose'))])\n",
      "OrderedDict([('L1Seed', 'L1_EM22VHI'),\n",
      "             ('L2Calo', (23000.0, 'ringer_v8_14_tight')),\n",
      "             ('L2', 'trig_L2_el_cut_pt20to50'),\n",
      "             ('EFCalo', 26000.0),\n",
      "             ('HLT', (26000.0, 'trig_EF_el_lhtight_ivarloose'))])\n",
      "OrderedDict([('L1Seed', 'L1_EM24VHI'),\n",
      "             ('L2Calo', (57000.0, 'trig_L2_cl_lhmedium_et22toInf')),\n",
      "             ('L2', 'trig_L2_el_cut_pt50toInf'),\n",
      "             ('EFCalo', 60000.0),\n",
      "             ('HLT', (60000.0, 'trig_EF_el_lhmedium'))])\n",
      "OrderedDict([('L1Seed', 'L1_EM24VHI'),\n",
      "             ('L2Calo', (57000.0, 'ringer_v8_new_medium')),\n",
      "             ('L2', 'trig_L2_el_cut_pt50toInf'),\n",
      "             ('EFCalo', 60000.0),\n",
      "             ('HLT', (60000.0, 'trig_EF_el_lhmedium'))])\n",
      "OrderedDict([('L1Seed', 'L1_EM24VHI'),\n",
      "             ('L2Calo', (57000.0, 'ringer_v8_half_medium')),\n",
      "             ('L2', 'trig_L2_el_cut_pt50toInf'),\n",
      "             ('EFCalo', 60000.0),\n",
      "             ('HLT', (60000.0, 'trig_EF_el_lhmedium'))])\n",
      "OrderedDict([('L1Seed', 'L1_EM24VHI'),\n",
      "             ('L2Calo', (57000.0, 'ringer_v8_14_medium')),\n",
      "             ('L2', 'trig_L2_el_cut_pt50toInf'),\n",
      "             ('EFCalo', 60000.0),\n",
      "             ('HLT', (60000.0, 'trig_EF_el_lhmedium'))])\n",
      "OrderedDict([('L1Seed', 'L1_EM24VHI'),\n",
      "             ('L2Calo', (137000.0, 'trig_L2_cl_lhloose_et22toInf')),\n",
      "             ('L2', 'trig_L2_el_cut_pt50toInf'),\n",
      "             ('EFCalo', 140000.0),\n",
      "             ('HLT', (140000.0, 'trig_EF_el_lhloose'))])\n",
      "OrderedDict([('L1Seed', 'L1_EM24VHI'),\n",
      "             ('L2Calo', (137000.0, 'ringer_v8_new_loose')),\n",
      "             ('L2', 'trig_L2_el_cut_pt50toInf'),\n",
      "             ('EFCalo', 140000.0),\n",
      "             ('HLT', (140000.0, 'trig_EF_el_lhloose'))])\n",
      "OrderedDict([('L1Seed', 'L1_EM24VHI'),\n",
      "             ('L2Calo', (137000.0, 'ringer_v8_half_loose')),\n",
      "             ('L2', 'trig_L2_el_cut_pt50toInf'),\n",
      "             ('EFCalo', 140000.0),\n",
      "             ('HLT', (140000.0, 'trig_EF_el_lhloose'))])\n",
      "OrderedDict([('L1Seed', 'L1_EM24VHI'),\n",
      "             ('L2Calo', (137000.0, 'ringer_v8_14_loose')),\n",
      "             ('L2', 'trig_L2_el_cut_pt50toInf'),\n",
      "             ('EFCalo', 140000.0),\n",
      "             ('HLT', (140000.0, 'trig_EF_el_lhloose'))])\n"
     ]
    }
   ],
   "source": [
    "chains = list()\n",
    "\n",
    "for chain in chain_list:\n",
    "    for alg in ringer_list:\n",
    "        if alg == 'noringer':\n",
    "            chains.append(Chain((\"HLT_\"+chain).format(RINGER=alg), L1Seed = chain_list[chain]))\n",
    "        else:\n",
    "            chains.append(Chain((\"HLT_\"+chain).format(RINGER=alg), L1Seed = chain_list[chain], l2calo_column = alg+'_'+(chain.split('_')[1][2:])))"
   ]
  },
  {
   "cell_type": "markdown",
   "metadata": {},
   "source": [
    "## Read all bins"
   ]
  },
  {
   "cell_type": "code",
   "execution_count": 11,
   "metadata": {},
   "outputs": [
    {
     "name": "stderr",
     "output_type": "stream",
     "text": [
      "Reading files...: 100%|██████████| 1/1 [00:51<00:00, 51.36s/it]\n"
     ]
    }
   ],
   "source": [
    "table = load_in_loop( paths, drop_columns=drop_columns, decorators=decorators, chains=chains )"
   ]
  },
  {
   "cell_type": "code",
   "execution_count": null,
   "metadata": {},
   "outputs": [
    {
     "name": "stdout",
     "output_type": "stream",
     "text": [
      "['avgmu', 'trig_L2_cl_et', 'trig_L2_cl_eta', 'trig_L2_cl_phi', 'trig_L2_cl_reta', 'trig_L2_cl_ehad1', 'trig_L2_cl_eratio', 'trig_L2_cl_f1', 'trig_L2_cl_f3', 'trig_L2_cl_weta2', 'trig_L2_cl_wstot', 'trig_L2_cl_ring_0', 'trig_L2_cl_ring_1', 'trig_L2_cl_ring_2', 'trig_L2_cl_ring_3', 'trig_L2_cl_ring_4', 'trig_L2_cl_ring_5', 'trig_L2_cl_ring_6', 'trig_L2_cl_ring_7', 'trig_L2_cl_ring_8', 'trig_L2_cl_ring_9', 'trig_L2_cl_ring_10', 'trig_L2_cl_ring_11', 'trig_L2_cl_ring_12', 'trig_L2_cl_ring_13', 'trig_L2_cl_ring_14', 'trig_L2_cl_ring_15', 'trig_L2_cl_ring_16', 'trig_L2_cl_ring_17', 'trig_L2_cl_ring_18', 'trig_L2_cl_ring_19', 'trig_L2_cl_ring_20', 'trig_L2_cl_ring_21', 'trig_L2_cl_ring_22', 'trig_L2_cl_ring_23', 'trig_L2_cl_ring_24', 'trig_L2_cl_ring_25', 'trig_L2_cl_ring_26', 'trig_L2_cl_ring_27', 'trig_L2_cl_ring_28', 'trig_L2_cl_ring_29', 'trig_L2_cl_ring_30', 'trig_L2_cl_ring_31', 'trig_L2_cl_ring_32', 'trig_L2_cl_ring_33', 'trig_L2_cl_ring_34', 'trig_L2_cl_ring_35', 'trig_L2_cl_ring_36', 'trig_L2_cl_ring_37', 'trig_L2_cl_ring_38', 'trig_L2_cl_ring_39', 'trig_L2_cl_ring_40', 'trig_L2_cl_ring_41', 'trig_L2_cl_ring_42', 'trig_L2_cl_ring_43', 'trig_L2_cl_ring_44', 'trig_L2_cl_ring_45', 'trig_L2_cl_ring_46', 'trig_L2_cl_ring_47', 'trig_L2_cl_ring_48', 'trig_L2_cl_ring_49', 'trig_L2_cl_ring_50', 'trig_L2_cl_ring_51', 'trig_L2_cl_ring_52', 'trig_L2_cl_ring_53', 'trig_L2_cl_ring_54', 'trig_L2_cl_ring_55', 'trig_L2_cl_ring_56', 'trig_L2_cl_ring_57', 'trig_L2_cl_ring_58', 'trig_L2_cl_ring_59', 'trig_L2_cl_ring_60', 'trig_L2_cl_ring_61', 'trig_L2_cl_ring_62', 'trig_L2_cl_ring_63', 'trig_L2_cl_ring_64', 'trig_L2_cl_ring_65', 'trig_L2_cl_ring_66', 'trig_L2_cl_ring_67', 'trig_L2_cl_ring_68', 'trig_L2_cl_ring_69', 'trig_L2_cl_ring_70', 'trig_L2_cl_ring_71', 'trig_L2_cl_ring_72', 'trig_L2_cl_ring_73', 'trig_L2_cl_ring_74', 'trig_L2_cl_ring_75', 'trig_L2_cl_ring_76', 'trig_L2_cl_ring_77', 'trig_L2_cl_ring_78', 'trig_L2_cl_ring_79', 'trig_L2_cl_ring_80', 'trig_L2_cl_ring_81', 'trig_L2_cl_ring_82', 'trig_L2_cl_ring_83', 'trig_L2_cl_ring_84', 'trig_L2_cl_ring_85', 'trig_L2_cl_ring_86', 'trig_L2_cl_ring_87', 'trig_L2_cl_ring_88', 'trig_L2_cl_ring_89', 'trig_L2_cl_ring_90', 'trig_L2_cl_ring_91', 'trig_L2_cl_ring_92', 'trig_L2_cl_ring_93', 'trig_L2_cl_ring_94', 'trig_L2_cl_ring_95', 'trig_L2_cl_ring_96', 'trig_L2_cl_ring_97', 'trig_L2_cl_ring_98', 'trig_L2_cl_ring_99', 'trig_L2_el_pt', 'trig_EF_cl_et', 'trig_EF_el_et', 'trig_EF_el_lhtight', 'trig_EF_el_lhmedium', 'trig_EF_el_lhloose', 'trig_EF_el_lhvloose', 'el_et', 'el_eta', 'el_phi', 'el_rhad1', 'el_rhad', 'el_f3', 'el_weta2', 'el_rphi', 'el_reta', 'el_wtots1', 'el_eratio', 'el_f1', 'el_hastrack', 'el_d0', 'el_d0significance', 'el_eProbabilityHT', 'el_deltaEta1', 'el_deltaPhi2Rescaled', 'el_deltaPOverP', 'el_lhtight', 'el_lhmedium', 'el_lhloose', 'el_lhvloose', 'trig_EF_el_lhtight_ivarloose', 'el_TaP_deltaR', 'L1_EM3', 'L1_EM7', 'L1_EM15VH', 'L1_EM15VHI', 'L1_EM20VH', 'L1_EM20VHI', 'L1_EM22VH', 'L1_EM22VHI', 'L1_EM24VHI', 'trig_L2_cl_lhvloose_et0to12', 'trig_L2_cl_lhvloose_et12to20', 'trig_L2_cl_lhvloose_et22toInf', 'trig_L2_cl_lhloose_et0to12', 'trig_L2_cl_lhloose_et12to20', 'trig_L2_cl_lhloose_et22toInf', 'trig_L2_cl_lhmedium_et0to12', 'trig_L2_cl_lhmedium_et12to20', 'trig_L2_cl_lhmedium_et22toInf', 'trig_L2_cl_lhtight_et0to12', 'trig_L2_cl_lhtight_et12to20', 'trig_L2_cl_lhtight_et22toInf', 'trig_L2_el_cut_pt0to15', 'trig_L2_el_cut_pt15to20', 'trig_L2_el_cut_pt20to50', 'trig_L2_el_cut_pt50toInf', 'TDT__L1Calo__e28_lhtight_nod0_ivarloose', 'TDT__L2Calo__e28_lhtight_nod0_ivarloose', 'TDT__L2__e28_lhtight_nod0_ivarloose', 'TDT__EFCalo__e28_lhtight_nod0_ivarloose', 'TDT__HLT__e28_lhtight_nod0_ivarloose', 'TDT__L1Calo__e28_lhtight_nod0_noringer_ivarloose', 'TDT__L2Calo__e28_lhtight_nod0_noringer_ivarloose', 'TDT__L2__e28_lhtight_nod0_noringer_ivarloose', 'TDT__EFCalo__e28_lhtight_nod0_noringer_ivarloose', 'TDT__HLT__e28_lhtight_nod0_noringer_ivarloose', 'target', 'ringer_v8_new_tight_output', 'ringer_v8_new_tight', 'ringer_v8_new_medium_output', 'ringer_v8_new_medium', 'ringer_v8_new_loose_output', 'ringer_v8_new_loose', 'ringer_v8_new_vloose_output', 'ringer_v8_new_vloose', 'ringer_v8_half_tight_output', 'ringer_v8_half_tight', 'ringer_v8_half_medium_output', 'ringer_v8_half_medium', 'ringer_v8_half_loose_output', 'ringer_v8_half_loose', 'ringer_v8_half_vloose_output', 'ringer_v8_half_vloose', 'ringer_v8_14_tight_output', 'ringer_v8_14_tight', 'ringer_v8_14_medium_output', 'ringer_v8_14_medium', 'ringer_v8_14_loose_output', 'ringer_v8_14_loose', 'ringer_v8_14_vloose_output', 'ringer_v8_14_vloose', 'L1Calo_e24_lhtight_nod0_noringer_ivarloose', 'L2Calo_e24_lhtight_nod0_noringer_ivarloose', 'L2_e24_lhtight_nod0_noringer_ivarloose', 'EFCalo_e24_lhtight_nod0_noringer_ivarloose', 'HLT_e24_lhtight_nod0_noringer_ivarloose', 'L1Calo_e24_lhtight_nod0_ringer_v8_new_ivarloose', 'L2Calo_e24_lhtight_nod0_ringer_v8_new_ivarloose', 'L2_e24_lhtight_nod0_ringer_v8_new_ivarloose', 'EFCalo_e24_lhtight_nod0_ringer_v8_new_ivarloose', 'HLT_e24_lhtight_nod0_ringer_v8_new_ivarloose', 'L1Calo_e24_lhtight_nod0_ringer_v8_half_ivarloose', 'L2Calo_e24_lhtight_nod0_ringer_v8_half_ivarloose', 'L2_e24_lhtight_nod0_ringer_v8_half_ivarloose', 'EFCalo_e24_lhtight_nod0_ringer_v8_half_ivarloose', 'HLT_e24_lhtight_nod0_ringer_v8_half_ivarloose', 'L1Calo_e24_lhtight_nod0_ringer_v8_14_ivarloose', 'L2Calo_e24_lhtight_nod0_ringer_v8_14_ivarloose', 'L2_e24_lhtight_nod0_ringer_v8_14_ivarloose', 'EFCalo_e24_lhtight_nod0_ringer_v8_14_ivarloose', 'HLT_e24_lhtight_nod0_ringer_v8_14_ivarloose', 'L1Calo_e26_lhtight_nod0_noringer_ivarloose', 'L2Calo_e26_lhtight_nod0_noringer_ivarloose', 'L2_e26_lhtight_nod0_noringer_ivarloose', 'EFCalo_e26_lhtight_nod0_noringer_ivarloose', 'HLT_e26_lhtight_nod0_noringer_ivarloose', 'L1Calo_e26_lhtight_nod0_ringer_v8_new_ivarloose', 'L2Calo_e26_lhtight_nod0_ringer_v8_new_ivarloose', 'L2_e26_lhtight_nod0_ringer_v8_new_ivarloose', 'EFCalo_e26_lhtight_nod0_ringer_v8_new_ivarloose', 'HLT_e26_lhtight_nod0_ringer_v8_new_ivarloose', 'L1Calo_e26_lhtight_nod0_ringer_v8_half_ivarloose', 'L2Calo_e26_lhtight_nod0_ringer_v8_half_ivarloose', 'L2_e26_lhtight_nod0_ringer_v8_half_ivarloose', 'EFCalo_e26_lhtight_nod0_ringer_v8_half_ivarloose', 'HLT_e26_lhtight_nod0_ringer_v8_half_ivarloose', 'L1Calo_e26_lhtight_nod0_ringer_v8_14_ivarloose', 'L2Calo_e26_lhtight_nod0_ringer_v8_14_ivarloose', 'L2_e26_lhtight_nod0_ringer_v8_14_ivarloose', 'EFCalo_e26_lhtight_nod0_ringer_v8_14_ivarloose', 'HLT_e26_lhtight_nod0_ringer_v8_14_ivarloose', 'L1Calo_e60_lhmedium_nod0_noringer_L1EM24VHI', 'L2Calo_e60_lhmedium_nod0_noringer_L1EM24VHI', 'L2_e60_lhmedium_nod0_noringer_L1EM24VHI', 'EFCalo_e60_lhmedium_nod0_noringer_L1EM24VHI', 'HLT_e60_lhmedium_nod0_noringer_L1EM24VHI', 'L1Calo_e60_lhmedium_nod0_ringer_v8_new_L1EM24VHI', 'L2Calo_e60_lhmedium_nod0_ringer_v8_new_L1EM24VHI', 'L2_e60_lhmedium_nod0_ringer_v8_new_L1EM24VHI', 'EFCalo_e60_lhmedium_nod0_ringer_v8_new_L1EM24VHI', 'HLT_e60_lhmedium_nod0_ringer_v8_new_L1EM24VHI', 'L1Calo_e60_lhmedium_nod0_ringer_v8_half_L1EM24VHI', 'L2Calo_e60_lhmedium_nod0_ringer_v8_half_L1EM24VHI', 'L2_e60_lhmedium_nod0_ringer_v8_half_L1EM24VHI', 'EFCalo_e60_lhmedium_nod0_ringer_v8_half_L1EM24VHI', 'HLT_e60_lhmedium_nod0_ringer_v8_half_L1EM24VHI', 'L1Calo_e60_lhmedium_nod0_ringer_v8_14_L1EM24VHI', 'L2Calo_e60_lhmedium_nod0_ringer_v8_14_L1EM24VHI', 'L2_e60_lhmedium_nod0_ringer_v8_14_L1EM24VHI', 'EFCalo_e60_lhmedium_nod0_ringer_v8_14_L1EM24VHI', 'HLT_e60_lhmedium_nod0_ringer_v8_14_L1EM24VHI', 'L1Calo_e140_lhloose_nod0_noringer', 'L2Calo_e140_lhloose_nod0_noringer', 'L2_e140_lhloose_nod0_noringer', 'EFCalo_e140_lhloose_nod0_noringer', 'HLT_e140_lhloose_nod0_noringer', 'L1Calo_e140_lhloose_nod0_ringer_v8_new', 'L2Calo_e140_lhloose_nod0_ringer_v8_new', 'L2_e140_lhloose_nod0_ringer_v8_new', 'EFCalo_e140_lhloose_nod0_ringer_v8_new', 'HLT_e140_lhloose_nod0_ringer_v8_new', 'L1Calo_e140_lhloose_nod0_ringer_v8_half', 'L2Calo_e140_lhloose_nod0_ringer_v8_half', 'L2_e140_lhloose_nod0_ringer_v8_half', 'EFCalo_e140_lhloose_nod0_ringer_v8_half', 'HLT_e140_lhloose_nod0_ringer_v8_half', 'L1Calo_e140_lhloose_nod0_ringer_v8_14', 'L2Calo_e140_lhloose_nod0_ringer_v8_14', 'L2_e140_lhloose_nod0_ringer_v8_14', 'EFCalo_e140_lhloose_nod0_ringer_v8_14', 'HLT_e140_lhloose_nod0_ringer_v8_14']\n"
     ]
    }
   ],
   "source": [
    "if True:\n",
    "    print(table.columns.to_list())"
   ]
  },
  {
   "cell_type": "code",
   "execution_count": null,
   "metadata": {},
   "outputs": [
    {
     "data": {
      "text/html": [
       "<div>\n",
       "<style scoped>\n",
       "    .dataframe tbody tr th:only-of-type {\n",
       "        vertical-align: middle;\n",
       "    }\n",
       "\n",
       "    .dataframe tbody tr th {\n",
       "        vertical-align: top;\n",
       "    }\n",
       "\n",
       "    .dataframe thead th {\n",
       "        text-align: right;\n",
       "    }\n",
       "</style>\n",
       "<table border=\"1\" class=\"dataframe\">\n",
       "  <thead>\n",
       "    <tr style=\"text-align: right;\">\n",
       "      <th></th>\n",
       "      <th>avgmu</th>\n",
       "      <th>trig_L2_cl_et</th>\n",
       "      <th>trig_L2_cl_eta</th>\n",
       "      <th>trig_L2_cl_phi</th>\n",
       "      <th>trig_L2_cl_reta</th>\n",
       "      <th>trig_L2_cl_ehad1</th>\n",
       "      <th>trig_L2_cl_eratio</th>\n",
       "      <th>trig_L2_cl_f1</th>\n",
       "      <th>trig_L2_cl_f3</th>\n",
       "      <th>trig_L2_cl_weta2</th>\n",
       "      <th>...</th>\n",
       "      <th>L1Calo_e140_lhloose_nod0_ringer_v8_half</th>\n",
       "      <th>L2Calo_e140_lhloose_nod0_ringer_v8_half</th>\n",
       "      <th>L2_e140_lhloose_nod0_ringer_v8_half</th>\n",
       "      <th>EFCalo_e140_lhloose_nod0_ringer_v8_half</th>\n",
       "      <th>HLT_e140_lhloose_nod0_ringer_v8_half</th>\n",
       "      <th>L1Calo_e140_lhloose_nod0_ringer_v8_14</th>\n",
       "      <th>L2Calo_e140_lhloose_nod0_ringer_v8_14</th>\n",
       "      <th>L2_e140_lhloose_nod0_ringer_v8_14</th>\n",
       "      <th>EFCalo_e140_lhloose_nod0_ringer_v8_14</th>\n",
       "      <th>HLT_e140_lhloose_nod0_ringer_v8_14</th>\n",
       "    </tr>\n",
       "  </thead>\n",
       "  <tbody>\n",
       "    <tr>\n",
       "      <th>0</th>\n",
       "      <td>44.700001</td>\n",
       "      <td>26398.796875</td>\n",
       "      <td>0.250705</td>\n",
       "      <td>-2.414006</td>\n",
       "      <td>0.954793</td>\n",
       "      <td>-74.0</td>\n",
       "      <td>0.763824</td>\n",
       "      <td>0.392083</td>\n",
       "      <td>0.004345</td>\n",
       "      <td>0.010794</td>\n",
       "      <td>...</td>\n",
       "      <td>True</td>\n",
       "      <td>False</td>\n",
       "      <td>False</td>\n",
       "      <td>False</td>\n",
       "      <td>False</td>\n",
       "      <td>True</td>\n",
       "      <td>False</td>\n",
       "      <td>False</td>\n",
       "      <td>False</td>\n",
       "      <td>False</td>\n",
       "    </tr>\n",
       "    <tr>\n",
       "      <th>1</th>\n",
       "      <td>44.700001</td>\n",
       "      <td>23008.484375</td>\n",
       "      <td>-0.403327</td>\n",
       "      <td>-0.753800</td>\n",
       "      <td>0.978263</td>\n",
       "      <td>95.0</td>\n",
       "      <td>0.980205</td>\n",
       "      <td>0.413226</td>\n",
       "      <td>0.006821</td>\n",
       "      <td>0.009745</td>\n",
       "      <td>...</td>\n",
       "      <td>False</td>\n",
       "      <td>False</td>\n",
       "      <td>False</td>\n",
       "      <td>False</td>\n",
       "      <td>False</td>\n",
       "      <td>False</td>\n",
       "      <td>False</td>\n",
       "      <td>False</td>\n",
       "      <td>False</td>\n",
       "      <td>False</td>\n",
       "    </tr>\n",
       "    <tr>\n",
       "      <th>2</th>\n",
       "      <td>44.700001</td>\n",
       "      <td>28512.113281</td>\n",
       "      <td>-0.515492</td>\n",
       "      <td>-2.855384</td>\n",
       "      <td>0.973710</td>\n",
       "      <td>-2.5</td>\n",
       "      <td>0.972953</td>\n",
       "      <td>0.337749</td>\n",
       "      <td>0.009368</td>\n",
       "      <td>0.009951</td>\n",
       "      <td>...</td>\n",
       "      <td>True</td>\n",
       "      <td>False</td>\n",
       "      <td>False</td>\n",
       "      <td>False</td>\n",
       "      <td>False</td>\n",
       "      <td>True</td>\n",
       "      <td>False</td>\n",
       "      <td>False</td>\n",
       "      <td>False</td>\n",
       "      <td>False</td>\n",
       "    </tr>\n",
       "    <tr>\n",
       "      <th>3</th>\n",
       "      <td>44.700001</td>\n",
       "      <td>27343.960938</td>\n",
       "      <td>0.072971</td>\n",
       "      <td>3.106292</td>\n",
       "      <td>0.943693</td>\n",
       "      <td>-31.0</td>\n",
       "      <td>0.968486</td>\n",
       "      <td>0.449681</td>\n",
       "      <td>0.004461</td>\n",
       "      <td>0.011055</td>\n",
       "      <td>...</td>\n",
       "      <td>True</td>\n",
       "      <td>False</td>\n",
       "      <td>False</td>\n",
       "      <td>False</td>\n",
       "      <td>False</td>\n",
       "      <td>True</td>\n",
       "      <td>False</td>\n",
       "      <td>False</td>\n",
       "      <td>False</td>\n",
       "      <td>False</td>\n",
       "    </tr>\n",
       "    <tr>\n",
       "      <th>4</th>\n",
       "      <td>44.630001</td>\n",
       "      <td>27754.544922</td>\n",
       "      <td>0.777727</td>\n",
       "      <td>-0.467789</td>\n",
       "      <td>0.886613</td>\n",
       "      <td>-87.0</td>\n",
       "      <td>0.984637</td>\n",
       "      <td>0.455884</td>\n",
       "      <td>0.002795</td>\n",
       "      <td>0.010483</td>\n",
       "      <td>...</td>\n",
       "      <td>False</td>\n",
       "      <td>False</td>\n",
       "      <td>False</td>\n",
       "      <td>False</td>\n",
       "      <td>False</td>\n",
       "      <td>False</td>\n",
       "      <td>False</td>\n",
       "      <td>False</td>\n",
       "      <td>False</td>\n",
       "      <td>False</td>\n",
       "    </tr>\n",
       "  </tbody>\n",
       "</table>\n",
       "<p>5 rows × 283 columns</p>\n",
       "</div>"
      ],
      "text/plain": [
       "       avgmu  trig_L2_cl_et  trig_L2_cl_eta  trig_L2_cl_phi  trig_L2_cl_reta  \\\n",
       "0  44.700001   26398.796875        0.250705       -2.414006         0.954793   \n",
       "1  44.700001   23008.484375       -0.403327       -0.753800         0.978263   \n",
       "2  44.700001   28512.113281       -0.515492       -2.855384         0.973710   \n",
       "3  44.700001   27343.960938        0.072971        3.106292         0.943693   \n",
       "4  44.630001   27754.544922        0.777727       -0.467789         0.886613   \n",
       "\n",
       "   trig_L2_cl_ehad1  trig_L2_cl_eratio  trig_L2_cl_f1  trig_L2_cl_f3  \\\n",
       "0             -74.0           0.763824       0.392083       0.004345   \n",
       "1              95.0           0.980205       0.413226       0.006821   \n",
       "2              -2.5           0.972953       0.337749       0.009368   \n",
       "3             -31.0           0.968486       0.449681       0.004461   \n",
       "4             -87.0           0.984637       0.455884       0.002795   \n",
       "\n",
       "   trig_L2_cl_weta2  ...  L1Calo_e140_lhloose_nod0_ringer_v8_half  \\\n",
       "0          0.010794  ...                                     True   \n",
       "1          0.009745  ...                                    False   \n",
       "2          0.009951  ...                                     True   \n",
       "3          0.011055  ...                                     True   \n",
       "4          0.010483  ...                                    False   \n",
       "\n",
       "   L2Calo_e140_lhloose_nod0_ringer_v8_half  \\\n",
       "0                                    False   \n",
       "1                                    False   \n",
       "2                                    False   \n",
       "3                                    False   \n",
       "4                                    False   \n",
       "\n",
       "   L2_e140_lhloose_nod0_ringer_v8_half  \\\n",
       "0                                False   \n",
       "1                                False   \n",
       "2                                False   \n",
       "3                                False   \n",
       "4                                False   \n",
       "\n",
       "   EFCalo_e140_lhloose_nod0_ringer_v8_half  \\\n",
       "0                                    False   \n",
       "1                                    False   \n",
       "2                                    False   \n",
       "3                                    False   \n",
       "4                                    False   \n",
       "\n",
       "   HLT_e140_lhloose_nod0_ringer_v8_half  \\\n",
       "0                                 False   \n",
       "1                                 False   \n",
       "2                                 False   \n",
       "3                                 False   \n",
       "4                                 False   \n",
       "\n",
       "   L1Calo_e140_lhloose_nod0_ringer_v8_14  \\\n",
       "0                                   True   \n",
       "1                                  False   \n",
       "2                                   True   \n",
       "3                                   True   \n",
       "4                                  False   \n",
       "\n",
       "   L2Calo_e140_lhloose_nod0_ringer_v8_14  L2_e140_lhloose_nod0_ringer_v8_14  \\\n",
       "0                                  False                              False   \n",
       "1                                  False                              False   \n",
       "2                                  False                              False   \n",
       "3                                  False                              False   \n",
       "4                                  False                              False   \n",
       "\n",
       "   EFCalo_e140_lhloose_nod0_ringer_v8_14  HLT_e140_lhloose_nod0_ringer_v8_14  \n",
       "0                                  False                               False  \n",
       "1                                  False                               False  \n",
       "2                                  False                               False  \n",
       "3                                  False                               False  \n",
       "4                                  False                               False  \n",
       "\n",
       "[5 rows x 283 columns]"
      ]
     },
     "execution_count": 15,
     "metadata": {},
     "output_type": "execute_result"
    }
   ],
   "source": [
    "table.head()"
   ]
  },
  {
   "cell_type": "markdown",
   "metadata": {
    "tags": []
   },
   "source": [
    "## Efficiency plots"
   ]
  },
  {
   "cell_type": "markdown",
   "metadata": {
    "tags": []
   },
   "source": [
    "### Efficiency with respect to $E_T$"
   ]
  },
  {
   "cell_type": "code",
   "execution_count": null,
   "metadata": {},
   "outputs": [],
   "source": [
    "def make_et_plot(dataframe, chain, fake=False):\n",
    "    var = 'trig_L2_cl_et'\n",
    "    from Gaugi.constants import GeV\n",
    "    # plot in eta need sum 1 in chain threshold \n",
    "\n",
    "    m_bins = [4,7,10,15,20,25,30,35,40,45,50,60,80,150,300] # et_bins\n",
    "    #m_bins = [15, 20, 30, 40, 50, 1000000]\n",
    "    #m_bins = np.arange(3, 16, step=.5).tolist()\n",
    "    et_cut  = int(chain.split('_')[1][1:])\n",
    "    offline = chain.split('_')[2]\n",
    "    if fake:\n",
    "        #aux_df = dataframe.loc[(dataframe.target != 1) & (dataframe.el_lhvloose != 1) &\\\n",
    "        aux_df = dataframe.loc[(dataframe.target != 1) & (dataframe.el_et >= (et_cut - 5)*GeV) & (np.abs(dataframe.el_eta) <=2.47)]\n",
    "        #                                                                                *GeV\n",
    "    else:\n",
    "        aux_df = dataframe.loc[(dataframe.target == 1) & (dataframe['el_%s' %(offline)] == 1) & (dataframe.el_et >= (et_cut - 5)*GeV) & (np.abs(dataframe.el_eta) <=2.47)]\n",
    "        #                                                                                                                       *GeV\n",
    "    \n",
    "    #step_decision = chain_step + '_' + '_'.join(chain.split('_')[1:])\n",
    "    step_decision = chain\n",
    "    #'L2Calo_e26_lhtight_nod0_ringer_v8_34_ivarloose'\n",
    "    # cuts for all\n",
    "    total   = aux_df\n",
    "    passed  = aux_df.loc[(aux_df[step_decision] == 1)]\n",
    "    \n",
    "    h_num = hist1d('et_num', passed[var]/GeV, m_bins )\n",
    "    #                                       /GeV\n",
    "    h_den = hist1d('et_den', total[var]/GeV, m_bins )\n",
    "    #                                      /GeV\n",
    "    h_eff = rpl.hist1d.divide(h_num,h_den) \n",
    "    \n",
    "    return h_eff, len(passed)/len(total)"
   ]
  },
  {
   "cell_type": "code",
   "execution_count": 30,
   "metadata": {},
   "outputs": [
    {
     "name": "stdout",
     "output_type": "stream",
     "text": [
      "[[<ROOT.TH1F object (\"et_num_ratio\") at 0x27649a90> 0.49028507426864715]\n",
      " [<ROOT.TH1F object (\"et_num_ratio\") at 0x2e3dd350> 0.4937503095320637]\n",
      " [<ROOT.TH1F object (\"et_num_ratio\") at 0x275fc720> 0.493592591040523]\n",
      " [<ROOT.TH1F object (\"et_num_ratio\") at 0x27660c70> 0.49245884652162153]]\n",
      "Saving /home/pedro.lima/workspace/CERN-ATLAS-Qualify-1/analysis/kepler/kepler_imgs/effs/et/eff_et_L2Calo_e24_lhtight_root\n",
      "[[<ROOT.TH1F object (\"et_num_ratio\") at 0x2680a220> 0.5064883542460803]\n",
      " [<ROOT.TH1F object (\"et_num_ratio\") at 0x278848d0> 0.5100004968897071]\n",
      " [<ROOT.TH1F object (\"et_num_ratio\") at 0x276b1ec0> 0.5098372331288198]\n",
      " [<ROOT.TH1F object (\"et_num_ratio\") at 0x267ddd70> 0.5086652043912431]]\n",
      "Saving /home/pedro.lima/workspace/CERN-ATLAS-Qualify-1/analysis/kepler/kepler_imgs/effs/et/eff_et_L2Calo_e26_lhtight_root\n",
      "[[<ROOT.TH1F object (\"et_num_ratio\") at 0x275fc720> 0.0]\n",
      " [<ROOT.TH1F object (\"et_num_ratio\") at 0x27660c70> 0.0]\n",
      " [<ROOT.TH1F object (\"et_num_ratio\") at 0x879d3e0> 0.0]\n",
      " [<ROOT.TH1F object (\"et_num_ratio\") at 0x2764c290> 0.0]]\n",
      "Saving /home/pedro.lima/workspace/CERN-ATLAS-Qualify-1/analysis/kepler/kepler_imgs/effs/et/eff_et_L2Calo_e60_lhmedium_root\n"
     ]
    },
    {
     "ename": "ZeroDivisionError",
     "evalue": "division by zero",
     "output_type": "error",
     "traceback": [
      "\u001b[0;31m---------------------------------------------------------------------------\u001b[0m",
      "\u001b[0;31mZeroDivisionError\u001b[0m                         Traceback (most recent call last)",
      "\u001b[0;32m<ipython-input-30-e98e9015f94b>\u001b[0m in \u001b[0;36m<module>\u001b[0;34m\u001b[0m\n\u001b[1;32m      6\u001b[0m         \u001b[0mtrigger\u001b[0m \u001b[0;34m=\u001b[0m \u001b[0mstep\u001b[0m\u001b[0;34m+\u001b[0m\u001b[0;34m'_'\u001b[0m\u001b[0;34m+\u001b[0m\u001b[0mchain\u001b[0m\u001b[0;34m\u001b[0m\u001b[0;34m\u001b[0m\u001b[0m\n\u001b[1;32m      7\u001b[0m \u001b[0;34m\u001b[0m\u001b[0m\n\u001b[0;32m----> 8\u001b[0;31m         \u001b[0mm_info\u001b[0m \u001b[0;34m=\u001b[0m \u001b[0mnp\u001b[0m\u001b[0;34m.\u001b[0m\u001b[0marray\u001b[0m\u001b[0;34m(\u001b[0m\u001b[0;34m[\u001b[0m\u001b[0mmake_et_plot\u001b[0m\u001b[0;34m(\u001b[0m\u001b[0mtable\u001b[0m\u001b[0;34m,\u001b[0m \u001b[0mtrigger\u001b[0m\u001b[0;34m.\u001b[0m\u001b[0mformat\u001b[0m\u001b[0;34m(\u001b[0m\u001b[0mRINGER\u001b[0m\u001b[0;34m=\u001b[0m\u001b[0malg\u001b[0m\u001b[0;34m)\u001b[0m\u001b[0;34m)\u001b[0m \u001b[0;32mfor\u001b[0m \u001b[0malg\u001b[0m \u001b[0;32min\u001b[0m \u001b[0mringer_list\u001b[0m\u001b[0;34m]\u001b[0m\u001b[0;34m)\u001b[0m\u001b[0;34m\u001b[0m\u001b[0;34m\u001b[0m\u001b[0m\n\u001b[0m\u001b[1;32m      9\u001b[0m         \u001b[0mprint\u001b[0m\u001b[0;34m(\u001b[0m\u001b[0mm_info\u001b[0m\u001b[0;34m)\u001b[0m\u001b[0;34m\u001b[0m\u001b[0;34m\u001b[0m\u001b[0m\n\u001b[1;32m     10\u001b[0m \u001b[0;34m\u001b[0m\u001b[0m\n",
      "\u001b[0;32m<ipython-input-30-e98e9015f94b>\u001b[0m in \u001b[0;36m<listcomp>\u001b[0;34m(.0)\u001b[0m\n\u001b[1;32m      6\u001b[0m         \u001b[0mtrigger\u001b[0m \u001b[0;34m=\u001b[0m \u001b[0mstep\u001b[0m\u001b[0;34m+\u001b[0m\u001b[0;34m'_'\u001b[0m\u001b[0;34m+\u001b[0m\u001b[0mchain\u001b[0m\u001b[0;34m\u001b[0m\u001b[0;34m\u001b[0m\u001b[0m\n\u001b[1;32m      7\u001b[0m \u001b[0;34m\u001b[0m\u001b[0m\n\u001b[0;32m----> 8\u001b[0;31m         \u001b[0mm_info\u001b[0m \u001b[0;34m=\u001b[0m \u001b[0mnp\u001b[0m\u001b[0;34m.\u001b[0m\u001b[0marray\u001b[0m\u001b[0;34m(\u001b[0m\u001b[0;34m[\u001b[0m\u001b[0mmake_et_plot\u001b[0m\u001b[0;34m(\u001b[0m\u001b[0mtable\u001b[0m\u001b[0;34m,\u001b[0m \u001b[0mtrigger\u001b[0m\u001b[0;34m.\u001b[0m\u001b[0mformat\u001b[0m\u001b[0;34m(\u001b[0m\u001b[0mRINGER\u001b[0m\u001b[0;34m=\u001b[0m\u001b[0malg\u001b[0m\u001b[0;34m)\u001b[0m\u001b[0;34m)\u001b[0m \u001b[0;32mfor\u001b[0m \u001b[0malg\u001b[0m \u001b[0;32min\u001b[0m \u001b[0mringer_list\u001b[0m\u001b[0;34m]\u001b[0m\u001b[0;34m)\u001b[0m\u001b[0;34m\u001b[0m\u001b[0;34m\u001b[0m\u001b[0m\n\u001b[0m\u001b[1;32m      9\u001b[0m         \u001b[0mprint\u001b[0m\u001b[0;34m(\u001b[0m\u001b[0mm_info\u001b[0m\u001b[0;34m)\u001b[0m\u001b[0;34m\u001b[0m\u001b[0;34m\u001b[0m\u001b[0m\n\u001b[1;32m     10\u001b[0m \u001b[0;34m\u001b[0m\u001b[0m\n",
      "\u001b[0;32m<ipython-input-16-dcaeabaae5e7>\u001b[0m in \u001b[0;36mmake_et_plot\u001b[0;34m(dataframe, chain, fake)\u001b[0m\n\u001b[1;32m     30\u001b[0m     \u001b[0mh_eff\u001b[0m \u001b[0;34m=\u001b[0m \u001b[0mrpl\u001b[0m\u001b[0;34m.\u001b[0m\u001b[0mhist1d\u001b[0m\u001b[0;34m.\u001b[0m\u001b[0mdivide\u001b[0m\u001b[0;34m(\u001b[0m\u001b[0mh_num\u001b[0m\u001b[0;34m,\u001b[0m\u001b[0mh_den\u001b[0m\u001b[0;34m)\u001b[0m\u001b[0;34m\u001b[0m\u001b[0;34m\u001b[0m\u001b[0m\n\u001b[1;32m     31\u001b[0m \u001b[0;34m\u001b[0m\u001b[0m\n\u001b[0;32m---> 32\u001b[0;31m     \u001b[0;32mreturn\u001b[0m \u001b[0mh_eff\u001b[0m\u001b[0;34m,\u001b[0m \u001b[0mlen\u001b[0m\u001b[0;34m(\u001b[0m\u001b[0mpassed\u001b[0m\u001b[0;34m)\u001b[0m\u001b[0;34m/\u001b[0m\u001b[0mlen\u001b[0m\u001b[0;34m(\u001b[0m\u001b[0mtotal\u001b[0m\u001b[0;34m)\u001b[0m\u001b[0;34m\u001b[0m\u001b[0;34m\u001b[0m\u001b[0m\n\u001b[0m",
      "\u001b[0;31mZeroDivisionError\u001b[0m: division by zero"
     ]
    },
    {
     "name": "stderr",
     "output_type": "stream",
     "text": [
      "Info in <TCanvas::Print>: pdf file /home/pedro.lima/workspace/CERN-ATLAS-Qualify-1/analysis/kepler/kepler_imgs/effs/et/eff_et_L2Calo_e24_lhtight_root.pdf has been created\n",
      "Info in <TCanvas::Print>: png file /home/pedro.lima/workspace/CERN-ATLAS-Qualify-1/analysis/kepler/kepler_imgs/effs/et/eff_et_L2Calo_e24_lhtight_root.png has been created\n",
      "Warning in <TCanvas::Constructor>: Deleting canvas with same name: canvas\n",
      "Info in <TCanvas::Print>: pdf file /home/pedro.lima/workspace/CERN-ATLAS-Qualify-1/analysis/kepler/kepler_imgs/effs/et/eff_et_L2Calo_e26_lhtight_root.pdf has been created\n",
      "Info in <TCanvas::Print>: png file /home/pedro.lima/workspace/CERN-ATLAS-Qualify-1/analysis/kepler/kepler_imgs/effs/et/eff_et_L2Calo_e26_lhtight_root.png has been created\n",
      "Warning in <TCanvas::Constructor>: Deleting canvas with same name: canvas\n",
      "Info in <TCanvas::Print>: pdf file /home/pedro.lima/workspace/CERN-ATLAS-Qualify-1/analysis/kepler/kepler_imgs/effs/et/eff_et_L2Calo_e60_lhmedium_root.pdf has been created\n",
      "Info in <TCanvas::Print>: png file /home/pedro.lima/workspace/CERN-ATLAS-Qualify-1/analysis/kepler/kepler_imgs/effs/et/eff_et_L2Calo_e60_lhmedium_root.png has been created\n"
     ]
    },
    {
     "data": {
      "image/png": "[encoded data removed]",
      "text/plain": [
       "<IPython.core.display.Image object>"
      ]
     },
     "metadata": {},
     "output_type": "display_data"
    }
   ],
   "source": [
    "for step in steps:\n",
    "    plot_path = '/home/pedro.lima/workspace/CERN-ATLAS-Qualify-1/analysis/kepler/kepler_imgs/effs/et'\n",
    "    \n",
    "    for chain in chain_list:\n",
    "\n",
    "        trigger = step+'_'+chain\n",
    "        \n",
    "        m_info = np.array([make_et_plot(table, trigger.format(RINGER=alg)) for alg in ringer_list])\n",
    "\n",
    "        # make the plot\n",
    "        fig = rpl.create_canvas('my_canvas', canw=1400, canh=1000)\n",
    "        fig = rpl.plot_profiles( m_info[:,0], 'E_{T} [GeV]', colors, markers)\n",
    "        #rpl.set_atlas_label(0.15,0.85,'Internal, pp data #sqrt{s}= 13TeV')\n",
    "        rpl.format_canvas_axes(YTitleOffset = 0.95)\n",
    "        labels = []\n",
    "        for idx, ilabel in enumerate(label_list):\n",
    "            labels.append('%s - P_{D} (%s): %1.2f %%' %(ilabel, step, m_info[idx, 1]*100))\n",
    "        add_legend( 0.55,0.15, labels)\n",
    "        rpl.add_text( 0.55, 0.35, '%s_%s_%s_nod0' %(step, chain.split('_')[0], chain.split('_')[1]), textsize=0.04)\n",
    "        rpl.fix_yaxis_ranges( ignore_zeros=True, ignore_errors=True , yminf=-0.5, ymaxf=1.1) \n",
    "        fig.show()\n",
    "        print('Saving '+ plot_path+'/eff_et_%s_%s_%s_root' %(step, chain.split('_')[0], chain.split('_')[1]))\n",
    "        fig.savefig(plot_path+'/eff_et_%s_%s_%s_root.pdf' %(step, chain.split('_')[0], chain.split('_')[1]))\n",
    "        fig.savefig(plot_path+'/eff_et_%s_%s_%s_root.png' %(step, chain.split('_')[0], chain.split('_')[1]))"
   ]
  },
  {
   "cell_type": "code",
   "execution_count": 33,
   "metadata": {},
   "outputs": [
    {
     "name": "stdout",
     "output_type": "stream",
     "text": [
      "Saving /home/pedro.lima/workspace/CERN-ATLAS-Qualify-1/analysis/kepler/kepler_imgs/frs/et/fr_et_L2Calo_e24_lhtight_root\n",
      "Saving /home/pedro.lima/workspace/CERN-ATLAS-Qualify-1/analysis/kepler/kepler_imgs/frs/et/fr_et_L2Calo_e26_lhtight_root\n",
      "Saving /home/pedro.lima/workspace/CERN-ATLAS-Qualify-1/analysis/kepler/kepler_imgs/frs/et/fr_et_L2Calo_e60_lhmedium_root\n",
      "Saving /home/pedro.lima/workspace/CERN-ATLAS-Qualify-1/analysis/kepler/kepler_imgs/frs/et/fr_et_L2Calo_e140_lhloose_root\n",
      "Saving /home/pedro.lima/workspace/CERN-ATLAS-Qualify-1/analysis/kepler/kepler_imgs/frs/et/fr_et_L2_e24_lhtight_root\n",
      "Saving /home/pedro.lima/workspace/CERN-ATLAS-Qualify-1/analysis/kepler/kepler_imgs/frs/et/fr_et_L2_e26_lhtight_root\n",
      "Saving /home/pedro.lima/workspace/CERN-ATLAS-Qualify-1/analysis/kepler/kepler_imgs/frs/et/fr_et_L2_e60_lhmedium_root\n",
      "Saving /home/pedro.lima/workspace/CERN-ATLAS-Qualify-1/analysis/kepler/kepler_imgs/frs/et/fr_et_L2_e140_lhloose_root\n",
      "Saving /home/pedro.lima/workspace/CERN-ATLAS-Qualify-1/analysis/kepler/kepler_imgs/frs/et/fr_et_EFCalo_e24_lhtight_root\n",
      "Saving /home/pedro.lima/workspace/CERN-ATLAS-Qualify-1/analysis/kepler/kepler_imgs/frs/et/fr_et_EFCalo_e26_lhtight_root\n",
      "Saving /home/pedro.lima/workspace/CERN-ATLAS-Qualify-1/analysis/kepler/kepler_imgs/frs/et/fr_et_EFCalo_e60_lhmedium_root\n",
      "Saving /home/pedro.lima/workspace/CERN-ATLAS-Qualify-1/analysis/kepler/kepler_imgs/frs/et/fr_et_EFCalo_e140_lhloose_root\n",
      "Saving /home/pedro.lima/workspace/CERN-ATLAS-Qualify-1/analysis/kepler/kepler_imgs/frs/et/fr_et_HLT_e24_lhtight_root\n",
      "Saving /home/pedro.lima/workspace/CERN-ATLAS-Qualify-1/analysis/kepler/kepler_imgs/frs/et/fr_et_HLT_e26_lhtight_root\n",
      "Saving /home/pedro.lima/workspace/CERN-ATLAS-Qualify-1/analysis/kepler/kepler_imgs/frs/et/fr_et_HLT_e60_lhmedium_root\n",
      "Saving /home/pedro.lima/workspace/CERN-ATLAS-Qualify-1/analysis/kepler/kepler_imgs/frs/et/fr_et_HLT_e140_lhloose_root\n"
     ]
    },
    {
     "name": "stderr",
     "output_type": "stream",
     "text": [
      "Warning in <TCanvas::Constructor>: Deleting canvas with same name: canvas\n",
      "Info in <TCanvas::Print>: pdf file /home/pedro.lima/workspace/CERN-ATLAS-Qualify-1/analysis/kepler/kepler_imgs/frs/et/fr_et_L2Calo_e24_lhtight_root.pdf has been created\n",
      "Info in <TCanvas::Print>: png file /home/pedro.lima/workspace/CERN-ATLAS-Qualify-1/analysis/kepler/kepler_imgs/frs/et/fr_et_L2Calo_e24_lhtight_root.png has been created\n",
      "Warning in <TCanvas::Constructor>: Deleting canvas with same name: canvas\n",
      "Info in <TCanvas::Print>: pdf file /home/pedro.lima/workspace/CERN-ATLAS-Qualify-1/analysis/kepler/kepler_imgs/frs/et/fr_et_L2Calo_e26_lhtight_root.pdf has been created\n",
      "Info in <TCanvas::Print>: png file /home/pedro.lima/workspace/CERN-ATLAS-Qualify-1/analysis/kepler/kepler_imgs/frs/et/fr_et_L2Calo_e26_lhtight_root.png has been created\n",
      "Warning in <TCanvas::Constructor>: Deleting canvas with same name: canvas\n",
      "Info in <TCanvas::Print>: pdf file /home/pedro.lima/workspace/CERN-ATLAS-Qualify-1/analysis/kepler/kepler_imgs/frs/et/fr_et_L2Calo_e60_lhmedium_root.pdf has been created\n",
      "Info in <TCanvas::Print>: png file /home/pedro.lima/workspace/CERN-ATLAS-Qualify-1/analysis/kepler/kepler_imgs/frs/et/fr_et_L2Calo_e60_lhmedium_root.png has been created\n",
      "Warning in <TCanvas::Constructor>: Deleting canvas with same name: canvas\n",
      "Info in <TCanvas::Print>: pdf file /home/pedro.lima/workspace/CERN-ATLAS-Qualify-1/analysis/kepler/kepler_imgs/frs/et/fr_et_L2Calo_e140_lhloose_root.pdf has been created\n",
      "Info in <TCanvas::Print>: png file /home/pedro.lima/workspace/CERN-ATLAS-Qualify-1/analysis/kepler/kepler_imgs/frs/et/fr_et_L2Calo_e140_lhloose_root.png has been created\n",
      "Warning in <TCanvas::Constructor>: Deleting canvas with same name: canvas\n",
      "Info in <TCanvas::Print>: pdf file /home/pedro.lima/workspace/CERN-ATLAS-Qualify-1/analysis/kepler/kepler_imgs/frs/et/fr_et_L2_e24_lhtight_root.pdf has been created\n",
      "Info in <TCanvas::Print>: png file /home/pedro.lima/workspace/CERN-ATLAS-Qualify-1/analysis/kepler/kepler_imgs/frs/et/fr_et_L2_e24_lhtight_root.png has been created\n",
      "Warning in <TCanvas::Constructor>: Deleting canvas with same name: canvas\n",
      "Info in <TCanvas::Print>: pdf file /home/pedro.lima/workspace/CERN-ATLAS-Qualify-1/analysis/kepler/kepler_imgs/frs/et/fr_et_L2_e26_lhtight_root.pdf has been created\n",
      "Info in <TCanvas::Print>: png file /home/pedro.lima/workspace/CERN-ATLAS-Qualify-1/analysis/kepler/kepler_imgs/frs/et/fr_et_L2_e26_lhtight_root.png has been created\n",
      "Warning in <TCanvas::Constructor>: Deleting canvas with same name: canvas\n",
      "Info in <TCanvas::Print>: pdf file /home/pedro.lima/workspace/CERN-ATLAS-Qualify-1/analysis/kepler/kepler_imgs/frs/et/fr_et_L2_e60_lhmedium_root.pdf has been created\n",
      "Info in <TCanvas::Print>: png file /home/pedro.lima/workspace/CERN-ATLAS-Qualify-1/analysis/kepler/kepler_imgs/frs/et/fr_et_L2_e60_lhmedium_root.png has been created\n",
      "Warning in <TCanvas::Constructor>: Deleting canvas with same name: canvas\n",
      "Info in <TCanvas::Print>: pdf file /home/pedro.lima/workspace/CERN-ATLAS-Qualify-1/analysis/kepler/kepler_imgs/frs/et/fr_et_L2_e140_lhloose_root.pdf has been created\n",
      "Info in <TCanvas::Print>: png file /home/pedro.lima/workspace/CERN-ATLAS-Qualify-1/analysis/kepler/kepler_imgs/frs/et/fr_et_L2_e140_lhloose_root.png has been created\n",
      "Warning in <TCanvas::Constructor>: Deleting canvas with same name: canvas\n",
      "Info in <TCanvas::Print>: pdf file /home/pedro.lima/workspace/CERN-ATLAS-Qualify-1/analysis/kepler/kepler_imgs/frs/et/fr_et_EFCalo_e24_lhtight_root.pdf has been created\n",
      "Info in <TCanvas::Print>: png file /home/pedro.lima/workspace/CERN-ATLAS-Qualify-1/analysis/kepler/kepler_imgs/frs/et/fr_et_EFCalo_e24_lhtight_root.png has been created\n",
      "Warning in <TCanvas::Constructor>: Deleting canvas with same name: canvas\n",
      "Info in <TCanvas::Print>: pdf file /home/pedro.lima/workspace/CERN-ATLAS-Qualify-1/analysis/kepler/kepler_imgs/frs/et/fr_et_EFCalo_e26_lhtight_root.pdf has been created\n",
      "Info in <TCanvas::Print>: png file /home/pedro.lima/workspace/CERN-ATLAS-Qualify-1/analysis/kepler/kepler_imgs/frs/et/fr_et_EFCalo_e26_lhtight_root.png has been created\n",
      "Warning in <TCanvas::Constructor>: Deleting canvas with same name: canvas\n",
      "Info in <TCanvas::Print>: pdf file /home/pedro.lima/workspace/CERN-ATLAS-Qualify-1/analysis/kepler/kepler_imgs/frs/et/fr_et_EFCalo_e60_lhmedium_root.pdf has been created\n",
      "Info in <TCanvas::Print>: png file /home/pedro.lima/workspace/CERN-ATLAS-Qualify-1/analysis/kepler/kepler_imgs/frs/et/fr_et_EFCalo_e60_lhmedium_root.png has been created\n",
      "Warning in <TCanvas::Constructor>: Deleting canvas with same name: canvas\n",
      "Info in <TCanvas::Print>: pdf file /home/pedro.lima/workspace/CERN-ATLAS-Qualify-1/analysis/kepler/kepler_imgs/frs/et/fr_et_EFCalo_e140_lhloose_root.pdf has been created\n",
      "Info in <TCanvas::Print>: png file /home/pedro.lima/workspace/CERN-ATLAS-Qualify-1/analysis/kepler/kepler_imgs/frs/et/fr_et_EFCalo_e140_lhloose_root.png has been created\n",
      "Warning in <TCanvas::Constructor>: Deleting canvas with same name: canvas\n",
      "Info in <TCanvas::Print>: pdf file /home/pedro.lima/workspace/CERN-ATLAS-Qualify-1/analysis/kepler/kepler_imgs/frs/et/fr_et_HLT_e24_lhtight_root.pdf has been created\n",
      "Info in <TCanvas::Print>: png file /home/pedro.lima/workspace/CERN-ATLAS-Qualify-1/analysis/kepler/kepler_imgs/frs/et/fr_et_HLT_e24_lhtight_root.png has been created\n",
      "Warning in <TCanvas::Constructor>: Deleting canvas with same name: canvas\n",
      "Info in <TCanvas::Print>: pdf file /home/pedro.lima/workspace/CERN-ATLAS-Qualify-1/analysis/kepler/kepler_imgs/frs/et/fr_et_HLT_e26_lhtight_root.pdf has been created\n",
      "Info in <TCanvas::Print>: png file /home/pedro.lima/workspace/CERN-ATLAS-Qualify-1/analysis/kepler/kepler_imgs/frs/et/fr_et_HLT_e26_lhtight_root.png has been created\n",
      "Warning in <TCanvas::Constructor>: Deleting canvas with same name: canvas\n",
      "Info in <TCanvas::Print>: pdf file /home/pedro.lima/workspace/CERN-ATLAS-Qualify-1/analysis/kepler/kepler_imgs/frs/et/fr_et_HLT_e60_lhmedium_root.pdf has been created\n",
      "Info in <TCanvas::Print>: png file /home/pedro.lima/workspace/CERN-ATLAS-Qualify-1/analysis/kepler/kepler_imgs/frs/et/fr_et_HLT_e60_lhmedium_root.png has been created\n",
      "Warning in <TCanvas::Constructor>: Deleting canvas with same name: canvas\n",
      "Info in <TCanvas::Print>: pdf file /home/pedro.lima/workspace/CERN-ATLAS-Qualify-1/analysis/kepler/kepler_imgs/frs/et/fr_et_HLT_e140_lhloose_root.pdf has been created\n",
      "Info in <TCanvas::Print>: png file /home/pedro.lima/workspace/CERN-ATLAS-Qualify-1/analysis/kepler/kepler_imgs/frs/et/fr_et_HLT_e140_lhloose_root.png has been created\n"
     ]
    },
    {
     "data": {
      "image/png": "[encoded data removed]",
      "text/plain": [
       "<IPython.core.display.Image object>"
      ]
     },
     "metadata": {},
     "output_type": "display_data"
    }
   ],
   "source": [
    "for step in steps:\n",
    "    plot_path = '/home/pedro.lima/workspace/CERN-ATLAS-Qualify-1/analysis/kepler/kepler_imgs/frs/et'\n",
    "\n",
    "    for chain in chain_list:\n",
    "        trigger = step+'_'+chain\n",
    "\n",
    "        m_info = np.array([make_et_plot(table, trigger.format(RINGER=alg), fake=True) for alg in ringer_list])\n",
    "\n",
    "        # make the plot\n",
    "        fig = rpl.create_canvas('my_canvas', canw=1400, canh=1000)\n",
    "        fig = rpl.plot_profiles( m_info[:,0], 'E_{T} [GeV]', colors, markers, ylabel='Fake Rate')\n",
    "        #rpl.set_atlas_label(0.15,0.85,'Internal, pp data #sqrt{s}= 13TeV')\n",
    "        rpl.format_canvas_axes(YTitleOffset = 0.95)\n",
    "        labels = []\n",
    "        for idx, ilabel in enumerate(label_list):\n",
    "            labels.append('%s - F_{R} (%s): %1.2f %%' %(ilabel, step, m_info[idx, 1]*100))\n",
    "        add_legend( 0.55,0.15, labels)\n",
    "        rpl.add_text( 0.55, 0.35, '%s_%s_%s_nod0' %(step, chain.split('_')[0], chain.split('_')[1]), textsize=0.04)\n",
    "        rpl.fix_yaxis_ranges( ignore_zeros=True, ignore_errors=True , yminf=-0.5, ymaxf=1.1) \n",
    "        fig.show()\n",
    "        print('Saving '+ plot_path+'/fr_et_%s_%s_%s_root' %(step, chain.split('_')[0], chain.split('_')[1]))\n",
    "        fig.savefig(plot_path+'/fr_et_%s_%s_%s_root.pdf' %(step, chain.split('_')[0], chain.split('_')[1]))\n",
    "        fig.savefig(plot_path+'/fr_et_%s_%s_%s_root.png' %(step, chain.split('_')[0], chain.split('_')[1]))"
   ]
  },
  {
   "cell_type": "markdown",
   "metadata": {
    "tags": []
   },
   "source": [
    "### Efficiency with respect to $\\eta$"
   ]
  },
  {
   "cell_type": "code",
   "execution_count": 14,
   "metadata": {},
   "outputs": [],
   "source": [
    "def make_eta_plot(dataframe, chain, fake=False):\n",
    "    var = 'trig_L2_cl_eta'\n",
    "    from Gaugi.constants import GeV\n",
    "    # plot in eta need sum 1 in chain threshold \n",
    "\n",
    "    m_bins = [-2.47,-2.37,-2.01,-1.81,-1.52,-1.37,-1.15,-0.80,-0.60,-0.10,0.00,\n",
    "              0.10, 0.60, 0.80, 1.15, 1.37, 1.52, 1.81, 2.01, 2.37, 2.47]\n",
    "    \n",
    "    et_cut  = int(chain.split('_')[1][1:])\n",
    "    offline = chain.split('_')[2]\n",
    "    if fake:\n",
    "        #aux_df = dataframe.loc[(dataframe.target != 1) & (dataframe.el_lhvloose != 1) &\\\n",
    "        aux_df = dataframe.loc[(dataframe.target != 1) & (dataframe.el_et >= (et_cut - 5)*GeV) & (np.abs(dataframe.el_eta) <=2.47)]\n",
    "        #                                                                                *GeV\n",
    "    else:\n",
    "        aux_df = dataframe.loc[(dataframe.target == 1) & (dataframe['el_%s' %(offline)] == 1) & (dataframe.el_et >= (et_cut - 5)*GeV) & (np.abs(dataframe.el_eta) <=2.47)]\n",
    "        #                                                                                                                       *GeV\n",
    "    \n",
    "    #step_decision = chain_step + '_' + '_'.join(chain.split('_')[1:])\n",
    "    step_decision = chain\n",
    "    #'L2Calo_e26_lhtight_nod0_ringer_v8_34_ivarloose'\n",
    "    # cuts for all\n",
    "    total   = aux_df\n",
    "    passed  = aux_df.loc[(aux_df[step_decision] == 1)]\n",
    "    \n",
    "    h_num = hist1d('eta_num', passed[var], m_bins )\n",
    "    h_den = hist1d('eta_den', total[var], m_bins )\n",
    "    h_eff = rpl.hist1d.divide(h_num,h_den) \n",
    "    \n",
    "    return h_eff, len(passed)/len(total)"
   ]
  },
  {
   "cell_type": "code",
   "execution_count": 15,
   "metadata": {},
   "outputs": [
    {
     "name": "stdout",
     "output_type": "stream",
     "text": [
      "Saving /home/pedro.lima/workspace/CERN-ATLAS-Qualify-1/analysis/kepler/kepler_imgs/effs/eta/eff_eta_HLT_e24_lhtight_root\n",
      "Saving /home/pedro.lima/workspace/CERN-ATLAS-Qualify-1/analysis/kepler/kepler_imgs/effs/eta/eff_eta_HLT_e26_lhtight_root\n",
      "Saving /home/pedro.lima/workspace/CERN-ATLAS-Qualify-1/analysis/kepler/kepler_imgs/effs/eta/eff_eta_HLT_e60_lhmedium_root\n",
      "Saving /home/pedro.lima/workspace/CERN-ATLAS-Qualify-1/analysis/kepler/kepler_imgs/effs/eta/eff_eta_HLT_e140_lhloose_root\n"
     ]
    },
    {
     "name": "stderr",
     "output_type": "stream",
     "text": [
      "Warning in <TCanvas::Constructor>: Deleting canvas with same name: canvas\n",
      "Info in <TCanvas::Print>: pdf file /home/pedro.lima/workspace/CERN-ATLAS-Qualify-1/analysis/kepler/kepler_imgs/effs/eta/eff_eta_HLT_e24_lhtight_root.pdf has been created\n",
      "Info in <TCanvas::Print>: png file /home/pedro.lima/workspace/CERN-ATLAS-Qualify-1/analysis/kepler/kepler_imgs/effs/eta/eff_eta_HLT_e24_lhtight_root.png has been created\n",
      "Warning in <TCanvas::Constructor>: Deleting canvas with same name: canvas\n",
      "Info in <TCanvas::Print>: pdf file /home/pedro.lima/workspace/CERN-ATLAS-Qualify-1/analysis/kepler/kepler_imgs/effs/eta/eff_eta_HLT_e26_lhtight_root.pdf has been created\n",
      "Info in <TCanvas::Print>: png file /home/pedro.lima/workspace/CERN-ATLAS-Qualify-1/analysis/kepler/kepler_imgs/effs/eta/eff_eta_HLT_e26_lhtight_root.png has been created\n",
      "Warning in <TCanvas::Constructor>: Deleting canvas with same name: canvas\n",
      "Info in <TCanvas::Print>: pdf file /home/pedro.lima/workspace/CERN-ATLAS-Qualify-1/analysis/kepler/kepler_imgs/effs/eta/eff_eta_HLT_e60_lhmedium_root.pdf has been created\n",
      "Info in <TCanvas::Print>: png file /home/pedro.lima/workspace/CERN-ATLAS-Qualify-1/analysis/kepler/kepler_imgs/effs/eta/eff_eta_HLT_e60_lhmedium_root.png has been created\n",
      "Warning in <TCanvas::Constructor>: Deleting canvas with same name: canvas\n",
      "Info in <TCanvas::Print>: pdf file /home/pedro.lima/workspace/CERN-ATLAS-Qualify-1/analysis/kepler/kepler_imgs/effs/eta/eff_eta_HLT_e140_lhloose_root.pdf has been created\n",
      "Info in <TCanvas::Print>: png file /home/pedro.lima/workspace/CERN-ATLAS-Qualify-1/analysis/kepler/kepler_imgs/effs/eta/eff_eta_HLT_e140_lhloose_root.png has been created\n"
     ]
    },
    {
     "data": {
      "image/png": "[encoded data removed]",
      "text/plain": [
       "<IPython.core.display.Image object>"
      ]
     },
     "metadata": {},
     "output_type": "display_data"
    }
   ],
   "source": [
    "for step in steps:\n",
    "    plot_path = '/home/pedro.lima/workspace/CERN-ATLAS-Qualify-1/analysis/kepler/kepler_imgs/effs/eta'\n",
    "\n",
    "    for chain in chain_list:\n",
    "\n",
    "        trigger = step+'_'+chain\n",
    "        \n",
    "        m_info = np.array([make_eta_plot(table, trigger.format(RINGER=alg)) for alg in ringer_list])\n",
    "\n",
    "        # make the plot\n",
    "        fig = rpl.create_canvas('my_canvas', canw=1400, canh=1000)\n",
    "        fig = rpl.plot_profiles( m_info[:,0], '#eta', colors, markers)\n",
    "        #rpl.set_atlas_label(0.15,0.85,'Internal, pp data #sqrt{s}= 13TeV')\n",
    "        rpl.format_canvas_axes(YTitleOffset = 0.95)\n",
    "        labels = []\n",
    "        for idx, ilabel in enumerate(label_list):\n",
    "            labels.append('%s - P_{D} (%s): %1.2f %%' %(ilabel, step, m_info[idx, 1]*100))\n",
    "        add_legend( 0.55,0.15, labels)\n",
    "        rpl.add_text( 0.55, 0.35, '%s_%s_%s_nod0' %(step, chain.split('_')[0], chain.split('_')[1]), textsize=0.04)\n",
    "        rpl.fix_yaxis_ranges( ignore_zeros=True, ignore_errors=True , yminf=-0.5, ymaxf=1.1)\n",
    "        fig.show()\n",
    "        print('Saving '+ plot_path+'/eff_eta_%s_%s_%s_root' %(step, chain.split('_')[0], chain.split('_')[1]))\n",
    "        fig.savefig(plot_path+'/eff_eta_%s_%s_%s_root.pdf' %(step, chain.split('_')[0], chain.split('_')[1]))\n",
    "        fig.savefig(plot_path+'/eff_eta_%s_%s_%s_root.png' %(step, chain.split('_')[0], chain.split('_')[1]))"
   ]
  },
  {
   "cell_type": "code",
   "execution_count": 16,
   "metadata": {},
   "outputs": [
    {
     "name": "stdout",
     "output_type": "stream",
     "text": [
      "Saving /home/pedro.lima/workspace/CERN-ATLAS-Qualify-1/analysis/kepler/kepler_imgs/frs/eta/fr_eta_HLT_e24_lhtight_root\n",
      "Saving /home/pedro.lima/workspace/CERN-ATLAS-Qualify-1/analysis/kepler/kepler_imgs/frs/eta/fr_eta_HLT_e26_lhtight_root\n",
      "Saving /home/pedro.lima/workspace/CERN-ATLAS-Qualify-1/analysis/kepler/kepler_imgs/frs/eta/fr_eta_HLT_e60_lhmedium_root\n",
      "Saving /home/pedro.lima/workspace/CERN-ATLAS-Qualify-1/analysis/kepler/kepler_imgs/frs/eta/fr_eta_HLT_e140_lhloose_root\n"
     ]
    },
    {
     "name": "stderr",
     "output_type": "stream",
     "text": [
      "Warning in <TCanvas::Constructor>: Deleting canvas with same name: canvas\n",
      "Info in <TCanvas::Print>: pdf file /home/pedro.lima/workspace/CERN-ATLAS-Qualify-1/analysis/kepler/kepler_imgs/frs/eta/fr_eta_HLT_e24_lhtight_root.pdf has been created\n",
      "Info in <TCanvas::Print>: png file /home/pedro.lima/workspace/CERN-ATLAS-Qualify-1/analysis/kepler/kepler_imgs/frs/eta/fr_eta_HLT_e24_lhtight_root.png has been created\n",
      "Warning in <TCanvas::Constructor>: Deleting canvas with same name: canvas\n",
      "Info in <TCanvas::Print>: pdf file /home/pedro.lima/workspace/CERN-ATLAS-Qualify-1/analysis/kepler/kepler_imgs/frs/eta/fr_eta_HLT_e26_lhtight_root.pdf has been created\n",
      "Info in <TCanvas::Print>: png file /home/pedro.lima/workspace/CERN-ATLAS-Qualify-1/analysis/kepler/kepler_imgs/frs/eta/fr_eta_HLT_e26_lhtight_root.png has been created\n",
      "Warning in <TCanvas::Constructor>: Deleting canvas with same name: canvas\n",
      "Info in <TCanvas::Print>: pdf file /home/pedro.lima/workspace/CERN-ATLAS-Qualify-1/analysis/kepler/kepler_imgs/frs/eta/fr_eta_HLT_e60_lhmedium_root.pdf has been created\n",
      "Info in <TCanvas::Print>: png file /home/pedro.lima/workspace/CERN-ATLAS-Qualify-1/analysis/kepler/kepler_imgs/frs/eta/fr_eta_HLT_e60_lhmedium_root.png has been created\n",
      "Warning in <TCanvas::Constructor>: Deleting canvas with same name: canvas\n",
      "Info in <TCanvas::Print>: pdf file /home/pedro.lima/workspace/CERN-ATLAS-Qualify-1/analysis/kepler/kepler_imgs/frs/eta/fr_eta_HLT_e140_lhloose_root.pdf has been created\n",
      "Info in <TCanvas::Print>: png file /home/pedro.lima/workspace/CERN-ATLAS-Qualify-1/analysis/kepler/kepler_imgs/frs/eta/fr_eta_HLT_e140_lhloose_root.png has been created\n"
     ]
    },
    {
     "data": {
      "image/png": "[encoded data removed]",
      "text/plain": [
       "<IPython.core.display.Image object>"
      ]
     },
     "metadata": {},
     "output_type": "display_data"
    }
   ],
   "source": [
    "for step in steps:\n",
    "    plot_path = '/home/pedro.lima/workspace/CERN-ATLAS-Qualify-1/analysis/kepler/kepler_imgs/frs/eta'\n",
    "\n",
    "    for chain in chain_list:\n",
    "\n",
    "        trigger = step+'_'+chain\n",
    "        \n",
    "        m_info = np.array([make_eta_plot(table, trigger.format(RINGER=alg), fake=True) for alg in ringer_list])\n",
    "\n",
    "        # make the plot\n",
    "        fig = rpl.create_canvas('my_canvas', canw=1400, canh=1000)\n",
    "        fig = rpl.plot_profiles( m_info[:,0], '#eta', colors, markers, ylabel='Fake Rate')\n",
    "        #rpl.set_atlas_label(0.15,0.85,'Internal, pp data #sqrt{s}= 13TeV')\n",
    "        rpl.format_canvas_axes(YTitleOffset = 0.95)\n",
    "        labels = []\n",
    "        for idx, ilabel in enumerate(label_list):\n",
    "            labels.append('%s - F_{R} (%s): %1.2f %%' %(ilabel, step, m_info[idx, 1]*100))\n",
    "        add_legend( 0.55,0.15, labels)\n",
    "        rpl.add_text( 0.55, 0.35, '%s_%s_%s_nod0' %(step, chain.split('_')[0], chain.split('_')[1]), textsize=0.04)\n",
    "        rpl.fix_yaxis_ranges( ignore_zeros=True, ignore_errors=True , yminf=-0.5, ymaxf=1.1)\n",
    "        fig.show()\n",
    "        print('Saving '+ plot_path+'/fr_eta_%s_%s_%s_root' %(step, chain.split('_')[0], chain.split('_')[1]))\n",
    "        fig.savefig(plot_path+'/fr_eta_%s_%s_%s_root.pdf' %(step, chain.split('_')[0], chain.split('_')[1]))\n",
    "        fig.savefig(plot_path+'/fr_eta_%s_%s_%s_root.png' %(step, chain.split('_')[0], chain.split('_')[1]))"
   ]
  },
  {
   "cell_type": "markdown",
   "metadata": {
    "tags": []
   },
   "source": [
    "### Efficiency with respect to $pT$"
   ]
  },
  {
   "cell_type": "code",
   "execution_count": 17,
   "metadata": {},
   "outputs": [],
   "source": [
    "def make_pt_plot(dataframe, chain, fake=False):\n",
    "    var = 'trig_L2_el_pt'\n",
    "    from Gaugi.constants import GeV, MeV\n",
    "    # plot in eta need sum 1 in chain threshold \n",
    "\n",
    "    #m_bins = [4,7,10,15,20,25,30,35,40,45,50,60,80,150,300] # et_bins\n",
    "    #m_bins = [15, 20, 30, 40, 50, 1000000]\n",
    "    m_bins = np.arange(0, 2000*10**3//2, step=50*10**3).tolist()\n",
    "    et_cut  = int(chain.split('_')[1][1:])\n",
    "    if fake:\n",
    "        #aux_df = dataframe.loc[(dataframe.target != 1) & (dataframe.el_lhvloose != 1) &\\\n",
    "        aux_df = dataframe.loc[(dataframe.target != 1) &\\\n",
    "                               (dataframe.el_et >= (et_cut - 5)*GeV) & (np.abs(dataframe.el_eta) <=2.47)]\n",
    "        #                                                      *GeV\n",
    "    else:\n",
    "        offline = chain.split('_')[2]\n",
    "        aux_df = dataframe.loc[(dataframe.target == 1) & (dataframe['el_%s' %(offline)] == 1) & (dataframe.el_et >= (et_cut - 5)*GeV) & (np.abs(dataframe.el_eta) <=2.47)]\n",
    "        #                                                                                                                       *GeV\n",
    "    \n",
    "    #step_decision = chain_step + '_' + '_'.join(chain.split('_')[1:])\n",
    "    step_decision = chain\n",
    "    #'L2Calo_e26_lhtight_nod0_ringer_v8_34_ivarloose'\n",
    "    # cuts for all\n",
    "    total   = aux_df\n",
    "    passed  = aux_df.loc[(aux_df[step_decision] == 1)]\n",
    "    \n",
    "    h_num = hist1d('pt_num', passed[var]/MeV, m_bins )\n",
    "    #                                               /GeV\n",
    "    h_den = hist1d('pt_den', total[var]/MeV, m_bins )\n",
    "    #                                              /GeV\n",
    "    h_eff = rpl.hist1d.divide(h_num,h_den) \n",
    "    \n",
    "    return h_eff, len(passed)/len(total)"
   ]
  },
  {
   "cell_type": "code",
   "execution_count": 18,
   "metadata": {},
   "outputs": [
    {
     "name": "stdout",
     "output_type": "stream",
     "text": [
      "Saving /home/pedro.lima/workspace/CERN-ATLAS-Qualify-1/analysis/kepler/kepler_imgs/effs/pt/eff_pt_HLT_e24_lhtight_root\n",
      "Saving /home/pedro.lima/workspace/CERN-ATLAS-Qualify-1/analysis/kepler/kepler_imgs/effs/pt/eff_pt_HLT_e26_lhtight_root\n",
      "Saving /home/pedro.lima/workspace/CERN-ATLAS-Qualify-1/analysis/kepler/kepler_imgs/effs/pt/eff_pt_HLT_e60_lhmedium_root\n",
      "Saving /home/pedro.lima/workspace/CERN-ATLAS-Qualify-1/analysis/kepler/kepler_imgs/effs/pt/eff_pt_HLT_e140_lhloose_root\n"
     ]
    },
    {
     "name": "stderr",
     "output_type": "stream",
     "text": [
      "Warning in <TCanvas::Constructor>: Deleting canvas with same name: canvas\n",
      "Info in <TCanvas::Print>: pdf file /home/pedro.lima/workspace/CERN-ATLAS-Qualify-1/analysis/kepler/kepler_imgs/effs/pt/eff_pt_HLT_e24_lhtight_root.pdf has been created\n",
      "Info in <TCanvas::Print>: png file /home/pedro.lima/workspace/CERN-ATLAS-Qualify-1/analysis/kepler/kepler_imgs/effs/pt/eff_pt_HLT_e24_lhtight_root.png has been created\n",
      "Warning in <TCanvas::Constructor>: Deleting canvas with same name: canvas\n",
      "Info in <TCanvas::Print>: pdf file /home/pedro.lima/workspace/CERN-ATLAS-Qualify-1/analysis/kepler/kepler_imgs/effs/pt/eff_pt_HLT_e26_lhtight_root.pdf has been created\n",
      "Info in <TCanvas::Print>: png file /home/pedro.lima/workspace/CERN-ATLAS-Qualify-1/analysis/kepler/kepler_imgs/effs/pt/eff_pt_HLT_e26_lhtight_root.png has been created\n",
      "Warning in <TCanvas::Constructor>: Deleting canvas with same name: canvas\n",
      "Info in <TCanvas::Print>: pdf file /home/pedro.lima/workspace/CERN-ATLAS-Qualify-1/analysis/kepler/kepler_imgs/effs/pt/eff_pt_HLT_e60_lhmedium_root.pdf has been created\n",
      "Info in <TCanvas::Print>: png file /home/pedro.lima/workspace/CERN-ATLAS-Qualify-1/analysis/kepler/kepler_imgs/effs/pt/eff_pt_HLT_e60_lhmedium_root.png has been created\n",
      "Warning in <TCanvas::Constructor>: Deleting canvas with same name: canvas\n",
      "Info in <TCanvas::Print>: pdf file /home/pedro.lima/workspace/CERN-ATLAS-Qualify-1/analysis/kepler/kepler_imgs/effs/pt/eff_pt_HLT_e140_lhloose_root.pdf has been created\n",
      "Info in <TCanvas::Print>: png file /home/pedro.lima/workspace/CERN-ATLAS-Qualify-1/analysis/kepler/kepler_imgs/effs/pt/eff_pt_HLT_e140_lhloose_root.png has been created\n"
     ]
    },
    {
     "data": {
      "image/png": "[encoded data removed]",
      "text/plain": [
       "<IPython.core.display.Image object>"
      ]
     },
     "metadata": {},
     "output_type": "display_data"
    }
   ],
   "source": [
    "for step in steps:\n",
    "#step = 'L2'\n",
    "    plot_path = '/home/pedro.lima/workspace/CERN-ATLAS-Qualify-1/analysis/kepler/kepler_imgs/effs/pt'\n",
    "\n",
    "    for chain in chain_list:\n",
    "\n",
    "        trigger = step+'_'+chain\n",
    "        \n",
    "        m_info = np.array([make_pt_plot(table, trigger.format(RINGER=alg)) for alg in ringer_list])\n",
    "\n",
    "        # make the plot\n",
    "        fig = rpl.create_canvas('my_canvas', canw=1400, canh=1000)\n",
    "        fig = rpl.plot_profiles( m_info[:,0], 'pT [MeV]', colors, markers)\n",
    "        #rpl.set_atlas_label(0.15,0.85,'Internal, pp data #sqrt{s}= 13TeV')\n",
    "        rpl.format_canvas_axes(YTitleOffset = 0.95)\n",
    "        labels = []\n",
    "        for idx, ilabel in enumerate(label_list):\n",
    "            labels.append('%s - P_{D} (%s): %1.2f %%' %(ilabel, step, m_info[idx, 1]*100))\n",
    "        add_legend( 0.15,0.15, labels)\n",
    "        rpl.add_text( 0.15, 0.35, '%s_%s_%s_nod0' %(step, chain.split('_')[0], chain.split('_')[1]), textsize=0.04)\n",
    "        rpl.fix_yaxis_ranges( ignore_zeros=True, ignore_errors=True , yminf=0, ymaxf=1.1) \n",
    "        fig.show()\n",
    "        print('Saving '+ plot_path+'/eff_pt_%s_%s_%s_root' %(step, chain.split('_')[0], chain.split('_')[1]))\n",
    "        fig.savefig(plot_path+'/eff_pt_%s_%s_%s_root.pdf' %(step, chain.split('_')[0], chain.split('_')[1]))\n",
    "        fig.savefig(plot_path+'/eff_pt_%s_%s_%s_root.png' %(step, chain.split('_')[0], chain.split('_')[1]))"
   ]
  },
  {
   "cell_type": "code",
   "execution_count": 19,
   "metadata": {},
   "outputs": [
    {
     "name": "stdout",
     "output_type": "stream",
     "text": [
      "Saving /home/pedro.lima/workspace/CERN-ATLAS-Qualify-1/analysis/kepler/kepler_imgs/frs/pt/fr_pt_HLT_e24_lhtight_root\n",
      "Saving /home/pedro.lima/workspace/CERN-ATLAS-Qualify-1/analysis/kepler/kepler_imgs/frs/pt/fr_pt_HLT_e26_lhtight_root\n",
      "Saving /home/pedro.lima/workspace/CERN-ATLAS-Qualify-1/analysis/kepler/kepler_imgs/frs/pt/fr_pt_HLT_e60_lhmedium_root\n",
      "Saving /home/pedro.lima/workspace/CERN-ATLAS-Qualify-1/analysis/kepler/kepler_imgs/frs/pt/fr_pt_HLT_e140_lhloose_root\n"
     ]
    },
    {
     "name": "stderr",
     "output_type": "stream",
     "text": [
      "Warning in <TCanvas::Constructor>: Deleting canvas with same name: canvas\n",
      "Info in <TCanvas::Print>: pdf file /home/pedro.lima/workspace/CERN-ATLAS-Qualify-1/analysis/kepler/kepler_imgs/frs/pt/fr_pt_HLT_e24_lhtight_root.pdf has been created\n",
      "Info in <TCanvas::Print>: png file /home/pedro.lima/workspace/CERN-ATLAS-Qualify-1/analysis/kepler/kepler_imgs/frs/pt/fr_pt_HLT_e24_lhtight_root.png has been created\n",
      "Warning in <TCanvas::Constructor>: Deleting canvas with same name: canvas\n",
      "Info in <TCanvas::Print>: pdf file /home/pedro.lima/workspace/CERN-ATLAS-Qualify-1/analysis/kepler/kepler_imgs/frs/pt/fr_pt_HLT_e26_lhtight_root.pdf has been created\n",
      "Info in <TCanvas::Print>: png file /home/pedro.lima/workspace/CERN-ATLAS-Qualify-1/analysis/kepler/kepler_imgs/frs/pt/fr_pt_HLT_e26_lhtight_root.png has been created\n",
      "Warning in <TCanvas::Constructor>: Deleting canvas with same name: canvas\n",
      "Info in <TCanvas::Print>: pdf file /home/pedro.lima/workspace/CERN-ATLAS-Qualify-1/analysis/kepler/kepler_imgs/frs/pt/fr_pt_HLT_e60_lhmedium_root.pdf has been created\n",
      "Info in <TCanvas::Print>: png file /home/pedro.lima/workspace/CERN-ATLAS-Qualify-1/analysis/kepler/kepler_imgs/frs/pt/fr_pt_HLT_e60_lhmedium_root.png has been created\n",
      "Warning in <TCanvas::Constructor>: Deleting canvas with same name: canvas\n",
      "Info in <TCanvas::Print>: pdf file /home/pedro.lima/workspace/CERN-ATLAS-Qualify-1/analysis/kepler/kepler_imgs/frs/pt/fr_pt_HLT_e140_lhloose_root.pdf has been created\n",
      "Info in <TCanvas::Print>: png file /home/pedro.lima/workspace/CERN-ATLAS-Qualify-1/analysis/kepler/kepler_imgs/frs/pt/fr_pt_HLT_e140_lhloose_root.png has been created\n"
     ]
    },
    {
     "data": {
      "image/png": "[encoded data removed]",
      "text/plain": [
       "<IPython.core.display.Image object>"
      ]
     },
     "metadata": {},
     "output_type": "display_data"
    }
   ],
   "source": [
    "for step in steps:\n",
    "    #step = 'L2'\n",
    "    plot_path = '/home/pedro.lima/workspace/CERN-ATLAS-Qualify-1/analysis/kepler/kepler_imgs/frs/pt'\n",
    "\n",
    "    for chain in chain_list:\n",
    "\n",
    "        trigger = step+'_'+chain\n",
    "        \n",
    "        m_info = np.array([make_pt_plot(table, trigger.format(RINGER=alg), fake=True) for alg in ringer_list])\n",
    "\n",
    "        # make the plot\n",
    "        fig = rpl.create_canvas('my_canvas', canw=1400, canh=1000)\n",
    "        fig = rpl.plot_profiles( m_info[:,0], 'pT [MeV]', colors, markers, ylabel = 'Fake Rate')\n",
    "        #rpl.set_atlas_label(0.15,0.85,'Internal, pp data #sqrt{s}= 13TeV')\n",
    "        rpl.format_canvas_axes(YTitleOffset = 0.95)\n",
    "        labels = []\n",
    "        for idx, ilabel in enumerate(label_list):\n",
    "            labels.append('%s - F_{R} (%s): %1.2f %%' %(ilabel, step, m_info[idx, 1]*100))\n",
    "        add_legend( 0.15,0.6, labels)\n",
    "        rpl.add_text( 0.15, 0.8, '%s_%s_%s_nod0' %(step, chain.split('_')[0], chain.split('_')[1]), textsize=0.04)\n",
    "        rpl.fix_yaxis_ranges( ignore_zeros=True, ignore_errors=True , yminf=0, ymaxf=1.1) \n",
    "        fig.show()\n",
    "        print('Saving '+ plot_path+'/fr_pt_%s_%s_%s_root' %(step, chain.split('_')[0], chain.split('_')[1]))\n",
    "        fig.savefig(plot_path+'/fr_pt_%s_%s_%s_root.pdf' %(step, chain.split('_')[0], chain.split('_')[1]))\n",
    "        fig.savefig(plot_path+'/fr_pt_%s_%s_%s_root.png' %(step, chain.split('_')[0], chain.split('_')[1]))"
   ]
  },
  {
   "cell_type": "markdown",
   "metadata": {
    "tags": []
   },
   "source": [
    "### Efficiency with respect to $< \\mu >$"
   ]
  },
  {
   "cell_type": "code",
   "execution_count": 20,
   "metadata": {},
   "outputs": [],
   "source": [
    "def make_mu_plot(dataframe, chain, fake=False):\n",
    "    var = 'avgmu'\n",
    "    from Gaugi.constants import GeV, MeV\n",
    "    # plot in eta need sum 1 in chain threshold \n",
    "\n",
    "    m_bins = [10, 20, 30, 40, 50, 60, 70] # et_bins\n",
    "    #m_bins = [15, 20, 30, 40, 50, 1000000]\n",
    "    #m_bins = np.arange(0, 2000*10**3, step=50*10**3).tolist()\n",
    "    et_cut  = int(chain.split('_')[1][1:])\n",
    "    if fake:\n",
    "        #aux_df = dataframe.loc[(dataframe.target != 1) & (dataframe.el_lhvloose != 1) &\\\n",
    "        aux_df = dataframe.loc[(dataframe.target != 1) &\\\n",
    "                               (dataframe.el_et >= (et_cut - 5)*GeV) & (np.abs(dataframe.el_eta) <=2.47)]\n",
    "        #                                                      *GeV\n",
    "    else:\n",
    "        offline = chain.split('_')[2]\n",
    "        aux_df = dataframe.loc[(dataframe.target == 1) & (dataframe['el_%s' %(offline)] == 1) & (dataframe.el_et >= (et_cut - 5)*GeV) & (np.abs(dataframe.el_eta) <=2.47)]\n",
    "        #                                                                                                                       *GeV\n",
    "    \n",
    "    #step_decision = chain_step + '_' + '_'.join(chain.split('_')[1:])\n",
    "    step_decision = chain\n",
    "    #'L2Calo_e26_lhtight_nod0_ringer_v8_34_ivarloose'\n",
    "    # cuts for all\n",
    "    total   = aux_df\n",
    "    passed  = aux_df.loc[(aux_df[step_decision] == 1)]\n",
    "    \n",
    "    h_num = hist1d('mu_num', passed[var]/MeV, m_bins )\n",
    "    #                                               /GeV\n",
    "    h_den = hist1d('mu_den', total[var]/MeV, m_bins )\n",
    "    #                                              /GeV\n",
    "    h_eff = rpl.hist1d.divide(h_num,h_den) \n",
    "    \n",
    "    return h_eff, len(passed)/len(total)"
   ]
  },
  {
   "cell_type": "code",
   "execution_count": 21,
   "metadata": {},
   "outputs": [
    {
     "name": "stdout",
     "output_type": "stream",
     "text": [
      "Saving /home/pedro.lima/workspace/CERN-ATLAS-Qualify-1/analysis/kepler/kepler_imgs/effs/mu/eff_mu_HLT_e24_lhtight_root\n",
      "Saving /home/pedro.lima/workspace/CERN-ATLAS-Qualify-1/analysis/kepler/kepler_imgs/effs/mu/eff_mu_HLT_e26_lhtight_root\n",
      "Saving /home/pedro.lima/workspace/CERN-ATLAS-Qualify-1/analysis/kepler/kepler_imgs/effs/mu/eff_mu_HLT_e60_lhmedium_root\n",
      "Saving /home/pedro.lima/workspace/CERN-ATLAS-Qualify-1/analysis/kepler/kepler_imgs/effs/mu/eff_mu_HLT_e140_lhloose_root\n"
     ]
    },
    {
     "name": "stderr",
     "output_type": "stream",
     "text": [
      "Warning in <TCanvas::Constructor>: Deleting canvas with same name: canvas\n",
      "Info in <TCanvas::Print>: pdf file /home/pedro.lima/workspace/CERN-ATLAS-Qualify-1/analysis/kepler/kepler_imgs/effs/mu/eff_mu_HLT_e24_lhtight_root.pdf has been created\n",
      "Info in <TCanvas::Print>: png file /home/pedro.lima/workspace/CERN-ATLAS-Qualify-1/analysis/kepler/kepler_imgs/effs/mu/eff_mu_HLT_e24_lhtight_root.png has been created\n",
      "Warning in <TCanvas::Constructor>: Deleting canvas with same name: canvas\n",
      "Info in <TCanvas::Print>: pdf file /home/pedro.lima/workspace/CERN-ATLAS-Qualify-1/analysis/kepler/kepler_imgs/effs/mu/eff_mu_HLT_e26_lhtight_root.pdf has been created\n",
      "Info in <TCanvas::Print>: png file /home/pedro.lima/workspace/CERN-ATLAS-Qualify-1/analysis/kepler/kepler_imgs/effs/mu/eff_mu_HLT_e26_lhtight_root.png has been created\n",
      "Warning in <TCanvas::Constructor>: Deleting canvas with same name: canvas\n",
      "Info in <TCanvas::Print>: pdf file /home/pedro.lima/workspace/CERN-ATLAS-Qualify-1/analysis/kepler/kepler_imgs/effs/mu/eff_mu_HLT_e60_lhmedium_root.pdf has been created\n",
      "Info in <TCanvas::Print>: png file /home/pedro.lima/workspace/CERN-ATLAS-Qualify-1/analysis/kepler/kepler_imgs/effs/mu/eff_mu_HLT_e60_lhmedium_root.png has been created\n",
      "Warning in <TCanvas::Constructor>: Deleting canvas with same name: canvas\n",
      "Info in <TCanvas::Print>: pdf file /home/pedro.lima/workspace/CERN-ATLAS-Qualify-1/analysis/kepler/kepler_imgs/effs/mu/eff_mu_HLT_e140_lhloose_root.pdf has been created\n",
      "Info in <TCanvas::Print>: png file /home/pedro.lima/workspace/CERN-ATLAS-Qualify-1/analysis/kepler/kepler_imgs/effs/mu/eff_mu_HLT_e140_lhloose_root.png has been created\n"
     ]
    },
    {
     "data": {
      "image/png": "[encoded data removed]",
      "text/plain": [
       "<IPython.core.display.Image object>"
      ]
     },
     "metadata": {},
     "output_type": "display_data"
    }
   ],
   "source": [
    "for step in steps:\n",
    "#step = 'L2'\n",
    "    plot_path = '/home/pedro.lima/workspace/CERN-ATLAS-Qualify-1/analysis/kepler/kepler_imgs/effs/mu'\n",
    "\n",
    "    for chain in chain_list:\n",
    "\n",
    "        trigger = step+'_'+chain\n",
    "        \n",
    "        m_info = np.array([make_mu_plot(table, trigger.format(RINGER=alg)) for alg in ringer_list])\n",
    "\n",
    "        # make the plot\n",
    "        fig = rpl.create_canvas('my_canvas', canw=1400, canh=1000)\n",
    "        fig = rpl.plot_profiles( m_info[:,0], '< #mu >', colors, markers)\n",
    "        #rpl.set_atlas_label(0.15,0.85,'Internal, pp data #sqrt{s}= 13TeV')\n",
    "        rpl.format_canvas_axes(YTitleOffset = 0.95)\n",
    "        labels = []\n",
    "        for idx, ilabel in enumerate(label_list):\n",
    "            labels.append('%s - P_{D} (%s): %1.2f %%' %(ilabel, step, m_info[idx, 1]*100))\n",
    "        add_legend( 0.55,0.15, labels)\n",
    "        rpl.add_text( 0.55, 0.35, '%s_%s_%s_nod0' %(step, chain.split('_')[0], chain.split('_')[1]), textsize=0.04)\n",
    "        rpl.fix_yaxis_ranges( ignore_zeros=True, ignore_errors=True , yminf=-0.5, ymaxf=1.1) \n",
    "        fig.show()\n",
    "        print('Saving '+ plot_path+'/eff_mu_%s_%s_%s_root' %(step, chain.split('_')[0], chain.split('_')[1]))\n",
    "        fig.savefig(plot_path+'/eff_mu_%s_%s_%s_root.pdf' %(step, chain.split('_')[0], chain.split('_')[1]))\n",
    "        fig.savefig(plot_path+'/eff_mu_%s_%s_%s_root.png' %(step, chain.split('_')[0], chain.split('_')[1]))"
   ]
  },
  {
   "cell_type": "code",
   "execution_count": 22,
   "metadata": {},
   "outputs": [
    {
     "name": "stdout",
     "output_type": "stream",
     "text": [
      "Saving /home/pedro.lima/workspace/CERN-ATLAS-Qualify-1/analysis/kepler/kepler_imgs/frs/mu/eff_mu_HLT_e24_lhtight_root\n",
      "Saving /home/pedro.lima/workspace/CERN-ATLAS-Qualify-1/analysis/kepler/kepler_imgs/frs/mu/eff_mu_HLT_e26_lhtight_root\n",
      "Saving /home/pedro.lima/workspace/CERN-ATLAS-Qualify-1/analysis/kepler/kepler_imgs/frs/mu/eff_mu_HLT_e60_lhmedium_root\n",
      "Saving /home/pedro.lima/workspace/CERN-ATLAS-Qualify-1/analysis/kepler/kepler_imgs/frs/mu/eff_mu_HLT_e140_lhloose_root\n"
     ]
    },
    {
     "name": "stderr",
     "output_type": "stream",
     "text": [
      "Warning in <TCanvas::Constructor>: Deleting canvas with same name: canvas\n",
      "Info in <TCanvas::Print>: pdf file /home/pedro.lima/workspace/CERN-ATLAS-Qualify-1/analysis/kepler/kepler_imgs/frs/mu/eff_mu_HLT_e24_lhtight_root.pdf has been created\n",
      "Info in <TCanvas::Print>: png file /home/pedro.lima/workspace/CERN-ATLAS-Qualify-1/analysis/kepler/kepler_imgs/frs/mu/eff_mu_HLT_e24_lhtight_root.png has been created\n",
      "Warning in <TCanvas::Constructor>: Deleting canvas with same name: canvas\n",
      "Info in <TCanvas::Print>: pdf file /home/pedro.lima/workspace/CERN-ATLAS-Qualify-1/analysis/kepler/kepler_imgs/frs/mu/eff_mu_HLT_e26_lhtight_root.pdf has been created\n",
      "Info in <TCanvas::Print>: png file /home/pedro.lima/workspace/CERN-ATLAS-Qualify-1/analysis/kepler/kepler_imgs/frs/mu/eff_mu_HLT_e26_lhtight_root.png has been created\n",
      "Warning in <TCanvas::Constructor>: Deleting canvas with same name: canvas\n",
      "Info in <TCanvas::Print>: pdf file /home/pedro.lima/workspace/CERN-ATLAS-Qualify-1/analysis/kepler/kepler_imgs/frs/mu/eff_mu_HLT_e60_lhmedium_root.pdf has been created\n",
      "Info in <TCanvas::Print>: png file /home/pedro.lima/workspace/CERN-ATLAS-Qualify-1/analysis/kepler/kepler_imgs/frs/mu/eff_mu_HLT_e60_lhmedium_root.png has been created\n",
      "Warning in <TCanvas::Constructor>: Deleting canvas with same name: canvas\n",
      "Info in <TCanvas::Print>: pdf file /home/pedro.lima/workspace/CERN-ATLAS-Qualify-1/analysis/kepler/kepler_imgs/frs/mu/eff_mu_HLT_e140_lhloose_root.pdf has been created\n",
      "Info in <TCanvas::Print>: png file /home/pedro.lima/workspace/CERN-ATLAS-Qualify-1/analysis/kepler/kepler_imgs/frs/mu/eff_mu_HLT_e140_lhloose_root.png has been created\n"
     ]
    },
    {
     "data": {
      "image/png": "[encoded data removed]",
      "text/plain": [
       "<IPython.core.display.Image object>"
      ]
     },
     "metadata": {},
     "output_type": "display_data"
    }
   ],
   "source": [
    "for step in steps:\n",
    "#step = 'L2'\n",
    "    plot_path = '/home/pedro.lima/workspace/CERN-ATLAS-Qualify-1/analysis/kepler/kepler_imgs/frs/mu'\n",
    "\n",
    "    for chain in chain_list:\n",
    "\n",
    "        trigger = step+'_'+chain\n",
    "        \n",
    "        m_info = np.array([make_mu_plot(table, trigger.format(RINGER=alg), fake=True) for alg in ringer_list])\n",
    "\n",
    "        # make the plot\n",
    "        fig = rpl.create_canvas('my_canvas', canw=1400, canh=1000)\n",
    "        fig = rpl.plot_profiles( m_info[:,0], '< #mu >', colors, markers)\n",
    "        #rpl.set_atlas_label(0.15,0.85,'Internal, pp data #sqrt{s}= 13TeV')\n",
    "        rpl.format_canvas_axes(YTitleOffset = 0.95)\n",
    "        labels = []\n",
    "        for idx, ilabel in enumerate(label_list):\n",
    "            labels.append('%s - P_{D} (%s): %1.2f %%' %(ilabel, step, m_info[idx, 1]*100))\n",
    "        add_legend( 0.55,0.15, labels)\n",
    "        rpl.add_text( 0.55, 0.35, '%s_%s_%s_nod0' %(step, chain.split('_')[0], chain.split('_')[1]), textsize=0.04)\n",
    "        rpl.fix_yaxis_ranges( ignore_zeros=True, ignore_errors=True , yminf=-0.5, ymaxf=1.1) \n",
    "        fig.show()\n",
    "        print('Saving '+ plot_path+'/eff_mu_%s_%s_%s_root' %(step, chain.split('_')[0], chain.split('_')[1]))\n",
    "        fig.savefig(plot_path+'/eff_mu_%s_%s_%s_root.pdf' %(step, chain.split('_')[0], chain.split('_')[1]))\n",
    "        fig.savefig(plot_path+'/eff_mu_%s_%s_%s_root.png' %(step, chain.split('_')[0], chain.split('_')[1]))"
   ]
  },
  {
   "cell_type": "markdown",
   "metadata": {
    "tags": []
   },
   "source": [
    "# Running for Boosted"
   ]
  },
  {
   "cell_type": "markdown",
   "metadata": {
    "tags": []
   },
   "source": [
    "##### kWhite  = 0,   kBlack  = 1,   kGray    = 920,  kRed    = 632,  kGreen  = 416,\n",
    "##### kBlue   = 600, kYellow = 400, kMagenta = 616,  kCyan   = 432,  kOrange = 800,\n",
    "##### kSpring = 820, kTeal   = 840, kAzure   =  860, kViolet = 880,  kPink   = 900"
   ]
  },
  {
   "cell_type": "markdown",
   "metadata": {},
   "source": [
    "https://root.cern.ch/doc/master/classTColor.html"
   ]
  },
  {
   "cell_type": "code",
   "execution_count": 2,
   "metadata": {},
   "outputs": [],
   "source": [
    "def hist1d( name, values, bins, density=False ):\n",
    "    counts, dummy = np.histogram(values, bins=bins, density=density )\n",
    "    hist = ROOT.TH1F( name, '', len(bins)-1, array.array('d',bins))\n",
    "    root_numpy.array2hist(counts, hist)\n",
    "    return hist\n",
    "\n",
    "colors  = [ROOT.kBlack, ROOT.kBlue+1, ROOT.kGreen+1, ROOT.kRed+1] # Primarias\n",
    "#colors  = [ROOT.kBlue-4, ROOT.kBlack, ROOT.kGreen-4, ROOT.kGray] # cores do Mica\n",
    "#markers = [22, 26, 23, 32]\n",
    "markers = [33, 22, 23, 30]\n",
    "\n",
    "def add_legend(x, y, legends):\n",
    "    rpl.add_legend( legends, x, y, x+0.98, y+0.20, textsize=12, option='p' )"
   ]
  },
  {
   "cell_type": "code",
   "execution_count": 3,
   "metadata": {},
   "outputs": [
    {
     "name": "stdout",
     "output_type": "stream",
     "text": [
      "['noringer', 'ringer_v8_new', 'ringer_v8_half', 'ringer_v8_14']\n",
      "['NoRinger', 'Ringer V8', 'Ringer V8.1/2', 'Ringer V8.1/4']\n"
     ]
    }
   ],
   "source": [
    "chain_list = {\n",
    "    'e24_lhtight_nod0_{RINGER}_ivarloose':'L1_EM22VHI',\n",
    "    'e26_lhtight_nod0_{RINGER}_ivarloose':'L1_EM22VHI',\n",
    "    'e60_lhmedium_nod0_{RINGER}_L1EM24VHI':'L1_EM24VHI',\n",
    "    'e140_lhloose_nod0_{RINGER}':'L1_EM24VHI',\n",
    "}\n",
    "\n",
    "steps = [\n",
    "    'L2Calo',\n",
    "    'L2',\n",
    "    'EFCalo',\n",
    "    'HLT',\n",
    "]\n",
    "\n",
    "\n",
    "default_algorithms = {#column_name:label\n",
    "                      'noringer':'NoRinger',\n",
    "                      'ringer_v8_new':'Ringer V8',\n",
    "                      'ringer_v8_half':'Ringer V8.1/2',\n",
    "                      }\n",
    "selected_ringer = {\n",
    "                    #'ringer_v8_34':'Ringer V8.3/4',\n",
    "                    'ringer_v8_14':'Ringer V8.1/4',\n",
    "                    #'ringer_v12':'Ringer V12(lor)',\n",
    "                  }\n",
    "\n",
    "\n",
    "ringer_list = list(default_algorithms.keys()) + list(selected_ringer.keys())\n",
    "\n",
    "if len(ringer_list) != 4:\n",
    "    raise ValueError\n",
    "print(ringer_list)\n",
    "\n",
    "label_list = list(default_algorithms.values()) + list(selected_ringer.values())\n",
    "print(label_list)"
   ]
  },
  {
   "cell_type": "markdown",
   "metadata": {},
   "source": [
    "## Load Data"
   ]
  },
  {
   "cell_type": "code",
   "execution_count": 19,
   "metadata": {},
   "outputs": [],
   "source": [
    "# codigo modificado\n",
    "boosted_dpath = '/home/pedro.lima/data/mc16_13TeV.302236_309995_341330.sgn.boosted_probes.WZ_llqq_plus_radion_ZZ_llqq_plus_ggH3000.merge.25bins.v2'\n",
    "boosted_dpath+= '/mc16_13TeV.302236_309995_341330.sgn.boosted_probes.WZ_llqq_plus_radion_ZZ_llqq_plus_ggH3000.merge.25bins.v2_et{ET}_eta{ETA}.npz'\n",
    "boosted_paths = []\n",
    "\n",
    "leblon = False\n",
    "lor = True\n",
    "\n",
    "if leblon:\n",
    "    for et in [4]:\n",
    "        for eta in [0]:\n",
    "            boosted_paths.append( boosted_dpath.format(ET=et,ETA=eta) )\n",
    "            \n",
    "elif lor:\n",
    "    for et in range(3):\n",
    "        for eta in [0]:\n",
    "            boosted_paths.append( boosted_dpath.format(ET=et,ETA=eta) )\n",
    "            \n",
    "else:\n",
    "    for et in range(5):\n",
    "        for eta in range(5):\n",
    "            boosted_paths.append( boosted_dpath.format(ET=et,ETA=eta) )"
   ]
  },
  {
   "cell_type": "code",
   "execution_count": 20,
   "metadata": {},
   "outputs": [],
   "source": [
    "drop_columns = [\n",
    "                    'RunNumber', \n",
    "                    #'avgmu',\n",
    "                    #'trig_L2_cl_et',\n",
    "                    #'trig_L2_cl_eta',\n",
    "                    #'trig_L2_cl_phi',\n",
    "                    #'trig_L2_cl_reta',\n",
    "                    #'trig_L2_cl_ehad1', \n",
    "                    #'trig_L2_cl_eratio',\n",
    "                    #'trig_L2_cl_f1', \n",
    "                    #'trig_L2_cl_f3', \n",
    "                    #'trig_L2_cl_weta2', \n",
    "                    #'trig_L2_cl_wstot', \n",
    "                    'trig_L2_cl_e2tsts1',\n",
    "                    'trig_L2_el_hastrack',\n",
    "                    #'trig_L2_el_pt',\n",
    "                    'trig_L2_el_eta',\n",
    "                    'trig_L2_el_phi',\n",
    "                    'trig_L2_el_caloEta',\n",
    "                    'trig_L2_el_trkClusDeta',\n",
    "                    'trig_L2_el_trkClusDphi',\n",
    "                    'trig_L2_el_etOverPt',\n",
    "                    'trig_EF_cl_hascluster',\n",
    "                    #'trig_EF_cl_et',\n",
    "                    'trig_EF_cl_eta',\n",
    "                    'trig_EF_cl_etaBE2',\n",
    "                    'trig_EF_cl_phi',     \n",
    "                    'trig_EF_el_hascand',\n",
    "                    #'trig_EF_el_et',\n",
    "                    'trig_EF_el_eta',\n",
    "                    'trig_EF_el_etaBE2',\n",
    "                    'trig_EF_el_phi',\n",
    "                    'trig_EF_el_rhad1',\n",
    "                    'trig_EF_el_rhad',\n",
    "                    'trig_EF_el_f3',\n",
    "                    'trig_EF_el_weta2',\n",
    "                    'trig_EF_el_rphi',\n",
    "                    'trig_EF_el_reta',\n",
    "                    'trig_EF_el_wtots1',\n",
    "                    'trig_EF_el_eratio',\n",
    "                    'trig_EF_el_f1',\n",
    "                    'trig_EF_el_hastrack',\n",
    "                    'trig_EF_el_deltaEta1',\n",
    "                    'trig_EF_el_deltaPhi2',\n",
    "                    'trig_EF_el_deltaPhi2Rescaled',\n",
    "                    #'trig_EF_el_lhtight',\n",
    "                    #'trig_EF_el_lhmedium',\n",
    "                    #'trig_EF_el_lhloose',\n",
    "                    #'trig_EF_el_lhvloose', \n",
    "                    # Offline variables\n",
    "                    #'el_et',\n",
    "                    #'el_eta',\n",
    "                    'el_etaBE2',\n",
    "                    #'el_phi',\n",
    "                    # offline shower shapers\n",
    "                    #'el_rhad1',\n",
    "                    #'el_rhad',\n",
    "                    #'el_f3',\n",
    "                    #'el_weta2',\n",
    "                    #'el_rphi',\n",
    "                    #'el_reta',\n",
    "                    #'el_wtots1',\n",
    "                    #'el_eratio',\n",
    "                    #'el_f1',\n",
    "                    # offline track\n",
    "                    #'el_hastrack',\n",
    "                    'el_numberOfBLayerHits',\n",
    "                    'el_numberOfPixelHits',\n",
    "                    'el_numberOfTRTHits',\n",
    "                    #'el_d0',\n",
    "                    #'el_d0significance',\n",
    "                    #'el_eProbabilityHT',\n",
    "                    'el_trans_TRT_PID',\n",
    "                    #'el_deltaEta1',\n",
    "                    'el_deltaPhi2',\n",
    "                    #'el_deltaPhi2Rescaled',\n",
    "                    #'el_deltaPOverP',\n",
    "                    #'el_lhtight',\n",
    "                    #'el_lhmedium',\n",
    "                    #'el_lhloose',\n",
    "                    #'el_lhvloose',\n",
    "                    'el_TaP_Mass',\n",
    "                    #'el_TaP_deltaR',\n",
    "                ]\n",
    "\n",
    "#drop_columns.extend( ['trig_L2_cl_ring_%d'%i for i in range(100)] )"
   ]
  },
  {
   "cell_type": "code",
   "execution_count": 21,
   "metadata": {},
   "outputs": [
    {
     "name": "stdout",
     "output_type": "stream",
     "text": [
      "2022-12-07 11:07:21,678 | Py.RingerDecorator                      INFO Reading... /home/pedro.lima/workspace/CERN-ATLAS-Qualify-1/analysis/tunings/TrigL2_20180125_v8/ElectronRingerTightTriggerConfig.conf\n",
      "2022-12-07 11:07:22,033 | Py.RingerDecorator                      INFO Reading... /home/pedro.lima/workspace/CERN-ATLAS-Qualify-1/analysis/tunings/TrigL2_20180125_v8/ElectronRingerMediumTriggerConfig.conf\n",
      "2022-12-07 11:07:22,377 | Py.RingerDecorator                      INFO Reading... /home/pedro.lima/workspace/CERN-ATLAS-Qualify-1/analysis/tunings/TrigL2_20180125_v8/ElectronRingerLooseTriggerConfig.conf\n",
      "2022-12-07 11:07:22,719 | Py.RingerDecorator                      INFO Reading... /home/pedro.lima/workspace/CERN-ATLAS-Qualify-1/analysis/tunings/TrigL2_20180125_v8/ElectronRingerVeryLooseTriggerConfig.conf\n",
      "2022-12-07 11:07:23,080 | Py.RingerDecorator                      INFO Reading... /home/pedro.lima/workspace/CERN-ATLAS-Qualify-1/analysis/tunings/TrigL2_20210907_v8-1/ElectronRingerTightTriggerConfig.conf\n",
      "2022-12-07 11:07:23,428 | Py.RingerDecorator                      INFO Reading... /home/pedro.lima/workspace/CERN-ATLAS-Qualify-1/analysis/tunings/TrigL2_20210907_v8-1/ElectronRingerMediumTriggerConfig.conf\n",
      "2022-12-07 11:07:23,762 | Py.RingerDecorator                      INFO Reading... /home/pedro.lima/workspace/CERN-ATLAS-Qualify-1/analysis/tunings/TrigL2_20210907_v8-1/ElectronRingerLooseTriggerConfig.conf\n",
      "2022-12-07 11:07:24,091 | Py.RingerDecorator                      INFO Reading... /home/pedro.lima/workspace/CERN-ATLAS-Qualify-1/analysis/tunings/TrigL2_20210907_v8-1/ElectronRingerVeryLooseTriggerConfig.conf\n",
      "2022-12-07 11:07:24,426 | Py.RingerDecorator                      INFO Reading... /home/pedro.lima/workspace/CERN-ATLAS-Qualify-1/analysis/tunings/TrigL2_20221110_v12/ElectronRingerTightTriggerConfig.conf\n",
      "2022-12-07 11:07:24,496 | Py.RingerDecorator                      INFO Reading... /home/pedro.lima/workspace/CERN-ATLAS-Qualify-1/analysis/tunings/TrigL2_20221110_v12/ElectronRingerMediumTriggerConfig.conf\n",
      "2022-12-07 11:07:24,565 | Py.RingerDecorator                      INFO Reading... /home/pedro.lima/workspace/CERN-ATLAS-Qualify-1/analysis/tunings/TrigL2_20221110_v12/ElectronRingerLooseTriggerConfig.conf\n",
      "2022-12-07 11:07:24,633 | Py.RingerDecorator                      INFO Reading... /home/pedro.lima/workspace/CERN-ATLAS-Qualify-1/analysis/tunings/TrigL2_20221110_v12/ElectronRingerVeryLooseTriggerConfig.conf\n"
     ]
    }
   ],
   "source": [
    "os.environ['RINGER_TUNING_PATH']='/home/pedro.lima/workspace/CERN-ATLAS-Qualify-1/analysis/tunings'\n",
    "\n",
    "decorators = create_ringer_v8_new_decorators()\n",
    "decorators += create_ringer_v8_half_fast_decorators()\n",
    "#decorators+= create_ringer_v9_decorators()\n",
    "#decorators += create_ringer_v8_34_decorators()\n",
    "decorators += create_ringer_v8_14_decorators()\n",
    "#decorators += create_ringer_v12_decorators()"
   ]
  },
  {
   "cell_type": "markdown",
   "metadata": {},
   "source": [
    "## Setup Chains"
   ]
  },
  {
   "cell_type": "code",
   "execution_count": 10,
   "metadata": {},
   "outputs": [
    {
     "name": "stdout",
     "output_type": "stream",
     "text": [
      "OrderedDict([('L1Seed', 'L1_EM22VHI'),\n",
      "             ('L2Calo', (21000.0, 'trig_L2_cl_lhtight_et22toInf')),\n",
      "             ('L2', 'trig_L2_el_cut_pt20to50'),\n",
      "             ('EFCalo', 24000.0),\n",
      "             ('HLT', (24000.0, 'trig_EF_el_lhtight_ivarloose'))])\n",
      "OrderedDict([('L1Seed', 'L1_EM22VHI'),\n",
      "             ('L2Calo', (21000.0, 'ringer_v8_new_tight')),\n",
      "             ('L2', 'trig_L2_el_cut_pt20to50'),\n",
      "             ('EFCalo', 24000.0),\n",
      "             ('HLT', (24000.0, 'trig_EF_el_lhtight_ivarloose'))])\n",
      "OrderedDict([('L1Seed', 'L1_EM22VHI'),\n",
      "             ('L2Calo', (21000.0, 'ringer_v8_half_tight')),\n",
      "             ('L2', 'trig_L2_el_cut_pt20to50'),\n",
      "             ('EFCalo', 24000.0),\n",
      "             ('HLT', (24000.0, 'trig_EF_el_lhtight_ivarloose'))])\n",
      "OrderedDict([('L1Seed', 'L1_EM22VHI'),\n",
      "             ('L2Calo', (21000.0, 'ringer_v8_14_tight')),\n",
      "             ('L2', 'trig_L2_el_cut_pt20to50'),\n",
      "             ('EFCalo', 24000.0),\n",
      "             ('HLT', (24000.0, 'trig_EF_el_lhtight_ivarloose'))])\n",
      "OrderedDict([('L1Seed', 'L1_EM22VHI'),\n",
      "             ('L2Calo', (23000.0, 'trig_L2_cl_lhtight_et22toInf')),\n",
      "             ('L2', 'trig_L2_el_cut_pt20to50'),\n",
      "             ('EFCalo', 26000.0),\n",
      "             ('HLT', (26000.0, 'trig_EF_el_lhtight_ivarloose'))])\n",
      "OrderedDict([('L1Seed', 'L1_EM22VHI'),\n",
      "             ('L2Calo', (23000.0, 'ringer_v8_new_tight')),\n",
      "             ('L2', 'trig_L2_el_cut_pt20to50'),\n",
      "             ('EFCalo', 26000.0),\n",
      "             ('HLT', (26000.0, 'trig_EF_el_lhtight_ivarloose'))])\n",
      "OrderedDict([('L1Seed', 'L1_EM22VHI'),\n",
      "             ('L2Calo', (23000.0, 'ringer_v8_half_tight')),\n",
      "             ('L2', 'trig_L2_el_cut_pt20to50'),\n",
      "             ('EFCalo', 26000.0),\n",
      "             ('HLT', (26000.0, 'trig_EF_el_lhtight_ivarloose'))])\n",
      "OrderedDict([('L1Seed', 'L1_EM22VHI'),\n",
      "             ('L2Calo', (23000.0, 'ringer_v8_14_tight')),\n",
      "             ('L2', 'trig_L2_el_cut_pt20to50'),\n",
      "             ('EFCalo', 26000.0),\n",
      "             ('HLT', (26000.0, 'trig_EF_el_lhtight_ivarloose'))])\n",
      "OrderedDict([('L1Seed', 'L1_EM24VHI'),\n",
      "             ('L2Calo', (57000.0, 'trig_L2_cl_lhmedium_et22toInf')),\n",
      "             ('L2', 'trig_L2_el_cut_pt50toInf'),\n",
      "             ('EFCalo', 60000.0),\n",
      "             ('HLT', (60000.0, 'trig_EF_el_lhmedium'))])\n",
      "OrderedDict([('L1Seed', 'L1_EM24VHI'),\n",
      "             ('L2Calo', (57000.0, 'ringer_v8_new_medium')),\n",
      "             ('L2', 'trig_L2_el_cut_pt50toInf'),\n",
      "             ('EFCalo', 60000.0),\n",
      "             ('HLT', (60000.0, 'trig_EF_el_lhmedium'))])\n",
      "OrderedDict([('L1Seed', 'L1_EM24VHI'),\n",
      "             ('L2Calo', (57000.0, 'ringer_v8_half_medium')),\n",
      "             ('L2', 'trig_L2_el_cut_pt50toInf'),\n",
      "             ('EFCalo', 60000.0),\n",
      "             ('HLT', (60000.0, 'trig_EF_el_lhmedium'))])\n",
      "OrderedDict([('L1Seed', 'L1_EM24VHI'),\n",
      "             ('L2Calo', (57000.0, 'ringer_v8_14_medium')),\n",
      "             ('L2', 'trig_L2_el_cut_pt50toInf'),\n",
      "             ('EFCalo', 60000.0),\n",
      "             ('HLT', (60000.0, 'trig_EF_el_lhmedium'))])\n",
      "OrderedDict([('L1Seed', 'L1_EM24VHI'),\n",
      "             ('L2Calo', (137000.0, 'trig_L2_cl_lhloose_et22toInf')),\n",
      "             ('L2', 'trig_L2_el_cut_pt50toInf'),\n",
      "             ('EFCalo', 140000.0),\n",
      "             ('HLT', (140000.0, 'trig_EF_el_lhloose'))])\n",
      "OrderedDict([('L1Seed', 'L1_EM24VHI'),\n",
      "             ('L2Calo', (137000.0, 'ringer_v8_new_loose')),\n",
      "             ('L2', 'trig_L2_el_cut_pt50toInf'),\n",
      "             ('EFCalo', 140000.0),\n",
      "             ('HLT', (140000.0, 'trig_EF_el_lhloose'))])\n",
      "OrderedDict([('L1Seed', 'L1_EM24VHI'),\n",
      "             ('L2Calo', (137000.0, 'ringer_v8_half_loose')),\n",
      "             ('L2', 'trig_L2_el_cut_pt50toInf'),\n",
      "             ('EFCalo', 140000.0),\n",
      "             ('HLT', (140000.0, 'trig_EF_el_lhloose'))])\n",
      "OrderedDict([('L1Seed', 'L1_EM24VHI'),\n",
      "             ('L2Calo', (137000.0, 'ringer_v8_14_loose')),\n",
      "             ('L2', 'trig_L2_el_cut_pt50toInf'),\n",
      "             ('EFCalo', 140000.0),\n",
      "             ('HLT', (140000.0, 'trig_EF_el_lhloose'))])\n"
     ]
    }
   ],
   "source": [
    "chains = list()\n",
    "\n",
    "for chain in chain_list:\n",
    "    for alg in ringer_list:\n",
    "        if alg == 'noringer':\n",
    "            chains.append(Chain((\"HLT_\"+chain).format(RINGER=alg), L1Seed = chain_list[chain]))\n",
    "        else:\n",
    "            chains.append(Chain((\"HLT_\"+chain).format(RINGER=alg), L1Seed = chain_list[chain], l2calo_column = alg+'_'+(chain.split('_')[1][2:])))"
   ]
  },
  {
   "cell_type": "markdown",
   "metadata": {},
   "source": [
    "## Read all bins"
   ]
  },
  {
   "cell_type": "code",
   "execution_count": 23,
   "metadata": {},
   "outputs": [
    {
     "name": "stderr",
     "output_type": "stream",
     "text": [
      "Reading files...:   0%|          | 0/3 [00:00<?, ?it/s]"
     ]
    },
    {
     "name": "stdout",
     "output_type": "stream",
     "text": [
      "WARNING:tensorflow:11 out of the last 11 calls to <function Model.make_predict_function.<locals>.predict_function at 0x7f790810e378> triggered tf.function retracing. Tracing is expensive and the excessive number of tracings could be due to (1) creating @tf.function repeatedly in a loop, (2) passing tensors with different shapes, (3) passing Python objects instead of tensors. For (1), please define your @tf.function outside of the loop. For (2), @tf.function has experimental_relax_shapes=True option that relaxes argument shapes that can avoid unnecessary retracing. For (3), please refer to https://www.tensorflow.org/tutorials/customization/performance#python_or_tensor_args and https://www.tensorflow.org/api_docs/python/tf/function for  more details.\n",
      "WARNING:tensorflow:11 out of the last 11 calls to <function Model.make_predict_function.<locals>.predict_function at 0x7f793067d8c8> triggered tf.function retracing. Tracing is expensive and the excessive number of tracings could be due to (1) creating @tf.function repeatedly in a loop, (2) passing tensors with different shapes, (3) passing Python objects instead of tensors. For (1), please define your @tf.function outside of the loop. For (2), @tf.function has experimental_relax_shapes=True option that relaxes argument shapes that can avoid unnecessary retracing. For (3), please refer to https://www.tensorflow.org/tutorials/customization/performance#python_or_tensor_args and https://www.tensorflow.org/api_docs/python/tf/function for  more details.\n",
      "WARNING:tensorflow:11 out of the last 11 calls to <function Model.make_predict_function.<locals>.predict_function at 0x7f78e05c46a8> triggered tf.function retracing. Tracing is expensive and the excessive number of tracings could be due to (1) creating @tf.function repeatedly in a loop, (2) passing tensors with different shapes, (3) passing Python objects instead of tensors. For (1), please define your @tf.function outside of the loop. For (2), @tf.function has experimental_relax_shapes=True option that relaxes argument shapes that can avoid unnecessary retracing. For (3), please refer to https://www.tensorflow.org/tutorials/customization/performance#python_or_tensor_args and https://www.tensorflow.org/api_docs/python/tf/function for  more details.\n",
      "WARNING:tensorflow:11 out of the last 11 calls to <function Model.make_predict_function.<locals>.predict_function at 0x7f78e063a620> triggered tf.function retracing. Tracing is expensive and the excessive number of tracings could be due to (1) creating @tf.function repeatedly in a loop, (2) passing tensors with different shapes, (3) passing Python objects instead of tensors. For (1), please define your @tf.function outside of the loop. For (2), @tf.function has experimental_relax_shapes=True option that relaxes argument shapes that can avoid unnecessary retracing. For (3), please refer to https://www.tensorflow.org/tutorials/customization/performance#python_or_tensor_args and https://www.tensorflow.org/api_docs/python/tf/function for  more details.\n",
      "WARNING:tensorflow:11 out of the last 11 calls to <function Model.make_predict_function.<locals>.predict_function at 0x7f78e072cf28> triggered tf.function retracing. Tracing is expensive and the excessive number of tracings could be due to (1) creating @tf.function repeatedly in a loop, (2) passing tensors with different shapes, (3) passing Python objects instead of tensors. For (1), please define your @tf.function outside of the loop. For (2), @tf.function has experimental_relax_shapes=True option that relaxes argument shapes that can avoid unnecessary retracing. For (3), please refer to https://www.tensorflow.org/tutorials/customization/performance#python_or_tensor_args and https://www.tensorflow.org/api_docs/python/tf/function for  more details.\n",
      "WARNING:tensorflow:11 out of the last 11 calls to <function Model.make_predict_function.<locals>.predict_function at 0x7f78e072c510> triggered tf.function retracing. Tracing is expensive and the excessive number of tracings could be due to (1) creating @tf.function repeatedly in a loop, (2) passing tensors with different shapes, (3) passing Python objects instead of tensors. For (1), please define your @tf.function outside of the loop. For (2), @tf.function has experimental_relax_shapes=True option that relaxes argument shapes that can avoid unnecessary retracing. For (3), please refer to https://www.tensorflow.org/tutorials/customization/performance#python_or_tensor_args and https://www.tensorflow.org/api_docs/python/tf/function for  more details.\n",
      "WARNING:tensorflow:11 out of the last 11 calls to <function Model.make_predict_function.<locals>.predict_function at 0x7f78e05c4598> triggered tf.function retracing. Tracing is expensive and the excessive number of tracings could be due to (1) creating @tf.function repeatedly in a loop, (2) passing tensors with different shapes, (3) passing Python objects instead of tensors. For (1), please define your @tf.function outside of the loop. For (2), @tf.function has experimental_relax_shapes=True option that relaxes argument shapes that can avoid unnecessary retracing. For (3), please refer to https://www.tensorflow.org/tutorials/customization/performance#python_or_tensor_args and https://www.tensorflow.org/api_docs/python/tf/function for  more details.\n",
      "WARNING:tensorflow:11 out of the last 11 calls to <function Model.make_predict_function.<locals>.predict_function at 0x7f78e0674488> triggered tf.function retracing. Tracing is expensive and the excessive number of tracings could be due to (1) creating @tf.function repeatedly in a loop, (2) passing tensors with different shapes, (3) passing Python objects instead of tensors. For (1), please define your @tf.function outside of the loop. For (2), @tf.function has experimental_relax_shapes=True option that relaxes argument shapes that can avoid unnecessary retracing. For (3), please refer to https://www.tensorflow.org/tutorials/customization/performance#python_or_tensor_args and https://www.tensorflow.org/api_docs/python/tf/function for  more details.\n",
      "WARNING:tensorflow:11 out of the last 11 calls to <function Model.make_predict_function.<locals>.predict_function at 0x7f78e06f5488> triggered tf.function retracing. Tracing is expensive and the excessive number of tracings could be due to (1) creating @tf.function repeatedly in a loop, (2) passing tensors with different shapes, (3) passing Python objects instead of tensors. For (1), please define your @tf.function outside of the loop. For (2), @tf.function has experimental_relax_shapes=True option that relaxes argument shapes that can avoid unnecessary retracing. For (3), please refer to https://www.tensorflow.org/tutorials/customization/performance#python_or_tensor_args and https://www.tensorflow.org/api_docs/python/tf/function for  more details.\n",
      "WARNING:tensorflow:11 out of the last 11 calls to <function Model.make_predict_function.<locals>.predict_function at 0x7f78e070b6a8> triggered tf.function retracing. Tracing is expensive and the excessive number of tracings could be due to (1) creating @tf.function repeatedly in a loop, (2) passing tensors with different shapes, (3) passing Python objects instead of tensors. For (1), please define your @tf.function outside of the loop. For (2), @tf.function has experimental_relax_shapes=True option that relaxes argument shapes that can avoid unnecessary retracing. For (3), please refer to https://www.tensorflow.org/tutorials/customization/performance#python_or_tensor_args and https://www.tensorflow.org/api_docs/python/tf/function for  more details.\n",
      "WARNING:tensorflow:11 out of the last 11 calls to <function Model.make_predict_function.<locals>.predict_function at 0x7f78e0764730> triggered tf.function retracing. Tracing is expensive and the excessive number of tracings could be due to (1) creating @tf.function repeatedly in a loop, (2) passing tensors with different shapes, (3) passing Python objects instead of tensors. For (1), please define your @tf.function outside of the loop. For (2), @tf.function has experimental_relax_shapes=True option that relaxes argument shapes that can avoid unnecessary retracing. For (3), please refer to https://www.tensorflow.org/tutorials/customization/performance#python_or_tensor_args and https://www.tensorflow.org/api_docs/python/tf/function for  more details.\n",
      "WARNING:tensorflow:11 out of the last 11 calls to <function Model.make_predict_function.<locals>.predict_function at 0x7f78e07ef598> triggered tf.function retracing. Tracing is expensive and the excessive number of tracings could be due to (1) creating @tf.function repeatedly in a loop, (2) passing tensors with different shapes, (3) passing Python objects instead of tensors. For (1), please define your @tf.function outside of the loop. For (2), @tf.function has experimental_relax_shapes=True option that relaxes argument shapes that can avoid unnecessary retracing. For (3), please refer to https://www.tensorflow.org/tutorials/customization/performance#python_or_tensor_args and https://www.tensorflow.org/api_docs/python/tf/function for  more details.\n"
     ]
    },
    {
     "name": "stderr",
     "output_type": "stream",
     "text": [
      "Reading files...:  33%|███▎      | 1/3 [00:00<00:01,  1.36it/s]"
     ]
    },
    {
     "name": "stdout",
     "output_type": "stream",
     "text": [
      "WARNING:tensorflow:11 out of the last 11 calls to <function Model.make_predict_function.<locals>.predict_function at 0x7f78e07ef268> triggered tf.function retracing. Tracing is expensive and the excessive number of tracings could be due to (1) creating @tf.function repeatedly in a loop, (2) passing tensors with different shapes, (3) passing Python objects instead of tensors. For (1), please define your @tf.function outside of the loop. For (2), @tf.function has experimental_relax_shapes=True option that relaxes argument shapes that can avoid unnecessary retracing. For (3), please refer to https://www.tensorflow.org/tutorials/customization/performance#python_or_tensor_args and https://www.tensorflow.org/api_docs/python/tf/function for  more details.\n",
      "WARNING:tensorflow:11 out of the last 11 calls to <function Model.make_predict_function.<locals>.predict_function at 0x7f78e0674158> triggered tf.function retracing. Tracing is expensive and the excessive number of tracings could be due to (1) creating @tf.function repeatedly in a loop, (2) passing tensors with different shapes, (3) passing Python objects instead of tensors. For (1), please define your @tf.function outside of the loop. For (2), @tf.function has experimental_relax_shapes=True option that relaxes argument shapes that can avoid unnecessary retracing. For (3), please refer to https://www.tensorflow.org/tutorials/customization/performance#python_or_tensor_args and https://www.tensorflow.org/api_docs/python/tf/function for  more details.\n",
      "WARNING:tensorflow:11 out of the last 11 calls to <function Model.make_predict_function.<locals>.predict_function at 0x7f78e0622730> triggered tf.function retracing. Tracing is expensive and the excessive number of tracings could be due to (1) creating @tf.function repeatedly in a loop, (2) passing tensors with different shapes, (3) passing Python objects instead of tensors. For (1), please define your @tf.function outside of the loop. For (2), @tf.function has experimental_relax_shapes=True option that relaxes argument shapes that can avoid unnecessary retracing. For (3), please refer to https://www.tensorflow.org/tutorials/customization/performance#python_or_tensor_args and https://www.tensorflow.org/api_docs/python/tf/function for  more details.\n",
      "WARNING:tensorflow:11 out of the last 11 calls to <function Model.make_predict_function.<locals>.predict_function at 0x7f78f4039e18> triggered tf.function retracing. Tracing is expensive and the excessive number of tracings could be due to (1) creating @tf.function repeatedly in a loop, (2) passing tensors with different shapes, (3) passing Python objects instead of tensors. For (1), please define your @tf.function outside of the loop. For (2), @tf.function has experimental_relax_shapes=True option that relaxes argument shapes that can avoid unnecessary retracing. For (3), please refer to https://www.tensorflow.org/tutorials/customization/performance#python_or_tensor_args and https://www.tensorflow.org/api_docs/python/tf/function for  more details.\n",
      "WARNING:tensorflow:11 out of the last 11 calls to <function Model.make_predict_function.<locals>.predict_function at 0x7f78f407d1e0> triggered tf.function retracing. Tracing is expensive and the excessive number of tracings could be due to (1) creating @tf.function repeatedly in a loop, (2) passing tensors with different shapes, (3) passing Python objects instead of tensors. For (1), please define your @tf.function outside of the loop. For (2), @tf.function has experimental_relax_shapes=True option that relaxes argument shapes that can avoid unnecessary retracing. For (3), please refer to https://www.tensorflow.org/tutorials/customization/performance#python_or_tensor_args and https://www.tensorflow.org/api_docs/python/tf/function for  more details.\n",
      "WARNING:tensorflow:11 out of the last 11 calls to <function Model.make_predict_function.<locals>.predict_function at 0x7f78e07dd1e0> triggered tf.function retracing. Tracing is expensive and the excessive number of tracings could be due to (1) creating @tf.function repeatedly in a loop, (2) passing tensors with different shapes, (3) passing Python objects instead of tensors. For (1), please define your @tf.function outside of the loop. For (2), @tf.function has experimental_relax_shapes=True option that relaxes argument shapes that can avoid unnecessary retracing. For (3), please refer to https://www.tensorflow.org/tutorials/customization/performance#python_or_tensor_args and https://www.tensorflow.org/api_docs/python/tf/function for  more details.\n",
      "WARNING:tensorflow:11 out of the last 11 calls to <function Model.make_predict_function.<locals>.predict_function at 0x7f78e0622840> triggered tf.function retracing. Tracing is expensive and the excessive number of tracings could be due to (1) creating @tf.function repeatedly in a loop, (2) passing tensors with different shapes, (3) passing Python objects instead of tensors. For (1), please define your @tf.function outside of the loop. For (2), @tf.function has experimental_relax_shapes=True option that relaxes argument shapes that can avoid unnecessary retracing. For (3), please refer to https://www.tensorflow.org/tutorials/customization/performance#python_or_tensor_args and https://www.tensorflow.org/api_docs/python/tf/function for  more details.\n",
      "WARNING:tensorflow:11 out of the last 11 calls to <function Model.make_predict_function.<locals>.predict_function at 0x7f78e06f5ea0> triggered tf.function retracing. Tracing is expensive and the excessive number of tracings could be due to (1) creating @tf.function repeatedly in a loop, (2) passing tensors with different shapes, (3) passing Python objects instead of tensors. For (1), please define your @tf.function outside of the loop. For (2), @tf.function has experimental_relax_shapes=True option that relaxes argument shapes that can avoid unnecessary retracing. For (3), please refer to https://www.tensorflow.org/tutorials/customization/performance#python_or_tensor_args and https://www.tensorflow.org/api_docs/python/tf/function for  more details.\n",
      "WARNING:tensorflow:11 out of the last 11 calls to <function Model.make_predict_function.<locals>.predict_function at 0x7f7930328d08> triggered tf.function retracing. Tracing is expensive and the excessive number of tracings could be due to (1) creating @tf.function repeatedly in a loop, (2) passing tensors with different shapes, (3) passing Python objects instead of tensors. For (1), please define your @tf.function outside of the loop. For (2), @tf.function has experimental_relax_shapes=True option that relaxes argument shapes that can avoid unnecessary retracing. For (3), please refer to https://www.tensorflow.org/tutorials/customization/performance#python_or_tensor_args and https://www.tensorflow.org/api_docs/python/tf/function for  more details.\n",
      "WARNING:tensorflow:11 out of the last 11 calls to <function Model.make_predict_function.<locals>.predict_function at 0x7f793011c0d0> triggered tf.function retracing. Tracing is expensive and the excessive number of tracings could be due to (1) creating @tf.function repeatedly in a loop, (2) passing tensors with different shapes, (3) passing Python objects instead of tensors. For (1), please define your @tf.function outside of the loop. For (2), @tf.function has experimental_relax_shapes=True option that relaxes argument shapes that can avoid unnecessary retracing. For (3), please refer to https://www.tensorflow.org/tutorials/customization/performance#python_or_tensor_args and https://www.tensorflow.org/api_docs/python/tf/function for  more details.\n",
      "WARNING:tensorflow:11 out of the last 11 calls to <function Model.make_predict_function.<locals>.predict_function at 0x7f79301e11e0> triggered tf.function retracing. Tracing is expensive and the excessive number of tracings could be due to (1) creating @tf.function repeatedly in a loop, (2) passing tensors with different shapes, (3) passing Python objects instead of tensors. For (1), please define your @tf.function outside of the loop. For (2), @tf.function has experimental_relax_shapes=True option that relaxes argument shapes that can avoid unnecessary retracing. For (3), please refer to https://www.tensorflow.org/tutorials/customization/performance#python_or_tensor_args and https://www.tensorflow.org/api_docs/python/tf/function for  more details.\n",
      "WARNING:tensorflow:11 out of the last 11 calls to <function Model.make_predict_function.<locals>.predict_function at 0x7f79301e1c80> triggered tf.function retracing. Tracing is expensive and the excessive number of tracings could be due to (1) creating @tf.function repeatedly in a loop, (2) passing tensors with different shapes, (3) passing Python objects instead of tensors. For (1), please define your @tf.function outside of the loop. For (2), @tf.function has experimental_relax_shapes=True option that relaxes argument shapes that can avoid unnecessary retracing. For (3), please refer to https://www.tensorflow.org/tutorials/customization/performance#python_or_tensor_args and https://www.tensorflow.org/api_docs/python/tf/function for  more details.\n"
     ]
    },
    {
     "name": "stderr",
     "output_type": "stream",
     "text": [
      "Reading files...:  67%|██████▋   | 2/3 [00:01<00:00,  1.44it/s]"
     ]
    },
    {
     "name": "stdout",
     "output_type": "stream",
     "text": [
      "WARNING:tensorflow:11 out of the last 11 calls to <function Model.make_predict_function.<locals>.predict_function at 0x7f79301e1e18> triggered tf.function retracing. Tracing is expensive and the excessive number of tracings could be due to (1) creating @tf.function repeatedly in a loop, (2) passing tensors with different shapes, (3) passing Python objects instead of tensors. For (1), please define your @tf.function outside of the loop. For (2), @tf.function has experimental_relax_shapes=True option that relaxes argument shapes that can avoid unnecessary retracing. For (3), please refer to https://www.tensorflow.org/tutorials/customization/performance#python_or_tensor_args and https://www.tensorflow.org/api_docs/python/tf/function for  more details.\n",
      "WARNING:tensorflow:11 out of the last 11 calls to <function Model.make_predict_function.<locals>.predict_function at 0x7f79305346a8> triggered tf.function retracing. Tracing is expensive and the excessive number of tracings could be due to (1) creating @tf.function repeatedly in a loop, (2) passing tensors with different shapes, (3) passing Python objects instead of tensors. For (1), please define your @tf.function outside of the loop. For (2), @tf.function has experimental_relax_shapes=True option that relaxes argument shapes that can avoid unnecessary retracing. For (3), please refer to https://www.tensorflow.org/tutorials/customization/performance#python_or_tensor_args and https://www.tensorflow.org/api_docs/python/tf/function for  more details.\n",
      "WARNING:tensorflow:11 out of the last 11 calls to <function Model.make_predict_function.<locals>.predict_function at 0x7f79300871e0> triggered tf.function retracing. Tracing is expensive and the excessive number of tracings could be due to (1) creating @tf.function repeatedly in a loop, (2) passing tensors with different shapes, (3) passing Python objects instead of tensors. For (1), please define your @tf.function outside of the loop. For (2), @tf.function has experimental_relax_shapes=True option that relaxes argument shapes that can avoid unnecessary retracing. For (3), please refer to https://www.tensorflow.org/tutorials/customization/performance#python_or_tensor_args and https://www.tensorflow.org/api_docs/python/tf/function for  more details.\n",
      "WARNING:tensorflow:11 out of the last 11 calls to <function Model.make_predict_function.<locals>.predict_function at 0x7f793014be18> triggered tf.function retracing. Tracing is expensive and the excessive number of tracings could be due to (1) creating @tf.function repeatedly in a loop, (2) passing tensors with different shapes, (3) passing Python objects instead of tensors. For (1), please define your @tf.function outside of the loop. For (2), @tf.function has experimental_relax_shapes=True option that relaxes argument shapes that can avoid unnecessary retracing. For (3), please refer to https://www.tensorflow.org/tutorials/customization/performance#python_or_tensor_args and https://www.tensorflow.org/api_docs/python/tf/function for  more details.\n",
      "WARNING:tensorflow:11 out of the last 11 calls to <function Model.make_predict_function.<locals>.predict_function at 0x7f79300e8c80> triggered tf.function retracing. Tracing is expensive and the excessive number of tracings could be due to (1) creating @tf.function repeatedly in a loop, (2) passing tensors with different shapes, (3) passing Python objects instead of tensors. For (1), please define your @tf.function outside of the loop. For (2), @tf.function has experimental_relax_shapes=True option that relaxes argument shapes that can avoid unnecessary retracing. For (3), please refer to https://www.tensorflow.org/tutorials/customization/performance#python_or_tensor_args and https://www.tensorflow.org/api_docs/python/tf/function for  more details.\n",
      "WARNING:tensorflow:11 out of the last 11 calls to <function Model.make_predict_function.<locals>.predict_function at 0x7f79300e8e18> triggered tf.function retracing. Tracing is expensive and the excessive number of tracings could be due to (1) creating @tf.function repeatedly in a loop, (2) passing tensors with different shapes, (3) passing Python objects instead of tensors. For (1), please define your @tf.function outside of the loop. For (2), @tf.function has experimental_relax_shapes=True option that relaxes argument shapes that can avoid unnecessary retracing. For (3), please refer to https://www.tensorflow.org/tutorials/customization/performance#python_or_tensor_args and https://www.tensorflow.org/api_docs/python/tf/function for  more details.\n",
      "WARNING:tensorflow:11 out of the last 11 calls to <function Model.make_predict_function.<locals>.predict_function at 0x7f78f4039730> triggered tf.function retracing. Tracing is expensive and the excessive number of tracings could be due to (1) creating @tf.function repeatedly in a loop, (2) passing tensors with different shapes, (3) passing Python objects instead of tensors. For (1), please define your @tf.function outside of the loop. For (2), @tf.function has experimental_relax_shapes=True option that relaxes argument shapes that can avoid unnecessary retracing. For (3), please refer to https://www.tensorflow.org/tutorials/customization/performance#python_or_tensor_args and https://www.tensorflow.org/api_docs/python/tf/function for  more details.\n",
      "WARNING:tensorflow:11 out of the last 11 calls to <function Model.make_predict_function.<locals>.predict_function at 0x7f79301e1950> triggered tf.function retracing. Tracing is expensive and the excessive number of tracings could be due to (1) creating @tf.function repeatedly in a loop, (2) passing tensors with different shapes, (3) passing Python objects instead of tensors. For (1), please define your @tf.function outside of the loop. For (2), @tf.function has experimental_relax_shapes=True option that relaxes argument shapes that can avoid unnecessary retracing. For (3), please refer to https://www.tensorflow.org/tutorials/customization/performance#python_or_tensor_args and https://www.tensorflow.org/api_docs/python/tf/function for  more details.\n",
      "WARNING:tensorflow:11 out of the last 11 calls to <function Model.make_predict_function.<locals>.predict_function at 0x7f793009fd08> triggered tf.function retracing. Tracing is expensive and the excessive number of tracings could be due to (1) creating @tf.function repeatedly in a loop, (2) passing tensors with different shapes, (3) passing Python objects instead of tensors. For (1), please define your @tf.function outside of the loop. For (2), @tf.function has experimental_relax_shapes=True option that relaxes argument shapes that can avoid unnecessary retracing. For (3), please refer to https://www.tensorflow.org/tutorials/customization/performance#python_or_tensor_args and https://www.tensorflow.org/api_docs/python/tf/function for  more details.\n",
      "WARNING:tensorflow:11 out of the last 11 calls to <function Model.make_predict_function.<locals>.predict_function at 0x7f7930191f28> triggered tf.function retracing. Tracing is expensive and the excessive number of tracings could be due to (1) creating @tf.function repeatedly in a loop, (2) passing tensors with different shapes, (3) passing Python objects instead of tensors. For (1), please define your @tf.function outside of the loop. For (2), @tf.function has experimental_relax_shapes=True option that relaxes argument shapes that can avoid unnecessary retracing. For (3), please refer to https://www.tensorflow.org/tutorials/customization/performance#python_or_tensor_args and https://www.tensorflow.org/api_docs/python/tf/function for  more details.\n",
      "WARNING:tensorflow:11 out of the last 11 calls to <function Model.make_predict_function.<locals>.predict_function at 0x7f7930119598> triggered tf.function retracing. Tracing is expensive and the excessive number of tracings could be due to (1) creating @tf.function repeatedly in a loop, (2) passing tensors with different shapes, (3) passing Python objects instead of tensors. For (1), please define your @tf.function outside of the loop. For (2), @tf.function has experimental_relax_shapes=True option that relaxes argument shapes that can avoid unnecessary retracing. For (3), please refer to https://www.tensorflow.org/tutorials/customization/performance#python_or_tensor_args and https://www.tensorflow.org/api_docs/python/tf/function for  more details.\n",
      "WARNING:tensorflow:11 out of the last 11 calls to <function Model.make_predict_function.<locals>.predict_function at 0x7f78c0781ea0> triggered tf.function retracing. Tracing is expensive and the excessive number of tracings could be due to (1) creating @tf.function repeatedly in a loop, (2) passing tensors with different shapes, (3) passing Python objects instead of tensors. For (1), please define your @tf.function outside of the loop. For (2), @tf.function has experimental_relax_shapes=True option that relaxes argument shapes that can avoid unnecessary retracing. For (3), please refer to https://www.tensorflow.org/tutorials/customization/performance#python_or_tensor_args and https://www.tensorflow.org/api_docs/python/tf/function for  more details.\n"
     ]
    },
    {
     "name": "stderr",
     "output_type": "stream",
     "text": [
      "Reading files...: 100%|██████████| 3/3 [00:02<00:00,  1.45it/s]\n"
     ]
    }
   ],
   "source": [
    "boosted_table = load_in_loop( boosted_paths, drop_columns=drop_columns, decorators=decorators, chains=chains )"
   ]
  },
  {
   "cell_type": "code",
   "execution_count": 27,
   "metadata": {},
   "outputs": [
    {
     "name": "stdout",
     "output_type": "stream",
     "text": [
      "['avgmu', 'trig_L2_cl_et', 'trig_L2_cl_eta', 'trig_L2_cl_phi', 'trig_L2_cl_reta', 'trig_L2_cl_ehad1', 'trig_L2_cl_eratio', 'trig_L2_cl_f1', 'trig_L2_cl_f3', 'trig_L2_cl_weta2', 'trig_L2_cl_wstot', 'trig_L2_cl_ring_0', 'trig_L2_cl_ring_1', 'trig_L2_cl_ring_2', 'trig_L2_cl_ring_3', 'trig_L2_cl_ring_4', 'trig_L2_cl_ring_5', 'trig_L2_cl_ring_6', 'trig_L2_cl_ring_7', 'trig_L2_cl_ring_8', 'trig_L2_cl_ring_9', 'trig_L2_cl_ring_10', 'trig_L2_cl_ring_11', 'trig_L2_cl_ring_12', 'trig_L2_cl_ring_13', 'trig_L2_cl_ring_14', 'trig_L2_cl_ring_15', 'trig_L2_cl_ring_16', 'trig_L2_cl_ring_17', 'trig_L2_cl_ring_18', 'trig_L2_cl_ring_19', 'trig_L2_cl_ring_20', 'trig_L2_cl_ring_21', 'trig_L2_cl_ring_22', 'trig_L2_cl_ring_23', 'trig_L2_cl_ring_24', 'trig_L2_cl_ring_25', 'trig_L2_cl_ring_26', 'trig_L2_cl_ring_27', 'trig_L2_cl_ring_28', 'trig_L2_cl_ring_29', 'trig_L2_cl_ring_30', 'trig_L2_cl_ring_31', 'trig_L2_cl_ring_32', 'trig_L2_cl_ring_33', 'trig_L2_cl_ring_34', 'trig_L2_cl_ring_35', 'trig_L2_cl_ring_36', 'trig_L2_cl_ring_37', 'trig_L2_cl_ring_38', 'trig_L2_cl_ring_39', 'trig_L2_cl_ring_40', 'trig_L2_cl_ring_41', 'trig_L2_cl_ring_42', 'trig_L2_cl_ring_43', 'trig_L2_cl_ring_44', 'trig_L2_cl_ring_45', 'trig_L2_cl_ring_46', 'trig_L2_cl_ring_47', 'trig_L2_cl_ring_48', 'trig_L2_cl_ring_49', 'trig_L2_cl_ring_50', 'trig_L2_cl_ring_51', 'trig_L2_cl_ring_52', 'trig_L2_cl_ring_53', 'trig_L2_cl_ring_54', 'trig_L2_cl_ring_55', 'trig_L2_cl_ring_56', 'trig_L2_cl_ring_57', 'trig_L2_cl_ring_58', 'trig_L2_cl_ring_59', 'trig_L2_cl_ring_60', 'trig_L2_cl_ring_61', 'trig_L2_cl_ring_62', 'trig_L2_cl_ring_63', 'trig_L2_cl_ring_64', 'trig_L2_cl_ring_65', 'trig_L2_cl_ring_66', 'trig_L2_cl_ring_67', 'trig_L2_cl_ring_68', 'trig_L2_cl_ring_69', 'trig_L2_cl_ring_70', 'trig_L2_cl_ring_71', 'trig_L2_cl_ring_72', 'trig_L2_cl_ring_73', 'trig_L2_cl_ring_74', 'trig_L2_cl_ring_75', 'trig_L2_cl_ring_76', 'trig_L2_cl_ring_77', 'trig_L2_cl_ring_78', 'trig_L2_cl_ring_79', 'trig_L2_cl_ring_80', 'trig_L2_cl_ring_81', 'trig_L2_cl_ring_82', 'trig_L2_cl_ring_83', 'trig_L2_cl_ring_84', 'trig_L2_cl_ring_85', 'trig_L2_cl_ring_86', 'trig_L2_cl_ring_87', 'trig_L2_cl_ring_88', 'trig_L2_cl_ring_89', 'trig_L2_cl_ring_90', 'trig_L2_cl_ring_91', 'trig_L2_cl_ring_92', 'trig_L2_cl_ring_93', 'trig_L2_cl_ring_94', 'trig_L2_cl_ring_95', 'trig_L2_cl_ring_96', 'trig_L2_cl_ring_97', 'trig_L2_cl_ring_98', 'trig_L2_cl_ring_99', 'trig_L2_el_pt', 'trig_EF_cl_et', 'trig_EF_el_et', 'trig_EF_el_lhtight', 'trig_EF_el_lhmedium', 'trig_EF_el_lhloose', 'trig_EF_el_lhvloose', 'el_et', 'el_eta', 'el_phi', 'el_rhad1', 'el_rhad', 'el_f3', 'el_weta2', 'el_rphi', 'el_reta', 'el_wtots1', 'el_eratio', 'el_f1', 'el_hastrack', 'el_d0', 'el_d0significance', 'el_eProbabilityHT', 'el_deltaEta1', 'el_deltaPhi2Rescaled', 'el_deltaPOverP', 'el_lhtight', 'el_lhmedium', 'el_lhloose', 'el_lhvloose', 'trig_EF_el_lhtight_ivarloose', 'el_TaP_deltaR', 'L1_EM3', 'L1_EM7', 'L1_EM15VH', 'L1_EM15VHI', 'L1_EM20VH', 'L1_EM20VHI', 'L1_EM22VH', 'L1_EM22VHI', 'L1_EM24VHI', 'trig_L2_cl_lhvloose_et0to12', 'trig_L2_cl_lhvloose_et12to20', 'trig_L2_cl_lhvloose_et22toInf', 'trig_L2_cl_lhloose_et0to12', 'trig_L2_cl_lhloose_et12to20', 'trig_L2_cl_lhloose_et22toInf', 'trig_L2_cl_lhmedium_et0to12', 'trig_L2_cl_lhmedium_et12to20', 'trig_L2_cl_lhmedium_et22toInf', 'trig_L2_cl_lhtight_et0to12', 'trig_L2_cl_lhtight_et12to20', 'trig_L2_cl_lhtight_et22toInf', 'trig_L2_el_cut_pt0to15', 'trig_L2_el_cut_pt15to20', 'trig_L2_el_cut_pt20to50', 'trig_L2_el_cut_pt50toInf', 'target', 'ringer_v8_new_tight_output', 'ringer_v8_new_tight', 'ringer_v8_new_medium_output', 'ringer_v8_new_medium', 'ringer_v8_new_loose_output', 'ringer_v8_new_loose', 'ringer_v8_new_vloose_output', 'ringer_v8_new_vloose', 'ringer_v8_half_tight_output', 'ringer_v8_half_tight', 'ringer_v8_half_medium_output', 'ringer_v8_half_medium', 'ringer_v8_half_loose_output', 'ringer_v8_half_loose', 'ringer_v8_half_vloose_output', 'ringer_v8_half_vloose', 'ringer_v12_tight_output', 'ringer_v12_tight', 'ringer_v12_medium_output', 'ringer_v12_medium', 'ringer_v12_loose_output', 'ringer_v12_loose', 'ringer_v12_vloose_output', 'ringer_v12_vloose', 'L1Calo_e24_lhtight_nod0_noringer_ivarloose', 'L2Calo_e24_lhtight_nod0_noringer_ivarloose', 'L2_e24_lhtight_nod0_noringer_ivarloose', 'EFCalo_e24_lhtight_nod0_noringer_ivarloose', 'HLT_e24_lhtight_nod0_noringer_ivarloose', 'L1Calo_e24_lhtight_nod0_ringer_v8_new_ivarloose', 'L2Calo_e24_lhtight_nod0_ringer_v8_new_ivarloose', 'L2_e24_lhtight_nod0_ringer_v8_new_ivarloose', 'EFCalo_e24_lhtight_nod0_ringer_v8_new_ivarloose', 'HLT_e24_lhtight_nod0_ringer_v8_new_ivarloose', 'L1Calo_e24_lhtight_nod0_ringer_v8_half_ivarloose', 'L2Calo_e24_lhtight_nod0_ringer_v8_half_ivarloose', 'L2_e24_lhtight_nod0_ringer_v8_half_ivarloose', 'EFCalo_e24_lhtight_nod0_ringer_v8_half_ivarloose', 'HLT_e24_lhtight_nod0_ringer_v8_half_ivarloose', 'L1Calo_e24_lhtight_nod0_ringer_v12_ivarloose', 'L2Calo_e24_lhtight_nod0_ringer_v12_ivarloose', 'L2_e24_lhtight_nod0_ringer_v12_ivarloose', 'EFCalo_e24_lhtight_nod0_ringer_v12_ivarloose', 'HLT_e24_lhtight_nod0_ringer_v12_ivarloose', 'L1Calo_e26_lhtight_nod0_noringer_ivarloose', 'L2Calo_e26_lhtight_nod0_noringer_ivarloose', 'L2_e26_lhtight_nod0_noringer_ivarloose', 'EFCalo_e26_lhtight_nod0_noringer_ivarloose', 'HLT_e26_lhtight_nod0_noringer_ivarloose', 'L1Calo_e26_lhtight_nod0_ringer_v8_new_ivarloose', 'L2Calo_e26_lhtight_nod0_ringer_v8_new_ivarloose', 'L2_e26_lhtight_nod0_ringer_v8_new_ivarloose', 'EFCalo_e26_lhtight_nod0_ringer_v8_new_ivarloose', 'HLT_e26_lhtight_nod0_ringer_v8_new_ivarloose', 'L1Calo_e26_lhtight_nod0_ringer_v8_half_ivarloose', 'L2Calo_e26_lhtight_nod0_ringer_v8_half_ivarloose', 'L2_e26_lhtight_nod0_ringer_v8_half_ivarloose', 'EFCalo_e26_lhtight_nod0_ringer_v8_half_ivarloose', 'HLT_e26_lhtight_nod0_ringer_v8_half_ivarloose', 'L1Calo_e26_lhtight_nod0_ringer_v12_ivarloose', 'L2Calo_e26_lhtight_nod0_ringer_v12_ivarloose', 'L2_e26_lhtight_nod0_ringer_v12_ivarloose', 'EFCalo_e26_lhtight_nod0_ringer_v12_ivarloose', 'HLT_e26_lhtight_nod0_ringer_v12_ivarloose', 'L1Calo_e60_lhmedium_nod0_noringer_L1EM24VHI', 'L2Calo_e60_lhmedium_nod0_noringer_L1EM24VHI', 'L2_e60_lhmedium_nod0_noringer_L1EM24VHI', 'EFCalo_e60_lhmedium_nod0_noringer_L1EM24VHI', 'HLT_e60_lhmedium_nod0_noringer_L1EM24VHI', 'L1Calo_e60_lhmedium_nod0_ringer_v8_new_L1EM24VHI', 'L2Calo_e60_lhmedium_nod0_ringer_v8_new_L1EM24VHI', 'L2_e60_lhmedium_nod0_ringer_v8_new_L1EM24VHI', 'EFCalo_e60_lhmedium_nod0_ringer_v8_new_L1EM24VHI', 'HLT_e60_lhmedium_nod0_ringer_v8_new_L1EM24VHI', 'L1Calo_e60_lhmedium_nod0_ringer_v8_half_L1EM24VHI', 'L2Calo_e60_lhmedium_nod0_ringer_v8_half_L1EM24VHI', 'L2_e60_lhmedium_nod0_ringer_v8_half_L1EM24VHI', 'EFCalo_e60_lhmedium_nod0_ringer_v8_half_L1EM24VHI', 'HLT_e60_lhmedium_nod0_ringer_v8_half_L1EM24VHI', 'L1Calo_e60_lhmedium_nod0_ringer_v12_L1EM24VHI', 'L2Calo_e60_lhmedium_nod0_ringer_v12_L1EM24VHI', 'L2_e60_lhmedium_nod0_ringer_v12_L1EM24VHI', 'EFCalo_e60_lhmedium_nod0_ringer_v12_L1EM24VHI', 'HLT_e60_lhmedium_nod0_ringer_v12_L1EM24VHI', 'L1Calo_e140_lhloose_nod0_noringer', 'L2Calo_e140_lhloose_nod0_noringer', 'L2_e140_lhloose_nod0_noringer', 'EFCalo_e140_lhloose_nod0_noringer', 'HLT_e140_lhloose_nod0_noringer', 'L1Calo_e140_lhloose_nod0_ringer_v8_new', 'L2Calo_e140_lhloose_nod0_ringer_v8_new', 'L2_e140_lhloose_nod0_ringer_v8_new', 'EFCalo_e140_lhloose_nod0_ringer_v8_new', 'HLT_e140_lhloose_nod0_ringer_v8_new', 'L1Calo_e140_lhloose_nod0_ringer_v8_half', 'L2Calo_e140_lhloose_nod0_ringer_v8_half', 'L2_e140_lhloose_nod0_ringer_v8_half', 'EFCalo_e140_lhloose_nod0_ringer_v8_half', 'HLT_e140_lhloose_nod0_ringer_v8_half', 'L1Calo_e140_lhloose_nod0_ringer_v12', 'L2Calo_e140_lhloose_nod0_ringer_v12', 'L2_e140_lhloose_nod0_ringer_v12', 'EFCalo_e140_lhloose_nod0_ringer_v12', 'HLT_e140_lhloose_nod0_ringer_v12']\n"
     ]
    }
   ],
   "source": [
    "if True:\n",
    "    print(boosted_table.columns.to_list())"
   ]
  },
  {
   "cell_type": "markdown",
   "metadata": {},
   "source": [
    "## Efficiency plots"
   ]
  },
  {
   "cell_type": "markdown",
   "metadata": {
    "tags": []
   },
   "source": [
    "### Efficiency with respect to $E_T$"
   ]
  },
  {
   "cell_type": "code",
   "execution_count": 29,
   "metadata": {},
   "outputs": [],
   "source": [
    "def make_et_plot(dataframe, chain, fake=False):\n",
    "    var = 'trig_L2_cl_et'\n",
    "    from Gaugi.constants import GeV\n",
    "    # plot in eta need sum 1 in chain threshold \n",
    "\n",
    "    m_bins = [4,7,10,15,20,25,30,35,40,45,50,60,80,150,300] # et_bins\n",
    "    #m_bins = [15, 20, 30, 40, 50, 1000000]\n",
    "    #m_bins = np.arange(3, 16, step=.5).tolist()\n",
    "    et_cut  = int(chain.split('_')[1][1:])\n",
    "    if fake:\n",
    "        #aux_df = dataframe.loc[(dataframe.target != 1) & (dataframe.el_lhvloose != 1) &\\\n",
    "        aux_df = dataframe.loc[(dataframe.target != 1) &\\\n",
    "                               (dataframe.el_et >= (et_cut - 5)*GeV) & (np.abs(dataframe.el_eta) <=2.47)]\n",
    "        #                                                      *GeV\n",
    "    else:\n",
    "        offline = chain.split('_')[2]\n",
    "        aux_df = dataframe.loc[(dataframe.target == 1) & (dataframe['el_%s' %(offline)] == 1) & (dataframe.el_et >= (et_cut - 5)*GeV) & (np.abs(dataframe.el_eta) <=2.47)]\n",
    "        #                                                                                                                       *GeV\n",
    "    \n",
    "    #step_decision = chain_step + '_' + '_'.join(chain.split('_')[1:])\n",
    "    step_decision = chain\n",
    "    #'L2Calo_e26_lhtight_nod0_ringer_v8_34_ivarloose'\n",
    "    # cuts for all\n",
    "    total   = aux_df\n",
    "    passed  = aux_df.loc[(aux_df[step_decision] == 1)]\n",
    "    \n",
    "    h_num = hist1d('et_b_num', passed[var]/GeV, m_bins )\n",
    "    #                                         /GeV\n",
    "    h_den = hist1d('et_b_den', total[var]/GeV, m_bins )\n",
    "    #                                        /GeV\n",
    "    h_eff = rpl.hist1d.divide(h_num,h_den) \n",
    "    \n",
    "    return h_eff, len(passed)/len(total)"
   ]
  },
  {
   "cell_type": "code",
   "execution_count": 31,
   "metadata": {},
   "outputs": [
    {
     "ename": "KeyError",
     "evalue": "'L2Calo_e24_lhtight_nod0_ringer_v8_14_ivarloose'",
     "output_type": "error",
     "traceback": [
      "\u001b[0;31m---------------------------------------------------------------------------\u001b[0m",
      "\u001b[0;31mKeyError\u001b[0m                                  Traceback (most recent call last)",
      "\u001b[0;32m/usr/local/lib/python3.6/dist-packages/pandas/core/indexes/base.py\u001b[0m in \u001b[0;36mget_loc\u001b[0;34m(self, key, method, tolerance)\u001b[0m\n\u001b[1;32m   2897\u001b[0m             \u001b[0;32mtry\u001b[0m\u001b[0;34m:\u001b[0m\u001b[0;34m\u001b[0m\u001b[0;34m\u001b[0m\u001b[0m\n\u001b[0;32m-> 2898\u001b[0;31m                 \u001b[0;32mreturn\u001b[0m \u001b[0mself\u001b[0m\u001b[0;34m.\u001b[0m\u001b[0m_engine\u001b[0m\u001b[0;34m.\u001b[0m\u001b[0mget_loc\u001b[0m\u001b[0;34m(\u001b[0m\u001b[0mcasted_key\u001b[0m\u001b[0;34m)\u001b[0m\u001b[0;34m\u001b[0m\u001b[0;34m\u001b[0m\u001b[0m\n\u001b[0m\u001b[1;32m   2899\u001b[0m             \u001b[0;32mexcept\u001b[0m \u001b[0mKeyError\u001b[0m \u001b[0;32mas\u001b[0m \u001b[0merr\u001b[0m\u001b[0;34m:\u001b[0m\u001b[0;34m\u001b[0m\u001b[0;34m\u001b[0m\u001b[0m\n",
      "\u001b[0;32mpandas/_libs/index.pyx\u001b[0m in \u001b[0;36mpandas._libs.index.IndexEngine.get_loc\u001b[0;34m()\u001b[0m\n",
      "\u001b[0;32mpandas/_libs/index.pyx\u001b[0m in \u001b[0;36mpandas._libs.index.IndexEngine.get_loc\u001b[0;34m()\u001b[0m\n",
      "\u001b[0;32mpandas/_libs/hashtable_class_helper.pxi\u001b[0m in \u001b[0;36mpandas._libs.hashtable.PyObjectHashTable.get_item\u001b[0;34m()\u001b[0m\n",
      "\u001b[0;32mpandas/_libs/hashtable_class_helper.pxi\u001b[0m in \u001b[0;36mpandas._libs.hashtable.PyObjectHashTable.get_item\u001b[0;34m()\u001b[0m\n",
      "\u001b[0;31mKeyError\u001b[0m: 'L2Calo_e24_lhtight_nod0_ringer_v8_14_ivarloose'",
      "\nThe above exception was the direct cause of the following exception:\n",
      "\u001b[0;31mKeyError\u001b[0m                                  Traceback (most recent call last)",
      "\u001b[0;32m<ipython-input-31-1a68b74890e3>\u001b[0m in \u001b[0;36m<module>\u001b[0;34m\u001b[0m\n\u001b[1;32m     52\u001b[0m             \u001b[0;31m# no ringer 2017\u001b[0m\u001b[0;34m\u001b[0m\u001b[0;34m\u001b[0m\u001b[0;34m\u001b[0m\u001b[0m\n\u001b[1;32m     53\u001b[0m             make_et_plot(boosted_table, \n\u001b[0;32m---> 54\u001b[0;31m                          \u001b[0mtrigger\u001b[0m\u001b[0;34m.\u001b[0m\u001b[0mformat\u001b[0m\u001b[0;34m(\u001b[0m\u001b[0mRINGER\u001b[0m\u001b[0;34m=\u001b[0m\u001b[0;34m'ringer_v8_14'\u001b[0m\u001b[0;34m)\u001b[0m\u001b[0;34m,\u001b[0m \u001b[0mchain_step\u001b[0m\u001b[0;34m=\u001b[0m\u001b[0mstep\u001b[0m\u001b[0;34m,\u001b[0m \u001b[0ml2suffix\u001b[0m\u001b[0;34m=\u001b[0m\u001b[0;34m'ringer_v8_14'\u001b[0m\u001b[0;34m,\u001b[0m\u001b[0;34m\u001b[0m\u001b[0;34m\u001b[0m\u001b[0m\n\u001b[0m\u001b[1;32m     55\u001b[0m                         )\n\u001b[1;32m     56\u001b[0m         ])\n",
      "\u001b[0;32m<ipython-input-29-5e6f80dc491a>\u001b[0m in \u001b[0;36mmake_et_plot\u001b[0;34m(dataframe, chain, chain_step, l2suffix, fake)\u001b[0m\n\u001b[1;32m     23\u001b[0m     \u001b[0;31m# cuts for all\u001b[0m\u001b[0;34m\u001b[0m\u001b[0;34m\u001b[0m\u001b[0;34m\u001b[0m\u001b[0m\n\u001b[1;32m     24\u001b[0m     \u001b[0mtotal\u001b[0m   \u001b[0;34m=\u001b[0m \u001b[0maux_df\u001b[0m\u001b[0;34m\u001b[0m\u001b[0;34m\u001b[0m\u001b[0m\n\u001b[0;32m---> 25\u001b[0;31m     \u001b[0mpassed\u001b[0m  \u001b[0;34m=\u001b[0m \u001b[0maux_df\u001b[0m\u001b[0;34m.\u001b[0m\u001b[0mloc\u001b[0m\u001b[0;34m[\u001b[0m\u001b[0;34m(\u001b[0m\u001b[0maux_df\u001b[0m\u001b[0;34m[\u001b[0m\u001b[0mstep_decision\u001b[0m\u001b[0;34m]\u001b[0m \u001b[0;34m==\u001b[0m \u001b[0;36m1\u001b[0m\u001b[0;34m)\u001b[0m\u001b[0;34m]\u001b[0m\u001b[0;34m\u001b[0m\u001b[0;34m\u001b[0m\u001b[0m\n\u001b[0m\u001b[1;32m     26\u001b[0m \u001b[0;34m\u001b[0m\u001b[0m\n\u001b[1;32m     27\u001b[0m     \u001b[0mh_num\u001b[0m \u001b[0;34m=\u001b[0m \u001b[0mhist1d\u001b[0m\u001b[0;34m(\u001b[0m\u001b[0;34m'et_b_num'\u001b[0m\u001b[0;34m,\u001b[0m \u001b[0mpassed\u001b[0m\u001b[0;34m[\u001b[0m\u001b[0mvar\u001b[0m\u001b[0;34m]\u001b[0m\u001b[0;34m/\u001b[0m\u001b[0mGeV\u001b[0m\u001b[0;34m,\u001b[0m \u001b[0mm_bins\u001b[0m \u001b[0;34m)\u001b[0m\u001b[0;34m\u001b[0m\u001b[0;34m\u001b[0m\u001b[0m\n",
      "\u001b[0;32m/usr/local/lib/python3.6/dist-packages/pandas/core/frame.py\u001b[0m in \u001b[0;36m__getitem__\u001b[0;34m(self, key)\u001b[0m\n\u001b[1;32m   2904\u001b[0m             \u001b[0;32mif\u001b[0m \u001b[0mself\u001b[0m\u001b[0;34m.\u001b[0m\u001b[0mcolumns\u001b[0m\u001b[0;34m.\u001b[0m\u001b[0mnlevels\u001b[0m \u001b[0;34m>\u001b[0m \u001b[0;36m1\u001b[0m\u001b[0;34m:\u001b[0m\u001b[0;34m\u001b[0m\u001b[0;34m\u001b[0m\u001b[0m\n\u001b[1;32m   2905\u001b[0m                 \u001b[0;32mreturn\u001b[0m \u001b[0mself\u001b[0m\u001b[0;34m.\u001b[0m\u001b[0m_getitem_multilevel\u001b[0m\u001b[0;34m(\u001b[0m\u001b[0mkey\u001b[0m\u001b[0;34m)\u001b[0m\u001b[0;34m\u001b[0m\u001b[0;34m\u001b[0m\u001b[0m\n\u001b[0;32m-> 2906\u001b[0;31m             \u001b[0mindexer\u001b[0m \u001b[0;34m=\u001b[0m \u001b[0mself\u001b[0m\u001b[0;34m.\u001b[0m\u001b[0mcolumns\u001b[0m\u001b[0;34m.\u001b[0m\u001b[0mget_loc\u001b[0m\u001b[0;34m(\u001b[0m\u001b[0mkey\u001b[0m\u001b[0;34m)\u001b[0m\u001b[0;34m\u001b[0m\u001b[0;34m\u001b[0m\u001b[0m\n\u001b[0m\u001b[1;32m   2907\u001b[0m             \u001b[0;32mif\u001b[0m \u001b[0mis_integer\u001b[0m\u001b[0;34m(\u001b[0m\u001b[0mindexer\u001b[0m\u001b[0;34m)\u001b[0m\u001b[0;34m:\u001b[0m\u001b[0;34m\u001b[0m\u001b[0;34m\u001b[0m\u001b[0m\n\u001b[1;32m   2908\u001b[0m                 \u001b[0mindexer\u001b[0m \u001b[0;34m=\u001b[0m \u001b[0;34m[\u001b[0m\u001b[0mindexer\u001b[0m\u001b[0;34m]\u001b[0m\u001b[0;34m\u001b[0m\u001b[0;34m\u001b[0m\u001b[0m\n",
      "\u001b[0;32m/usr/local/lib/python3.6/dist-packages/pandas/core/indexes/base.py\u001b[0m in \u001b[0;36mget_loc\u001b[0;34m(self, key, method, tolerance)\u001b[0m\n\u001b[1;32m   2898\u001b[0m                 \u001b[0;32mreturn\u001b[0m \u001b[0mself\u001b[0m\u001b[0;34m.\u001b[0m\u001b[0m_engine\u001b[0m\u001b[0;34m.\u001b[0m\u001b[0mget_loc\u001b[0m\u001b[0;34m(\u001b[0m\u001b[0mcasted_key\u001b[0m\u001b[0;34m)\u001b[0m\u001b[0;34m\u001b[0m\u001b[0;34m\u001b[0m\u001b[0m\n\u001b[1;32m   2899\u001b[0m             \u001b[0;32mexcept\u001b[0m \u001b[0mKeyError\u001b[0m \u001b[0;32mas\u001b[0m \u001b[0merr\u001b[0m\u001b[0;34m:\u001b[0m\u001b[0;34m\u001b[0m\u001b[0;34m\u001b[0m\u001b[0m\n\u001b[0;32m-> 2900\u001b[0;31m                 \u001b[0;32mraise\u001b[0m \u001b[0mKeyError\u001b[0m\u001b[0;34m(\u001b[0m\u001b[0mkey\u001b[0m\u001b[0;34m)\u001b[0m \u001b[0;32mfrom\u001b[0m \u001b[0merr\u001b[0m\u001b[0;34m\u001b[0m\u001b[0;34m\u001b[0m\u001b[0m\n\u001b[0m\u001b[1;32m   2901\u001b[0m \u001b[0;34m\u001b[0m\u001b[0m\n\u001b[1;32m   2902\u001b[0m         \u001b[0;32mif\u001b[0m \u001b[0mtolerance\u001b[0m \u001b[0;32mis\u001b[0m \u001b[0;32mnot\u001b[0m \u001b[0;32mNone\u001b[0m\u001b[0;34m:\u001b[0m\u001b[0;34m\u001b[0m\u001b[0;34m\u001b[0m\u001b[0m\n",
      "\u001b[0;31mKeyError\u001b[0m: 'L2Calo_e24_lhtight_nod0_ringer_v8_14_ivarloose'"
     ]
    }
   ],
   "source": [
    "for step in ['L2Calo', 'L2', 'EFCalo', 'HLT']:\n",
    "    plot_path = '/home/pedro.lima/workspace/CERN-ATLAS-Qualify-1/analysis/kepler/kepler_imgs/effs/et'\n",
    "\n",
    "    chain_list = ['e24_lhtight_nod0_{RINGER}_ivarloose',\n",
    "                  'e26_lhtight_nod0_{RINGER}_ivarloose',\n",
    "                  'e60_lhmedium_nod0_{RINGER}_L1EM24VHI',\n",
    "                  'e140_lhloose_nod0_{RINGER}'\n",
    "                 ]\n",
    "\n",
    "    for chain in chain_list:\n",
    "        \n",
    "        trigger = step+'_'+chain\n",
    "\n",
    "        m_info = np.array([make_et_plot(boosted_table, trigger.format(RINGER=alg)) for alg in ringer_list])\n",
    "        \n",
    "        # make the plot\n",
    "        fig = rpl.create_canvas('my_canvas', canw=1400, canh=1000)\n",
    "        fig = rpl.plot_profiles( m_info[:,0], 'E_{T} [GeV]', colors, markers)\n",
    "        #rpl.set_atlas_label(0.15,0.85,'Internal, pp data #sqrt{s}= 13TeV')\n",
    "        rpl.format_canvas_axes(YTitleOffset = 0.95)\n",
    "        labels = []\n",
    "        for idx, ilabel in enumerate(label_list):\n",
    "            labels.append('%s - P_{D} (%s): %1.2f %%' %(ilabel, step, m_info[idx, 1]*100))\n",
    "        add_legend( 0.55,0.15, labels)\n",
    "        rpl.add_text(0.55, 0.4, 'Boosted', textsize=0.04)\n",
    "        rpl.add_text( 0.55, 0.35, '%s_%s_%s_nod0' %(step, chain.split('_')[0], chain.split('_')[1]), textsize=0.04)\n",
    "        rpl.fix_yaxis_ranges( ignore_zeros=True, ignore_errors=True , yminf=-0.5, ymaxf=1.1) \n",
    "        fig.show()\n",
    "        print('Saving '+ plot_path+'/eff_et_%s_%s_%s_root' %(step, chain.split('_')[0], chain.split('_')[1]))\n",
    "        fig.savefig(plot_path+'/eff_boosted_et_%s_%s_%s_root.pdf' %(step, chain.split('_')[0], chain.split('_')[1]))\n",
    "        fig.savefig(plot_path+'/eff_boosted_et_%s_%s_%s_root.png' %(step, chain.split('_')[0], chain.split('_')[1]))"
   ]
  },
  {
   "cell_type": "markdown",
   "metadata": {},
   "source": [
    "### Efficiency with respect to $\\Delta R$"
   ]
  },
  {
   "cell_type": "code",
   "execution_count": 11,
   "metadata": {},
   "outputs": [],
   "source": [
    "def make_dr_plot(dataframe, chain, fake=False):\n",
    "    var = 'el_TaP_deltaR'\n",
    "    from Gaugi.constants import GeV\n",
    "    # plot in eta need sum 1 in chain threshold \n",
    "\n",
    "    m_bins = [0, 0.02, 0.04, 0.06, 0.08, 0.1, 0.12, 0.14, 0.16, 0.18, 0.2, 0.22, 0.24, 0.26, 0.28, 0.3, 0.35, 0.40, 0.6] # et_bins\n",
    "    #m_bins = [15, 20, 30, 40, 50, 1000000]\n",
    "    #_bins = np.arange(0, 1, step=.05).tolist()\n",
    "    et_cut  = int(chain.split('_')[1][1:])\n",
    "    if fake:\n",
    "        #aux_df = dataframe.loc[(dataframe.target != 1) & (dataframe.el_lhvloose != 1) &\\\n",
    "        aux_df = dataframe.loc[(dataframe.target != 1) &\\\n",
    "                               (dataframe.el_et >= (et_cut - 5)*GeV) & (np.abs(dataframe.el_eta) <=2.47)]\n",
    "        #                                                      *GeV\n",
    "    else:\n",
    "        offline = chain.split('_')[2]\n",
    "        aux_df = dataframe.loc[(dataframe.target == 1) & (dataframe['el_%s' %(offline)] == 1) & (dataframe.el_et >= (et_cut - 5)*GeV) & (np.abs(dataframe.el_eta) <=2.47)]\n",
    "        #                                                                                                                       *GeV\n",
    "    \n",
    "    #step_decision = chain_step + '_' + '_'.join(chain.split('_')[1:])\n",
    "    step_decision = chain\n",
    "    #'L2Calo_e26_lhtight_nod0_ringer_v8_34_ivarloose'\n",
    "    # cuts for all\n",
    "    total   = aux_df\n",
    "    passed  = aux_df.loc[(aux_df[step_decision] == 1)]\n",
    "    \n",
    "    h_num = hist1d('dr_b_num', passed[var], m_bins )\n",
    "    #                                               /GeV\n",
    "    h_den = hist1d('dr_b_den', total[var], m_bins )\n",
    "    #                                              /GeV\n",
    "    h_eff = rpl.hist1d.divide(h_num,h_den) \n",
    "    \n",
    "    return h_eff, len(passed)/len(total)"
   ]
  },
  {
   "cell_type": "code",
   "execution_count": 13,
   "metadata": {},
   "outputs": [
    {
     "name": "stdout",
     "output_type": "stream",
     "text": [
      "Saving /home/pedro.lima/workspace/CERN-ATLAS-Qualify-1/analysis/kepler/kepler_imgs/effs/deltar/eff_boosted_deltaR_L2Calo_e24_lhtight_root\n",
      "Saving /home/pedro.lima/workspace/CERN-ATLAS-Qualify-1/analysis/kepler/kepler_imgs/effs/deltar/eff_boosted_deltaR_L2Calo_e26_lhtight_root\n",
      "Saving /home/pedro.lima/workspace/CERN-ATLAS-Qualify-1/analysis/kepler/kepler_imgs/effs/deltar/eff_boosted_deltaR_L2Calo_e60_lhmedium_root\n",
      "Saving /home/pedro.lima/workspace/CERN-ATLAS-Qualify-1/analysis/kepler/kepler_imgs/effs/deltar/eff_boosted_deltaR_L2Calo_e140_lhloose_root\n",
      "Saving /home/pedro.lima/workspace/CERN-ATLAS-Qualify-1/analysis/kepler/kepler_imgs/effs/deltar/eff_boosted_deltaR_L2_e24_lhtight_root\n",
      "Saving /home/pedro.lima/workspace/CERN-ATLAS-Qualify-1/analysis/kepler/kepler_imgs/effs/deltar/eff_boosted_deltaR_L2_e26_lhtight_root\n",
      "Saving /home/pedro.lima/workspace/CERN-ATLAS-Qualify-1/analysis/kepler/kepler_imgs/effs/deltar/eff_boosted_deltaR_L2_e60_lhmedium_root\n",
      "Saving /home/pedro.lima/workspace/CERN-ATLAS-Qualify-1/analysis/kepler/kepler_imgs/effs/deltar/eff_boosted_deltaR_L2_e140_lhloose_root\n",
      "Saving /home/pedro.lima/workspace/CERN-ATLAS-Qualify-1/analysis/kepler/kepler_imgs/effs/deltar/eff_boosted_deltaR_EFCalo_e24_lhtight_root\n",
      "Saving /home/pedro.lima/workspace/CERN-ATLAS-Qualify-1/analysis/kepler/kepler_imgs/effs/deltar/eff_boosted_deltaR_EFCalo_e26_lhtight_root\n",
      "Saving /home/pedro.lima/workspace/CERN-ATLAS-Qualify-1/analysis/kepler/kepler_imgs/effs/deltar/eff_boosted_deltaR_EFCalo_e60_lhmedium_root\n",
      "Saving /home/pedro.lima/workspace/CERN-ATLAS-Qualify-1/analysis/kepler/kepler_imgs/effs/deltar/eff_boosted_deltaR_EFCalo_e140_lhloose_root\n",
      "Saving /home/pedro.lima/workspace/CERN-ATLAS-Qualify-1/analysis/kepler/kepler_imgs/effs/deltar/eff_boosted_deltaR_HLT_e24_lhtight_root\n",
      "Saving /home/pedro.lima/workspace/CERN-ATLAS-Qualify-1/analysis/kepler/kepler_imgs/effs/deltar/eff_boosted_deltaR_HLT_e26_lhtight_root\n",
      "Saving /home/pedro.lima/workspace/CERN-ATLAS-Qualify-1/analysis/kepler/kepler_imgs/effs/deltar/eff_boosted_deltaR_HLT_e60_lhmedium_root\n",
      "Saving /home/pedro.lima/workspace/CERN-ATLAS-Qualify-1/analysis/kepler/kepler_imgs/effs/deltar/eff_boosted_deltaR_HLT_e140_lhloose_root\n"
     ]
    },
    {
     "name": "stderr",
     "output_type": "stream",
     "text": [
      "Warning in <TCanvas::Constructor>: Deleting canvas with same name: canvas\n",
      "Info in <TCanvas::Print>: pdf file /home/pedro.lima/workspace/CERN-ATLAS-Qualify-1/analysis/kepler/kepler_imgs/effs/deltar/eff_boosted_deltaR_L2Calo_e24_lhtight_root.pdf has been created\n",
      "Info in <TCanvas::Print>: png file /home/pedro.lima/workspace/CERN-ATLAS-Qualify-1/analysis/kepler/kepler_imgs/effs/deltar/eff_boosted_deltaR_L2Calo_e24_lhtight_root.png has been created\n",
      "Warning in <TCanvas::Constructor>: Deleting canvas with same name: canvas\n",
      "Info in <TCanvas::Print>: pdf file /home/pedro.lima/workspace/CERN-ATLAS-Qualify-1/analysis/kepler/kepler_imgs/effs/deltar/eff_boosted_deltaR_L2Calo_e26_lhtight_root.pdf has been created\n",
      "Info in <TCanvas::Print>: png file /home/pedro.lima/workspace/CERN-ATLAS-Qualify-1/analysis/kepler/kepler_imgs/effs/deltar/eff_boosted_deltaR_L2Calo_e26_lhtight_root.png has been created\n",
      "Warning in <TCanvas::Constructor>: Deleting canvas with same name: canvas\n",
      "Info in <TCanvas::Print>: pdf file /home/pedro.lima/workspace/CERN-ATLAS-Qualify-1/analysis/kepler/kepler_imgs/effs/deltar/eff_boosted_deltaR_L2Calo_e60_lhmedium_root.pdf has been created\n",
      "Info in <TCanvas::Print>: png file /home/pedro.lima/workspace/CERN-ATLAS-Qualify-1/analysis/kepler/kepler_imgs/effs/deltar/eff_boosted_deltaR_L2Calo_e60_lhmedium_root.png has been created\n",
      "Warning in <TCanvas::Constructor>: Deleting canvas with same name: canvas\n",
      "Info in <TCanvas::Print>: pdf file /home/pedro.lima/workspace/CERN-ATLAS-Qualify-1/analysis/kepler/kepler_imgs/effs/deltar/eff_boosted_deltaR_L2Calo_e140_lhloose_root.pdf has been created\n",
      "Info in <TCanvas::Print>: png file /home/pedro.lima/workspace/CERN-ATLAS-Qualify-1/analysis/kepler/kepler_imgs/effs/deltar/eff_boosted_deltaR_L2Calo_e140_lhloose_root.png has been created\n",
      "Warning in <TCanvas::Constructor>: Deleting canvas with same name: canvas\n",
      "Info in <TCanvas::Print>: pdf file /home/pedro.lima/workspace/CERN-ATLAS-Qualify-1/analysis/kepler/kepler_imgs/effs/deltar/eff_boosted_deltaR_L2_e24_lhtight_root.pdf has been created\n",
      "Info in <TCanvas::Print>: png file /home/pedro.lima/workspace/CERN-ATLAS-Qualify-1/analysis/kepler/kepler_imgs/effs/deltar/eff_boosted_deltaR_L2_e24_lhtight_root.png has been created\n",
      "Warning in <TCanvas::Constructor>: Deleting canvas with same name: canvas\n",
      "Info in <TCanvas::Print>: pdf file /home/pedro.lima/workspace/CERN-ATLAS-Qualify-1/analysis/kepler/kepler_imgs/effs/deltar/eff_boosted_deltaR_L2_e26_lhtight_root.pdf has been created\n",
      "Info in <TCanvas::Print>: png file /home/pedro.lima/workspace/CERN-ATLAS-Qualify-1/analysis/kepler/kepler_imgs/effs/deltar/eff_boosted_deltaR_L2_e26_lhtight_root.png has been created\n",
      "Warning in <TCanvas::Constructor>: Deleting canvas with same name: canvas\n",
      "Info in <TCanvas::Print>: pdf file /home/pedro.lima/workspace/CERN-ATLAS-Qualify-1/analysis/kepler/kepler_imgs/effs/deltar/eff_boosted_deltaR_L2_e60_lhmedium_root.pdf has been created\n",
      "Info in <TCanvas::Print>: png file /home/pedro.lima/workspace/CERN-ATLAS-Qualify-1/analysis/kepler/kepler_imgs/effs/deltar/eff_boosted_deltaR_L2_e60_lhmedium_root.png has been created\n",
      "Warning in <TCanvas::Constructor>: Deleting canvas with same name: canvas\n",
      "Info in <TCanvas::Print>: pdf file /home/pedro.lima/workspace/CERN-ATLAS-Qualify-1/analysis/kepler/kepler_imgs/effs/deltar/eff_boosted_deltaR_L2_e140_lhloose_root.pdf has been created\n",
      "Info in <TCanvas::Print>: png file /home/pedro.lima/workspace/CERN-ATLAS-Qualify-1/analysis/kepler/kepler_imgs/effs/deltar/eff_boosted_deltaR_L2_e140_lhloose_root.png has been created\n",
      "Warning in <TCanvas::Constructor>: Deleting canvas with same name: canvas\n",
      "Info in <TCanvas::Print>: pdf file /home/pedro.lima/workspace/CERN-ATLAS-Qualify-1/analysis/kepler/kepler_imgs/effs/deltar/eff_boosted_deltaR_EFCalo_e24_lhtight_root.pdf has been created\n",
      "Info in <TCanvas::Print>: png file /home/pedro.lima/workspace/CERN-ATLAS-Qualify-1/analysis/kepler/kepler_imgs/effs/deltar/eff_boosted_deltaR_EFCalo_e24_lhtight_root.png has been created\n",
      "Warning in <TCanvas::Constructor>: Deleting canvas with same name: canvas\n",
      "Info in <TCanvas::Print>: pdf file /home/pedro.lima/workspace/CERN-ATLAS-Qualify-1/analysis/kepler/kepler_imgs/effs/deltar/eff_boosted_deltaR_EFCalo_e26_lhtight_root.pdf has been created\n",
      "Info in <TCanvas::Print>: png file /home/pedro.lima/workspace/CERN-ATLAS-Qualify-1/analysis/kepler/kepler_imgs/effs/deltar/eff_boosted_deltaR_EFCalo_e26_lhtight_root.png has been created\n",
      "Warning in <TCanvas::Constructor>: Deleting canvas with same name: canvas\n",
      "Info in <TCanvas::Print>: pdf file /home/pedro.lima/workspace/CERN-ATLAS-Qualify-1/analysis/kepler/kepler_imgs/effs/deltar/eff_boosted_deltaR_EFCalo_e60_lhmedium_root.pdf has been created\n",
      "Info in <TCanvas::Print>: png file /home/pedro.lima/workspace/CERN-ATLAS-Qualify-1/analysis/kepler/kepler_imgs/effs/deltar/eff_boosted_deltaR_EFCalo_e60_lhmedium_root.png has been created\n",
      "Warning in <TCanvas::Constructor>: Deleting canvas with same name: canvas\n",
      "Info in <TCanvas::Print>: pdf file /home/pedro.lima/workspace/CERN-ATLAS-Qualify-1/analysis/kepler/kepler_imgs/effs/deltar/eff_boosted_deltaR_EFCalo_e140_lhloose_root.pdf has been created\n",
      "Info in <TCanvas::Print>: png file /home/pedro.lima/workspace/CERN-ATLAS-Qualify-1/analysis/kepler/kepler_imgs/effs/deltar/eff_boosted_deltaR_EFCalo_e140_lhloose_root.png has been created\n",
      "Warning in <TCanvas::Constructor>: Deleting canvas with same name: canvas\n",
      "Info in <TCanvas::Print>: pdf file /home/pedro.lima/workspace/CERN-ATLAS-Qualify-1/analysis/kepler/kepler_imgs/effs/deltar/eff_boosted_deltaR_HLT_e24_lhtight_root.pdf has been created\n",
      "Info in <TCanvas::Print>: png file /home/pedro.lima/workspace/CERN-ATLAS-Qualify-1/analysis/kepler/kepler_imgs/effs/deltar/eff_boosted_deltaR_HLT_e24_lhtight_root.png has been created\n",
      "Warning in <TCanvas::Constructor>: Deleting canvas with same name: canvas\n",
      "Info in <TCanvas::Print>: pdf file /home/pedro.lima/workspace/CERN-ATLAS-Qualify-1/analysis/kepler/kepler_imgs/effs/deltar/eff_boosted_deltaR_HLT_e26_lhtight_root.pdf has been created\n",
      "Info in <TCanvas::Print>: png file /home/pedro.lima/workspace/CERN-ATLAS-Qualify-1/analysis/kepler/kepler_imgs/effs/deltar/eff_boosted_deltaR_HLT_e26_lhtight_root.png has been created\n",
      "Warning in <TCanvas::Constructor>: Deleting canvas with same name: canvas\n",
      "Info in <TCanvas::Print>: pdf file /home/pedro.lima/workspace/CERN-ATLAS-Qualify-1/analysis/kepler/kepler_imgs/effs/deltar/eff_boosted_deltaR_HLT_e60_lhmedium_root.pdf has been created\n",
      "Info in <TCanvas::Print>: png file /home/pedro.lima/workspace/CERN-ATLAS-Qualify-1/analysis/kepler/kepler_imgs/effs/deltar/eff_boosted_deltaR_HLT_e60_lhmedium_root.png has been created\n",
      "Warning in <TCanvas::Constructor>: Deleting canvas with same name: canvas\n",
      "Info in <TCanvas::Print>: pdf file /home/pedro.lima/workspace/CERN-ATLAS-Qualify-1/analysis/kepler/kepler_imgs/effs/deltar/eff_boosted_deltaR_HLT_e140_lhloose_root.pdf has been created\n",
      "Info in <TCanvas::Print>: png file /home/pedro.lima/workspace/CERN-ATLAS-Qualify-1/analysis/kepler/kepler_imgs/effs/deltar/eff_boosted_deltaR_HLT_e140_lhloose_root.png has been created\n"
     ]
    },
    {
     "data": {
      "image/png": "[encoded data removed]",
      "text/plain": [
       "<IPython.core.display.Image object>"
      ]
     },
     "metadata": {},
     "output_type": "display_data"
    }
   ],
   "source": [
    "for step in ['L2Calo', 'L2', 'EFCalo', 'HLT']:\n",
    "    plot_path = '/home/pedro.lima/workspace/CERN-ATLAS-Qualify-1/analysis/kepler/kepler_imgs/effs/deltar'\n",
    "\n",
    "    for chain in chain_list:\n",
    "        \n",
    "        trigger = step+'_'+chain\n",
    "\n",
    "        m_info = np.array([make_dr_plot(boosted_table, trigger.format(RINGER=alg)) for alg in ringer_list])\n",
    "\n",
    "        # make the plot\n",
    "        fig = rpl.create_canvas('my_canvas', canw=1400, canh=1000)\n",
    "        fig = rpl.plot_profiles( m_info[:,0], '\\Delta R', colors, markers)\n",
    "        #rpl.set_atlas_label(0.15,0.85,'Internal, pp data #sqrt{s}= 13TeV')\n",
    "        rpl.format_canvas_axes(YTitleOffset = 0.95)\n",
    "        labels = []\n",
    "        for idx, ilabel in enumerate(label_list):\n",
    "            labels.append('%s - P_{D} (%s): %1.2f %%' %(ilabel, step, m_info[idx, 1]*100))\n",
    "        add_legend( 0.55,0.15, labels)\n",
    "        rpl.add_text(0.55, 0.4, 'Boosted', textsize=0.04)\n",
    "        rpl.add_text( 0.55, 0.35, '%s_%s_%s_nod0' %(step, chain.split('_')[0], chain.split('_')[1]), textsize=0.04)\n",
    "        rpl.fix_yaxis_ranges( ignore_zeros=True, ignore_errors=True , yminf=-0.5, ymaxf=1.1) \n",
    "        fig.show()\n",
    "        print('Saving '+ plot_path+'/eff_boosted_deltaR_%s_%s_%s_root' %(step, chain.split('_')[0], chain.split('_')[1]))\n",
    "        fig.savefig(plot_path+'/eff_boosted_deltaR_%s_%s_%s_root.pdf' %(step, chain.split('_')[0], chain.split('_')[1]))\n",
    "        fig.savefig(plot_path+'/eff_boosted_deltaR_%s_%s_%s_root.png' %(step, chain.split('_')[0], chain.split('_')[1]))"
   ]
  },
  {
   "cell_type": "markdown",
   "metadata": {},
   "source": [
    "### Efficiency with respect to $pT$"
   ]
  },
  {
   "cell_type": "code",
   "execution_count": 27,
   "metadata": {},
   "outputs": [],
   "source": [
    "def make_pt_plot(dataframe, chain, fake=False):\n",
    "    var = 'trig_L2_el_pt'\n",
    "    from Gaugi.constants import GeV, MeV\n",
    "    # plot in eta need sum 1 in chain threshold \n",
    "\n",
    "    #m_bins = [4,7,10,15,20,25,30,35,40,45,50,60,80,150,300] # et_bins\n",
    "    #m_bins = [15, 20, 30, 40, 50, 1000000]\n",
    "    m_bins = np.arange(0, 2000*10**3, step=50*10**3).tolist()\n",
    "    et_cut  = int(chain.split('_')[1][1:])\n",
    "    if fake:\n",
    "        #aux_df = dataframe.loc[(dataframe.target != 1) & (dataframe.el_lhvloose != 1) &\\\n",
    "        aux_df = dataframe.loc[(dataframe.target != 1) &\\\n",
    "                               (dataframe.el_et >= (et_cut - 5)*GeV) & (np.abs(dataframe.el_eta) <=2.47)]\n",
    "        #                                                      *GeV\n",
    "    else:\n",
    "        offline = chain.split('_')[2]\n",
    "        aux_df = dataframe.loc[(dataframe.target == 1) & (dataframe['el_%s' %(offline)] == 1) & (dataframe.el_et >= (et_cut - 5)*GeV) & (np.abs(dataframe.el_eta) <=2.47)]\n",
    "        #                                                                                                                       *GeV\n",
    "    \n",
    "    #step_decision = chain_step + '_' + '_'.join(chain.split('_')[1:])\n",
    "    step_decision = chain\n",
    "    #'L2Calo_e26_lhtight_nod0_ringer_v8_34_ivarloose'\n",
    "    # cuts for all\n",
    "    total   = aux_df\n",
    "    passed  = aux_df.loc[(aux_df[step_decision] == 1)]\n",
    "    \n",
    "    h_num = hist1d('pt_b_num', passed[var]/MeV, m_bins )\n",
    "    #                                               /GeV\n",
    "    h_den = hist1d('pt_b_den', total[var]/MeV, m_bins )\n",
    "    #                                              /GeV\n",
    "    h_eff = rpl.hist1d.divide(h_num,h_den) \n",
    "    \n",
    "    return h_eff, len(passed)/len(total)"
   ]
  },
  {
   "cell_type": "code",
   "execution_count": null,
   "metadata": {},
   "outputs": [
    {
     "name": "stdout",
     "output_type": "stream",
     "text": [
      "Saving /home/pedro.lima/workspace/CERN-ATLAS-Qualify-1/analysis/kepler/kepler_imgs/effs/pt/eff_boosted_pt_L2Calo_e24_lhtight_root\n",
      "Saving /home/pedro.lima/workspace/CERN-ATLAS-Qualify-1/analysis/kepler/kepler_imgs/effs/pt/eff_boosted_pt_L2Calo_e26_lhtight_root\n"
     ]
    }
   ],
   "source": [
    "for step in ['L2Calo', 'L2', 'EFCalo', 'HLT']:\n",
    "#step = 'L2'\n",
    "    plot_path = '/home/pedro.lima/workspace/CERN-ATLAS-Qualify-1/analysis/kepler/kepler_imgs/effs/pt'\n",
    "\n",
    "    for chain in chain_list:\n",
    "        \n",
    "        trigger = step+'_'+chain\n",
    "\n",
    "        m_info = np.array([make_pt_plot(boosted_table, trigger.format(RINGER=alg)) for alg in ringer_list])\n",
    "\n",
    "        # make the plot\n",
    "        fig = rpl.create_canvas('my_canvas', canw=1400, canh=1000)\n",
    "        fig = rpl.plot_profiles( m_info[:,0], 'pT [MeV]', colors, markers)\n",
    "        #rpl.set_atlas_label(0.15,0.85,'Internal, pp data #sqrt{s}= 13TeV')\n",
    "        rpl.format_canvas_axes(YTitleOffset = 0.95)\n",
    "        labels = []\n",
    "        for idx, ilabel in enumerate(label_list):\n",
    "            labels.append('%s - P_{D} (%s): %1.2f %%' %(ilabel, step, m_info[idx, 1]*100))\n",
    "        add_legend( 0.55,0.15, labels)\n",
    "        rpl.add_text(0.55, 0.4, 'Boosted', textsize=0.04)\n",
    "        rpl.add_text( 0.55, 0.35, '%s_%s_%s_nod0' %(step, chain.split('_')[0], chain.split('_')[1]), textsize=0.04)\n",
    "        rpl.fix_yaxis_ranges( ignore_zeros=True, ignore_errors=True , yminf=0, ymaxf=1.1) \n",
    "        fig.show()\n",
    "        print('Saving '+ plot_path+'/eff_boosted_pt_%s_%s_%s_root' %(step, chain.split('_')[0], chain.split('_')[1]))\n",
    "        fig.savefig(plot_path+'/eff_boosted_pt_%s_%s_%s_root.pdf' %(step, chain.split('_')[0], chain.split('_')[1]))\n",
    "        fig.savefig(plot_path+'/eff_boosted_pt_%s_%s_%s_root.png' %(step, chain.split('_')[0], chain.split('_')[1]))"
   ]
  },
  {
   "cell_type": "markdown",
   "metadata": {},
   "source": [
    "### Efficiency with respect to $< \\mu >$"
   ]
  },
  {
   "cell_type": "code",
   "execution_count": null,
   "metadata": {},
   "outputs": [],
   "source": [
    "def make_mu_plot(dataframe, chain, fake=False):\n",
    "    var = 'avgmu'\n",
    "    from Gaugi.constants import GeV, MeV\n",
    "    # plot in eta need sum 1 in chain threshold \n",
    "\n",
    "    #m_bins = [4,7,10,15,20,25,30,35,40,45,50,60,80,150,300] # et_bins\n",
    "    #m_bins = [15, 20, 30, 40, 50, 1000000]\n",
    "    #m_bins = [10, 20, 30, 40, 50, 60, 70]\n",
    "    m_bins = [0,5,10,15,20,25,30,35,40,45,50,55,60,65,70,75,80,85,90,95,100]\n",
    "    et_cut  = int(chain.split('_')[1][1:])\n",
    "    if fake:\n",
    "        #aux_df = dataframe.loc[(dataframe.target != 1) & (dataframe.el_lhvloose != 1) &\\\n",
    "        aux_df = dataframe.loc[(dataframe.target != 1) &\\\n",
    "                               (dataframe.el_et >= (et_cut - 5)*GeV) & (np.abs(dataframe.el_eta) <=2.47)]\n",
    "        #                                                      *GeV\n",
    "    else:\n",
    "        offline = chain.split('_')[2]\n",
    "        aux_df = dataframe.loc[(dataframe.target == 1) & (dataframe['el_%s' %(offline)] == 1) & (dataframe.el_et >= (et_cut - 5)*GeV) & (np.abs(dataframe.el_eta) <=2.47)]\n",
    "        #                                                                                                                       *GeV\n",
    "    \n",
    "    #step_decision = chain_step + '_' + '_'.join(chain.split('_')[1:])\n",
    "    step_decision = chain\n",
    "    #'L2Calo_e26_lhtight_nod0_ringer_v8_34_ivarloose'\n",
    "    # cuts for all\n",
    "    total   = aux_df\n",
    "    passed  = aux_df.loc[(aux_df[step_decision] == 1)]\n",
    "    \n",
    "    h_num = hist1d('mu_b_num', passed[var]/MeV, m_bins )\n",
    "    #                                               /GeV\n",
    "    h_den = hist1d('mu_b_den', total[var]/MeV, m_bins )\n",
    "    #                                              /GeV\n",
    "    h_eff = rpl.hist1d.divide(h_num,h_den) \n",
    "    \n",
    "    return h_eff, len(passed)/len(total)"
   ]
  },
  {
   "cell_type": "code",
   "execution_count": null,
   "metadata": {},
   "outputs": [],
   "source": [
    "for step in ['L2Calo', 'L2', 'EFCalo', 'HLT']:\n",
    "#step = 'L2'\n",
    "    plot_path = '/home/pedro.lima/workspace/CERN-ATLAS-Qualify-1/analysis/kepler/kepler_imgs/effs/mu'\n",
    "\n",
    "    for chain in chain_list:\n",
    "        \n",
    "        trigger = step+'_'+chain\n",
    "\n",
    "        m_info = np.array([make_mu_plot(boosted_table, trigger.format(RINGER=alg)) for alg in ringer_list])\n",
    "\n",
    "        # make the plot\n",
    "        fig = rpl.create_canvas('my_canvas', canw=1400, canh=1000)\n",
    "        fig = rpl.plot_profiles( m_info[:,0], '< #mu >', colors, markers)\n",
    "        #rpl.set_atlas_label(0.15,0.85,'Internal, pp data #sqrt{s}= 13TeV')\n",
    "        rpl.format_canvas_axes(YTitleOffset = 0.95)\n",
    "        labels = []\n",
    "        for idx, ilabel in enumerate(label_list):\n",
    "            labels.append('%s - P_{D} (%s): %1.2f %%' %(ilabel, step, m_info[idx, 1]*100))\n",
    "        add_legend( 0.55,0.15, labels)\n",
    "        rpl.add_text(0.55, 0.4, 'Boosted', textsize=0.04)\n",
    "        rpl.add_text( 0.55, 0.35, '%s_%s_%s_nod0' %(step, chain.split('_')[0], chain.split('_')[1]), textsize=0.04)\n",
    "        rpl.fix_yaxis_ranges( ignore_zeros=True, ignore_errors=True , yminf=0, ymaxf=1.1) \n",
    "        fig.show()\n",
    "        print('Saving '+ plot_path+'/eff_boosted_mu_%s_%s_%s_root' %(step, chain.split('_')[0], chain.split('_')[1]))\n",
    "        fig.savefig(plot_path+'/eff_boosted_mu_%s_%s_%s_root.pdf' %(step, chain.split('_')[0], chain.split('_')[1]))\n",
    "        fig.savefig(plot_path+'/eff_boosted_mu_%s_%s_%s_root.png' %(step, chain.split('_')[0], chain.split('_')[1]))"
   ]
  },
  {
   "cell_type": "code",
   "execution_count": null,
   "metadata": {},
   "outputs": [],
   "source": [
    "print('End of script')"
   ]
  },
  {
   "cell_type": "code",
   "execution_count": null,
   "metadata": {},
   "outputs": [],
   "source": []
  }
 ],
 "metadata": {
  "kernelspec": {
   "display_name": "Python 3 (ipykernel)",
   "language": "python",
   "name": "python3"
  },
  "language_info": {
   "codemirror_mode": {
    "name": "ipython",
    "version": 3
   },
   "file_extension": ".py",
   "mimetype": "text/x-python",
   "name": "python",
   "nbconvert_exporter": "python",
   "pygments_lexer": "ipython3",
   "version": "3.9.2 (default, Feb 28 2021, 17:03:44) \n[GCC 10.2.1 20210110]"
  },
  "vscode": {
   "interpreter": {
    "hash": "916dbcbb3f70747c44a77c7bcd40155683ae19c65e1c03b4aa3499c5328201f1"
   }
  }
 },
 "nbformat": 4,
 "nbformat_minor": 4
}
