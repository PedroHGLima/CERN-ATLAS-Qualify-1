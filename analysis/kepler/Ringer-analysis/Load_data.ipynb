{
 "cells": [
  {
   "cell_type": "markdown",
   "id": "59e9b54a",
   "metadata": {},
   "source": [
    "# Kepler Framework Examples"
   ]
  },
  {
   "cell_type": "code",
   "execution_count": null,
   "id": "3736229d",
   "metadata": {},
   "outputs": [],
   "source": [
    "from kepler.pandas.menu       import ElectronSequence as Chain\n",
    "from kepler.pandas.readers    import load, load_in_loop\n",
    "from kepler.pandas.decorators import create_ringer_v8_decorators, create_ringer_v9_decorators, RingerDecorator\n",
    "from kepler.pandas.decorators import create_ringer_v8_new_decorators, create_ringer_v8_half_fast_decorators, create_ringer_v8_34_decorators, create_ringer_v8_half_decorators\n",
    "\n",
    "import kepler\n",
    "import tqdm\n",
    "import rootplotlib as rpl\n",
    "import mplhep as hep\n",
    "import root_numpy\n",
    "import ROOT\n",
    "ROOT.gStyle.SetOptStat(0);\n",
    "import array\n",
    "\n",
    "import numpy as np\n",
    "import pandas as pd\n",
    "import collections\n",
    "import os\n",
    "from pprint import pprint\n",
    "from copy import deepcopy\n",
    "import gc\n",
    "\n",
    "\n",
    "import matplotlib.pyplot as plt\n",
    "from matplotlib import gridspec\n",
    "%matplotlib inline\n",
    "\n",
    "import mplhep as hep\n",
    "\n",
    "import warnings\n",
    "warnings.filterwarnings('ignore')\n",
    "plt.style.use(hep.style.ROOT)\n",
    "%config InlineBackend.figure_format = 'retina'\n",
    "%load_ext autoreload\n",
    "%autoreload 2"
   ]
  },
  {
   "cell_type": "markdown",
   "id": "a4dca3a0",
   "metadata": {
    "tags": []
   },
   "source": [
    "# Running for Zee samples"
   ]
  },
  {
   "cell_type": "code",
   "execution_count": null,
   "id": "5c5e2a24",
   "metadata": {},
   "outputs": [],
   "source": [
    "## codigo original\n",
    "# dpath = '/home/jodafons/public/cern_data/new_files/data17_13TeV.AllPeriods.sgn.probes_lhvloose_EGAM1.bkg.vprobes_vlhvloose_EGAM7.GRL_v97.25bins'\n",
    "# dpath+= '/data17_13TeV.AllPeriods.sgn.probes_lhvloose_EGAM1.bkg.vprobes_vlhvloose_EGAM7.GRL_v97.25bins_et{ET}_eta{ETA}.npz'\n",
    "# paths = []\n",
    "# for et in range(5):\n",
    "#     for eta in range(5):\n",
    "#         paths.append( dpath.format(ET=et,ETA=eta) )\n",
    "\n",
    "real_run = False"
   ]
  },
  {
   "cell_type": "markdown",
   "id": "2c9afbdd",
   "metadata": {},
   "source": [
    "## Load Data"
   ]
  },
  {
   "cell_type": "code",
   "execution_count": null,
   "id": "dbd47ada",
   "metadata": {},
   "outputs": [],
   "source": [
    "# codigo modificado\n",
    "dpath = '/home/pedro.lima/data/data17_13TeV.AllPeriods.sgn.probes_lhvloose_EGAM1.bkg.vprobes_vlhvloose_EGAM7.GRL_v97.25bins'\n",
    "dpath+= '/data17_13TeV.AllPeriods.sgn.probes_lhvloose_EGAM1.bkg.vprobes_vlhvloose_EGAM7.GRL_v97.25bins_et{ET}_eta{ETA}.npz'\n",
    "#                                               \\\n",
    "#                                           very loose\n",
    "paths = []\n",
    "\n",
    "dev = False\n",
    "#    False carrega todas as regioes\n",
    "\n",
    "if dev:\n",
    "    range_et = [4]   #leblon = 4\n",
    "    range_eta = [0]  #leblon = 0\n",
    "else:\n",
    "    range_et = range(5)\n",
    "    range_eta = range(5)\n",
    "\n",
    "for et in range_et:\n",
    "    for eta in range_eta:\n",
    "        paths.append( dpath.format(ET=et,ETA=eta) )\n",
    "# look here: https://github.com/ringer-softwares/kolmov/blob/master/kolmov/utils/constants.py"
   ]
  },
  {
   "cell_type": "code",
   "execution_count": null,
   "id": "bee45c0d",
   "metadata": {},
   "outputs": [],
   "source": [
    "drop_columns = [\n",
    "                    'RunNumber', \n",
    "                    #'avgmu',\n",
    "                    #'trig_L2_cl_et',\n",
    "                    #'trig_L2_cl_eta',\n",
    "                    #'trig_L2_cl_phi',\n",
    "                    #'trig_L2_cl_reta',\n",
    "                    #'trig_L2_cl_ehad1', \n",
    "                    #'trig_L2_cl_eratio',\n",
    "                    #'trig_L2_cl_f1', \n",
    "                    #'trig_L2_cl_f3', \n",
    "                    #'trig_L2_cl_weta2', \n",
    "                    #'trig_L2_cl_wstot', \n",
    "                    'trig_L2_cl_e2tsts1',\n",
    "                    'trig_L2_el_hastrack',\n",
    "                    #'trig_L2_el_pt',\n",
    "                    'trig_L2_el_eta',\n",
    "                    'trig_L2_el_phi',\n",
    "                    'trig_L2_el_caloEta',\n",
    "                    'trig_L2_el_trkClusDeta',\n",
    "                    'trig_L2_el_trkClusDphi',\n",
    "                    'trig_L2_el_etOverPt',\n",
    "                    'trig_EF_cl_hascluster',\n",
    "                    #'trig_EF_cl_et',\n",
    "                    'trig_EF_cl_eta',\n",
    "                    'trig_EF_cl_etaBE2',\n",
    "                    'trig_EF_cl_phi',     \n",
    "                    'trig_EF_el_hascand',\n",
    "                    #'trig_EF_el_et',\n",
    "                    'trig_EF_el_eta',\n",
    "                    'trig_EF_el_etaBE2',\n",
    "                    'trig_EF_el_phi',\n",
    "                    'trig_EF_el_rhad1',\n",
    "                    'trig_EF_el_rhad',\n",
    "                    'trig_EF_el_f3',\n",
    "                    'trig_EF_el_weta2',\n",
    "                    'trig_EF_el_rphi',\n",
    "                    'trig_EF_el_reta',\n",
    "                    'trig_EF_el_wtots1',\n",
    "                    'trig_EF_el_eratio',\n",
    "                    'trig_EF_el_f1',\n",
    "                    'trig_EF_el_hastrack',\n",
    "                    'trig_EF_el_deltaEta1',\n",
    "                    'trig_EF_el_deltaPhi2',\n",
    "                    'trig_EF_el_deltaPhi2Rescaled',\n",
    "                    #'trig_EF_el_lhtight',\n",
    "                    #'trig_EF_el_lhmedium',\n",
    "                    #'trig_EF_el_lhloose',\n",
    "                    #'trig_EF_el_lhvloose', \n",
    "                    # Offline variables\n",
    "                    #'el_et',\n",
    "                    #'el_eta',\n",
    "                    'el_etaBE2',\n",
    "                    #'el_phi',\n",
    "                    # offline shower shapers\n",
    "                    #'el_rhad1',\n",
    "                    #'el_rhad',\n",
    "                    #'el_f3',\n",
    "                    #'el_weta2',\n",
    "                    #'el_rphi',\n",
    "                    #'el_reta',\n",
    "                    #'el_wtots1',\n",
    "                    #'el_eratio',\n",
    "                    #'el_f1',\n",
    "                    # offline track\n",
    "                    #'el_hastrack',\n",
    "                    'el_numberOfBLayerHits',\n",
    "                    'el_numberOfPixelHits',\n",
    "                    'el_numberOfTRTHits',\n",
    "                    #'el_d0',\n",
    "                    #'el_d0significance',\n",
    "                    #'el_eProbabilityHT',\n",
    "                    'el_trans_TRT_PID',\n",
    "                    #'el_deltaEta1',\n",
    "                    'el_deltaPhi2',\n",
    "                    #'el_deltaPhi2Rescaled',\n",
    "                    #'el_deltaPOverP',\n",
    "                    #'el_lhtight',\n",
    "                    #'el_lhmedium',\n",
    "                    #'el_lhloose',\n",
    "                    #'el_lhvloose',\n",
    "                    'el_TaP_Mass',\n",
    "                    #'el_TaP_deltaR',\n",
    "                ] \n",
    "\n",
    "# variaveis dos aneis...para plotar o perfil médio, preciso deixar\n",
    "#drop_columns.extend( ['trig_L2_cl_ring_%d'%i for i in range(100)] )"
   ]
  },
  {
   "cell_type": "code",
   "execution_count": null,
   "id": "f6913ec7",
   "metadata": {},
   "outputs": [],
   "source": [
    "os.environ['RINGER_TUNING_PATH']='/home/pedro.lima/workspace/CERN-ATLAS-Qualify-1/analysis/tunings'\n",
    "\n",
    "decorators = create_ringer_v8_new_decorators()\n",
    "decorators += create_ringer_v8_half_fast_decorators()\n",
    "#decorators+= create_ringer_v9_decorators()\n",
    "decorators += create_ringer_v8_34_decorators()"
   ]
  },
  {
   "cell_type": "markdown",
   "id": "bf636721",
   "metadata": {},
   "source": [
    "## Setup Chains"
   ]
  },
  {
   "cell_type": "markdown",
   "id": "9e6f9234",
   "metadata": {},
   "source": [
    "ivarloose - é o isolamento loose. Olhar https://twiki.cern.ch/twiki/bin/view/Atlas/TriggerNamingRun2    https://twiki.cern.ch/twiki/bin/view/Atlas/TriggerMenuConvention\n",
    "\n",
    "ivarloose (Run2 que deve ser mantido para o Run3)- HLT isolation: ptvarcone20/ET<0.1\n",
    "\n",
    "O pid_name da cadeia está marcado no `lh*` , onde * é o pid_name (ponto de operação da cadeia)"
   ]
  },
  {
   "cell_type": "code",
   "execution_count": null,
   "id": "078a6363",
   "metadata": {},
   "outputs": [],
   "source": [
    "# create my chain\n",
    "chains = [\n",
    "            Chain( \"HLT_e24_lhtight_nod0_noringer_ivarloose\" , L1Seed = 'L1_EM22VHI'),\n",
    "            Chain( \"HLT_e24_lhtight_nod0_ringer_v8_new_ivarloose\", L1Seed = 'L1_EM22VHI' , l2calo_column = 'ringer_v8_new_tight' ),\n",
    "            Chain( \"HLT_e24_lhtight_nod0_ringer_v8_half_ivarloose\", L1Seed = 'L1_EM22VHI' , l2calo_column = 'ringer_v8_half_tight' ),\n",
    "            Chain( \"HLT_e24_lhtight_nod0_ringer_v8_34_ivarloose\", L1Seed = 'L1_EM22VHI' , l2calo_column = 'ringer_v8_34_tight' ),\n",
    "\n",
    "            Chain( \"HLT_e26_lhtight_nod0_noringer_ivarloose\" , L1Seed = 'L1_EM22VHI'),\n",
    "            Chain( \"HLT_e26_lhtight_nod0_ringer_v8_new_ivarloose\", L1Seed = 'L1_EM22VHI' , l2calo_column = 'ringer_v8_new_tight' ),\n",
    "            Chain( \"HLT_e26_lhtight_nod0_ringer_v8_half_ivarloose\", L1Seed = 'L1_EM22VHI' , l2calo_column = 'ringer_v8_half_tight' ),\n",
    "            Chain( \"HLT_e26_lhtight_nod0_ringer_v8_34_ivarloose\", L1Seed = 'L1_EM22VHI' , l2calo_column = 'ringer_v8_34_tight' ),\n",
    "\n",
    "            Chain( \"HLT_e60_lhmedium_nod0_noringer_L1EM24VHI\" , L1Seed = 'L1_EM24VHI'),\n",
    "            Chain( \"HLT_e60_lhmedium_nod0_ringer_v8_new_L1EM24VHI\", L1Seed = 'L1_EM24VHI' , l2calo_column = 'ringer_v8_new_medium'),\n",
    "            Chain( \"HLT_e60_lhmedium_nod0_ringer_v8_half_L1EM24VHI\", L1Seed = 'L1_EM24VHI' , l2calo_column = 'ringer_v8_half_medium'),\n",
    "            Chain( \"HLT_e60_lhmedium_nod0_ringer_v8_34_L1EM24VHI\", L1Seed = 'L1_EM24VHI' , l2calo_column = 'ringer_v8_34_medium'),\n",
    "\n",
    "          \n",
    "            Chain( \"HLT_e140_lhloose_nod0_noringer\"  , L1Seed = 'L1_EM24VHI'),\n",
    "            Chain( \"HLT_e140_lhloose_nod0_ringer_v8_new\" , L1Seed = 'L1_EM24VHI', l2calo_column = 'ringer_v8_new_loose'),\n",
    "            Chain( \"HLT_e140_lhloose_nod0_ringer_v8_half\" , L1Seed = 'L1_EM24VHI', l2calo_column = 'ringer_v8_half_loose'),\n",
    "            Chain( \"HLT_e140_lhloose_nod0_ringer_v8_34\" , L1Seed = 'L1_EM24VHI', l2calo_column = 'ringer_v8_34_loose'),\n",
    "]"
   ]
  },
  {
   "cell_type": "markdown",
   "id": "7ffbe9dd",
   "metadata": {},
   "source": [
    "## Read all bins"
   ]
  },
  {
   "cell_type": "code",
   "execution_count": null,
   "id": "53e8fb6b",
   "metadata": {},
   "outputs": [],
   "source": [
    "table = load_in_loop( paths, drop_columns=drop_columns, decorators=decorators, chains=chains )"
   ]
  },
  {
   "cell_type": "code",
   "execution_count": null,
   "id": "9e73a2bd",
   "metadata": {},
   "outputs": [],
   "source": [
    "if True:\n",
    "    print(table.columns.to_list())"
   ]
  },
  {
   "cell_type": "code",
   "execution_count": null,
   "id": "76a626b2",
   "metadata": {},
   "outputs": [],
   "source": [
    "table.head()"
   ]
  },
  {
   "cell_type": "markdown",
   "id": "e65a5814",
   "metadata": {
    "tags": []
   },
   "source": [
    "# Running for Boosted"
   ]
  },
  {
   "cell_type": "markdown",
   "id": "f385f5dc",
   "metadata": {},
   "source": [
    "## Load Data"
   ]
  },
  {
   "cell_type": "code",
   "execution_count": null,
   "id": "01a9b95f",
   "metadata": {},
   "outputs": [],
   "source": [
    "# codigo modificado\n",
    "boosted_dpath = '/home/pedro.lima/data/mc16_13TeV.302236_309995_341330.sgn.boosted_probes.WZ_llqq_plus_radion_ZZ_llqq_plus_ggH3000.merge.25bins.v2'\n",
    "boosted_dpath+= '/mc16_13TeV.302236_309995_341330.sgn.boosted_probes.WZ_llqq_plus_radion_ZZ_llqq_plus_ggH3000.merge.25bins.v2_et{ET}_eta{ETA}.npz'\n",
    "boosted_paths = []\n",
    "\n",
    "#for et in [4]:\n",
    "#    for eta in [0]:\n",
    "#        boosted_paths.append( boosted_dpath.format(ET=et,ETA=eta) )\n",
    "#for et in range(5):\n",
    "#    for eta in range(5):\n",
    "#        boosted_paths.append( boosted_dpath.format(ET=et,ETA=eta) )\n",
    "\n",
    "dev = True\n",
    "\n",
    "if dev:\n",
    "    range_et = [4]   #leblon = 4\n",
    "    range_eta = [0]  #leblon = 0\n",
    "else:\n",
    "    range_et = range(5)\n",
    "    range_eta = range(5)\n",
    "\n",
    "for et in range_et:\n",
    "    for eta in range_eta:\n",
    "        boosted_paths.append( dpath.format(ET=et,ETA=eta) )"
   ]
  },
  {
   "cell_type": "code",
   "execution_count": null,
   "id": "d7dccb18",
   "metadata": {},
   "outputs": [],
   "source": [
    "drop_columns = [\n",
    "                    'RunNumber', \n",
    "                    #'avgmu',\n",
    "                    #'trig_L2_cl_et',\n",
    "                    #'trig_L2_cl_eta',\n",
    "                    #'trig_L2_cl_phi',\n",
    "                    #'trig_L2_cl_reta',\n",
    "                    #'trig_L2_cl_ehad1', \n",
    "                    #'trig_L2_cl_eratio',\n",
    "                    #'trig_L2_cl_f1', \n",
    "                    #'trig_L2_cl_f3', \n",
    "                    #'trig_L2_cl_weta2', \n",
    "                    #'trig_L2_cl_wstot', \n",
    "                    'trig_L2_cl_e2tsts1',\n",
    "                    'trig_L2_el_hastrack',\n",
    "                    #'trig_L2_el_pt',\n",
    "                    'trig_L2_el_eta',\n",
    "                    'trig_L2_el_phi',\n",
    "                    'trig_L2_el_caloEta',\n",
    "                    'trig_L2_el_trkClusDeta',\n",
    "                    'trig_L2_el_trkClusDphi',\n",
    "                    'trig_L2_el_etOverPt',\n",
    "                    'trig_EF_cl_hascluster',\n",
    "                    #'trig_EF_cl_et',\n",
    "                    'trig_EF_cl_eta',\n",
    "                    'trig_EF_cl_etaBE2',\n",
    "                    'trig_EF_cl_phi',     \n",
    "                    'trig_EF_el_hascand',\n",
    "                    #'trig_EF_el_et',\n",
    "                    'trig_EF_el_eta',\n",
    "                    'trig_EF_el_etaBE2',\n",
    "                    'trig_EF_el_phi',\n",
    "                    'trig_EF_el_rhad1',\n",
    "                    'trig_EF_el_rhad',\n",
    "                    'trig_EF_el_f3',\n",
    "                    'trig_EF_el_weta2',\n",
    "                    'trig_EF_el_rphi',\n",
    "                    'trig_EF_el_reta',\n",
    "                    'trig_EF_el_wtots1',\n",
    "                    'trig_EF_el_eratio',\n",
    "                    'trig_EF_el_f1',\n",
    "                    'trig_EF_el_hastrack',\n",
    "                    'trig_EF_el_deltaEta1',\n",
    "                    'trig_EF_el_deltaPhi2',\n",
    "                    'trig_EF_el_deltaPhi2Rescaled',\n",
    "                    #'trig_EF_el_lhtight',\n",
    "                    #'trig_EF_el_lhmedium',\n",
    "                    #'trig_EF_el_lhloose',\n",
    "                    #'trig_EF_el_lhvloose', \n",
    "                    # Offline variables\n",
    "                    #'el_et',\n",
    "                    #'el_eta',\n",
    "                    'el_etaBE2',\n",
    "                    #'el_phi',\n",
    "                    # offline shower shapers\n",
    "                    #'el_rhad1',\n",
    "                    #'el_rhad',\n",
    "                    #'el_f3',\n",
    "                    #'el_weta2',\n",
    "                    #'el_rphi',\n",
    "                    #'el_reta',\n",
    "                    #'el_wtots1',\n",
    "                    #'el_eratio',\n",
    "                    #'el_f1',\n",
    "                    # offline track\n",
    "                    #'el_hastrack',\n",
    "                    'el_numberOfBLayerHits',\n",
    "                    'el_numberOfPixelHits',\n",
    "                    'el_numberOfTRTHits',\n",
    "                    #'el_d0',\n",
    "                    #'el_d0significance',\n",
    "                    #'el_eProbabilityHT',\n",
    "                    'el_trans_TRT_PID',\n",
    "                    #'el_deltaEta1',\n",
    "                    'el_deltaPhi2',\n",
    "                    #'el_deltaPhi2Rescaled',\n",
    "                    #'el_deltaPOverP',\n",
    "                    #'el_lhtight',\n",
    "                    #'el_lhmedium',\n",
    "                    #'el_lhloose',\n",
    "                    #'el_lhvloose',\n",
    "                    'el_TaP_Mass',\n",
    "                    #'el_TaP_deltaR',\n",
    "                ]\n",
    "\n",
    "#drop_columns.extend( ['trig_L2_cl_ring_%d'%i for i in range(100)] )"
   ]
  },
  {
   "cell_type": "code",
   "execution_count": null,
   "id": "e6be92c5",
   "metadata": {},
   "outputs": [],
   "source": [
    "os.environ['RINGER_TUNING_PATH']='/home/pedro.lima/workspace/CERN-ATLAS-Qualify-1/analysis/tunings'\n",
    "\n",
    "decorators = create_ringer_v8_new_decorators()\n",
    "decorators += create_ringer_v8_half_fast_decorators()\n",
    "#decorators+= create_ringer_v9_decorators()\n",
    "decorators += create_ringer_v8_34_decorators()"
   ]
  },
  {
   "cell_type": "markdown",
   "id": "3f4e107f",
   "metadata": {},
   "source": [
    "## Setup Chains"
   ]
  },
  {
   "cell_type": "code",
   "execution_count": null,
   "id": "e0fa96d0",
   "metadata": {},
   "outputs": [],
   "source": [
    "# create my chain\n",
    "chains = [\n",
    "            Chain( \"HLT_e24_lhtight_nod0_noringer_ivarloose\" , L1Seed = 'L1_EM22VHI'),\n",
    "            Chain( \"HLT_e24_lhtight_nod0_ringer_v8_new_ivarloose\", L1Seed = 'L1_EM22VHI' , l2calo_column = 'ringer_v8_new_tight' ),\n",
    "            Chain( \"HLT_e24_lhtight_nod0_ringer_v8_half_ivarloose\", L1Seed = 'L1_EM22VHI' , l2calo_column = 'ringer_v8_half_tight' ),\n",
    "            Chain( \"HLT_e24_lhtight_nod0_ringer_v8_34_ivarloose\", L1Seed = 'L1_EM22VHI' , l2calo_column = 'ringer_v8_34_tight' ),\n",
    "\n",
    "            Chain( \"HLT_e26_lhtight_nod0_noringer_ivarloose\" , L1Seed = 'L1_EM22VHI'),\n",
    "            Chain( \"HLT_e26_lhtight_nod0_ringer_v8_new_ivarloose\", L1Seed = 'L1_EM22VHI' , l2calo_column = 'ringer_v8_new_tight' ),\n",
    "            Chain( \"HLT_e26_lhtight_nod0_ringer_v8_half_ivarloose\", L1Seed = 'L1_EM22VHI' , l2calo_column = 'ringer_v8_half_tight' ),\n",
    "            Chain( \"HLT_e26_lhtight_nod0_ringer_v8_34_ivarloose\", L1Seed = 'L1_EM22VHI' , l2calo_column = 'ringer_v8_34_tight' ),\n",
    "\n",
    "\n",
    "            Chain( \"HLT_e60_lhmedium_nod0_noringer_L1EM24VHI\" , L1Seed = 'L1_EM24VHI'),\n",
    "            Chain( \"HLT_e60_lhmedium_nod0_ringer_v8_new_L1EM24VHI\", L1Seed = 'L1_EM24VHI' , l2calo_column = 'ringer_v8_new_medium'),\n",
    "            Chain( \"HLT_e60_lhmedium_nod0_ringer_v8_half_L1EM24VHI\", L1Seed = 'L1_EM24VHI' , l2calo_column = 'ringer_v8_half_medium'),\n",
    "            Chain( \"HLT_e60_lhmedium_nod0_ringer_v8_34_L1EM24VHI\", L1Seed = 'L1_EM24VHI' , l2calo_column = 'ringer_v8_34_medium'),\n",
    "\n",
    "          \n",
    "            Chain( \"HLT_e140_lhloose_nod0_noringer\"  , L1Seed = 'L1_EM24VHI'),\n",
    "            Chain( \"HLT_e140_lhloose_nod0_ringer_v8_new\" , L1Seed = 'L1_EM24VHI', l2calo_column = 'ringer_v8_new_loose'),\n",
    "            Chain( \"HLT_e140_lhloose_nod0_ringer_v8_half\" , L1Seed = 'L1_EM24VHI', l2calo_column = 'ringer_v8_half_loose'),\n",
    "            Chain( \"HLT_e140_lhloose_nod0_ringer_v8_34\" , L1Seed = 'L1_EM24VHI', l2calo_column = 'ringer_v8_34_loose'),\n",
    "\n",
    "]"
   ]
  },
  {
   "cell_type": "markdown",
   "id": "263f41a0",
   "metadata": {},
   "source": [
    "## Read all bins"
   ]
  },
  {
   "cell_type": "code",
   "execution_count": null,
   "id": "17357479",
   "metadata": {},
   "outputs": [],
   "source": [
    "boosted_table = load_in_loop( boosted_paths, drop_columns=drop_columns, decorators=decorators, chains=chains )"
   ]
  },
  {
   "cell_type": "code",
   "execution_count": null,
   "id": "8a763d33",
   "metadata": {},
   "outputs": [],
   "source": [
    "if True:\n",
    "    print(boosted_table.columns.to_list())"
   ]
  },
  {
   "cell_type": "code",
   "execution_count": null,
   "id": "9bbe9a2a",
   "metadata": {},
   "outputs": [],
   "source": [
    "print('End of script')"
   ]
  }
 ],
 "metadata": {
  "language_info": {
   "name": "python"
  },
  "orig_nbformat": 4
 },
 "nbformat": 4,
 "nbformat_minor": 2
}
