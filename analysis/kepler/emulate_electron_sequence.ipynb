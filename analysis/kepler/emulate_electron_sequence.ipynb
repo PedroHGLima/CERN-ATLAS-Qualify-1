{
 "cells": [
  {
   "cell_type": "markdown",
   "id": "personal-valentine",
   "metadata": {},
   "source": [
    "# Kepler Framework Examples"
   ]
  },
  {
   "cell_type": "code",
   "execution_count": 1,
   "id": "australian-premiere",
   "metadata": {},
   "outputs": [
    {
     "name": "stdout",
     "output_type": "stream",
     "text": [
      "Welcome to JupyROOT 6.16/00\n",
      "Using all sub packages with ROOT dependence\n"
     ]
    }
   ],
   "source": [
    "from kepler.pandas import RingerDecorator\n",
    "from kepler.pandas import ElectronSequence as Chain\n",
    "from kepler.pandas import load\n",
    "from kepler.pandas import drop_ring_columns\n",
    "import numpy as np\n",
    "import pandas as pd\n",
    "import collections\n",
    "import os\n",
    "import matplotlib\n",
    "import matplotlib.pyplot as plt\n",
    "from pprint import pprint\n",
    "from copy import deepcopy\n",
    "import gc\n",
    "%config InlineBackend.figure_format = 'retina'\n",
    "%load_ext autoreload\n",
    "%autoreload 2"
   ]
  },
  {
   "cell_type": "code",
   "execution_count": 2,
   "id": "worth-confirmation",
   "metadata": {},
   "outputs": [],
   "source": [
    "# data path\n",
    "dpath = '/home/natmourajr/Workspace/CERN/Qualify/data/data17_13TeV.AllPeriods.sgn.probes_lhvloose_EGAM1.bkg.vprobes_vlhvloose_EGAM7.GRL_v97.25bins'\n",
    "dpath+= '/data17_13TeV.AllPeriods.sgn.probes_lhvloose_EGAM1.bkg.vprobes_vlhvloose_EGAM7.GRL_v97.25bins_et{ET}_eta{ETA}.npz'\n",
    "\n",
    "# tuning path\n",
    "ringer_version = \"TrigL2_20180125_v8\"\n",
    "tpath = os.path.join('/home/natmourajr/Workspace/CERN/CERN-ATLAS-Qualify/analysis/tunings',ringer_version)\n",
    "tpath+= '/ElectronRingerTightTriggerConfig.conf'"
   ]
  },
  {
   "cell_type": "code",
   "execution_count": 3,
   "id": "entertaining-adobe",
   "metadata": {},
   "outputs": [],
   "source": [
    " drop_columns = [\n",
    "        'RunNumber', \n",
    "        #'avgmu', \n",
    "        #'trig_L2_cl_et', \n",
    "        #'trig_L2_cl_eta',\n",
    "        #'trig_L2_cl_phi', \n",
    "        #'trig_L2_cl_reta', \n",
    "        #'trig_L2_cl_ehad1',\n",
    "        #'trig_L2_cl_eratio', \n",
    "        #'trig_L2_cl_f1', \n",
    "        #'trig_L2_cl_f3',\n",
    "        #'trig_L2_cl_weta2', \n",
    "        #'trig_L2_cl_wstot', \n",
    "        'trig_L2_cl_e2tsts1',\n",
    "        'trig_L2_el_hastrack', \n",
    "        'trig_L2_el_pt', \n",
    "        'trig_L2_el_eta',\n",
    "        'trig_L2_el_phi', \n",
    "        'trig_L2_el_caloEta', \n",
    "        'trig_L2_el_trkClusDeta',\n",
    "        'trig_L2_el_trkClusDphi', \n",
    "        'trig_L2_el_etOverPt', \n",
    "        'trig_EF_cl_et',\n",
    "        'trig_EF_el_et', \n",
    "        'trig_EF_el_lhtight', \n",
    "        'trig_EF_el_lhmedium',\n",
    "        'trig_EF_el_lhloose', \n",
    "        'trig_EF_el_lhvloose', \n",
    "        #'el_et', \n",
    "        #'el_eta',\n",
    "        'el_etaBE2', \n",
    "        #'el_phi', \n",
    "        #'el_rhad1', \n",
    "        #'el_rhad', \n",
    "        #'el_f3', \n",
    "        #'el_weta2',\n",
    "        #'el_rphi',\n",
    "        #'el_reta', \n",
    "        #'el_wtots1', \n",
    "        #'el_eratio', \n",
    "        #'el_f1', \n",
    "        #'el_hastrack',\n",
    "        #'el_numberOfBLayerHits', \n",
    "        #'el_numberOfPixelHits', \n",
    "        #'el_numberOfTRTHits',\n",
    "        #'el_d0',\n",
    "        #'el_d0significance', \n",
    "        #'el_eProbabilityHT', \n",
    "        #'el_trans_TRT_PID',\n",
    "        #'el_deltaEta1', \n",
    "        #'el_deltaPhi2', \n",
    "        #'el_deltaPhi2Rescaled',\n",
    "        #'el_deltaPOverP', \n",
    "        #'el_lhtight',\n",
    "        #'el_lhmedium',\n",
    "        #'el_lhloose',\n",
    "        #'el_lhvloose', \n",
    "        #'el_TaP_deltaR', \n",
    "        #'trig_EF_el_lhtight_ivarloose',\n",
    "        'L1_EM3', \n",
    "        'L1_EM7', \n",
    "        'L1_EM15VH', \n",
    "        'L1_EM15VHI',\n",
    "        'L1_EM20VH',\n",
    "        'L1_EM20VHI', \n",
    "        'L1_EM22VH', \n",
    "        'L1_EM22VHI', \n",
    "        'L1_EM24VHI',\n",
    "        'trig_L2_cl_lhvloose_et0to12', \n",
    "        'trig_L2_cl_lhvloose_et12to20',\n",
    "        'trig_L2_cl_lhvloose_et22toInf', \n",
    "        'trig_L2_cl_lhloose_et0to12',\n",
    "        'trig_L2_cl_lhloose_et12to20', \n",
    "        'trig_L2_cl_lhloose_et22toInf',\n",
    "        'trig_L2_cl_lhmedium_et0to12', \n",
    "        'trig_L2_cl_lhmedium_et12to20',\n",
    "        'trig_L2_cl_lhmedium_et22toInf', \n",
    "        'trig_L2_cl_lhtight_et0to12',\n",
    "        'trig_L2_cl_lhtight_et12to20', \n",
    "        'trig_L2_cl_lhtight_et22toInf',\n",
    "        'trig_L2_el_cut_pt0to15', \n",
    "        'trig_L2_el_cut_pt15to20',\n",
    "        'trig_L2_el_cut_pt20to50', \n",
    "        'trig_L2_el_cut_pt50toInf', \n",
    "        #'target'\n",
    "        ]"
   ]
  },
  {
   "cell_type": "markdown",
   "id": "metric-latest",
   "metadata": {},
   "source": [
    "## Setup Ringer v8:"
   ]
  },
  {
   "cell_type": "code",
   "execution_count": 4,
   "id": "nominated-profession",
   "metadata": {},
   "outputs": [
    {
     "name": "stdout",
     "output_type": "stream",
     "text": [
      "2021-11-08 16:33:56,379 | Py.RingerDecorator                      INFO Reading... /home/natmourajr/Workspace/CERN/CERN-ATLAS-Qualify/analysis/tunings/TrigL2_20180125_v8/ElectronRingerTightTriggerConfig.conf\n"
     ]
    },
    {
     "name": "stderr",
     "output_type": "stream",
     "text": [
      "2021-11-08 16:33:56.398968: I tensorflow/compiler/jit/xla_cpu_device.cc:41] Not creating XLA devices, tf_xla_enable_xla_devices not set\n",
      "2021-11-08 16:33:56.399179: I tensorflow/stream_executor/platform/default/dso_loader.cc:49] Successfully opened dynamic library libcuda.so.1\n",
      "2021-11-08 16:33:56.399196: E tensorflow/stream_executor/cuda/cuda_driver.cc:328] failed call to cuInit: UNKNOWN ERROR (-1)\n",
      "2021-11-08 16:33:56.399211: I tensorflow/stream_executor/cuda/cuda_diagnostics.cc:156] kernel driver does not appear to be running on this host (caloba52): /proc/driver/nvidia/version does not exist\n",
      "2021-11-08 16:33:56.399412: I tensorflow/core/platform/cpu_feature_guard.cc:142] This TensorFlow binary is optimized with oneAPI Deep Neural Network Library (oneDNN) to use the following CPU instructions in performance-critical operations:  AVX2 AVX512F FMA\n",
      "To enable them in other operations, rebuild TensorFlow with the appropriate compiler flags.\n",
      "2021-11-08 16:33:56.405155: I tensorflow/compiler/jit/xla_gpu_device.cc:99] Not creating XLA devices, tf_xla_enable_xla_devices not set\n"
     ]
    }
   ],
   "source": [
    "def my_generator( df ):\n",
    "    col_names= ['trig_L2_cl_ring_%d'%i for i in range(100)]\n",
    "    rings = df[col_names].values.astype(np.float32)\n",
    "    def norm1( data ):\n",
    "        norms = np.abs( data.sum(axis=1) )\n",
    "        norms[norms==0] = 1\n",
    "        return data/norms[:,None]\n",
    "    rings = norm1(rings)\n",
    "    return [rings]\n",
    "\n",
    "v8_tight = RingerDecorator(tpath, my_generator)\n",
    "decorators = [('ringer_v8_tight', v8_tight)]"
   ]
  },
  {
   "cell_type": "markdown",
   "id": "empirical-puzzle",
   "metadata": {},
   "source": [
    "## Setup Chains:"
   ]
  },
  {
   "cell_type": "code",
   "execution_count": 5,
   "id": "vocational-russell",
   "metadata": {},
   "outputs": [
    {
     "name": "stdout",
     "output_type": "stream",
     "text": [
      "OrderedDict([('L1Seed', 'L1_EM22VHI'),\n",
      "             ('L2Calo', (21000.0, 'ringer_v8_tight')),\n",
      "             ('L2', 'trig_L2_el_cut_pt20to50'),\n",
      "             ('EFCalo', 24000.0),\n",
      "             ('HLT', (24000.0, 'trig_EF_el_lhtight_ivarloose'))])\n"
     ]
    }
   ],
   "source": [
    "# create my chain\n",
    "my_chain1 = Chain( \"HLT_e24_lhtight_nod0_ivarloose\", L1Seed = 'L1_EM22VHI', l2calo_column = 'ringer_v8_tight' )"
   ]
  },
  {
   "cell_type": "code",
   "execution_count": 6,
   "id": "political-sleeping",
   "metadata": {},
   "outputs": [
    {
     "name": "stdout",
     "output_type": "stream",
     "text": [
      "OrderedDict([('L1Seed', 'L1_EM22VHI'),\n",
      "             ('L2Calo', (21000.0, 'trig_L2_cl_lhtight_et22toInf')),\n",
      "             ('L2', 'trig_L2_el_cut_pt20to50'),\n",
      "             ('EFCalo', 24000.0),\n",
      "             ('HLT', (24000.0, 'trig_EF_el_lhtight_ivarloose'))])\n"
     ]
    }
   ],
   "source": [
    "my_chain2 = Chain( \"HLT_e24_lhtight_nod0_noringer_ivarloose\", L1Seed = 'L1_EM22VHI' )"
   ]
  },
  {
   "cell_type": "code",
   "execution_count": 7,
   "id": "steady-provincial",
   "metadata": {},
   "outputs": [],
   "source": [
    "chains = [\n",
    "            (\"e24_lhtight_nod0_ivarloose\", my_chain1), \n",
    "            (\"e24_lhtight_nod0_noringer_ivarloose\", my_chain2),\n",
    "         ]"
   ]
  },
  {
   "cell_type": "markdown",
   "id": "floral-victory",
   "metadata": {},
   "source": [
    "## Read all bins:"
   ]
  },
  {
   "cell_type": "code",
   "execution_count": 8,
   "id": "remarkable-luther",
   "metadata": {},
   "outputs": [
    {
     "name": "stdout",
     "output_type": "stream",
     "text": [
      "/home/natmourajr/Workspace/CERN/Qualify/data/data17_13TeV.AllPeriods.sgn.probes_lhvloose_EGAM1.bkg.vprobes_vlhvloose_EGAM7.GRL_v97.25bins/data17_13TeV.AllPeriods.sgn.probes_lhvloose_EGAM1.bkg.vprobes_vlhvloose_EGAM7.GRL_v97.25bins_et4_eta0.npz\n",
      "2735/2735 [==============================] - 5s 2ms/step\n",
      "2021-11-08 16:34:24,882 | Py.RingerDecorator                      INFO Propagate for bin (4, 0)\n",
      "2021-11-08 16:34:44,102 | Py.RingerDecorator                      INFO Decide for bin (4, 0)\n",
      "2021-11-08 16:34:47,154 | Py.ElectronSequence                     INFO Number of events   : 5599840\n",
      "2021-11-08 16:34:47,154 | Py.ElectronSequence                     INFO Number of events   : 5599840\n",
      "2021-11-08 16:34:50,911 | Py.ElectronSequence                     INFO Approved by L1     : 5549281\n",
      "2021-11-08 16:34:50,911 | Py.ElectronSequence                     INFO Approved by L1     : 5549281\n",
      "2021-11-08 16:34:52,293 | Py.ElectronSequence                     INFO Approved by L2Calo : 1811603\n",
      "2021-11-08 16:34:52,293 | Py.ElectronSequence                     INFO Approved by L2Calo : 1811603\n",
      "2021-11-08 16:34:53,326 | Py.ElectronSequence                     INFO Approved by L2     : 1805731\n",
      "2021-11-08 16:34:53,326 | Py.ElectronSequence                     INFO Approved by L2     : 1805731\n",
      "2021-11-08 16:35:28,276 | Py.ElectronSequence                     INFO Approved by EFCalo : 1374\n",
      "2021-11-08 16:35:28,276 | Py.ElectronSequence                     INFO Approved by EFCalo : 1374\n",
      "2021-11-08 16:35:28,306 | Py.ElectronSequence                     INFO Approved by HLT    : 1374\n",
      "2021-11-08 16:35:28,306 | Py.ElectronSequence                     INFO Approved by HLT    : 1374\n",
      "2021-11-08 16:35:28,312 | Py.ElectronSequence                     INFO Number of events   : 5599840\n",
      "2021-11-08 16:35:28,312 | Py.ElectronSequence                     INFO Number of events   : 5599840\n",
      "2021-11-08 16:35:31,946 | Py.ElectronSequence                     INFO Approved by L1     : 5549281\n",
      "2021-11-08 16:35:31,946 | Py.ElectronSequence                     INFO Approved by L1     : 5549281\n",
      "2021-11-08 16:35:34,238 | Py.ElectronSequence                     INFO Approved by L2Calo : 2561384\n",
      "2021-11-08 16:35:34,238 | Py.ElectronSequence                     INFO Approved by L2Calo : 2561384\n",
      "2021-11-08 16:35:35,742 | Py.ElectronSequence                     INFO Approved by L2     : 2555491\n",
      "2021-11-08 16:35:35,742 | Py.ElectronSequence                     INFO Approved by L2     : 2555491\n",
      "2021-11-08 16:36:24,865 | Py.ElectronSequence                     INFO Approved by EFCalo : 1379\n",
      "2021-11-08 16:36:24,865 | Py.ElectronSequence                     INFO Approved by EFCalo : 1379\n",
      "2021-11-08 16:36:24,897 | Py.ElectronSequence                     INFO Approved by HLT    : 1379\n",
      "2021-11-08 16:36:24,897 | Py.ElectronSequence                     INFO Approved by HLT    : 1379\n"
     ]
    },
    {
     "name": "stderr",
     "output_type": "stream",
     "text": [
      "2021-11-08 16:34:33.664653: I tensorflow/compiler/mlir/mlir_graph_optimization_pass.cc:116] None of the MLIR optimization passes are enabled (registered 2)\n",
      "2021-11-08 16:34:33.684011: I tensorflow/core/platform/profile_utils/cpu_utils.cc:112] CPU Frequency: 2400000000 Hz\n"
     ]
    }
   ],
   "source": [
    "\n",
    "def read_all_files( path , decorators, chains = [], drop_rings=True, drop_other_columns = [] ):\n",
    "    df_list = []\n",
    "    for et_bin in range(4,5):    \n",
    "        for eta_bin in range(0,1):\n",
    "            print(path.format(ET=et_bin, ETA=eta_bin ))\n",
    "            df_temp = load( path.format(ET=et_bin, ETA=eta_bin ) )\n",
    "            \n",
    "            # propagate ringer\n",
    "            for column, decorator in decorators:\n",
    "                # Apply v8 column\n",
    "                decorator.apply( df_temp, column, batch_size=2048 )\n",
    "                \n",
    "            # emulate chains\n",
    "            for column, chain in chains:\n",
    "                chain.apply(df_temp, column)\n",
    "            \n",
    "            if drop_rings:\n",
    "                drop_ring_columns(df_temp)\n",
    "            if drop_other_columns:\n",
    "                df_temp.drop( drop_other_columns, axis=1, inplace=True )\n",
    "                \n",
    "            df_list.append(df_temp)\n",
    "            \n",
    "    return pd.concat(df_list)\n",
    "                           \n",
    "df = read_all_files(dpath, decorators=decorators, chains=chains, drop_other_columns=drop_columns, drop_rings=True)    "
   ]
  },
  {
   "cell_type": "code",
   "execution_count": 17,
   "id": "durable-combine",
   "metadata": {},
   "outputs": [],
   "source": [
    "df = df.reset_index(drop=True)"
   ]
  },
  {
   "cell_type": "code",
   "execution_count": 18,
   "id": "disturbed-return",
   "metadata": {},
   "outputs": [
    {
     "data": {
      "text/plain": [
       "['avgmu',\n",
       " 'trig_L2_cl_et',\n",
       " 'trig_L2_cl_eta',\n",
       " 'trig_L2_cl_phi',\n",
       " 'trig_L2_cl_reta',\n",
       " 'trig_L2_cl_ehad1',\n",
       " 'trig_L2_cl_eratio',\n",
       " 'trig_L2_cl_f1',\n",
       " 'trig_L2_cl_f3',\n",
       " 'trig_L2_cl_weta2',\n",
       " 'trig_L2_cl_wstot',\n",
       " 'el_et',\n",
       " 'el_eta',\n",
       " 'el_phi',\n",
       " 'el_rhad1',\n",
       " 'el_rhad',\n",
       " 'el_f3',\n",
       " 'el_weta2',\n",
       " 'el_rphi',\n",
       " 'el_reta',\n",
       " 'el_wtots1',\n",
       " 'el_eratio',\n",
       " 'el_f1',\n",
       " 'el_hastrack',\n",
       " 'el_numberOfBLayerHits',\n",
       " 'el_numberOfPixelHits',\n",
       " 'el_numberOfTRTHits',\n",
       " 'el_d0',\n",
       " 'el_d0significance',\n",
       " 'el_eProbabilityHT',\n",
       " 'el_trans_TRT_PID',\n",
       " 'el_deltaEta1',\n",
       " 'el_deltaPhi2',\n",
       " 'el_deltaPhi2Rescaled',\n",
       " 'el_deltaPOverP',\n",
       " 'el_lhtight',\n",
       " 'el_lhmedium',\n",
       " 'el_lhloose',\n",
       " 'el_lhvloose',\n",
       " 'trig_EF_el_lhtight_ivarloose',\n",
       " 'el_TaP_Mass',\n",
       " 'el_TaP_deltaR',\n",
       " 'TDT__L1Calo__e28_lhtight_nod0_ivarloose',\n",
       " 'TDT__L2Calo__e28_lhtight_nod0_ivarloose',\n",
       " 'TDT__L2__e28_lhtight_nod0_ivarloose',\n",
       " 'TDT__EFCalo__e28_lhtight_nod0_ivarloose',\n",
       " 'TDT__HLT__e28_lhtight_nod0_ivarloose',\n",
       " 'TDT__L1Calo__e28_lhtight_nod0_noringer_ivarloose',\n",
       " 'TDT__L2Calo__e28_lhtight_nod0_noringer_ivarloose',\n",
       " 'TDT__L2__e28_lhtight_nod0_noringer_ivarloose',\n",
       " 'TDT__EFCalo__e28_lhtight_nod0_noringer_ivarloose',\n",
       " 'TDT__HLT__e28_lhtight_nod0_noringer_ivarloose',\n",
       " 'target',\n",
       " 'ringer_v8_tight_output',\n",
       " 'ringer_v8_tight',\n",
       " 'L1Calo_e24_lhtight_nod0_ivarloose',\n",
       " 'L2Calo_e24_lhtight_nod0_ivarloose',\n",
       " 'L2_e24_lhtight_nod0_ivarloose',\n",
       " 'EFCalo_e24_lhtight_nod0_ivarloose',\n",
       " 'HLT_e24_lhtight_nod0_ivarloose',\n",
       " 'L1Calo_e24_lhtight_nod0_noringer_ivarloose',\n",
       " 'L2Calo_e24_lhtight_nod0_noringer_ivarloose',\n",
       " 'L2_e24_lhtight_nod0_noringer_ivarloose',\n",
       " 'EFCalo_e24_lhtight_nod0_noringer_ivarloose',\n",
       " 'HLT_e24_lhtight_nod0_noringer_ivarloose']"
      ]
     },
     "execution_count": 18,
     "metadata": {},
     "output_type": "execute_result"
    }
   ],
   "source": [
    "list(df.columns)"
   ]
  },
  {
   "cell_type": "markdown",
   "id": "fuzzy-current",
   "metadata": {},
   "source": [
    "## Plot Efficiencies:"
   ]
  },
  {
   "cell_type": "code",
   "execution_count": 12,
   "id": "excessive-license",
   "metadata": {},
   "outputs": [
    {
     "name": "stdout",
     "output_type": "stream",
     "text": [
      "2021-11-08 16:39:51,363 | Py.Efficiency                           INFO Creating the StoreGate service with path: my_efficiencies.root\n"
     ]
    }
   ],
   "source": [
    "from kepler.analysis.efficiency import Efficiency\n",
    "eff = Efficiency('my_efficiencies.root')"
   ]
  },
  {
   "cell_type": "code",
   "execution_count": 13,
   "id": "prepared-tucson",
   "metadata": {},
   "outputs": [
    {
     "name": "stdout",
     "output_type": "stream",
     "text": [
      "Help on method fill in module kepler.analysis.efficiency.Efficiency:\n",
      "\n",
      "fill(df, trigger, pidname=None) method of kepler.analysis.efficiency.Efficiency.Efficiency instance\n",
      "    # Fill a specific trigger\n",
      "\n"
     ]
    }
   ],
   "source": [
    "help(eff.fill)"
   ]
  },
  {
   "cell_type": "code",
   "execution_count": 14,
   "id": "tamil-canal",
   "metadata": {},
   "outputs": [
    {
     "name": "stdout",
     "output_type": "stream",
     "text": [
      "2021-11-08 16:40:17,607 | Py.Efficiency                           INFO Booking histograms for e24_lhtight_nod0_ivarloose\n",
      "2021-11-08 16:40:38,214 | Py.Efficiency                           INFO Booking histograms for e24_lhtight_nod0_noringer_ivarloose\n"
     ]
    }
   ],
   "source": [
    "eff.fill(df[df.target==1], 'e24_lhtight_nod0_ivarloose' , pidname = 'el_lhtight')\n",
    "eff.fill(df[df.target==1], 'e24_lhtight_nod0_noringer_ivarloose' , pidname = 'el_lhtight')"
   ]
  },
  {
   "cell_type": "code",
   "execution_count": 16,
   "id": "israeli-stone",
   "metadata": {},
   "outputs": [
    {
     "name": "stdout",
     "output_type": "stream",
     "text": [
      "Help on Efficiency in module kepler.analysis.efficiency.Efficiency object:\n",
      "\n",
      "class Efficiency(Gaugi.Logger.Logger)\n",
      " |  Simple class for giving inherited classes logging capability as well as the\n",
      " |  possibility for being serialized by pickle.\n",
      " |  Logger will keep its logging level even after unpickled.\n",
      " |  \n",
      " |  Method resolution order:\n",
      " |      Efficiency\n",
      " |      Gaugi.Logger.Logger\n",
      " |      builtins.object\n",
      " |  \n",
      " |  Methods defined here:\n",
      " |  \n",
      " |  __del__(self)\n",
      " |  \n",
      " |  __init__(self, output, triggers=['e24_lhtight_nod0_ivarloose', 'e24_lhtight_nod0_noringer_ivarloose'], etbins=[0.0, 2.0, 4.0, 6.0, 8.0, 10.0, 12.0, 14.0, 16.0, 18.0, 20.0, 22.0, 24.0, 26.0, 28.0, 30.0, 32.0, 34.0, 36.0, 38.0, 40.0, 42.0, 44.0, 46.0, 48.0, 50.0, 55.0, 60.0, 65.0, 70.0, 100.0], etabins=[-2.47, -2.37, -2.01, -1.81, -1.52, -1.37, -1.15, -0.8, -0.6, -0.1, 0.0, 0.1, 0.6, 0.8, 1.15, 1.37, 1.52, 1.81, 2.01, 2.37, 2.47], mubins=[0, 5, 10, 15, 20, 25, 30, 35, 40, 45, 50, 55, 60, 65, 70, 75, 80, 85, 90, 95, 100], deltaRbins=[0, 0.02, 0.04, 0.06, 0.08, 0.1, 0.12, 0.14, 0.16, 0.18, 0.2, 0.22, 0.24, 0.26, 0.28, 0.3, 0.35, 0.4, 0.6])\n",
      " |      Retrieve from args the logger, or create it using default configuration.\n",
      " |  \n",
      " |  book(self, trigger)\n",
      " |      # Initialize\n",
      " |  \n",
      " |  denominator(self, trigger, var)\n",
      " |      # Get denominator histogram\n",
      " |  \n",
      " |  fill(self, df, trigger, pidname=None)\n",
      " |      # Fill a specific trigger\n",
      " |  \n",
      " |  numerator(self, trigger, var)\n",
      " |      # Get numerator histogram\n",
      " |  \n",
      " |  profile(self, trigger, var)\n",
      " |      # Get efficiency histogram\n",
      " |  \n",
      " |  save(self)\n",
      " |  \n",
      " |  store(self)\n",
      " |      # Get the store gate service\n",
      " |  \n",
      " |  ----------------------------------------------------------------------\n",
      " |  Methods inherited from Gaugi.Logger.Logger:\n",
      " |  \n",
      " |  __getattr__(self, attr)\n",
      " |  \n",
      " |  getLevel(self)\n",
      " |  \n",
      " |  setLevel(self, value)\n",
      " |  \n",
      " |  ----------------------------------------------------------------------\n",
      " |  Class methods inherited from Gaugi.Logger.Logger:\n",
      " |  \n",
      " |  getModuleLogger(logName, logDefaultLevel=20) from builtins.type\n",
      " |      Retrieve logging stream handler using logName and add a handler\n",
      " |      to stdout if it does not have any handlers yet.\n",
      " |      Format logging stream handler to output in the same format used by Athena\n",
      " |      messages.\n",
      " |  \n",
      " |  ----------------------------------------------------------------------\n",
      " |  Data descriptors inherited from Gaugi.Logger.Logger:\n",
      " |  \n",
      " |  __dict__\n",
      " |      dictionary for instance variables (if defined)\n",
      " |  \n",
      " |  __weakref__\n",
      " |      list of weak references to the object (if defined)\n",
      "\n"
     ]
    }
   ],
   "source": [
    "help(eff)"
   ]
  },
  {
   "cell_type": "code",
   "execution_count": 13,
   "id": "illegal-accessory",
   "metadata": {},
   "outputs": [],
   "source": [
    "eff.save()"
   ]
  },
  {
   "cell_type": "code",
   "execution_count": 14,
   "id": "persistent-opera",
   "metadata": {},
   "outputs": [],
   "source": [
    "eff_eta_e24 = eff.profile( 'HLT_e24_lhtight_nod0_ivarloose', 'eta' )\n",
    "eff_eta_e24_noringer = eff.profile( 'HLT_e24_lhtight_nod0_noringer_ivarloose', 'eta' )"
   ]
  },
  {
   "cell_type": "code",
   "execution_count": 21,
   "id": "corresponding-spank",
   "metadata": {},
   "outputs": [],
   "source": [
    "import ROOT\n",
    "c = ROOT.TCanvas(\"myCanvasName\",\"The Canvas Title\",800,600)\n",
    "eff_eta_e24.Draw()"
   ]
  },
  {
   "cell_type": "code",
   "execution_count": 22,
   "id": "metropolitan-burns",
   "metadata": {},
   "outputs": [
    {
     "data": {
      "image/png": "[encoded data removed]",
      "text/plain": [
       "<IPython.core.display.Image object>"
      ]
     },
     "metadata": {},
     "output_type": "display_data"
    }
   ],
   "source": [
    "c.Draw()"
   ]
  },
  {
   "cell_type": "markdown",
   "id": "architectural-milwaukee",
   "metadata": {},
   "source": [
    "## Plot Quadrants:"
   ]
  },
  {
   "cell_type": "code",
   "execution_count": 23,
   "id": "expanded-latest",
   "metadata": {},
   "outputs": [
    {
     "name": "stdout",
     "output_type": "stream",
     "text": [
      "2021-09-30 22:30:37,370 | Py.Quadrant                             INFO Creating the StoreGate service with path: my_quadrant.root\n"
     ]
    }
   ],
   "source": [
    "from kepler.analysis.quadrant.Quadrant import Quadrant\n",
    "quad = Quadrant( \"my_quadrant.root\" )"
   ]
  },
  {
   "cell_type": "code",
   "execution_count": 25,
   "id": "acute-charger",
   "metadata": {},
   "outputs": [],
   "source": [
    "quad.fill( df[df.target==1],  'HLT_e24_lhtight_nod0_ivarloose', 'HLT_e24_lhtight_nod0_noringer_ivarloose', 'el_lhtight')"
   ]
  },
  {
   "cell_type": "code",
   "execution_count": 26,
   "id": "present-corporation",
   "metadata": {},
   "outputs": [],
   "source": [
    "quad.save()"
   ]
  },
  {
   "cell_type": "code",
   "execution_count": 27,
   "id": "noticed-popularity",
   "metadata": {},
   "outputs": [
    {
     "data": {
      "text/plain": [
       "<kepler.analysis.quadrant.Quadrant.Quadrant at 0x7f64f4db5be0>"
      ]
     },
     "execution_count": 27,
     "metadata": {},
     "output_type": "execute_result"
    }
   ],
   "source": [
    "quad."
   ]
  },
  {
   "cell_type": "code",
   "execution_count": null,
   "id": "soviet-found",
   "metadata": {},
   "outputs": [],
   "source": []
  }
 ],
 "metadata": {
  "kernelspec": {
   "display_name": "Python 3 (ipykernel)",
   "language": "python",
   "name": "python3"
  },
  "language_info": {
   "codemirror_mode": {
    "name": "ipython",
    "version": 3
   },
   "file_extension": ".py",
   "mimetype": "text/x-python",
   "name": "python",
   "nbconvert_exporter": "python",
   "pygments_lexer": "ipython3",
   "version": "3.6.9"
  }
 },
 "nbformat": 4,
 "nbformat_minor": 5
}
